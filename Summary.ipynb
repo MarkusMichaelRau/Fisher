{
 "cells": [
  {
   "cell_type": "markdown",
   "metadata": {},
   "source": [
    "# Summary of Fisher Information"
   ]
  },
  {
   "cell_type": "markdown",
   "metadata": {},
   "source": [
    "Load in SRD Info"
   ]
  },
  {
   "cell_type": "code",
   "execution_count": 42,
   "metadata": {},
   "outputs": [],
   "source": [
    "import numpy as np\n",
    "import pandas as pd\n",
    "import matplotlib.pyplot as plt\n",
    "import seaborn as sns\n",
    "cmap=sns.diverging_palette(250, 5, l=70, as_cmap=True)\n",
    "# pd.set_option('display.float_format', lambda x: '%.3e' % x)"
   ]
  },
  {
   "cell_type": "code",
   "execution_count": 2,
   "metadata": {},
   "outputs": [],
   "source": [
    "srd_unmod_info = np.loadtxt(\"SRD/SRD_unmod_info.txt\")\n",
    "srd_mod_info = np.loadtxt(\"SRD/SRD_mod_info.txt\")"
   ]
  },
  {
   "cell_type": "code",
   "execution_count": 3,
   "metadata": {},
   "outputs": [],
   "source": [
    "ccl_info = np.loadtxt(\"SRD/ccl_info.txt\")\n",
    "cosmosis_info = np.loadtxt(\"SRD/cosmosis_info.txt\")"
   ]
  },
  {
   "cell_type": "code",
   "execution_count": 4,
   "metadata": {},
   "outputs": [],
   "source": [
    "ccl_scaled_info = np.loadtxt(\"SRD/ccl_scaled_info.txt\")\n",
    "cosmosis_scaled_info = np.loadtxt(\"SRD/cosmosis_scaled_info.txt\")"
   ]
  },
  {
   "cell_type": "code",
   "execution_count": 5,
   "metadata": {},
   "outputs": [],
   "source": [
    "ccl_prior_info = np.loadtxt(\"SRD/ccl_prior_info.txt\")\n",
    "cosmosis_prior_info = np.loadtxt(\"SRD/cosmosis_prior_info.txt\")"
   ]
  },
  {
   "cell_type": "code",
   "execution_count": 6,
   "metadata": {},
   "outputs": [],
   "source": [
    "ccl_scaled_prior_info = np.loadtxt(\"SRD/ccl_scaled_prior_info.txt\")\n",
    "cosmosis_scaled_prior_info = np.loadtxt(\"SRD/cosmosis_scaled_prior_info.txt\")"
   ]
  },
  {
   "cell_type": "code",
   "execution_count": 7,
   "metadata": {},
   "outputs": [],
   "source": [
    "infos = np.array([srd_unmod_info, \n",
    "                  srd_mod_info, \n",
    "                  ccl_info,\n",
    "                  ccl_scaled_info,\n",
    "                  ccl_prior_info, \n",
    "                  ccl_scaled_prior_info, \n",
    "                  cosmosis_info,\n",
    "                  cosmosis_scaled_info,\n",
    "                  cosmosis_prior_info, \n",
    "                  cosmosis_scaled_prior_info])"
   ]
  },
  {
   "cell_type": "markdown",
   "metadata": {},
   "source": [
    "## Make Table"
   ]
  },
  {
   "cell_type": "code",
   "execution_count": 8,
   "metadata": {},
   "outputs": [],
   "source": [
    "index = [\"SRD Y10\", \n",
    "         \"perturbed SRD Y10\", \n",
    "         \"CCL\", \n",
    "         \"CCL Scaled $A_s$\", \n",
    "         \"CCL Priors\", \n",
    "         \"CCL Priors Scaled $A_s$\", \n",
    "         \"Cosmosis\", \n",
    "         \"CosmoSIS Scaled $A_s$\",\n",
    "         \"CosmoSIS Priors\", \n",
    "         \"CosmoSIS Priors Scaled $A_s$\"]\n",
    "columns = [\"Condition Number\", \n",
    "           \"$w_0 w_a$ FoM\", \n",
    "           \"$\\Omega_m A_s$ FoM\", \n",
    "           \"$\\Omega_m 10^9A_s$ FoM\", \n",
    "           \"$\\Omega_m \\sigma_8$ FoM\",\n",
    "           \"LU Inverse Norm Spread\", \n",
    "           \"Cholesky Inverse Norm Spread\",\n",
    "          ]"
   ]
  },
  {
   "cell_type": "code",
   "execution_count": 15,
   "metadata": {},
   "outputs": [],
   "source": [
    "df = pd.DataFrame(infos, index=index, columns=columns)\n",
    "df.index.name = \"Fisher Matrix Shear-Shear\""
   ]
  },
  {
   "cell_type": "code",
   "execution_count": 10,
   "metadata": {},
   "outputs": [],
   "source": [
    "header = \\\n",
    "\"\"\"Summary Table for various fisher matrices for shear-shear.\n",
    "\n",
    "The rows are :\n",
    "1. SRD Y10\n",
    "2. perturbed SRD Y10\n",
    "3. CCL\n",
    "4. CCL Scaled A_s\n",
    "5. CCL Priors\n",
    "6. CCL Priors Scaled A_s\n",
    "7. Cosmosis\n",
    "8. CosmoSIS Scaled A_s\n",
    "9. CosmoSIS Priors\n",
    "10. CosmoSIS Priors Scaled A_s\n",
    "\n",
    "The columns are:\n",
    "Condition Number \\tw_0 w_a FoM \\tOmega_m A_s FoM \\tOmega_m 10^9A_s FoM \\tOmega_m sigma_8 FoM \\tLU Inverse Norm Spread \\tCholesky Inverse Norm Spread\n",
    "\"\"\""
   ]
  },
  {
   "cell_type": "code",
   "execution_count": 11,
   "metadata": {},
   "outputs": [],
   "source": [
    "np.savetxt(\"SRD/fisher_summary_table.txt\", df.values, header=header)"
   ]
  },
  {
   "cell_type": "code",
   "execution_count": 12,
   "metadata": {},
   "outputs": [],
   "source": [
    "# df[\"Condition Number\"] = df[\"Condition Number\"].map(lambda x: '{0:.3}'.format(x))\n",
    "# df[\"$w_0 w_a$ FoM\"] = df[\"$w_0 w_a$ FoM\"].map(lambda x: '{0:.2f}'.format(x))\n",
    "cols1 = [\"Condition Number\", \"$\\Omega_m A_s$ FoM\", \"LU Inverse Norm Spread\",\"Cholesky Inverse Norm Spread\"]\n",
    "cols2 = [\"$w_0 w_a$ FoM\", \"$\\Omega_m 10^9A_s$ FoM\", \"$\\Omega_m \\sigma_8$ FoM\"]\n",
    "df[cols1] = df[cols1].applymap(lambda x: '{0:.3}'.format(x))\n",
    "df[cols2] = df[cols2].applymap(lambda x: '{0:.2f}'.format(x))\n"
   ]
  },
  {
   "cell_type": "code",
   "execution_count": 13,
   "metadata": {},
   "outputs": [
    {
     "data": {
      "text/html": [
       "<div>\n",
       "<style scoped>\n",
       "    .dataframe tbody tr th:only-of-type {\n",
       "        vertical-align: middle;\n",
       "    }\n",
       "\n",
       "    .dataframe tbody tr th {\n",
       "        vertical-align: top;\n",
       "    }\n",
       "\n",
       "    .dataframe thead th {\n",
       "        text-align: right;\n",
       "    }\n",
       "</style>\n",
       "<table border=\"1\" class=\"dataframe\">\n",
       "  <thead>\n",
       "    <tr style=\"text-align: right;\">\n",
       "      <th></th>\n",
       "      <th>Condition Number</th>\n",
       "      <th>$w_0 w_a$ FoM</th>\n",
       "      <th>$\\Omega_m A_s$ FoM</th>\n",
       "      <th>$\\Omega_m 10^9A_s$ FoM</th>\n",
       "      <th>$\\Omega_m \\sigma_8$ FoM</th>\n",
       "      <th>LU Inverse Norm Spread</th>\n",
       "      <th>Cholesky Inverse Norm Spread</th>\n",
       "    </tr>\n",
       "    <tr>\n",
       "      <th>Fisher Matrix Shear-Shear</th>\n",
       "      <th></th>\n",
       "      <th></th>\n",
       "      <th></th>\n",
       "      <th></th>\n",
       "      <th></th>\n",
       "      <th></th>\n",
       "      <th></th>\n",
       "    </tr>\n",
       "  </thead>\n",
       "  <tbody>\n",
       "    <tr>\n",
       "      <th>SRD Y10</th>\n",
       "      <td>3.36e+05</td>\n",
       "      <td>34.62</td>\n",
       "      <td>nan</td>\n",
       "      <td>nan</td>\n",
       "      <td>19657.77</td>\n",
       "      <td>2.25e-27</td>\n",
       "      <td>2.36e-27</td>\n",
       "    </tr>\n",
       "    <tr>\n",
       "      <th>perturbed SRD Y10</th>\n",
       "      <td>4.06e+05</td>\n",
       "      <td>29.97</td>\n",
       "      <td>nan</td>\n",
       "      <td>nan</td>\n",
       "      <td>16507.58</td>\n",
       "      <td>3.36e-27</td>\n",
       "      <td>1.41e-26</td>\n",
       "    </tr>\n",
       "    <tr>\n",
       "      <th>CCL</th>\n",
       "      <td>2.03e+22</td>\n",
       "      <td>25.24</td>\n",
       "      <td>9.61e+10</td>\n",
       "      <td>nan</td>\n",
       "      <td>nan</td>\n",
       "      <td>1.01e-15</td>\n",
       "      <td>1.57e-14</td>\n",
       "    </tr>\n",
       "    <tr>\n",
       "      <th>CCL Scaled $A_s$</th>\n",
       "      <td>1.07e+07</td>\n",
       "      <td>25.24</td>\n",
       "      <td>nan</td>\n",
       "      <td>96.07</td>\n",
       "      <td>nan</td>\n",
       "      <td>1.7e-22</td>\n",
       "      <td>5.37e-22</td>\n",
       "    </tr>\n",
       "    <tr>\n",
       "      <th>CCL Priors</th>\n",
       "      <td>7.51e+21</td>\n",
       "      <td>47.14</td>\n",
       "      <td>7.22e+11</td>\n",
       "      <td>nan</td>\n",
       "      <td>nan</td>\n",
       "      <td>9.89e-17</td>\n",
       "      <td>7.07e-16</td>\n",
       "    </tr>\n",
       "    <tr>\n",
       "      <th>CCL Priors Scaled $A_s$</th>\n",
       "      <td>4.56e+06</td>\n",
       "      <td>47.14</td>\n",
       "      <td>nan</td>\n",
       "      <td>722.44</td>\n",
       "      <td>nan</td>\n",
       "      <td>3.07e-24</td>\n",
       "      <td>4.16e-23</td>\n",
       "    </tr>\n",
       "    <tr>\n",
       "      <th>Cosmosis</th>\n",
       "      <td>1.42e+22</td>\n",
       "      <td>29.50</td>\n",
       "      <td>2.21e+11</td>\n",
       "      <td>nan</td>\n",
       "      <td>nan</td>\n",
       "      <td>9.63e-17</td>\n",
       "      <td>2.01e-16</td>\n",
       "    </tr>\n",
       "    <tr>\n",
       "      <th>CosmoSIS Scaled $A_s$</th>\n",
       "      <td>8.08e+06</td>\n",
       "      <td>29.50</td>\n",
       "      <td>nan</td>\n",
       "      <td>220.52</td>\n",
       "      <td>nan</td>\n",
       "      <td>2.28e-23</td>\n",
       "      <td>1.73e-23</td>\n",
       "    </tr>\n",
       "    <tr>\n",
       "      <th>CosmoSIS Priors</th>\n",
       "      <td>3.82e+21</td>\n",
       "      <td>69.41</td>\n",
       "      <td>9.26e+11</td>\n",
       "      <td>nan</td>\n",
       "      <td>nan</td>\n",
       "      <td>1.25e-17</td>\n",
       "      <td>7.99e-18</td>\n",
       "    </tr>\n",
       "    <tr>\n",
       "      <th>CosmoSIS Priors Scaled $A_s$</th>\n",
       "      <td>2.54e+06</td>\n",
       "      <td>69.41</td>\n",
       "      <td>nan</td>\n",
       "      <td>925.59</td>\n",
       "      <td>nan</td>\n",
       "      <td>5.01e-25</td>\n",
       "      <td>1.08e-24</td>\n",
       "    </tr>\n",
       "  </tbody>\n",
       "</table>\n",
       "</div>"
      ],
      "text/plain": [
       "                             Condition Number $w_0 w_a$ FoM  \\\n",
       "Fisher Matrix Shear-Shear                                     \n",
       "SRD Y10                              3.36e+05         34.62   \n",
       "perturbed SRD Y10                    4.06e+05         29.97   \n",
       "CCL                                  2.03e+22         25.24   \n",
       "CCL Scaled $A_s$                     1.07e+07         25.24   \n",
       "CCL Priors                           7.51e+21         47.14   \n",
       "CCL Priors Scaled $A_s$              4.56e+06         47.14   \n",
       "Cosmosis                             1.42e+22         29.50   \n",
       "CosmoSIS Scaled $A_s$                8.08e+06         29.50   \n",
       "CosmoSIS Priors                      3.82e+21         69.41   \n",
       "CosmoSIS Priors Scaled $A_s$         2.54e+06         69.41   \n",
       "\n",
       "                             $\\Omega_m A_s$ FoM $\\Omega_m 10^9A_s$ FoM  \\\n",
       "Fisher Matrix Shear-Shear                                                \n",
       "SRD Y10                                     nan                    nan   \n",
       "perturbed SRD Y10                           nan                    nan   \n",
       "CCL                                    9.61e+10                    nan   \n",
       "CCL Scaled $A_s$                            nan                  96.07   \n",
       "CCL Priors                             7.22e+11                    nan   \n",
       "CCL Priors Scaled $A_s$                     nan                 722.44   \n",
       "Cosmosis                               2.21e+11                    nan   \n",
       "CosmoSIS Scaled $A_s$                       nan                 220.52   \n",
       "CosmoSIS Priors                        9.26e+11                    nan   \n",
       "CosmoSIS Priors Scaled $A_s$                nan                 925.59   \n",
       "\n",
       "                             $\\Omega_m \\sigma_8$ FoM LU Inverse Norm Spread  \\\n",
       "Fisher Matrix Shear-Shear                                                     \n",
       "SRD Y10                                     19657.77               2.25e-27   \n",
       "perturbed SRD Y10                           16507.58               3.36e-27   \n",
       "CCL                                              nan               1.01e-15   \n",
       "CCL Scaled $A_s$                                 nan                1.7e-22   \n",
       "CCL Priors                                       nan               9.89e-17   \n",
       "CCL Priors Scaled $A_s$                          nan               3.07e-24   \n",
       "Cosmosis                                         nan               9.63e-17   \n",
       "CosmoSIS Scaled $A_s$                            nan               2.28e-23   \n",
       "CosmoSIS Priors                                  nan               1.25e-17   \n",
       "CosmoSIS Priors Scaled $A_s$                     nan               5.01e-25   \n",
       "\n",
       "                             Cholesky Inverse Norm Spread  \n",
       "Fisher Matrix Shear-Shear                                  \n",
       "SRD Y10                                          2.36e-27  \n",
       "perturbed SRD Y10                                1.41e-26  \n",
       "CCL                                              1.57e-14  \n",
       "CCL Scaled $A_s$                                 5.37e-22  \n",
       "CCL Priors                                       7.07e-16  \n",
       "CCL Priors Scaled $A_s$                          4.16e-23  \n",
       "Cosmosis                                         2.01e-16  \n",
       "CosmoSIS Scaled $A_s$                            1.73e-23  \n",
       "CosmoSIS Priors                                  7.99e-18  \n",
       "CosmoSIS Priors Scaled $A_s$                     1.08e-24  "
      ]
     },
     "execution_count": 13,
     "metadata": {},
     "output_type": "execute_result"
    }
   ],
   "source": [
    "df"
   ]
  },
  {
   "cell_type": "code",
   "execution_count": null,
   "metadata": {},
   "outputs": [],
   "source": []
  },
  {
   "cell_type": "markdown",
   "metadata": {},
   "source": [
    "# Scratch work"
   ]
  },
  {
   "cell_type": "code",
   "execution_count": 2,
   "metadata": {},
   "outputs": [],
   "source": [
    "paras = [\"$\\Omega_m$\", \"$w_0$\", \"$h_0$\", \"$A_s$\", \"$\\Omega_b$\", \"$n_s$\", \"$w_a$\"]\n",
    "ccl_f = pd.DataFrame(np.loadtxt(\"ccl_cosmosis_binned_comparison/om_m_0.25/A_s_2.1e-9/out_ccl/fisher_out.dat\"), index=paras, columns=paras)\n",
    "cosmosis_f = pd.DataFrame(np.loadtxt(\"ccl_cosmosis_binned_comparison/om_m_0.25/A_s_2.1e-9/out_cosmosis/fisher_out.dat\"), index=paras, columns=paras)"
   ]
  },
  {
   "cell_type": "code",
   "execution_count": 3,
   "metadata": {},
   "outputs": [],
   "source": [
    "paras_to_remove = [\"$w_0$\", \"$h_0$\", \"$\\Omega_b$\", \"$n_s$\", \"$w_a$\"]\n",
    "for i in paras_to_remove: paras.remove(i)\n",
    "ccl_f = ccl_f.drop(columns=paras_to_remove).drop(index=paras_to_remove)\n",
    "cosmosis_f = cosmosis_f.drop(columns=paras_to_remove).drop(index=paras_to_remove)"
   ]
  },
  {
   "cell_type": "code",
   "execution_count": 8,
   "metadata": {},
   "outputs": [],
   "source": [
    "A_s_scaler = np.identity(len(ccl_f))\n",
    "A_s_scaler[1,1] = 1e-9\n",
    "scaled_paras = [\"$\\Omega_m$\", \"$10^9 A_s$\"]\n",
    "ccl_f_scaled = pd.DataFrame(np.dot(A_s_scaler,np.dot(ccl_f, A_s_scaler)), index=scaled_paras, columns=scaled_paras)\n",
    "cosmosis_f_scaled = pd.DataFrame(np.dot(A_s_scaler,np.dot(cosmosis_f, A_s_scaler)), index=scaled_paras, columns=scaled_paras)"
   ]
  },
  {
   "cell_type": "code",
   "execution_count": 46,
   "metadata": {},
   "outputs": [],
   "source": [
    "ccl_cov_scaled = pd.DataFrame(np.linalg.inv(ccl_f_scaled), index=scaled_paras, columns=scaled_paras)\n",
    "cosmosis_cov_scaled = pd.DataFrame(np.linalg.inv(cosmosis_f_scaled), index=scaled_paras, columns=scaled_paras)"
   ]
  },
  {
   "cell_type": "code",
   "execution_count": 52,
   "metadata": {
    "jupyter": {
     "source_hidden": true
    }
   },
   "outputs": [
    {
     "data": {
      "text/html": [
       "<style  type=\"text/css\" >\n",
       "    #T_ed1fe674_686b_11ea_85ab_549f3515a0bcrow0_col0 {\n",
       "            background-color:  #85adeb;\n",
       "            color:  #000000;\n",
       "        }    #T_ed1fe674_686b_11ea_85ab_549f3515a0bcrow0_col1 {\n",
       "            background-color:  #fbe4e7;\n",
       "            color:  #000000;\n",
       "        }    #T_ed1fe674_686b_11ea_85ab_549f3515a0bcrow1_col0 {\n",
       "            background-color:  #fbe4e7;\n",
       "            color:  #000000;\n",
       "        }    #T_ed1fe674_686b_11ea_85ab_549f3515a0bcrow1_col1 {\n",
       "            background-color:  #ee919d;\n",
       "            color:  #000000;\n",
       "        }</style><table id=\"T_ed1fe674_686b_11ea_85ab_549f3515a0bc\" ><caption>Relative Difference of Fisher from CCL and Cosmosis</caption><thead>    <tr>        <th class=\"blank level0\" ></th>        <th class=\"col_heading level0 col0\" >$\\Omega_m$</th>        <th class=\"col_heading level0 col1\" >$10^9 A_s$</th>    </tr></thead><tbody>\n",
       "                <tr>\n",
       "                        <th id=\"T_ed1fe674_686b_11ea_85ab_549f3515a0bclevel0_row0\" class=\"row_heading level0 row0\" >$\\Omega_m$</th>\n",
       "                        <td id=\"T_ed1fe674_686b_11ea_85ab_549f3515a0bcrow0_col0\" class=\"data row0 col0\" >4.68171e-05</td>\n",
       "                        <td id=\"T_ed1fe674_686b_11ea_85ab_549f3515a0bcrow0_col1\" class=\"data row0 col1\" >0.000598432</td>\n",
       "            </tr>\n",
       "            <tr>\n",
       "                        <th id=\"T_ed1fe674_686b_11ea_85ab_549f3515a0bclevel0_row1\" class=\"row_heading level0 row1\" >$10^9 A_s$</th>\n",
       "                        <td id=\"T_ed1fe674_686b_11ea_85ab_549f3515a0bcrow1_col0\" class=\"data row1 col0\" >0.000598432</td>\n",
       "                        <td id=\"T_ed1fe674_686b_11ea_85ab_549f3515a0bcrow1_col1\" class=\"data row1 col1\" >0.00105413</td>\n",
       "            </tr>\n",
       "    </tbody></table>"
      ],
      "text/plain": [
       "<pandas.io.formats.style.Styler at 0x2ae751cb3240>"
      ]
     },
     "execution_count": 52,
     "metadata": {},
     "output_type": "execute_result"
    }
   ],
   "source": [
    "(abs(cosmosis_f_scaled - ccl_f_scaled) / ccl_f_scaled)\\\n",
    ".style.background_gradient(cmap=cmap, axis=None).set_caption(\"Relative Difference of Fisher from CCL and Cosmosis\")"
   ]
  },
  {
   "cell_type": "code",
   "execution_count": 53,
   "metadata": {
    "jupyter": {
     "source_hidden": true
    }
   },
   "outputs": [
    {
     "data": {
      "text/html": [
       "<style  type=\"text/css\" >\n",
       "    #T_ee798304_686b_11ea_85ab_549f3515a0bcrow0_col0 {\n",
       "            background-color:  #ee919d;\n",
       "            color:  #000000;\n",
       "        }    #T_ee798304_686b_11ea_85ab_549f3515a0bcrow0_col1 {\n",
       "            background-color:  #fadde1;\n",
       "            color:  #000000;\n",
       "        }    #T_ee798304_686b_11ea_85ab_549f3515a0bcrow1_col0 {\n",
       "            background-color:  #fadde1;\n",
       "            color:  #000000;\n",
       "        }    #T_ee798304_686b_11ea_85ab_549f3515a0bcrow1_col1 {\n",
       "            background-color:  #85adeb;\n",
       "            color:  #000000;\n",
       "        }</style><table id=\"T_ee798304_686b_11ea_85ab_549f3515a0bc\" ><caption>Relative Difference of Covariance from CCL and Cosmosis</caption><thead>    <tr>        <th class=\"blank level0\" ></th>        <th class=\"col_heading level0 col0\" >$\\Omega_m$</th>        <th class=\"col_heading level0 col1\" >$10^9 A_s$</th>    </tr></thead><tbody>\n",
       "                <tr>\n",
       "                        <th id=\"T_ee798304_686b_11ea_85ab_549f3515a0bclevel0_row0\" class=\"row_heading level0 row0\" >$\\Omega_m$</th>\n",
       "                        <td id=\"T_ee798304_686b_11ea_85ab_549f3515a0bcrow0_col0\" class=\"data row0 col0\" >0.0391862</td>\n",
       "                        <td id=\"T_ee798304_686b_11ea_85ab_549f3515a0bcrow0_col1\" class=\"data row0 col1\" >0.0387131</td>\n",
       "            </tr>\n",
       "            <tr>\n",
       "                        <th id=\"T_ee798304_686b_11ea_85ab_549f3515a0bclevel0_row1\" class=\"row_heading level0 row1\" >$10^9 A_s$</th>\n",
       "                        <td id=\"T_ee798304_686b_11ea_85ab_549f3515a0bcrow1_col0\" class=\"data row1 col0\" >0.0387131</td>\n",
       "                        <td id=\"T_ee798304_686b_11ea_85ab_549f3515a0bcrow1_col1\" class=\"data row1 col1\" >0.0380433</td>\n",
       "            </tr>\n",
       "    </tbody></table>"
      ],
      "text/plain": [
       "<pandas.io.formats.style.Styler at 0x2ae751ab9320>"
      ]
     },
     "execution_count": 53,
     "metadata": {},
     "output_type": "execute_result"
    }
   ],
   "source": [
    "abs((cosmosis_cov_scaled - ccl_cov_scaled) / ccl_cov_scaled)\\\n",
    ".style.background_gradient(cmap=cmap, axis=None).set_caption(\"Relative Difference of Covariance from CCL and Cosmosis\")"
   ]
  },
  {
   "cell_type": "code",
   "execution_count": 13,
   "metadata": {},
   "outputs": [],
   "source": [
    "def calc_fom(fisher):\n",
    "    # takes 2x2 fishre\n",
    "    # returns sqrt of det of fisher matrix\n",
    "    FOM = np.sqrt(np.linalg.det(fisher))\n",
    "    return FOM"
   ]
  },
  {
   "cell_type": "code",
   "execution_count": 44,
   "metadata": {},
   "outputs": [
    {
     "name": "stdout",
     "output_type": "stream",
     "text": [
      "CCL Om_m 10^9A_s FoM = 57174.27572457747\n",
      "Cosmosis Om_m 10^9A_s FoM = 56115.49223023796\n",
      "Relative Difference = 0.018518529197290298\n"
     ]
    }
   ],
   "source": [
    "ccl_fom_scaled = calc_fom(ccl_f_scaled)\n",
    "cosmosis_fom_scaled = calc_fom(cosmosis_f_scaled)\n",
    "print(\"CCL Om_m 10^9A_s FoM =\", ccl_fom_scaled)\n",
    "print(\"Cosmosis Om_m 10^9A_s FoM =\", cosmosis_fom_scaled)\n",
    "print(\"Relative Difference =\", (ccl_fom_scaled - cosmosis_fom_scaled)/ccl_fom_scaled)"
   ]
  },
  {
   "cell_type": "code",
   "execution_count": null,
   "metadata": {},
   "outputs": [],
   "source": []
  }
 ],
 "metadata": {
  "kernelspec": {
   "display_name": "Python [conda env:ccl_env] *",
   "language": "python",
   "name": "conda-env-ccl_env-py"
  },
  "language_info": {
   "codemirror_mode": {
    "name": "ipython",
    "version": 3
   },
   "file_extension": ".py",
   "mimetype": "text/x-python",
   "name": "python",
   "nbconvert_exporter": "python",
   "pygments_lexer": "ipython3",
   "version": "3.7.3"
  }
 },
 "nbformat": 4,
 "nbformat_minor": 4
}
