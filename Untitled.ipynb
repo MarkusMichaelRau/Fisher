{
 "cells": [
  {
   "cell_type": "code",
   "execution_count": 1,
   "metadata": {},
   "outputs": [],
   "source": [
    "import pandas as pd\n",
    "import numpy as np\n",
    "import pyccl as ccl\n",
    "import pandas as pd\n",
    "import matplotlib.pyplot as plt\n",
    "import seaborn as sns\n",
    "from matplotlib.colors import ListedColormap"
   ]
  },
  {
   "cell_type": "code",
   "execution_count": 2,
   "metadata": {},
   "outputs": [],
   "source": [
    "cosmo_params = dict()\n",
    "with open(\"fid_values.sh\", 'r') as f:\n",
    "    for line in f:\n",
    "        if line[0] != '#' and line[0] != '\\n':\n",
    "            words = line.split(\"=\")\n",
    "            cosmo_params[words[0]] = float(words[1][:])"
   ]
  },
  {
   "cell_type": "code",
   "execution_count": 3,
   "metadata": {},
   "outputs": [],
   "source": [
    "cosmo_params[\"N_eff\"] = 3.046"
   ]
  },
  {
   "cell_type": "code",
   "execution_count": 4,
   "metadata": {},
   "outputs": [],
   "source": [
    "cosmo = ccl.Cosmology(Omega_c = cosmo_params['om_m'],\n",
    "                          Omega_b = cosmo_params['om_b'], \n",
    "                          h = cosmo_params['h0'],\n",
    "                          A_s = cosmo_params['A_s'], \n",
    "                          n_s = cosmo_params['n_s'], \n",
    "                          Neff = cosmo_params['N_eff'], \n",
    "                          w0=cosmo_params['w0'], \n",
    "                          wa=cosmo_params['wa'])"
   ]
  },
  {
   "cell_type": "code",
   "execution_count": 5,
   "metadata": {},
   "outputs": [],
   "source": [
    "z_dNdz = np.loadtxt(\"tomo_lensing.dat\")\n",
    "z = z_dNdz[:, 0]\n",
    "dNdz = z_dNdz[:, 1:]\n",
    "nbins = dNdz.shape[-1]"
   ]
  },
  {
   "cell_type": "code",
   "execution_count": 6,
   "metadata": {},
   "outputs": [],
   "source": [
    "tracers = []\n",
    "for i in range(dNdz.shape[-1]):\n",
    "    # We need (z, dNdz) as a tuple for CCL:\n",
    "    z_dNdz = (z, dNdz[:, i])\n",
    "    \n",
    "    # We mostly will use the defaults here. By using the defaults, we are assuming \n",
    "    # that there are no intrinsic alignments affecting this tracer (not physically realistic\n",
    "    # but the simplest case for debugging.)\n",
    "    tracers.append(ccl.WeakLensingTracer(cosmo, dndz=z_dNdz))"
   ]
  },
  {
   "cell_type": "code",
   "execution_count": 7,
   "metadata": {},
   "outputs": [],
   "source": [
    "orderings = [(i, j) for j in range(1, nbins+1) for i in range(1, j+1)]"
   ]
  },
  {
   "cell_type": "code",
   "execution_count": 9,
   "metadata": {},
   "outputs": [],
   "source": [
    "p_ka = np.loadtxt(\"ccl_cosmosis_binned_comparison/out_ccl/pk_nl.dat\")\n",
    "k = np.loadtxt(\"ccl_cosmosis_binned_comparison/out_ccl/k.dat\")\n",
    "a = np.loadtxt(\"ccl_cosmosis_binned_comparison/out_ccl/a.dat\")"
   ]
  },
  {
   "cell_type": "code",
   "execution_count": 15,
   "metadata": {},
   "outputs": [
    {
     "data": {
      "text/plain": [
       "(101, 399)"
      ]
     },
     "execution_count": 15,
     "metadata": {},
     "output_type": "execute_result"
    }
   ],
   "source": [
    "p_ka.shape"
   ]
  },
  {
   "cell_type": "code",
   "execution_count": 16,
   "metadata": {},
   "outputs": [
    {
     "data": {
      "text/plain": [
       "(399,)"
      ]
     },
     "execution_count": 16,
     "metadata": {},
     "output_type": "execute_result"
    }
   ],
   "source": [
    "k.shape"
   ]
  },
  {
   "cell_type": "code",
   "execution_count": 18,
   "metadata": {},
   "outputs": [
    {
     "data": {
      "text/plain": [
       "(101,)"
      ]
     },
     "execution_count": 18,
     "metadata": {},
     "output_type": "execute_result"
    }
   ],
   "source": [
    "a.shape"
   ]
  },
  {
   "cell_type": "code",
   "execution_count": 34,
   "metadata": {},
   "outputs": [
    {
     "ename": "CCLError",
     "evalue": "Error CCL_ERROR_SPLINE: ",
     "output_type": "error",
     "traceback": [
      "\u001b[0;31m---------------------------------------------------------------------------\u001b[0m",
      "\u001b[0;31mCCLError\u001b[0m                                  Traceback (most recent call last)",
      "\u001b[0;32m<ipython-input-34-e8f1a570ec88>\u001b[0m in \u001b[0;36m<module>\u001b[0;34m\u001b[0m\n\u001b[0;32m----> 1\u001b[0;31m \u001b[0mpka_ccl\u001b[0m \u001b[0;34m=\u001b[0m \u001b[0mccl\u001b[0m\u001b[0;34m.\u001b[0m\u001b[0mPk2D\u001b[0m\u001b[0;34m(\u001b[0m\u001b[0mcosmo\u001b[0m\u001b[0;34m=\u001b[0m\u001b[0mcosmo\u001b[0m\u001b[0;34m,\u001b[0m \u001b[0mpk_arr\u001b[0m\u001b[0;34m=\u001b[0m\u001b[0mnp\u001b[0m\u001b[0;34m.\u001b[0m\u001b[0mlog\u001b[0m\u001b[0;34m(\u001b[0m\u001b[0mp_ka\u001b[0m\u001b[0;34m)\u001b[0m\u001b[0;34m,\u001b[0m \u001b[0ma_arr\u001b[0m\u001b[0;34m=\u001b[0m\u001b[0ma\u001b[0m\u001b[0;34m,\u001b[0m \u001b[0mlk_arr\u001b[0m\u001b[0;34m=\u001b[0m\u001b[0mnp\u001b[0m\u001b[0;34m.\u001b[0m\u001b[0mlog\u001b[0m\u001b[0;34m(\u001b[0m\u001b[0mk\u001b[0m\u001b[0;34m)\u001b[0m\u001b[0;34m,\u001b[0m \u001b[0mis_logp\u001b[0m\u001b[0;34m=\u001b[0m\u001b[0;32mTrue\u001b[0m\u001b[0;34m)\u001b[0m\u001b[0;34m\u001b[0m\u001b[0;34m\u001b[0m\u001b[0m\n\u001b[0m",
      "\u001b[0;32m~/usr/anaconda3/envs/ccl_env/lib/python3.7/site-packages/pyccl/pk2d.py\u001b[0m in \u001b[0;36m__init__\u001b[0;34m(self, pkfunc, a_arr, lk_arr, pk_arr, is_logp, extrap_order_lok, extrap_order_hik, cosmo)\u001b[0m\n\u001b[1;32m    102\u001b[0m                                                         \u001b[0mint\u001b[0m\u001b[0;34m(\u001b[0m\u001b[0mextrap_order_hik\u001b[0m\u001b[0;34m)\u001b[0m\u001b[0;34m,\u001b[0m\u001b[0;34m\u001b[0m\u001b[0;34m\u001b[0m\u001b[0m\n\u001b[1;32m    103\u001b[0m                                                         int(is_logp), status)\n\u001b[0;32m--> 104\u001b[0;31m         \u001b[0mcheck\u001b[0m\u001b[0;34m(\u001b[0m\u001b[0mstatus\u001b[0m\u001b[0;34m)\u001b[0m\u001b[0;34m\u001b[0m\u001b[0;34m\u001b[0m\u001b[0m\n\u001b[0m\u001b[1;32m    105\u001b[0m         \u001b[0mself\u001b[0m\u001b[0;34m.\u001b[0m\u001b[0mhas_psp\u001b[0m \u001b[0;34m=\u001b[0m \u001b[0;32mTrue\u001b[0m\u001b[0;34m\u001b[0m\u001b[0;34m\u001b[0m\u001b[0m\n\u001b[1;32m    106\u001b[0m \u001b[0;34m\u001b[0m\u001b[0m\n",
      "\u001b[0;32m~/usr/anaconda3/envs/ccl_env/lib/python3.7/site-packages/pyccl/pyutils.py\u001b[0m in \u001b[0;36mcheck\u001b[0;34m(status, cosmo)\u001b[0m\n\u001b[1;32m     27\u001b[0m     \u001b[0;31m# Check for known error status\u001b[0m\u001b[0;34m\u001b[0m\u001b[0;34m\u001b[0m\u001b[0;34m\u001b[0m\u001b[0m\n\u001b[1;32m     28\u001b[0m     \u001b[0;32mif\u001b[0m \u001b[0mstatus\u001b[0m \u001b[0;32min\u001b[0m \u001b[0merror_types\u001b[0m\u001b[0;34m.\u001b[0m\u001b[0mkeys\u001b[0m\u001b[0;34m(\u001b[0m\u001b[0;34m)\u001b[0m\u001b[0;34m:\u001b[0m\u001b[0;34m\u001b[0m\u001b[0;34m\u001b[0m\u001b[0m\n\u001b[0;32m---> 29\u001b[0;31m         \u001b[0;32mraise\u001b[0m \u001b[0mCCLError\u001b[0m\u001b[0;34m(\u001b[0m\u001b[0;34m\"Error %s: %s\"\u001b[0m \u001b[0;34m%\u001b[0m \u001b[0;34m(\u001b[0m\u001b[0merror_types\u001b[0m\u001b[0;34m[\u001b[0m\u001b[0mstatus\u001b[0m\u001b[0;34m]\u001b[0m\u001b[0;34m,\u001b[0m \u001b[0mmsg\u001b[0m\u001b[0;34m)\u001b[0m\u001b[0;34m)\u001b[0m\u001b[0;34m\u001b[0m\u001b[0;34m\u001b[0m\u001b[0m\n\u001b[0m\u001b[1;32m     30\u001b[0m \u001b[0;34m\u001b[0m\u001b[0m\n\u001b[1;32m     31\u001b[0m     \u001b[0;31m# Check for unknown error\u001b[0m\u001b[0;34m\u001b[0m\u001b[0;34m\u001b[0m\u001b[0;34m\u001b[0m\u001b[0m\n",
      "\u001b[0;31mCCLError\u001b[0m: Error CCL_ERROR_SPLINE: "
     ]
    }
   ],
   "source": [
    "pka_ccl = ccl.Pk2D(cosmo=cosmo, pk_arr=np.log(p_ka), a_arr=a, lk_arr=np.log(k), is_logp=True)"
   ]
  },
  {
   "cell_type": "code",
   "execution_count": 30,
   "metadata": {},
   "outputs": [
    {
     "ename": "ValueError",
     "evalue": "p_of_k_a must be either a pyccl.Pk2D object or None",
     "output_type": "error",
     "traceback": [
      "\u001b[0;31m---------------------------------------------------------------------------\u001b[0m",
      "\u001b[0;31mValueError\u001b[0m                                Traceback (most recent call last)",
      "\u001b[0;32m<ipython-input-30-77dee51f92a3>\u001b[0m in \u001b[0;36m<module>\u001b[0;34m\u001b[0m\n\u001b[1;32m      4\u001b[0m     \u001b[0mindex1\u001b[0m \u001b[0;34m=\u001b[0m \u001b[0mordering\u001b[0m\u001b[0;34m[\u001b[0m\u001b[0;36m0\u001b[0m\u001b[0;34m]\u001b[0m \u001b[0;34m-\u001b[0m \u001b[0;36m1\u001b[0m\u001b[0;34m\u001b[0m\u001b[0;34m\u001b[0m\u001b[0m\n\u001b[1;32m      5\u001b[0m     \u001b[0mindex2\u001b[0m \u001b[0;34m=\u001b[0m \u001b[0mordering\u001b[0m\u001b[0;34m[\u001b[0m\u001b[0;36m1\u001b[0m\u001b[0;34m]\u001b[0m \u001b[0;34m-\u001b[0m \u001b[0;36m1\u001b[0m\u001b[0;34m\u001b[0m\u001b[0;34m\u001b[0m\u001b[0m\n\u001b[0;32m----> 6\u001b[0;31m     \u001b[0mcls\u001b[0m\u001b[0;34m.\u001b[0m\u001b[0mappend\u001b[0m\u001b[0;34m(\u001b[0m\u001b[0mccl\u001b[0m\u001b[0;34m.\u001b[0m\u001b[0mangular_cl\u001b[0m\u001b[0;34m(\u001b[0m\u001b[0mcosmo\u001b[0m\u001b[0;34m,\u001b[0m \u001b[0mtracers\u001b[0m\u001b[0;34m[\u001b[0m\u001b[0mindex1\u001b[0m\u001b[0;34m]\u001b[0m\u001b[0;34m,\u001b[0m \u001b[0mtracers\u001b[0m\u001b[0;34m[\u001b[0m\u001b[0mindex2\u001b[0m\u001b[0;34m]\u001b[0m\u001b[0;34m,\u001b[0m \u001b[0mell\u001b[0m\u001b[0;34m=\u001b[0m\u001b[0mells\u001b[0m\u001b[0;34m,\u001b[0m \u001b[0mp_of_k_a\u001b[0m\u001b[0;34m=\u001b[0m\u001b[0mp_ka\u001b[0m\u001b[0;34m)\u001b[0m\u001b[0;34m)\u001b[0m\u001b[0;34m\u001b[0m\u001b[0;34m\u001b[0m\u001b[0m\n\u001b[0m",
      "\u001b[0;32m~/usr/anaconda3/envs/ccl_env/lib/python3.7/site-packages/pyccl/cls.py\u001b[0m in \u001b[0;36mangular_cl\u001b[0;34m(cosmo, cltracer1, cltracer2, ell, p_of_k_a, l_limber)\u001b[0m\n\u001b[1;32m     49\u001b[0m             \u001b[0mpsp\u001b[0m \u001b[0;34m=\u001b[0m \u001b[0mp_of_k_a\u001b[0m\u001b[0;34m.\u001b[0m\u001b[0mpsp\u001b[0m\u001b[0;34m\u001b[0m\u001b[0;34m\u001b[0m\u001b[0m\n\u001b[1;32m     50\u001b[0m         \u001b[0;32melse\u001b[0m\u001b[0;34m:\u001b[0m\u001b[0;34m\u001b[0m\u001b[0;34m\u001b[0m\u001b[0m\n\u001b[0;32m---> 51\u001b[0;31m             raise ValueError(\"p_of_k_a must be either a \"\n\u001b[0m\u001b[1;32m     52\u001b[0m                              \"pyccl.Pk2D object or None\")\n\u001b[1;32m     53\u001b[0m     \u001b[0;32melse\u001b[0m\u001b[0;34m:\u001b[0m\u001b[0;34m\u001b[0m\u001b[0;34m\u001b[0m\u001b[0m\n",
      "\u001b[0;31mValueError\u001b[0m: p_of_k_a must be either a pyccl.Pk2D object or None"
     ]
    }
   ],
   "source": [
    "cls = []\n",
    "ells = np.arange(76, 1000)\n",
    "for ordering in orderings:\n",
    "    index1 = ordering[0] - 1\n",
    "    index2 = ordering[1] - 1\n",
    "    cls.append(ccl.angular_cl(cosmo, tracers[index1], tracers[index2], ell=ells, p_of_k_a=p_ka))"
   ]
  },
  {
   "cell_type": "code",
   "execution_count": null,
   "metadata": {},
   "outputs": [],
   "source": []
  }
 ],
 "metadata": {
  "kernelspec": {
   "display_name": "Python [conda env:ccl_env] *",
   "language": "python",
   "name": "conda-env-ccl_env-py"
  },
  "language_info": {
   "codemirror_mode": {
    "name": "ipython",
    "version": 3
   },
   "file_extension": ".py",
   "mimetype": "text/x-python",
   "name": "python",
   "nbconvert_exporter": "python",
   "pygments_lexer": "ipython3",
   "version": "3.7.3"
  }
 },
 "nbformat": 4,
 "nbformat_minor": 4
}
