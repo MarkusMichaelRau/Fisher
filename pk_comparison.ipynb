{
 "cells": [
  {
   "cell_type": "code",
   "execution_count": 1,
   "metadata": {
    "slideshow": {
     "slide_type": "skip"
    }
   },
   "outputs": [],
   "source": [
    "%matplotlib widget\n",
    "import numpy as np\n",
    "import pandas as pd\n",
    "import matplotlib.pyplot as plt\n",
    "from Fisher_Forecaster import Fisher_Forecaster\n",
    "import pyccl as ccl\n",
    "from ipywidgets import interact, interactive, fixed, interact_manual\n",
    "import ipywidgets as widgets"
   ]
  },
  {
   "cell_type": "code",
   "execution_count": 2,
   "metadata": {},
   "outputs": [],
   "source": [
    "h = 0.72\n",
    "h3 = h**3"
   ]
  },
  {
   "cell_type": "markdown",
   "metadata": {
    "slideshow": {
     "slide_type": "slide"
    }
   },
   "source": [
    "# Cosmosis P(k)"
   ]
  },
  {
   "cell_type": "code",
   "execution_count": 3,
   "metadata": {
    "slideshow": {
     "slide_type": "fragment"
    }
   },
   "outputs": [],
   "source": [
    "cosmosis_lin_pk = np.loadtxt(\"ccl_cosmosis_pk_comparison/cosmosis_matter_power_lin/p_k.txt\")/h3\n",
    "cosmosis_lin_z = np.loadtxt(\"ccl_cosmosis_pk_comparison/cosmosis_matter_power_lin/z.txt\")\n",
    "cosmosis_lin_k = np.loadtxt(\"ccl_cosmosis_pk_comparison/cosmosis_matter_power_lin/k_h.txt\")*h"
   ]
  },
  {
   "cell_type": "code",
   "execution_count": 4,
   "metadata": {
    "slideshow": {
     "slide_type": "fragment"
    }
   },
   "outputs": [],
   "source": [
    "a = 1/(1+cosmosis_lin_z) # convert to scale factor"
   ]
  },
  {
   "cell_type": "code",
   "execution_count": 5,
   "metadata": {
    "slideshow": {
     "slide_type": "fragment"
    }
   },
   "outputs": [],
   "source": [
    "cosmosis_nl_pk = np.loadtxt(\"ccl_cosmosis_pk_comparison/cosmosis_matter_power_nl/p_k.txt\")/h3\n",
    "cosmosis_nl_z = np.loadtxt(\"ccl_cosmosis_pk_comparison/cosmosis_matter_power_nl/z.txt\")\n",
    "cosmosis_nl_k = np.loadtxt(\"ccl_cosmosis_pk_comparison/cosmosis_matter_power_nl/k_h.txt\")*h"
   ]
  },
  {
   "cell_type": "code",
   "execution_count": 6,
   "metadata": {
    "slideshow": {
     "slide_type": "fragment"
    }
   },
   "outputs": [],
   "source": [
    "a_nl = 1/(1+cosmosis_nl_z)"
   ]
  },
  {
   "cell_type": "markdown",
   "metadata": {
    "slideshow": {
     "slide_type": "slide"
    }
   },
   "source": [
    "# CCL P(k)"
   ]
  },
  {
   "cell_type": "code",
   "execution_count": 7,
   "metadata": {
    "slideshow": {
     "slide_type": "fragment"
    }
   },
   "outputs": [],
   "source": [
    "probe = \"lensing\"\n",
    "bin_type = \"equal_size\"\n",
    "nbins = 5\n",
    "deriv_order = 2\n",
    "derivs_to_calc = \"all\"\n",
    "use_binned = True"
   ]
  },
  {
   "cell_type": "code",
   "execution_count": 8,
   "metadata": {
    "slideshow": {
     "slide_type": "fragment"
    }
   },
   "outputs": [],
   "source": [
    "F = Fisher_Forecaster(probe, bin_type, nbins, deriv_order, derivs_to_calc, use_binned=use_binned)"
   ]
  },
  {
   "cell_type": "code",
   "execution_count": 9,
   "metadata": {
    "slideshow": {
     "slide_type": "fragment"
    }
   },
   "outputs": [],
   "source": [
    "ccl_lin_pk = np.zeros(cosmosis_lin_pk.shape)\n",
    "for i in range(len(a)):\n",
    "    ccl_lin_pk[i] = ccl.linear_matter_power(F.cosmo, cosmosis_lin_k, a[i])"
   ]
  },
  {
   "cell_type": "code",
   "execution_count": 10,
   "metadata": {
    "slideshow": {
     "slide_type": "fragment"
    }
   },
   "outputs": [],
   "source": [
    "ccl_nl_pk = np.zeros(cosmosis_nl_pk.shape)\n",
    "for i in range(len(a_nl)):\n",
    "    ccl_nl_pk[i] = ccl.nonlin_matter_power(F.cosmo, cosmosis_nl_k, a_nl[i])"
   ]
  },
  {
   "cell_type": "markdown",
   "metadata": {},
   "source": [
    "From CCL docs:\n",
    "\n",
    "transfer function:\n",
    "‘boltzmann_camb’: use CAMB to compute the transfer function (default)\n",
    "\n",
    "matter power spectrum options\n",
    "‘halofit’: use HALOFIT (default)\n",
    "\n",
    "\n",
    "For Cosmosis, I am using boltzmann CAMB and halofit as well; perhaps the options supplied to both by default are different between the two"
   ]
  },
  {
   "cell_type": "markdown",
   "metadata": {
    "slideshow": {
     "slide_type": "slide"
    }
   },
   "source": [
    "# Plots"
   ]
  },
  {
   "cell_type": "markdown",
   "metadata": {},
   "source": [
    "### Setup Dataframes"
   ]
  },
  {
   "cell_type": "code",
   "execution_count": 11,
   "metadata": {
    "slideshow": {
     "slide_type": "skip"
    }
   },
   "outputs": [],
   "source": [
    "df_cosmosis_lin_pk = pd.DataFrame(cosmosis_lin_pk, index=cosmosis_lin_z)\n",
    "df_cosmosis_lin_pk.index.names = [\"z\"]\n",
    "df_cosmosis_lin_pk.columns.names = [r'$k (Mpc^{-1})$']\n",
    "df_cosmosis_lin_pk.rename(columns={i: cosmosis_lin_k[i] for i in range(len(cosmosis_lin_k))}, inplace=True)\n",
    "df_cosmosis_lin_pk = df_cosmosis_lin_pk.T"
   ]
  },
  {
   "cell_type": "code",
   "execution_count": 12,
   "metadata": {
    "slideshow": {
     "slide_type": "skip"
    }
   },
   "outputs": [],
   "source": [
    "df_ccl_lin_pk = pd.DataFrame(ccl_lin_pk, index=cosmosis_lin_z)\n",
    "df_ccl_lin_pk.index.names = [\"z\"]\n",
    "df_ccl_lin_pk.columns.names = [r'$k (Mpc^{-1})$']\n",
    "df_ccl_lin_pk.rename(columns={i: cosmosis_lin_k[i] for i in range(len(cosmosis_lin_k))}, inplace=True)\n",
    "df_ccl_lin_pk = df_ccl_lin_pk.T"
   ]
  },
  {
   "cell_type": "code",
   "execution_count": 13,
   "metadata": {
    "slideshow": {
     "slide_type": "skip"
    }
   },
   "outputs": [],
   "source": [
    "df_cosmosis_nl_pk = pd.DataFrame(cosmosis_nl_pk, index=cosmosis_nl_z)\n",
    "df_cosmosis_nl_pk.index.names = [\"z\"]\n",
    "df_cosmosis_nl_pk.columns.names = [r'$k (Mpc^{-1})$']\n",
    "df_cosmosis_nl_pk.rename(columns={i: cosmosis_nl_k[i] for i in range(len(cosmosis_nl_k))}, inplace=True)\n",
    "df_cosmosis_nl_pk = df_cosmosis_nl_pk.T"
   ]
  },
  {
   "cell_type": "code",
   "execution_count": 14,
   "metadata": {
    "slideshow": {
     "slide_type": "skip"
    }
   },
   "outputs": [],
   "source": [
    "df_ccl_nl_pk = pd.DataFrame(ccl_nl_pk, index=cosmosis_nl_z)\n",
    "df_ccl_nl_pk.index.names = [\"z\"]\n",
    "df_ccl_nl_pk.columns.names = [r'$k (Mpc^{-1})$']\n",
    "df_ccl_nl_pk.rename(columns={i: cosmosis_nl_k[i] for i in range(len(cosmosis_nl_k))}, inplace=True)\n",
    "df_ccl_nl_pk = df_ccl_nl_pk.T"
   ]
  },
  {
   "cell_type": "markdown",
   "metadata": {
    "slideshow": {
     "slide_type": "slide"
    }
   },
   "source": [
    "### Linear P(k)"
   ]
  },
  {
   "cell_type": "code",
   "execution_count": 22,
   "metadata": {
    "slideshow": {
     "slide_type": "fragment"
    }
   },
   "outputs": [
    {
     "data": {
      "application/vnd.jupyter.widget-view+json": {
       "model_id": "129d72f4691c4c4ea744dcd6e08a9f36",
       "version_major": 2,
       "version_minor": 0
      },
      "text/plain": [
       "Canvas(toolbar=Toolbar(toolitems=[('Home', 'Reset original view', 'home', 'home'), ('Back', 'Back to previous …"
      ]
     },
     "metadata": {},
     "output_type": "display_data"
    },
    {
     "data": {
      "application/vnd.jupyter.widget-view+json": {
       "model_id": "78cfee0346da4954a4792566bc98bb15",
       "version_major": 2,
       "version_minor": 0
      },
      "text/plain": [
       "interactive(children=(IntSlider(value=51, description='idx', max=101, min=1), Output()), _dom_classes=('widget…"
      ]
     },
     "metadata": {},
     "output_type": "display_data"
    }
   ],
   "source": [
    "fig, ax1 = plt.subplots(figsize=(6,9))\n",
    "fig.canvas.layout.width = '80%'\n",
    "fig.canvas.layout.height = '450px'\n",
    "@interact(idx=(1, len(cosmosis_lin_z)))\n",
    "def plot_rel_diff(idx):\n",
    "    ax1.clear()\n",
    "    ((df_cosmosis_lin_pk.iloc[:,idx-1:idx] - df_ccl_lin_pk.iloc[:, idx-1:idx])/\\\n",
    "     df_ccl_lin_pk.iloc[:, idx-1:idx]).plot(ax=ax1, logx=True)\n",
    "    plt.title(\"Linear P(k) Relative Difference, fixed z\")\n",
    "    fig.subplots_adjust(bottom=0.13)\n",
    "    plt.show()"
   ]
  },
  {
   "cell_type": "code",
   "execution_count": 23,
   "metadata": {
    "slideshow": {
     "slide_type": "subslide"
    }
   },
   "outputs": [
    {
     "data": {
      "application/vnd.jupyter.widget-view+json": {
       "model_id": "07e56108e40045bd8c1fa9f0db79092d",
       "version_major": 2,
       "version_minor": 0
      },
      "text/plain": [
       "Canvas(toolbar=Toolbar(toolitems=[('Home', 'Reset original view', 'home', 'home'), ('Back', 'Back to previous …"
      ]
     },
     "metadata": {},
     "output_type": "display_data"
    }
   ],
   "source": [
    "fig, ax2 = plt.subplots(figsize=(6,9))\n",
    "fig.canvas.layout.width = '80%'\n",
    "fig.canvas.layout.height = '450px'\n",
    "((df_cosmosis_lin_pk - df_ccl_lin_pk)/df_ccl_lin_pk)\\\n",
    "    .plot(alpha=0.01, legend=False, color=\"black\", logx=True, ax=ax2)\n",
    "plt.title(\"Linear P(k) Relative Difference, all z's\")\n",
    "fig.subplots_adjust(bottom=0.13)\n",
    "plt.show()"
   ]
  },
  {
   "cell_type": "code",
   "execution_count": 24,
   "metadata": {},
   "outputs": [
    {
     "data": {
      "application/vnd.jupyter.widget-view+json": {
       "model_id": "40ba8679ed6247c9a4fc06a1ecc82af6",
       "version_major": 2,
       "version_minor": 0
      },
      "text/plain": [
       "Canvas(toolbar=Toolbar(toolitems=[('Home', 'Reset original view', 'home', 'home'), ('Back', 'Back to previous …"
      ]
     },
     "metadata": {},
     "output_type": "display_data"
    },
    {
     "data": {
      "application/vnd.jupyter.widget-view+json": {
       "model_id": "3a1c07e4a4b6459085ce685228aca70e",
       "version_major": 2,
       "version_minor": 0
      },
      "text/plain": [
       "interactive(children=(IntSlider(value=51, description='idx', max=101, min=1), Output()), _dom_classes=('widget…"
      ]
     },
     "metadata": {},
     "output_type": "display_data"
    }
   ],
   "source": [
    "fig, ax3 = plt.subplots(figsize=(6,9))\n",
    "fig.canvas.layout.width = '80%'\n",
    "fig.canvas.layout.height = '450px'\n",
    "@interact(idx=(1, len(cosmosis_lin_z)))\n",
    "def plot_both(idx):\n",
    "    ax3.clear()\n",
    "    df_cosmosis_lin_pk.iloc[:,idx-1:idx].plot(ax=ax3, loglog=True)\n",
    "    df_ccl_lin_pk.iloc[:, idx-1:idx].plot(ax=ax3, loglog=True)\n",
    "    plt.title(\"Linear P(k) Both CCL and COSMOSIS, fixed z\")\n",
    "    plt.ylabel(r'$P(k) (Mpc^3)$')\n",
    "    fig.subplots_adjust(bottom=0.13)\n",
    "    plt.show()"
   ]
  },
  {
   "cell_type": "markdown",
   "metadata": {
    "slideshow": {
     "slide_type": "slide"
    }
   },
   "source": [
    "### Nonlinear P(k)"
   ]
  },
  {
   "cell_type": "code",
   "execution_count": 25,
   "metadata": {
    "slideshow": {
     "slide_type": "fragment"
    }
   },
   "outputs": [
    {
     "data": {
      "application/vnd.jupyter.widget-view+json": {
       "model_id": "d4267e833f7b4af4ab5112011b885caa",
       "version_major": 2,
       "version_minor": 0
      },
      "text/plain": [
       "Canvas(toolbar=Toolbar(toolitems=[('Home', 'Reset original view', 'home', 'home'), ('Back', 'Back to previous …"
      ]
     },
     "metadata": {},
     "output_type": "display_data"
    },
    {
     "data": {
      "application/vnd.jupyter.widget-view+json": {
       "model_id": "846eae53f5e649589d81d9d2e89575c7",
       "version_major": 2,
       "version_minor": 0
      },
      "text/plain": [
       "interactive(children=(IntSlider(value=51, description='idx', max=101, min=1), Output()), _dom_classes=('widget…"
      ]
     },
     "metadata": {},
     "output_type": "display_data"
    }
   ],
   "source": [
    "fig, ax4 = plt.subplots(figsize=(6,9))\n",
    "fig.canvas.layout.width = '80%'\n",
    "fig.canvas.layout.height = '450px'\n",
    "@interact(idx=(1, len(cosmosis_nl_z)))\n",
    "def plot_rel_diff(idx):\n",
    "    ax4.clear()\n",
    "    ((df_cosmosis_nl_pk.iloc[:,idx-1:idx] - df_ccl_nl_pk.iloc[:, idx-1:idx])/\\\n",
    "     df_ccl_nl_pk.iloc[:, idx-1:idx]).plot(ax=ax4, logx=True)\n",
    "    plt.title(\"Non Linear P(k) Relative Difference, fixed z\")\n",
    "    fig.subplots_adjust(bottom=0.13)\n",
    "    plt.show()"
   ]
  },
  {
   "cell_type": "code",
   "execution_count": 26,
   "metadata": {
    "slideshow": {
     "slide_type": "subslide"
    }
   },
   "outputs": [
    {
     "data": {
      "application/vnd.jupyter.widget-view+json": {
       "model_id": "37b6b403b13948da8792fc7bed15c304",
       "version_major": 2,
       "version_minor": 0
      },
      "text/plain": [
       "Canvas(toolbar=Toolbar(toolitems=[('Home', 'Reset original view', 'home', 'home'), ('Back', 'Back to previous …"
      ]
     },
     "metadata": {},
     "output_type": "display_data"
    }
   ],
   "source": [
    "fig, ax5 = plt.subplots(figsize=(6,9))\n",
    "fig.canvas.layout.width = '80%'\n",
    "fig.canvas.layout.height = '450px'\n",
    "((df_cosmosis_nl_pk - df_ccl_nl_pk)/df_ccl_nl_pk)\\\n",
    "    .plot(alpha=0.01, legend=False, color=\"black\", logx=True, ax=ax5)\n",
    "plt.title(\"Non Linear P(k) Relative Difference, all z's\")\n",
    "fig.subplots_adjust(bottom=0.13)\n",
    "plt.show()"
   ]
  },
  {
   "cell_type": "code",
   "execution_count": 27,
   "metadata": {},
   "outputs": [
    {
     "data": {
      "application/vnd.jupyter.widget-view+json": {
       "model_id": "f3996481ee094903b3ca1e97cce0dcd1",
       "version_major": 2,
       "version_minor": 0
      },
      "text/plain": [
       "Canvas(toolbar=Toolbar(toolitems=[('Home', 'Reset original view', 'home', 'home'), ('Back', 'Back to previous …"
      ]
     },
     "metadata": {},
     "output_type": "display_data"
    },
    {
     "data": {
      "application/vnd.jupyter.widget-view+json": {
       "model_id": "df5d6931227948cf956da238ba083b62",
       "version_major": 2,
       "version_minor": 0
      },
      "text/plain": [
       "interactive(children=(IntSlider(value=51, description='idx', max=101, min=1), Output()), _dom_classes=('widget…"
      ]
     },
     "metadata": {},
     "output_type": "display_data"
    }
   ],
   "source": [
    "fig, ax6 = plt.subplots(figsize=(6,9))\n",
    "fig.canvas.layout.width = '80%'\n",
    "fig.canvas.layout.height = '450px'\n",
    "@interact(idx=(1, len(cosmosis_lin_z)))\n",
    "def plot_both(idx):\n",
    "    ax6.clear()\n",
    "    df_cosmosis_nl_pk.iloc[:,idx-1:idx].plot(ax=ax6, loglog=True)\n",
    "    df_ccl_nl_pk.iloc[:, idx-1:idx].plot(ax=ax6, loglog=True)\n",
    "    plt.title(\"Non Linear P(k) Both CCL and COSMOSIS, fixed z\")\n",
    "    plt.ylabel(r'$P(k) (Mpc^3)$')\n",
    "    fig.subplots_adjust(bottom=0.13)\n",
    "    plt.show()"
   ]
  },
  {
   "cell_type": "markdown",
   "metadata": {},
   "source": [
    "# Without extrapolate power"
   ]
  },
  {
   "cell_type": "code",
   "execution_count": 21,
   "metadata": {},
   "outputs": [
    {
     "ename": "OSError",
     "evalue": ".parameters/matter_power_lin/p_k.txt not found.",
     "output_type": "error",
     "traceback": [
      "\u001b[0;31m---------------------------------------------------------------------------\u001b[0m",
      "\u001b[0;31mOSError\u001b[0m                                   Traceback (most recent call last)",
      "\u001b[0;32m<ipython-input-21-c0300ac3522e>\u001b[0m in \u001b[0;36m<module>\u001b[0;34m\u001b[0m\n\u001b[0;32m----> 1\u001b[0;31m \u001b[0mcosmosis_lin_pk_no_ep\u001b[0m \u001b[0;34m=\u001b[0m \u001b[0mnp\u001b[0m\u001b[0;34m.\u001b[0m\u001b[0mloadtxt\u001b[0m\u001b[0;34m(\u001b[0m\u001b[0;34m\".parameters/matter_power_lin/p_k.txt\"\u001b[0m\u001b[0;34m)\u001b[0m\u001b[0;34m/\u001b[0m\u001b[0mh3\u001b[0m\u001b[0;34m\u001b[0m\u001b[0;34m\u001b[0m\u001b[0m\n\u001b[0m\u001b[1;32m      2\u001b[0m \u001b[0mcosmosis_nl_pk_no_ep\u001b[0m  \u001b[0;34m=\u001b[0m \u001b[0mnp\u001b[0m\u001b[0;34m.\u001b[0m\u001b[0mloadtxt\u001b[0m\u001b[0;34m(\u001b[0m\u001b[0;34m\".parameters/matter_power_nl/p_k.txt\"\u001b[0m\u001b[0;34m)\u001b[0m\u001b[0;34m/\u001b[0m\u001b[0mh3\u001b[0m\u001b[0;34m\u001b[0m\u001b[0;34m\u001b[0m\u001b[0m\n\u001b[1;32m      3\u001b[0m \u001b[0mcosmosis_lin_z_no_ep\u001b[0m  \u001b[0;34m=\u001b[0m \u001b[0mnp\u001b[0m\u001b[0;34m.\u001b[0m\u001b[0mloadtxt\u001b[0m\u001b[0;34m(\u001b[0m\u001b[0;34m\".parameters/matter_power_lin/z.txt\"\u001b[0m\u001b[0;34m)\u001b[0m\u001b[0;34m\u001b[0m\u001b[0;34m\u001b[0m\u001b[0m\n\u001b[1;32m      4\u001b[0m \u001b[0mcosmosis_lin_k_no_ep\u001b[0m  \u001b[0;34m=\u001b[0m \u001b[0mnp\u001b[0m\u001b[0;34m.\u001b[0m\u001b[0mloadtxt\u001b[0m\u001b[0;34m(\u001b[0m\u001b[0;34m\".parameters/matter_power_lin/k_h.txt\"\u001b[0m\u001b[0;34m)\u001b[0m\u001b[0;34m*\u001b[0m\u001b[0mh\u001b[0m\u001b[0;34m\u001b[0m\u001b[0;34m\u001b[0m\u001b[0m\n",
      "\u001b[0;32m~/usr/anaconda3/envs/ccl_env/lib/python3.7/site-packages/numpy/lib/npyio.py\u001b[0m in \u001b[0;36mloadtxt\u001b[0;34m(fname, dtype, comments, delimiter, converters, skiprows, usecols, unpack, ndmin, encoding, max_rows)\u001b[0m\n\u001b[1;32m    966\u001b[0m             \u001b[0mfname\u001b[0m \u001b[0;34m=\u001b[0m \u001b[0mos_fspath\u001b[0m\u001b[0;34m(\u001b[0m\u001b[0mfname\u001b[0m\u001b[0;34m)\u001b[0m\u001b[0;34m\u001b[0m\u001b[0;34m\u001b[0m\u001b[0m\n\u001b[1;32m    967\u001b[0m         \u001b[0;32mif\u001b[0m \u001b[0m_is_string_like\u001b[0m\u001b[0;34m(\u001b[0m\u001b[0mfname\u001b[0m\u001b[0;34m)\u001b[0m\u001b[0;34m:\u001b[0m\u001b[0;34m\u001b[0m\u001b[0;34m\u001b[0m\u001b[0m\n\u001b[0;32m--> 968\u001b[0;31m             \u001b[0mfh\u001b[0m \u001b[0;34m=\u001b[0m \u001b[0mnp\u001b[0m\u001b[0;34m.\u001b[0m\u001b[0mlib\u001b[0m\u001b[0;34m.\u001b[0m\u001b[0m_datasource\u001b[0m\u001b[0;34m.\u001b[0m\u001b[0mopen\u001b[0m\u001b[0;34m(\u001b[0m\u001b[0mfname\u001b[0m\u001b[0;34m,\u001b[0m \u001b[0;34m'rt'\u001b[0m\u001b[0;34m,\u001b[0m \u001b[0mencoding\u001b[0m\u001b[0;34m=\u001b[0m\u001b[0mencoding\u001b[0m\u001b[0;34m)\u001b[0m\u001b[0;34m\u001b[0m\u001b[0;34m\u001b[0m\u001b[0m\n\u001b[0m\u001b[1;32m    969\u001b[0m             \u001b[0mfencoding\u001b[0m \u001b[0;34m=\u001b[0m \u001b[0mgetattr\u001b[0m\u001b[0;34m(\u001b[0m\u001b[0mfh\u001b[0m\u001b[0;34m,\u001b[0m \u001b[0;34m'encoding'\u001b[0m\u001b[0;34m,\u001b[0m \u001b[0;34m'latin1'\u001b[0m\u001b[0;34m)\u001b[0m\u001b[0;34m\u001b[0m\u001b[0;34m\u001b[0m\u001b[0m\n\u001b[1;32m    970\u001b[0m             \u001b[0mfh\u001b[0m \u001b[0;34m=\u001b[0m \u001b[0miter\u001b[0m\u001b[0;34m(\u001b[0m\u001b[0mfh\u001b[0m\u001b[0;34m)\u001b[0m\u001b[0;34m\u001b[0m\u001b[0;34m\u001b[0m\u001b[0m\n",
      "\u001b[0;32m~/usr/anaconda3/envs/ccl_env/lib/python3.7/site-packages/numpy/lib/_datasource.py\u001b[0m in \u001b[0;36mopen\u001b[0;34m(path, mode, destpath, encoding, newline)\u001b[0m\n\u001b[1;32m    267\u001b[0m \u001b[0;34m\u001b[0m\u001b[0m\n\u001b[1;32m    268\u001b[0m     \u001b[0mds\u001b[0m \u001b[0;34m=\u001b[0m \u001b[0mDataSource\u001b[0m\u001b[0;34m(\u001b[0m\u001b[0mdestpath\u001b[0m\u001b[0;34m)\u001b[0m\u001b[0;34m\u001b[0m\u001b[0;34m\u001b[0m\u001b[0m\n\u001b[0;32m--> 269\u001b[0;31m     \u001b[0;32mreturn\u001b[0m \u001b[0mds\u001b[0m\u001b[0;34m.\u001b[0m\u001b[0mopen\u001b[0m\u001b[0;34m(\u001b[0m\u001b[0mpath\u001b[0m\u001b[0;34m,\u001b[0m \u001b[0mmode\u001b[0m\u001b[0;34m,\u001b[0m \u001b[0mencoding\u001b[0m\u001b[0;34m=\u001b[0m\u001b[0mencoding\u001b[0m\u001b[0;34m,\u001b[0m \u001b[0mnewline\u001b[0m\u001b[0;34m=\u001b[0m\u001b[0mnewline\u001b[0m\u001b[0;34m)\u001b[0m\u001b[0;34m\u001b[0m\u001b[0;34m\u001b[0m\u001b[0m\n\u001b[0m\u001b[1;32m    270\u001b[0m \u001b[0;34m\u001b[0m\u001b[0m\n\u001b[1;32m    271\u001b[0m \u001b[0;34m\u001b[0m\u001b[0m\n",
      "\u001b[0;32m~/usr/anaconda3/envs/ccl_env/lib/python3.7/site-packages/numpy/lib/_datasource.py\u001b[0m in \u001b[0;36mopen\u001b[0;34m(self, path, mode, encoding, newline)\u001b[0m\n\u001b[1;32m    621\u001b[0m                                       encoding=encoding, newline=newline)\n\u001b[1;32m    622\u001b[0m         \u001b[0;32melse\u001b[0m\u001b[0;34m:\u001b[0m\u001b[0;34m\u001b[0m\u001b[0;34m\u001b[0m\u001b[0m\n\u001b[0;32m--> 623\u001b[0;31m             \u001b[0;32mraise\u001b[0m \u001b[0mIOError\u001b[0m\u001b[0;34m(\u001b[0m\u001b[0;34m\"%s not found.\"\u001b[0m \u001b[0;34m%\u001b[0m \u001b[0mpath\u001b[0m\u001b[0;34m)\u001b[0m\u001b[0;34m\u001b[0m\u001b[0;34m\u001b[0m\u001b[0m\n\u001b[0m\u001b[1;32m    624\u001b[0m \u001b[0;34m\u001b[0m\u001b[0m\n\u001b[1;32m    625\u001b[0m \u001b[0;34m\u001b[0m\u001b[0m\n",
      "\u001b[0;31mOSError\u001b[0m: .parameters/matter_power_lin/p_k.txt not found."
     ]
    }
   ],
   "source": [
    "cosmosis_lin_pk_no_ep = np.loadtxt(\".parameters/matter_power_lin/p_k.txt\")/h3\n",
    "cosmosis_nl_pk_no_ep  = np.loadtxt(\".parameters/matter_power_nl/p_k.txt\")/h3\n",
    "cosmosis_lin_z_no_ep  = np.loadtxt(\".parameters/matter_power_lin/z.txt\")\n",
    "cosmosis_lin_k_no_ep  = np.loadtxt(\".parameters/matter_power_lin/k_h.txt\")*h"
   ]
  },
  {
   "cell_type": "code",
   "execution_count": null,
   "metadata": {},
   "outputs": [],
   "source": [
    "df_cosmosis_lin_pk_no_ep = pd.DataFrame(cosmosis_lin_pk_no_ep, index=cosmosis_lin_z_no_ep)\n",
    "df_cosmosis_lin_pk_no_ep.index.names = [\"z\"]\n",
    "df_cosmosis_lin_pk_no_ep.columns.names = [r'$k (Mpc^{-1})$']\n",
    "df_cosmosis_lin_pk_no_ep.rename(columns={i: cosmosis_lin_k_no_ep[i] for i in range(len(cosmosis_lin_k_no_ep))}, inplace=True)\n",
    "df_cosmosis_lin_pk_no_ep = df_cosmosis_lin_pk_no_ep.T"
   ]
  },
  {
   "cell_type": "code",
   "execution_count": null,
   "metadata": {},
   "outputs": [],
   "source": [
    "fig, ax7 = plt.subplots(figsize=(6,9))\n",
    "fig.canvas.layout.width = '80%'\n",
    "fig.canvas.layout.height = '450px'\n",
    "@interact(idx=(1, len(cosmosis_lin_z)))\n",
    "def plot_both(idx):\n",
    "    ax7.clear()\n",
    "    df_cosmosis_lin_pk_no_ep.iloc[:,idx-1:idx].plot(ax=ax7, loglog=True, linestyle=\"--\")\n",
    "    df_cosmosis_lin_pk.iloc[:, idx-1:idx].plot(ax=ax7, loglog=True, alpha=0.65)\n",
    "    plt.title(\"Linear P(k) COSMOSIS, fixed z\")\n",
    "    plt.ylabel(r'$P(k) (Mpc^3)$')\n",
    "    fig.subplots_adjust(bottom=0.13)\n",
    "    plt.show()"
   ]
  },
  {
   "cell_type": "code",
   "execution_count": null,
   "metadata": {},
   "outputs": [],
   "source": [
    "ks = df_cosmosis_lin_pk.index"
   ]
  },
  {
   "cell_type": "code",
   "execution_count": null,
   "metadata": {},
   "outputs": [],
   "source": [
    "interped = []\n",
    "for i in range(len(df_cosmosis_lin_pk_no_ep.values[0])):\n",
    "    interped.append(np.interp(ks, df_cosmosis_lin_pk_no_ep.index, df_cosmosis_lin_pk_no_ep.values[:, i]))\n",
    "interped = np.asarray(interped)\n",
    "interped = interped.T"
   ]
  },
  {
   "cell_type": "code",
   "execution_count": null,
   "metadata": {},
   "outputs": [],
   "source": [
    "df_cosmosis_lin_pk_no_ep_interped = pd.DataFrame(interped)\n",
    "df_cosmosis_lin_pk_interped = pd.DataFrame(df_cosmosis_lin_pk.values)"
   ]
  },
  {
   "cell_type": "code",
   "execution_count": null,
   "metadata": {},
   "outputs": [],
   "source": [
    "df_cosmosis_lin_pk_no_ep_interped.head()"
   ]
  },
  {
   "cell_type": "code",
   "execution_count": null,
   "metadata": {},
   "outputs": [],
   "source": [
    "df_cosmosis_lin_pk_interped.head()"
   ]
  },
  {
   "cell_type": "code",
   "execution_count": null,
   "metadata": {},
   "outputs": [],
   "source": [
    "fig, ax8 = plt.subplots(figsize=(6,9))\n",
    "fig.canvas.layout.width = '80%'\n",
    "fig.canvas.layout.height = '450px'\n",
    "((df_cosmosis_lin_pk_no_ep_interped.iloc[:-200, :] - df_cosmosis_lin_pk_interped.iloc[:-200, :])/df_cosmosis_lin_pk_no_ep_interped.iloc[:-200, :])\\\n",
    "    .plot(alpha=0.01, legend=False, color=\"black\", logx=True, ax=ax8)\n",
    "plt.title(\"Linear P(k) Relative Difference Extrapolate Power, all z's\")\n",
    "fig.subplots_adjust(bottom=0.13)\n",
    "plt.show()"
   ]
  },
  {
   "cell_type": "code",
   "execution_count": null,
   "metadata": {},
   "outputs": [],
   "source": []
  }
 ],
 "metadata": {
  "kernelspec": {
   "display_name": "Python [conda env:ccl_env] *",
   "language": "python",
   "name": "conda-env-ccl_env-py"
  },
  "language_info": {
   "codemirror_mode": {
    "name": "ipython",
    "version": 3
   },
   "file_extension": ".py",
   "mimetype": "text/x-python",
   "name": "python",
   "nbconvert_exporter": "python",
   "pygments_lexer": "ipython3",
   "version": "3.7.3"
  }
 },
 "nbformat": 4,
 "nbformat_minor": 4
}
