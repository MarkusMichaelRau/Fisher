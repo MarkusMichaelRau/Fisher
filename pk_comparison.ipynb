{
 "cells": [
  {
   "cell_type": "code",
   "execution_count": 1,
   "metadata": {
    "slideshow": {
     "slide_type": "skip"
    }
   },
   "outputs": [],
   "source": [
    "%matplotlib widget\n",
    "import numpy as np\n",
    "import pandas as pd\n",
    "import matplotlib.pyplot as plt\n",
    "from Fisher_Forecaster import Fisher_Forecaster\n",
    "import pyccl as ccl\n",
    "from ipywidgets import interact, interactive, fixed, interact_manual\n",
    "import ipywidgets as widgets"
   ]
  },
  {
   "cell_type": "code",
   "execution_count": 2,
   "metadata": {},
   "outputs": [],
   "source": [
    "h = 0.72\n",
    "h3 = h**3"
   ]
  },
  {
   "cell_type": "markdown",
   "metadata": {
    "slideshow": {
     "slide_type": "slide"
    }
   },
   "source": [
    "# Cosmosis P(k)"
   ]
  },
  {
   "cell_type": "code",
   "execution_count": 3,
   "metadata": {
    "slideshow": {
     "slide_type": "fragment"
    }
   },
   "outputs": [],
   "source": [
    "cosmosis_lin_pk = np.loadtxt(\"ccl_cosmosis_pk_comparison/cosmosis_matter_power_lin/p_k.txt\")/h3\n",
    "cosmosis_lin_z = np.loadtxt(\"ccl_cosmosis_pk_comparison/cosmosis_matter_power_lin/z.txt\")\n",
    "cosmosis_lin_k = np.loadtxt(\"ccl_cosmosis_pk_comparison/cosmosis_matter_power_lin/k_h.txt\")*h"
   ]
  },
  {
   "cell_type": "code",
   "execution_count": 4,
   "metadata": {
    "slideshow": {
     "slide_type": "fragment"
    }
   },
   "outputs": [],
   "source": [
    "a = 1/(1+cosmosis_lin_z) # convert to scale factor"
   ]
  },
  {
   "cell_type": "code",
   "execution_count": 5,
   "metadata": {
    "slideshow": {
     "slide_type": "fragment"
    }
   },
   "outputs": [],
   "source": [
    "cosmosis_nl_pk = np.loadtxt(\"ccl_cosmosis_pk_comparison/cosmosis_matter_power_nl/p_k.txt\")/h3\n",
    "cosmosis_nl_z = np.loadtxt(\"ccl_cosmosis_pk_comparison/cosmosis_matter_power_nl/z.txt\")\n",
    "cosmosis_nl_k = np.loadtxt(\"ccl_cosmosis_pk_comparison/cosmosis_matter_power_nl/k_h.txt\")*h"
   ]
  },
  {
   "cell_type": "code",
   "execution_count": 6,
   "metadata": {
    "slideshow": {
     "slide_type": "fragment"
    }
   },
   "outputs": [],
   "source": [
    "a_nl = 1/(1+cosmosis_nl_z)"
   ]
  },
  {
   "cell_type": "markdown",
   "metadata": {
    "slideshow": {
     "slide_type": "slide"
    }
   },
   "source": [
    "# CCL P(k)"
   ]
  },
  {
   "cell_type": "code",
   "execution_count": 7,
   "metadata": {
    "slideshow": {
     "slide_type": "fragment"
    }
   },
   "outputs": [],
   "source": [
    "probe = \"lensing\"\n",
    "bin_type = \"equal_size\"\n",
    "nbins = 5\n",
    "deriv_order = 2\n",
    "derivs_to_calc = \"all\"\n",
    "use_binned = True"
   ]
  },
  {
   "cell_type": "code",
   "execution_count": 8,
   "metadata": {
    "slideshow": {
     "slide_type": "fragment"
    }
   },
   "outputs": [],
   "source": [
    "F = Fisher_Forecaster(probe, bin_type, nbins, deriv_order, derivs_to_calc, use_binned=use_binned)"
   ]
  },
  {
   "cell_type": "code",
   "execution_count": 9,
   "metadata": {
    "slideshow": {
     "slide_type": "fragment"
    }
   },
   "outputs": [],
   "source": [
    "ccl_lin_pk = np.zeros(cosmosis_lin_pk.shape)\n",
    "for i in range(len(a)):\n",
    "    ccl_lin_pk[i] = ccl.linear_matter_power(F.cosmo, cosmosis_lin_k, a[i])"
   ]
  },
  {
   "cell_type": "code",
   "execution_count": 10,
   "metadata": {
    "slideshow": {
     "slide_type": "fragment"
    }
   },
   "outputs": [],
   "source": [
    "ccl_nl_pk = np.zeros(cosmosis_nl_pk.shape)\n",
    "for i in range(len(a_nl)):\n",
    "    ccl_nl_pk[i] = ccl.nonlin_matter_power(F.cosmo, cosmosis_nl_k, a_nl[i])"
   ]
  },
  {
   "cell_type": "markdown",
   "metadata": {},
   "source": [
    "From CCL docs:\n",
    "\n",
    "transfer function:\n",
    "‘boltzmann_camb’: use CAMB to compute the transfer function (default)\n",
    "\n",
    "matter power spectrum options\n",
    "‘halofit’: use HALOFIT (default)\n",
    "\n",
    "\n",
    "For Cosmosis, I am using boltzmann CAMB and halofit as well; perhaps the options supplied to both by default are different between the two"
   ]
  },
  {
   "cell_type": "markdown",
   "metadata": {
    "slideshow": {
     "slide_type": "slide"
    }
   },
   "source": [
    "# Plots"
   ]
  },
  {
   "cell_type": "markdown",
   "metadata": {},
   "source": [
    "### Setup Dataframes"
   ]
  },
  {
   "cell_type": "code",
   "execution_count": 11,
   "metadata": {
    "slideshow": {
     "slide_type": "skip"
    }
   },
   "outputs": [],
   "source": [
    "df_cosmosis_lin_pk = pd.DataFrame(cosmosis_lin_pk, index=cosmosis_lin_z)\n",
    "df_cosmosis_lin_pk.index.names = [\"z\"]\n",
    "df_cosmosis_lin_pk.columns.names = [r'$k (Mpc^{-1})$']\n",
    "df_cosmosis_lin_pk.rename(columns={i: cosmosis_lin_k[i] for i in range(len(cosmosis_lin_k))}, inplace=True)\n",
    "df_cosmosis_lin_pk = df_cosmosis_lin_pk.T"
   ]
  },
  {
   "cell_type": "code",
   "execution_count": 12,
   "metadata": {
    "slideshow": {
     "slide_type": "skip"
    }
   },
   "outputs": [],
   "source": [
    "df_ccl_lin_pk = pd.DataFrame(ccl_lin_pk, index=cosmosis_lin_z)\n",
    "df_ccl_lin_pk.index.names = [\"z\"]\n",
    "df_ccl_lin_pk.columns.names = [r'$k (Mpc^{-1})$']\n",
    "df_ccl_lin_pk.rename(columns={i: cosmosis_lin_k[i] for i in range(len(cosmosis_lin_k))}, inplace=True)\n",
    "df_ccl_lin_pk = df_ccl_lin_pk.T"
   ]
  },
  {
   "cell_type": "code",
   "execution_count": 13,
   "metadata": {
    "slideshow": {
     "slide_type": "skip"
    }
   },
   "outputs": [],
   "source": [
    "df_cosmosis_nl_pk = pd.DataFrame(cosmosis_nl_pk, index=cosmosis_nl_z)\n",
    "df_cosmosis_nl_pk.index.names = [\"z\"]\n",
    "df_cosmosis_nl_pk.columns.names = [r'$k (Mpc^{-1})$']\n",
    "df_cosmosis_nl_pk.rename(columns={i: cosmosis_nl_k[i] for i in range(len(cosmosis_nl_k))}, inplace=True)\n",
    "df_cosmosis_nl_pk = df_cosmosis_nl_pk.T"
   ]
  },
  {
   "cell_type": "code",
   "execution_count": 14,
   "metadata": {
    "slideshow": {
     "slide_type": "skip"
    }
   },
   "outputs": [],
   "source": [
    "df_ccl_nl_pk = pd.DataFrame(ccl_nl_pk, index=cosmosis_nl_z)\n",
    "df_ccl_nl_pk.index.names = [\"z\"]\n",
    "df_ccl_nl_pk.columns.names = [r'$k (Mpc^{-1})$']\n",
    "df_ccl_nl_pk.rename(columns={i: cosmosis_nl_k[i] for i in range(len(cosmosis_nl_k))}, inplace=True)\n",
    "df_ccl_nl_pk = df_ccl_nl_pk.T"
   ]
  },
  {
   "cell_type": "markdown",
   "metadata": {
    "slideshow": {
     "slide_type": "slide"
    }
   },
   "source": [
    "### Linear P(k)"
   ]
  },
  {
   "cell_type": "code",
   "execution_count": 15,
   "metadata": {
    "scrolled": false,
    "slideshow": {
     "slide_type": "fragment"
    }
   },
   "outputs": [
    {
     "data": {
      "application/vnd.jupyter.widget-view+json": {
       "model_id": "b6332834b6ce4df286736c10b10ed703",
       "version_major": 2,
       "version_minor": 0
      },
      "text/plain": [
       "Canvas(toolbar=Toolbar(toolitems=[('Home', 'Reset original view', 'home', 'home'), ('Back', 'Back to previous …"
      ]
     },
     "metadata": {},
     "output_type": "display_data"
    },
    {
     "data": {
      "application/vnd.jupyter.widget-view+json": {
       "model_id": "eb7187d085794a1393eca834437864d0",
       "version_major": 2,
       "version_minor": 0
      },
      "text/plain": [
       "interactive(children=(IntSlider(value=51, description='idx', max=101, min=1), Output()), _dom_classes=('widget…"
      ]
     },
     "metadata": {},
     "output_type": "display_data"
    }
   ],
   "source": [
    "fig, ax1 = plt.subplots(figsize=(6,9))\n",
    "fig.canvas.layout.width = '80%'\n",
    "fig.canvas.layout.height = '450px'\n",
    "@interact(idx=(1, len(cosmosis_lin_z)))\n",
    "def plot_rel_diff(idx):\n",
    "    ax1.clear()\n",
    "    ((df_cosmosis_lin_pk.iloc[:,idx-1:idx] - df_ccl_lin_pk.iloc[:, idx-1:idx])/\\\n",
    "     df_ccl_lin_pk.iloc[:, idx-1:idx]).plot(ax=ax1, logx=True)\n",
    "    plt.title(\"Linear P(k) Relative Difference, fixed z\")\n",
    "    fig.subplots_adjust(bottom=0.13)\n",
    "    plt.show()"
   ]
  },
  {
   "cell_type": "code",
   "execution_count": 16,
   "metadata": {
    "scrolled": false,
    "slideshow": {
     "slide_type": "subslide"
    }
   },
   "outputs": [
    {
     "data": {
      "application/vnd.jupyter.widget-view+json": {
       "model_id": "610119d74a3b4cc783d128783f0ee6ac",
       "version_major": 2,
       "version_minor": 0
      },
      "text/plain": [
       "Canvas(toolbar=Toolbar(toolitems=[('Home', 'Reset original view', 'home', 'home'), ('Back', 'Back to previous …"
      ]
     },
     "metadata": {},
     "output_type": "display_data"
    }
   ],
   "source": [
    "fig, ax2 = plt.subplots(figsize=(6,9))\n",
    "fig.canvas.layout.width = '80%'\n",
    "fig.canvas.layout.height = '450px'\n",
    "((df_cosmosis_lin_pk - df_ccl_lin_pk)/df_ccl_lin_pk)\\\n",
    "    .plot(alpha=0.01, legend=False, color=\"black\", logx=True, ax=ax2)\n",
    "plt.title(\"Linear P(k) Relative Difference, all z's\")\n",
    "fig.subplots_adjust(bottom=0.13)\n",
    "plt.show()"
   ]
  },
  {
   "cell_type": "code",
   "execution_count": 17,
   "metadata": {},
   "outputs": [
    {
     "data": {
      "application/vnd.jupyter.widget-view+json": {
       "model_id": "0a66508bc3b04dca8690224389a15f38",
       "version_major": 2,
       "version_minor": 0
      },
      "text/plain": [
       "Canvas(toolbar=Toolbar(toolitems=[('Home', 'Reset original view', 'home', 'home'), ('Back', 'Back to previous …"
      ]
     },
     "metadata": {},
     "output_type": "display_data"
    },
    {
     "data": {
      "application/vnd.jupyter.widget-view+json": {
       "model_id": "da03d148e62447d280fcd43e891709ae",
       "version_major": 2,
       "version_minor": 0
      },
      "text/plain": [
       "interactive(children=(IntSlider(value=51, description='idx', max=101, min=1), Output()), _dom_classes=('widget…"
      ]
     },
     "metadata": {},
     "output_type": "display_data"
    }
   ],
   "source": [
    "fig, ax3 = plt.subplots(figsize=(6,9))\n",
    "fig.canvas.layout.width = '80%'\n",
    "fig.canvas.layout.height = '450px'\n",
    "@interact(idx=(1, len(cosmosis_lin_z)))\n",
    "def plot_both(idx):\n",
    "    ax3.clear()\n",
    "    df_cosmosis_lin_pk.iloc[:,idx-1:idx].plot(ax=ax3, loglog=True)\n",
    "    df_ccl_lin_pk.iloc[:, idx-1:idx].plot(ax=ax3, loglog=True)\n",
    "    plt.title(\"Linear P(k) Both CCL and COSMOSIS, fixed z\")\n",
    "    plt.ylabel(r'$P(k) (Mpc^3)$')\n",
    "    fig.subplots_adjust(bottom=0.13)\n",
    "    plt.show()"
   ]
  },
  {
   "cell_type": "markdown",
   "metadata": {
    "slideshow": {
     "slide_type": "slide"
    }
   },
   "source": [
    "### Nonlinear P(k)"
   ]
  },
  {
   "cell_type": "code",
   "execution_count": 18,
   "metadata": {
    "scrolled": false,
    "slideshow": {
     "slide_type": "fragment"
    }
   },
   "outputs": [
    {
     "data": {
      "application/vnd.jupyter.widget-view+json": {
       "model_id": "5cc8aec96aea45a0b0230687e30cc2e7",
       "version_major": 2,
       "version_minor": 0
      },
      "text/plain": [
       "Canvas(toolbar=Toolbar(toolitems=[('Home', 'Reset original view', 'home', 'home'), ('Back', 'Back to previous …"
      ]
     },
     "metadata": {},
     "output_type": "display_data"
    },
    {
     "data": {
      "application/vnd.jupyter.widget-view+json": {
       "model_id": "f8f717a63d0b486bb069ab522207e42a",
       "version_major": 2,
       "version_minor": 0
      },
      "text/plain": [
       "interactive(children=(IntSlider(value=51, description='idx', max=101, min=1), Output()), _dom_classes=('widget…"
      ]
     },
     "metadata": {},
     "output_type": "display_data"
    }
   ],
   "source": [
    "fig, ax4 = plt.subplots(figsize=(6,9))\n",
    "fig.canvas.layout.width = '80%'\n",
    "fig.canvas.layout.height = '450px'\n",
    "@interact(idx=(1, len(cosmosis_nl_z)))\n",
    "def plot_rel_diff(idx):\n",
    "    ax4.clear()\n",
    "    ((df_cosmosis_nl_pk.iloc[:,idx-1:idx] - df_ccl_nl_pk.iloc[:, idx-1:idx])/\\\n",
    "     df_ccl_nl_pk.iloc[:, idx-1:idx]).plot(ax=ax4, logx=True)\n",
    "    plt.title(\"Non Linear P(k) Relative Difference, fixed z\")\n",
    "    fig.subplots_adjust(bottom=0.13)\n",
    "    plt.show()"
   ]
  },
  {
   "cell_type": "code",
   "execution_count": 19,
   "metadata": {
    "scrolled": false,
    "slideshow": {
     "slide_type": "subslide"
    }
   },
   "outputs": [
    {
     "data": {
      "application/vnd.jupyter.widget-view+json": {
       "model_id": "eca58ddfdec847e8ab8767715aa0dd3f",
       "version_major": 2,
       "version_minor": 0
      },
      "text/plain": [
       "Canvas(toolbar=Toolbar(toolitems=[('Home', 'Reset original view', 'home', 'home'), ('Back', 'Back to previous …"
      ]
     },
     "metadata": {},
     "output_type": "display_data"
    }
   ],
   "source": [
    "fig, ax5 = plt.subplots(figsize=(6,9))\n",
    "fig.canvas.layout.width = '80%'\n",
    "fig.canvas.layout.height = '450px'\n",
    "((df_cosmosis_nl_pk - df_ccl_nl_pk)/df_ccl_nl_pk)\\\n",
    "    .plot(alpha=0.01, legend=False, color=\"black\", logx=True, ax=ax5)\n",
    "plt.title(\"Non Linear P(k) Relative Difference, all z's\")\n",
    "fig.subplots_adjust(bottom=0.13)\n",
    "plt.show()"
   ]
  },
  {
   "cell_type": "code",
   "execution_count": 21,
   "metadata": {},
   "outputs": [
    {
     "data": {
      "application/vnd.jupyter.widget-view+json": {
       "model_id": "ca004b58729d4fa59e10b8923973a17b",
       "version_major": 2,
       "version_minor": 0
      },
      "text/plain": [
       "Canvas(toolbar=Toolbar(toolitems=[('Home', 'Reset original view', 'home', 'home'), ('Back', 'Back to previous …"
      ]
     },
     "metadata": {},
     "output_type": "display_data"
    },
    {
     "data": {
      "application/vnd.jupyter.widget-view+json": {
       "model_id": "e8d0c369bd96442e8c7d49a454010cf4",
       "version_major": 2,
       "version_minor": 0
      },
      "text/plain": [
       "interactive(children=(IntSlider(value=51, description='idx', max=101, min=1), Output()), _dom_classes=('widget…"
      ]
     },
     "metadata": {},
     "output_type": "display_data"
    }
   ],
   "source": [
    "fig, ax6 = plt.subplots(figsize=(6,9))\n",
    "fig.canvas.layout.width = '80%'\n",
    "fig.canvas.layout.height = '450px'\n",
    "@interact(idx=(1, len(cosmosis_lin_z)))\n",
    "def plot_both(idx):\n",
    "    ax6.clear()\n",
    "    df_cosmosis_nl_pk.iloc[:,idx-1:idx].plot(ax=ax6, loglog=True)\n",
    "    df_ccl_nl_pk.iloc[:, idx-1:idx].plot(ax=ax6, loglog=True)\n",
    "    plt.title(\"Non Linear P(k) Both CCL and COSMOSIS, fixed z\")\n",
    "    plt.ylabel(r'$P(k) (Mpc^3)$')\n",
    "    fig.subplots_adjust(bottom=0.13)\n",
    "    plt.show()"
   ]
  },
  {
   "cell_type": "code",
   "execution_count": null,
   "metadata": {},
   "outputs": [],
   "source": []
  }
 ],
 "metadata": {
  "kernelspec": {
   "display_name": "Python [conda env:ccl_env] *",
   "language": "python",
   "name": "conda-env-ccl_env-py"
  },
  "language_info": {
   "codemirror_mode": {
    "name": "ipython",
    "version": 3
   },
   "file_extension": ".py",
   "mimetype": "text/x-python",
   "name": "python",
   "nbconvert_exporter": "python",
   "pygments_lexer": "ipython3",
   "version": "3.7.3"
  }
 },
 "nbformat": 4,
 "nbformat_minor": 4
}
