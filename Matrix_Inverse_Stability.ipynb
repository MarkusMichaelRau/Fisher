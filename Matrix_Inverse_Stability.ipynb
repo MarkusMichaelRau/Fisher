{
 "cells": [
  {
   "cell_type": "markdown",
   "metadata": {},
   "source": [
    "# Matrix Inversion Stability\n",
    "\n",
    "This notebook is to investigate how relative differences between two matrices with similar values compare to the relative differences between their corresponding inverses. offhand it may appear that such matrices should have inverses that are roughly \"as close\" as the original matrices but since maytrix inversion is not a linear transformation, this is not guaranteed. Recall that for a matrix $A$,\n",
    "$$\n",
    "A^{-1} = \\frac{1}{\\det(A)}\\text{adj}(A) \n",
    "$$\n",
    "where $\\text{adj}(A)$, the adjugate of A, is the transpose of the cofactor matrix of $A$, "
   ]
  },
  {
   "cell_type": "code",
   "execution_count": 1,
   "metadata": {},
   "outputs": [],
   "source": [
    "import numpy as np\n",
    "import pandas as pd\n",
    "import scipy as sp\n",
    "import matplotlib.pyplot as plt\n",
    "import seaborn as sns"
   ]
  },
  {
   "cell_type": "code",
   "execution_count": 2,
   "metadata": {},
   "outputs": [],
   "source": [
    "cmap=sns.diverging_palette(5, 250, as_cmap=True)"
   ]
  },
  {
   "cell_type": "markdown",
   "metadata": {},
   "source": [
    "## Simple $3\\times3$ matrix"
   ]
  },
  {
   "cell_type": "markdown",
   "metadata": {},
   "source": [
    "### Setup an invertible matrix and its inverse"
   ]
  },
  {
   "cell_type": "code",
   "execution_count": 3,
   "metadata": {},
   "outputs": [],
   "source": [
    "m = pd.DataFrame(np.array([[1,1,1],[1,-2,2],[1,2,-3]]))\n",
    "m_inv = pd.DataFrame(np.linalg.inv(m.values))"
   ]
  },
  {
   "cell_type": "code",
   "execution_count": 4,
   "metadata": {},
   "outputs": [
    {
     "data": {
      "text/html": [
       "<div>\n",
       "<style scoped>\n",
       "    .dataframe tbody tr th:only-of-type {\n",
       "        vertical-align: middle;\n",
       "    }\n",
       "\n",
       "    .dataframe tbody tr th {\n",
       "        vertical-align: top;\n",
       "    }\n",
       "\n",
       "    .dataframe thead th {\n",
       "        text-align: right;\n",
       "    }\n",
       "</style>\n",
       "<table border=\"1\" class=\"dataframe\">\n",
       "  <thead>\n",
       "    <tr style=\"text-align: right;\">\n",
       "      <th></th>\n",
       "      <th>0</th>\n",
       "      <th>1</th>\n",
       "      <th>2</th>\n",
       "    </tr>\n",
       "  </thead>\n",
       "  <tbody>\n",
       "    <tr>\n",
       "      <th>0</th>\n",
       "      <td>1</td>\n",
       "      <td>1</td>\n",
       "      <td>1</td>\n",
       "    </tr>\n",
       "    <tr>\n",
       "      <th>1</th>\n",
       "      <td>1</td>\n",
       "      <td>-2</td>\n",
       "      <td>2</td>\n",
       "    </tr>\n",
       "    <tr>\n",
       "      <th>2</th>\n",
       "      <td>1</td>\n",
       "      <td>2</td>\n",
       "      <td>-3</td>\n",
       "    </tr>\n",
       "  </tbody>\n",
       "</table>\n",
       "</div>"
      ],
      "text/plain": [
       "   0  1  2\n",
       "0  1  1  1\n",
       "1  1 -2  2\n",
       "2  1  2 -3"
      ]
     },
     "execution_count": 4,
     "metadata": {},
     "output_type": "execute_result"
    }
   ],
   "source": [
    "m"
   ]
  },
  {
   "cell_type": "code",
   "execution_count": 5,
   "metadata": {},
   "outputs": [
    {
     "data": {
      "text/html": [
       "<div>\n",
       "<style scoped>\n",
       "    .dataframe tbody tr th:only-of-type {\n",
       "        vertical-align: middle;\n",
       "    }\n",
       "\n",
       "    .dataframe tbody tr th {\n",
       "        vertical-align: top;\n",
       "    }\n",
       "\n",
       "    .dataframe thead th {\n",
       "        text-align: right;\n",
       "    }\n",
       "</style>\n",
       "<table border=\"1\" class=\"dataframe\">\n",
       "  <thead>\n",
       "    <tr style=\"text-align: right;\">\n",
       "      <th></th>\n",
       "      <th>0</th>\n",
       "      <th>1</th>\n",
       "      <th>2</th>\n",
       "    </tr>\n",
       "  </thead>\n",
       "  <tbody>\n",
       "    <tr>\n",
       "      <th>0</th>\n",
       "      <td>0.181818</td>\n",
       "      <td>0.454545</td>\n",
       "      <td>0.363636</td>\n",
       "    </tr>\n",
       "    <tr>\n",
       "      <th>1</th>\n",
       "      <td>0.454545</td>\n",
       "      <td>-0.363636</td>\n",
       "      <td>-0.090909</td>\n",
       "    </tr>\n",
       "    <tr>\n",
       "      <th>2</th>\n",
       "      <td>0.363636</td>\n",
       "      <td>-0.090909</td>\n",
       "      <td>-0.272727</td>\n",
       "    </tr>\n",
       "  </tbody>\n",
       "</table>\n",
       "</div>"
      ],
      "text/plain": [
       "          0         1         2\n",
       "0  0.181818  0.454545  0.363636\n",
       "1  0.454545 -0.363636 -0.090909\n",
       "2  0.363636 -0.090909 -0.272727"
      ]
     },
     "execution_count": 5,
     "metadata": {},
     "output_type": "execute_result"
    }
   ],
   "source": [
    "m_inv"
   ]
  },
  {
   "cell_type": "markdown",
   "metadata": {},
   "source": [
    "Check that $m \\times m^{-1} = 1$"
   ]
  },
  {
   "cell_type": "code",
   "execution_count": 6,
   "metadata": {},
   "outputs": [
    {
     "data": {
      "text/html": [
       "<div>\n",
       "<style scoped>\n",
       "    .dataframe tbody tr th:only-of-type {\n",
       "        vertical-align: middle;\n",
       "    }\n",
       "\n",
       "    .dataframe tbody tr th {\n",
       "        vertical-align: top;\n",
       "    }\n",
       "\n",
       "    .dataframe thead th {\n",
       "        text-align: right;\n",
       "    }\n",
       "</style>\n",
       "<table border=\"1\" class=\"dataframe\">\n",
       "  <thead>\n",
       "    <tr style=\"text-align: right;\">\n",
       "      <th></th>\n",
       "      <th>0</th>\n",
       "      <th>1</th>\n",
       "      <th>2</th>\n",
       "    </tr>\n",
       "  </thead>\n",
       "  <tbody>\n",
       "    <tr>\n",
       "      <th>0</th>\n",
       "      <td>1.000000e+00</td>\n",
       "      <td>-1.387779e-17</td>\n",
       "      <td>0.0</td>\n",
       "    </tr>\n",
       "    <tr>\n",
       "      <th>1</th>\n",
       "      <td>2.220446e-16</td>\n",
       "      <td>1.000000e+00</td>\n",
       "      <td>0.0</td>\n",
       "    </tr>\n",
       "    <tr>\n",
       "      <th>2</th>\n",
       "      <td>5.551115e-17</td>\n",
       "      <td>-1.387779e-17</td>\n",
       "      <td>1.0</td>\n",
       "    </tr>\n",
       "  </tbody>\n",
       "</table>\n",
       "</div>"
      ],
      "text/plain": [
       "              0             1    2\n",
       "0  1.000000e+00 -1.387779e-17  0.0\n",
       "1  2.220446e-16  1.000000e+00  0.0\n",
       "2  5.551115e-17 -1.387779e-17  1.0"
      ]
     },
     "execution_count": 6,
     "metadata": {},
     "output_type": "execute_result"
    }
   ],
   "source": [
    "m.dot(m_inv)"
   ]
  },
  {
   "cell_type": "markdown",
   "metadata": {},
   "source": [
    "### Add small perturbations to entries"
   ]
  },
  {
   "cell_type": "code",
   "execution_count": 7,
   "metadata": {},
   "outputs": [],
   "source": [
    "delta = 0.001\n",
    "m2 = m.copy()"
   ]
  },
  {
   "cell_type": "code",
   "execution_count": 8,
   "metadata": {
    "scrolled": true
   },
   "outputs": [],
   "source": [
    "for i in range(3):\n",
    "    for j in range(3):\n",
    "        if (i+j)%2:\n",
    "            m2.iloc[i, j] += delta*m.iloc[i, j]\n",
    "        else:\n",
    "            m2.iloc[i, j] -= delta*m.iloc[i, j]\n",
    "m2_inv = pd.DataFrame(np.linalg.inv(m2.values))"
   ]
  },
  {
   "cell_type": "code",
   "execution_count": 9,
   "metadata": {},
   "outputs": [
    {
     "data": {
      "text/html": [
       "<div>\n",
       "<style scoped>\n",
       "    .dataframe tbody tr th:only-of-type {\n",
       "        vertical-align: middle;\n",
       "    }\n",
       "\n",
       "    .dataframe tbody tr th {\n",
       "        vertical-align: top;\n",
       "    }\n",
       "\n",
       "    .dataframe thead th {\n",
       "        text-align: right;\n",
       "    }\n",
       "</style>\n",
       "<table border=\"1\" class=\"dataframe\">\n",
       "  <thead>\n",
       "    <tr style=\"text-align: right;\">\n",
       "      <th></th>\n",
       "      <th>0</th>\n",
       "      <th>1</th>\n",
       "      <th>2</th>\n",
       "    </tr>\n",
       "  </thead>\n",
       "  <tbody>\n",
       "    <tr>\n",
       "      <th>0</th>\n",
       "      <td>0.999</td>\n",
       "      <td>1.001</td>\n",
       "      <td>0.999</td>\n",
       "    </tr>\n",
       "    <tr>\n",
       "      <th>1</th>\n",
       "      <td>1.001</td>\n",
       "      <td>-1.998</td>\n",
       "      <td>2.002</td>\n",
       "    </tr>\n",
       "    <tr>\n",
       "      <th>2</th>\n",
       "      <td>0.999</td>\n",
       "      <td>2.002</td>\n",
       "      <td>-2.997</td>\n",
       "    </tr>\n",
       "  </tbody>\n",
       "</table>\n",
       "</div>"
      ],
      "text/plain": [
       "       0      1      2\n",
       "0  0.999  1.001  0.999\n",
       "1  1.001 -1.998  2.002\n",
       "2  0.999  2.002 -2.997"
      ]
     },
     "execution_count": 9,
     "metadata": {},
     "output_type": "execute_result"
    }
   ],
   "source": [
    "m2"
   ]
  },
  {
   "cell_type": "code",
   "execution_count": 10,
   "metadata": {},
   "outputs": [
    {
     "data": {
      "text/html": [
       "<div>\n",
       "<style scoped>\n",
       "    .dataframe tbody tr th:only-of-type {\n",
       "        vertical-align: middle;\n",
       "    }\n",
       "\n",
       "    .dataframe tbody tr th {\n",
       "        vertical-align: top;\n",
       "    }\n",
       "\n",
       "    .dataframe thead th {\n",
       "        text-align: right;\n",
       "    }\n",
       "</style>\n",
       "<table border=\"1\" class=\"dataframe\">\n",
       "  <thead>\n",
       "    <tr style=\"text-align: right;\">\n",
       "      <th></th>\n",
       "      <th>0</th>\n",
       "      <th>1</th>\n",
       "      <th>2</th>\n",
       "    </tr>\n",
       "  </thead>\n",
       "  <tbody>\n",
       "    <tr>\n",
       "      <th>0</th>\n",
       "      <td>0.180344</td>\n",
       "      <td>0.455414</td>\n",
       "      <td>0.364332</td>\n",
       "    </tr>\n",
       "    <tr>\n",
       "      <th>1</th>\n",
       "      <td>0.455414</td>\n",
       "      <td>-0.363603</td>\n",
       "      <td>-0.091083</td>\n",
       "    </tr>\n",
       "    <tr>\n",
       "      <th>2</th>\n",
       "      <td>0.364332</td>\n",
       "      <td>-0.091083</td>\n",
       "      <td>-0.273067</td>\n",
       "    </tr>\n",
       "  </tbody>\n",
       "</table>\n",
       "</div>"
      ],
      "text/plain": [
       "          0         1         2\n",
       "0  0.180344  0.455414  0.364332\n",
       "1  0.455414 -0.363603 -0.091083\n",
       "2  0.364332 -0.091083 -0.273067"
      ]
     },
     "execution_count": 10,
     "metadata": {},
     "output_type": "execute_result"
    }
   ],
   "source": [
    "m2_inv"
   ]
  },
  {
   "cell_type": "markdown",
   "metadata": {},
   "source": [
    "### Check relative differences in $m$ and $m^{-1}$"
   ]
  },
  {
   "cell_type": "code",
   "execution_count": 11,
   "metadata": {},
   "outputs": [
    {
     "data": {
      "text/html": [
       "<style  type=\"text/css\" >\n",
       "    #T_060d1d5a_4e6d_11ea_9e8f_549f3515a0bcrow0_col0 {\n",
       "            background-color:  #d73c5b;\n",
       "            color:  #f1f1f1;\n",
       "        }    #T_060d1d5a_4e6d_11ea_9e8f_549f3515a0bcrow0_col1 {\n",
       "            background-color:  #4479bb;\n",
       "            color:  #000000;\n",
       "        }    #T_060d1d5a_4e6d_11ea_9e8f_549f3515a0bcrow0_col2 {\n",
       "            background-color:  #d73c5b;\n",
       "            color:  #f1f1f1;\n",
       "        }    #T_060d1d5a_4e6d_11ea_9e8f_549f3515a0bcrow1_col0 {\n",
       "            background-color:  #4479bb;\n",
       "            color:  #000000;\n",
       "        }    #T_060d1d5a_4e6d_11ea_9e8f_549f3515a0bcrow1_col1 {\n",
       "            background-color:  #d73c5b;\n",
       "            color:  #f1f1f1;\n",
       "        }    #T_060d1d5a_4e6d_11ea_9e8f_549f3515a0bcrow1_col2 {\n",
       "            background-color:  #4479bb;\n",
       "            color:  #000000;\n",
       "        }    #T_060d1d5a_4e6d_11ea_9e8f_549f3515a0bcrow2_col0 {\n",
       "            background-color:  #d73c5b;\n",
       "            color:  #f1f1f1;\n",
       "        }    #T_060d1d5a_4e6d_11ea_9e8f_549f3515a0bcrow2_col1 {\n",
       "            background-color:  #4479bb;\n",
       "            color:  #000000;\n",
       "        }    #T_060d1d5a_4e6d_11ea_9e8f_549f3515a0bcrow2_col2 {\n",
       "            background-color:  #d73c5b;\n",
       "            color:  #f1f1f1;\n",
       "        }</style><table id=\"T_060d1d5a_4e6d_11ea_9e8f_549f3515a0bc\" ><thead>    <tr>        <th class=\"blank level0\" ></th>        <th class=\"col_heading level0 col0\" >0</th>        <th class=\"col_heading level0 col1\" >1</th>        <th class=\"col_heading level0 col2\" >2</th>    </tr></thead><tbody>\n",
       "                <tr>\n",
       "                        <th id=\"T_060d1d5a_4e6d_11ea_9e8f_549f3515a0bclevel0_row0\" class=\"row_heading level0 row0\" >0</th>\n",
       "                        <td id=\"T_060d1d5a_4e6d_11ea_9e8f_549f3515a0bcrow0_col0\" class=\"data row0 col0\" >-0.001</td>\n",
       "                        <td id=\"T_060d1d5a_4e6d_11ea_9e8f_549f3515a0bcrow0_col1\" class=\"data row0 col1\" >0.001</td>\n",
       "                        <td id=\"T_060d1d5a_4e6d_11ea_9e8f_549f3515a0bcrow0_col2\" class=\"data row0 col2\" >-0.001</td>\n",
       "            </tr>\n",
       "            <tr>\n",
       "                        <th id=\"T_060d1d5a_4e6d_11ea_9e8f_549f3515a0bclevel0_row1\" class=\"row_heading level0 row1\" >1</th>\n",
       "                        <td id=\"T_060d1d5a_4e6d_11ea_9e8f_549f3515a0bcrow1_col0\" class=\"data row1 col0\" >0.001</td>\n",
       "                        <td id=\"T_060d1d5a_4e6d_11ea_9e8f_549f3515a0bcrow1_col1\" class=\"data row1 col1\" >-0.001</td>\n",
       "                        <td id=\"T_060d1d5a_4e6d_11ea_9e8f_549f3515a0bcrow1_col2\" class=\"data row1 col2\" >0.001</td>\n",
       "            </tr>\n",
       "            <tr>\n",
       "                        <th id=\"T_060d1d5a_4e6d_11ea_9e8f_549f3515a0bclevel0_row2\" class=\"row_heading level0 row2\" >2</th>\n",
       "                        <td id=\"T_060d1d5a_4e6d_11ea_9e8f_549f3515a0bcrow2_col0\" class=\"data row2 col0\" >-0.001</td>\n",
       "                        <td id=\"T_060d1d5a_4e6d_11ea_9e8f_549f3515a0bcrow2_col1\" class=\"data row2 col1\" >0.001</td>\n",
       "                        <td id=\"T_060d1d5a_4e6d_11ea_9e8f_549f3515a0bcrow2_col2\" class=\"data row2 col2\" >-0.001</td>\n",
       "            </tr>\n",
       "    </tbody></table>"
      ],
      "text/plain": [
       "<pandas.io.formats.style.Styler at 0x2b99a8cda828>"
      ]
     },
     "execution_count": 11,
     "metadata": {},
     "output_type": "execute_result"
    }
   ],
   "source": [
    "((m2-m)/m).style.background_gradient(cmap=cmap, axis=None)"
   ]
  },
  {
   "cell_type": "code",
   "execution_count": 12,
   "metadata": {},
   "outputs": [
    {
     "data": {
      "text/html": [
       "<style  type=\"text/css\" >\n",
       "    #T_06105eac_4e6d_11ea_9e8f_549f3515a0bcrow0_col0 {\n",
       "            background-color:  #d73c5b;\n",
       "            color:  #f1f1f1;\n",
       "        }    #T_06105eac_4e6d_11ea_9e8f_549f3515a0bcrow0_col1 {\n",
       "            background-color:  #4479bb;\n",
       "            color:  #000000;\n",
       "        }    #T_06105eac_4e6d_11ea_9e8f_549f3515a0bcrow0_col2 {\n",
       "            background-color:  #4479bb;\n",
       "            color:  #000000;\n",
       "        }    #T_06105eac_4e6d_11ea_9e8f_549f3515a0bcrow1_col0 {\n",
       "            background-color:  #4479bb;\n",
       "            color:  #000000;\n",
       "        }    #T_06105eac_4e6d_11ea_9e8f_549f3515a0bcrow1_col1 {\n",
       "            background-color:  #8babd4;\n",
       "            color:  #000000;\n",
       "        }    #T_06105eac_4e6d_11ea_9e8f_549f3515a0bcrow1_col2 {\n",
       "            background-color:  #4479bb;\n",
       "            color:  #000000;\n",
       "        }    #T_06105eac_4e6d_11ea_9e8f_549f3515a0bcrow2_col0 {\n",
       "            background-color:  #4479bb;\n",
       "            color:  #000000;\n",
       "        }    #T_06105eac_4e6d_11ea_9e8f_549f3515a0bcrow2_col1 {\n",
       "            background-color:  #4479bb;\n",
       "            color:  #000000;\n",
       "        }    #T_06105eac_4e6d_11ea_9e8f_549f3515a0bcrow2_col2 {\n",
       "            background-color:  #5b89c3;\n",
       "            color:  #000000;\n",
       "        }</style><table id=\"T_06105eac_4e6d_11ea_9e8f_549f3515a0bc\" ><thead>    <tr>        <th class=\"blank level0\" ></th>        <th class=\"col_heading level0 col0\" >0</th>        <th class=\"col_heading level0 col1\" >1</th>        <th class=\"col_heading level0 col2\" >2</th>    </tr></thead><tbody>\n",
       "                <tr>\n",
       "                        <th id=\"T_06105eac_4e6d_11ea_9e8f_549f3515a0bclevel0_row0\" class=\"row_heading level0 row0\" >0</th>\n",
       "                        <td id=\"T_06105eac_4e6d_11ea_9e8f_549f3515a0bcrow0_col0\" class=\"data row0 col0\" >-0.00810728</td>\n",
       "                        <td id=\"T_06105eac_4e6d_11ea_9e8f_549f3515a0bcrow0_col1\" class=\"data row0 col1\" >0.00190983</td>\n",
       "                        <td id=\"T_06105eac_4e6d_11ea_9e8f_549f3515a0bcrow0_col2\" class=\"data row0 col2\" >0.00191183</td>\n",
       "            </tr>\n",
       "            <tr>\n",
       "                        <th id=\"T_06105eac_4e6d_11ea_9e8f_549f3515a0bclevel0_row1\" class=\"row_heading level0 row1\" >1</th>\n",
       "                        <td id=\"T_06105eac_4e6d_11ea_9e8f_549f3515a0bcrow1_col0\" class=\"data row1 col0\" >0.00190983</td>\n",
       "                        <td id=\"T_06105eac_4e6d_11ea_9e8f_549f3515a0bcrow1_col1\" class=\"data row1 col1\" >-9.19926e-05</td>\n",
       "                        <td id=\"T_06105eac_4e6d_11ea_9e8f_549f3515a0bcrow1_col2\" class=\"data row1 col2\" >0.00190983</td>\n",
       "            </tr>\n",
       "            <tr>\n",
       "                        <th id=\"T_06105eac_4e6d_11ea_9e8f_549f3515a0bclevel0_row2\" class=\"row_heading level0 row2\" >2</th>\n",
       "                        <td id=\"T_06105eac_4e6d_11ea_9e8f_549f3515a0bcrow2_col0\" class=\"data row2 col0\" >0.00191183</td>\n",
       "                        <td id=\"T_06105eac_4e6d_11ea_9e8f_549f3515a0bcrow2_col1\" class=\"data row2 col1\" >0.00190983</td>\n",
       "                        <td id=\"T_06105eac_4e6d_11ea_9e8f_549f3515a0bcrow2_col2\" class=\"data row2 col2\" >0.00124389</td>\n",
       "            </tr>\n",
       "    </tbody></table>"
      ],
      "text/plain": [
       "<pandas.io.formats.style.Styler at 0x2b99ab294d68>"
      ]
     },
     "execution_count": 12,
     "metadata": {},
     "output_type": "execute_result"
    }
   ],
   "source": [
    "((m2_inv - m_inv)/m_inv).style.background_gradient(cmap=cmap, axis=None)"
   ]
  },
  {
   "cell_type": "markdown",
   "metadata": {},
   "source": [
    "## Simple $4\\times4$ matrix"
   ]
  },
  {
   "cell_type": "markdown",
   "metadata": {},
   "source": [
    "### Setup an invertible matrix and its inverse"
   ]
  },
  {
   "cell_type": "code",
   "execution_count": 13,
   "metadata": {},
   "outputs": [],
   "source": [
    "m = pd.DataFrame(np.array([[1,1,1,-1],[1,1,-1,1],[1,-1,1,1],[-1,1,1,1]]))\n",
    "m_inv = pd.DataFrame(np.linalg.inv(m.values))"
   ]
  },
  {
   "cell_type": "code",
   "execution_count": 14,
   "metadata": {},
   "outputs": [
    {
     "data": {
      "text/html": [
       "<div>\n",
       "<style scoped>\n",
       "    .dataframe tbody tr th:only-of-type {\n",
       "        vertical-align: middle;\n",
       "    }\n",
       "\n",
       "    .dataframe tbody tr th {\n",
       "        vertical-align: top;\n",
       "    }\n",
       "\n",
       "    .dataframe thead th {\n",
       "        text-align: right;\n",
       "    }\n",
       "</style>\n",
       "<table border=\"1\" class=\"dataframe\">\n",
       "  <thead>\n",
       "    <tr style=\"text-align: right;\">\n",
       "      <th></th>\n",
       "      <th>0</th>\n",
       "      <th>1</th>\n",
       "      <th>2</th>\n",
       "      <th>3</th>\n",
       "    </tr>\n",
       "  </thead>\n",
       "  <tbody>\n",
       "    <tr>\n",
       "      <th>0</th>\n",
       "      <td>1</td>\n",
       "      <td>1</td>\n",
       "      <td>1</td>\n",
       "      <td>-1</td>\n",
       "    </tr>\n",
       "    <tr>\n",
       "      <th>1</th>\n",
       "      <td>1</td>\n",
       "      <td>1</td>\n",
       "      <td>-1</td>\n",
       "      <td>1</td>\n",
       "    </tr>\n",
       "    <tr>\n",
       "      <th>2</th>\n",
       "      <td>1</td>\n",
       "      <td>-1</td>\n",
       "      <td>1</td>\n",
       "      <td>1</td>\n",
       "    </tr>\n",
       "    <tr>\n",
       "      <th>3</th>\n",
       "      <td>-1</td>\n",
       "      <td>1</td>\n",
       "      <td>1</td>\n",
       "      <td>1</td>\n",
       "    </tr>\n",
       "  </tbody>\n",
       "</table>\n",
       "</div>"
      ],
      "text/plain": [
       "   0  1  2  3\n",
       "0  1  1  1 -1\n",
       "1  1  1 -1  1\n",
       "2  1 -1  1  1\n",
       "3 -1  1  1  1"
      ]
     },
     "execution_count": 14,
     "metadata": {},
     "output_type": "execute_result"
    }
   ],
   "source": [
    "m"
   ]
  },
  {
   "cell_type": "code",
   "execution_count": 15,
   "metadata": {},
   "outputs": [
    {
     "data": {
      "text/html": [
       "<div>\n",
       "<style scoped>\n",
       "    .dataframe tbody tr th:only-of-type {\n",
       "        vertical-align: middle;\n",
       "    }\n",
       "\n",
       "    .dataframe tbody tr th {\n",
       "        vertical-align: top;\n",
       "    }\n",
       "\n",
       "    .dataframe thead th {\n",
       "        text-align: right;\n",
       "    }\n",
       "</style>\n",
       "<table border=\"1\" class=\"dataframe\">\n",
       "  <thead>\n",
       "    <tr style=\"text-align: right;\">\n",
       "      <th></th>\n",
       "      <th>0</th>\n",
       "      <th>1</th>\n",
       "      <th>2</th>\n",
       "      <th>3</th>\n",
       "    </tr>\n",
       "  </thead>\n",
       "  <tbody>\n",
       "    <tr>\n",
       "      <th>0</th>\n",
       "      <td>0.25</td>\n",
       "      <td>0.25</td>\n",
       "      <td>0.25</td>\n",
       "      <td>-0.25</td>\n",
       "    </tr>\n",
       "    <tr>\n",
       "      <th>1</th>\n",
       "      <td>0.25</td>\n",
       "      <td>0.25</td>\n",
       "      <td>-0.25</td>\n",
       "      <td>0.25</td>\n",
       "    </tr>\n",
       "    <tr>\n",
       "      <th>2</th>\n",
       "      <td>0.25</td>\n",
       "      <td>-0.25</td>\n",
       "      <td>0.25</td>\n",
       "      <td>0.25</td>\n",
       "    </tr>\n",
       "    <tr>\n",
       "      <th>3</th>\n",
       "      <td>-0.25</td>\n",
       "      <td>0.25</td>\n",
       "      <td>0.25</td>\n",
       "      <td>0.25</td>\n",
       "    </tr>\n",
       "  </tbody>\n",
       "</table>\n",
       "</div>"
      ],
      "text/plain": [
       "      0     1     2     3\n",
       "0  0.25  0.25  0.25 -0.25\n",
       "1  0.25  0.25 -0.25  0.25\n",
       "2  0.25 -0.25  0.25  0.25\n",
       "3 -0.25  0.25  0.25  0.25"
      ]
     },
     "execution_count": 15,
     "metadata": {},
     "output_type": "execute_result"
    }
   ],
   "source": [
    "m_inv"
   ]
  },
  {
   "cell_type": "markdown",
   "metadata": {},
   "source": [
    "Check that $m \\times m^{-1} = 1$"
   ]
  },
  {
   "cell_type": "code",
   "execution_count": 16,
   "metadata": {},
   "outputs": [
    {
     "data": {
      "text/html": [
       "<div>\n",
       "<style scoped>\n",
       "    .dataframe tbody tr th:only-of-type {\n",
       "        vertical-align: middle;\n",
       "    }\n",
       "\n",
       "    .dataframe tbody tr th {\n",
       "        vertical-align: top;\n",
       "    }\n",
       "\n",
       "    .dataframe thead th {\n",
       "        text-align: right;\n",
       "    }\n",
       "</style>\n",
       "<table border=\"1\" class=\"dataframe\">\n",
       "  <thead>\n",
       "    <tr style=\"text-align: right;\">\n",
       "      <th></th>\n",
       "      <th>0</th>\n",
       "      <th>1</th>\n",
       "      <th>2</th>\n",
       "      <th>3</th>\n",
       "    </tr>\n",
       "  </thead>\n",
       "  <tbody>\n",
       "    <tr>\n",
       "      <th>0</th>\n",
       "      <td>1.0</td>\n",
       "      <td>0.0</td>\n",
       "      <td>0.0</td>\n",
       "      <td>0.0</td>\n",
       "    </tr>\n",
       "    <tr>\n",
       "      <th>1</th>\n",
       "      <td>0.0</td>\n",
       "      <td>1.0</td>\n",
       "      <td>0.0</td>\n",
       "      <td>0.0</td>\n",
       "    </tr>\n",
       "    <tr>\n",
       "      <th>2</th>\n",
       "      <td>0.0</td>\n",
       "      <td>0.0</td>\n",
       "      <td>1.0</td>\n",
       "      <td>0.0</td>\n",
       "    </tr>\n",
       "    <tr>\n",
       "      <th>3</th>\n",
       "      <td>0.0</td>\n",
       "      <td>0.0</td>\n",
       "      <td>0.0</td>\n",
       "      <td>1.0</td>\n",
       "    </tr>\n",
       "  </tbody>\n",
       "</table>\n",
       "</div>"
      ],
      "text/plain": [
       "     0    1    2    3\n",
       "0  1.0  0.0  0.0  0.0\n",
       "1  0.0  1.0  0.0  0.0\n",
       "2  0.0  0.0  1.0  0.0\n",
       "3  0.0  0.0  0.0  1.0"
      ]
     },
     "execution_count": 16,
     "metadata": {},
     "output_type": "execute_result"
    }
   ],
   "source": [
    "m.dot(m_inv)"
   ]
  },
  {
   "cell_type": "markdown",
   "metadata": {},
   "source": [
    "### Add small perturbations to entries"
   ]
  },
  {
   "cell_type": "code",
   "execution_count": 17,
   "metadata": {},
   "outputs": [],
   "source": [
    "delta = 0.001\n",
    "m2 = m.copy()"
   ]
  },
  {
   "cell_type": "code",
   "execution_count": 18,
   "metadata": {},
   "outputs": [],
   "source": [
    "for i in range(len(m2)):\n",
    "    for j in range(len(m2)):\n",
    "        if (i+j)%2:\n",
    "            m2.iloc[i, j] += delta*m.iloc[i, j]\n",
    "        else:\n",
    "            m2.iloc[i, j] -= delta*m.iloc[i, j]\n",
    "m2_inv = pd.DataFrame(np.linalg.inv(m2.values))"
   ]
  },
  {
   "cell_type": "code",
   "execution_count": 19,
   "metadata": {},
   "outputs": [
    {
     "data": {
      "text/html": [
       "<div>\n",
       "<style scoped>\n",
       "    .dataframe tbody tr th:only-of-type {\n",
       "        vertical-align: middle;\n",
       "    }\n",
       "\n",
       "    .dataframe tbody tr th {\n",
       "        vertical-align: top;\n",
       "    }\n",
       "\n",
       "    .dataframe thead th {\n",
       "        text-align: right;\n",
       "    }\n",
       "</style>\n",
       "<table border=\"1\" class=\"dataframe\">\n",
       "  <thead>\n",
       "    <tr style=\"text-align: right;\">\n",
       "      <th></th>\n",
       "      <th>0</th>\n",
       "      <th>1</th>\n",
       "      <th>2</th>\n",
       "      <th>3</th>\n",
       "    </tr>\n",
       "  </thead>\n",
       "  <tbody>\n",
       "    <tr>\n",
       "      <th>0</th>\n",
       "      <td>0.999</td>\n",
       "      <td>1.001</td>\n",
       "      <td>0.999</td>\n",
       "      <td>-1.001</td>\n",
       "    </tr>\n",
       "    <tr>\n",
       "      <th>1</th>\n",
       "      <td>1.001</td>\n",
       "      <td>0.999</td>\n",
       "      <td>-1.001</td>\n",
       "      <td>0.999</td>\n",
       "    </tr>\n",
       "    <tr>\n",
       "      <th>2</th>\n",
       "      <td>0.999</td>\n",
       "      <td>-1.001</td>\n",
       "      <td>0.999</td>\n",
       "      <td>1.001</td>\n",
       "    </tr>\n",
       "    <tr>\n",
       "      <th>3</th>\n",
       "      <td>-1.001</td>\n",
       "      <td>0.999</td>\n",
       "      <td>1.001</td>\n",
       "      <td>0.999</td>\n",
       "    </tr>\n",
       "  </tbody>\n",
       "</table>\n",
       "</div>"
      ],
      "text/plain": [
       "       0      1      2      3\n",
       "0  0.999  1.001  0.999 -1.001\n",
       "1  1.001  0.999 -1.001  0.999\n",
       "2  0.999 -1.001  0.999  1.001\n",
       "3 -1.001  0.999  1.001  0.999"
      ]
     },
     "execution_count": 19,
     "metadata": {},
     "output_type": "execute_result"
    }
   ],
   "source": [
    "m2"
   ]
  },
  {
   "cell_type": "code",
   "execution_count": 20,
   "metadata": {},
   "outputs": [
    {
     "data": {
      "text/html": [
       "<div>\n",
       "<style scoped>\n",
       "    .dataframe tbody tr th:only-of-type {\n",
       "        vertical-align: middle;\n",
       "    }\n",
       "\n",
       "    .dataframe tbody tr th {\n",
       "        vertical-align: top;\n",
       "    }\n",
       "\n",
       "    .dataframe thead th {\n",
       "        text-align: right;\n",
       "    }\n",
       "</style>\n",
       "<table border=\"1\" class=\"dataframe\">\n",
       "  <thead>\n",
       "    <tr style=\"text-align: right;\">\n",
       "      <th></th>\n",
       "      <th>0</th>\n",
       "      <th>1</th>\n",
       "      <th>2</th>\n",
       "      <th>3</th>\n",
       "    </tr>\n",
       "  </thead>\n",
       "  <tbody>\n",
       "    <tr>\n",
       "      <th>0</th>\n",
       "      <td>0.25025</td>\n",
       "      <td>0.24975</td>\n",
       "      <td>0.25025</td>\n",
       "      <td>-0.24975</td>\n",
       "    </tr>\n",
       "    <tr>\n",
       "      <th>1</th>\n",
       "      <td>0.24975</td>\n",
       "      <td>0.25025</td>\n",
       "      <td>-0.24975</td>\n",
       "      <td>0.25025</td>\n",
       "    </tr>\n",
       "    <tr>\n",
       "      <th>2</th>\n",
       "      <td>0.25025</td>\n",
       "      <td>-0.24975</td>\n",
       "      <td>0.25025</td>\n",
       "      <td>0.24975</td>\n",
       "    </tr>\n",
       "    <tr>\n",
       "      <th>3</th>\n",
       "      <td>-0.24975</td>\n",
       "      <td>0.25025</td>\n",
       "      <td>0.24975</td>\n",
       "      <td>0.25025</td>\n",
       "    </tr>\n",
       "  </tbody>\n",
       "</table>\n",
       "</div>"
      ],
      "text/plain": [
       "         0        1        2        3\n",
       "0  0.25025  0.24975  0.25025 -0.24975\n",
       "1  0.24975  0.25025 -0.24975  0.25025\n",
       "2  0.25025 -0.24975  0.25025  0.24975\n",
       "3 -0.24975  0.25025  0.24975  0.25025"
      ]
     },
     "execution_count": 20,
     "metadata": {},
     "output_type": "execute_result"
    }
   ],
   "source": [
    "m2_inv"
   ]
  },
  {
   "cell_type": "markdown",
   "metadata": {},
   "source": [
    "### Check relative differences in $m$ and $m^{-1}$"
   ]
  },
  {
   "cell_type": "code",
   "execution_count": 21,
   "metadata": {},
   "outputs": [
    {
     "data": {
      "text/html": [
       "<style  type=\"text/css\" >\n",
       "    #T_067a88ea_4e6d_11ea_9e8f_549f3515a0bcrow0_col0 {\n",
       "            background-color:  #d73c5b;\n",
       "            color:  #f1f1f1;\n",
       "        }    #T_067a88ea_4e6d_11ea_9e8f_549f3515a0bcrow0_col1 {\n",
       "            background-color:  #4479bb;\n",
       "            color:  #000000;\n",
       "        }    #T_067a88ea_4e6d_11ea_9e8f_549f3515a0bcrow0_col2 {\n",
       "            background-color:  #d73c5b;\n",
       "            color:  #f1f1f1;\n",
       "        }    #T_067a88ea_4e6d_11ea_9e8f_549f3515a0bcrow0_col3 {\n",
       "            background-color:  #4479bb;\n",
       "            color:  #000000;\n",
       "        }    #T_067a88ea_4e6d_11ea_9e8f_549f3515a0bcrow1_col0 {\n",
       "            background-color:  #4479bb;\n",
       "            color:  #000000;\n",
       "        }    #T_067a88ea_4e6d_11ea_9e8f_549f3515a0bcrow1_col1 {\n",
       "            background-color:  #d73c5b;\n",
       "            color:  #f1f1f1;\n",
       "        }    #T_067a88ea_4e6d_11ea_9e8f_549f3515a0bcrow1_col2 {\n",
       "            background-color:  #4479bb;\n",
       "            color:  #000000;\n",
       "        }    #T_067a88ea_4e6d_11ea_9e8f_549f3515a0bcrow1_col3 {\n",
       "            background-color:  #d73c5b;\n",
       "            color:  #f1f1f1;\n",
       "        }    #T_067a88ea_4e6d_11ea_9e8f_549f3515a0bcrow2_col0 {\n",
       "            background-color:  #d73c5b;\n",
       "            color:  #f1f1f1;\n",
       "        }    #T_067a88ea_4e6d_11ea_9e8f_549f3515a0bcrow2_col1 {\n",
       "            background-color:  #4479bb;\n",
       "            color:  #000000;\n",
       "        }    #T_067a88ea_4e6d_11ea_9e8f_549f3515a0bcrow2_col2 {\n",
       "            background-color:  #d73c5b;\n",
       "            color:  #f1f1f1;\n",
       "        }    #T_067a88ea_4e6d_11ea_9e8f_549f3515a0bcrow2_col3 {\n",
       "            background-color:  #4479bb;\n",
       "            color:  #000000;\n",
       "        }    #T_067a88ea_4e6d_11ea_9e8f_549f3515a0bcrow3_col0 {\n",
       "            background-color:  #4479bb;\n",
       "            color:  #000000;\n",
       "        }    #T_067a88ea_4e6d_11ea_9e8f_549f3515a0bcrow3_col1 {\n",
       "            background-color:  #d73c5b;\n",
       "            color:  #f1f1f1;\n",
       "        }    #T_067a88ea_4e6d_11ea_9e8f_549f3515a0bcrow3_col2 {\n",
       "            background-color:  #4479bb;\n",
       "            color:  #000000;\n",
       "        }    #T_067a88ea_4e6d_11ea_9e8f_549f3515a0bcrow3_col3 {\n",
       "            background-color:  #d73c5b;\n",
       "            color:  #f1f1f1;\n",
       "        }</style><table id=\"T_067a88ea_4e6d_11ea_9e8f_549f3515a0bc\" ><thead>    <tr>        <th class=\"blank level0\" ></th>        <th class=\"col_heading level0 col0\" >0</th>        <th class=\"col_heading level0 col1\" >1</th>        <th class=\"col_heading level0 col2\" >2</th>        <th class=\"col_heading level0 col3\" >3</th>    </tr></thead><tbody>\n",
       "                <tr>\n",
       "                        <th id=\"T_067a88ea_4e6d_11ea_9e8f_549f3515a0bclevel0_row0\" class=\"row_heading level0 row0\" >0</th>\n",
       "                        <td id=\"T_067a88ea_4e6d_11ea_9e8f_549f3515a0bcrow0_col0\" class=\"data row0 col0\" >-0.001</td>\n",
       "                        <td id=\"T_067a88ea_4e6d_11ea_9e8f_549f3515a0bcrow0_col1\" class=\"data row0 col1\" >0.001</td>\n",
       "                        <td id=\"T_067a88ea_4e6d_11ea_9e8f_549f3515a0bcrow0_col2\" class=\"data row0 col2\" >-0.001</td>\n",
       "                        <td id=\"T_067a88ea_4e6d_11ea_9e8f_549f3515a0bcrow0_col3\" class=\"data row0 col3\" >0.001</td>\n",
       "            </tr>\n",
       "            <tr>\n",
       "                        <th id=\"T_067a88ea_4e6d_11ea_9e8f_549f3515a0bclevel0_row1\" class=\"row_heading level0 row1\" >1</th>\n",
       "                        <td id=\"T_067a88ea_4e6d_11ea_9e8f_549f3515a0bcrow1_col0\" class=\"data row1 col0\" >0.001</td>\n",
       "                        <td id=\"T_067a88ea_4e6d_11ea_9e8f_549f3515a0bcrow1_col1\" class=\"data row1 col1\" >-0.001</td>\n",
       "                        <td id=\"T_067a88ea_4e6d_11ea_9e8f_549f3515a0bcrow1_col2\" class=\"data row1 col2\" >0.001</td>\n",
       "                        <td id=\"T_067a88ea_4e6d_11ea_9e8f_549f3515a0bcrow1_col3\" class=\"data row1 col3\" >-0.001</td>\n",
       "            </tr>\n",
       "            <tr>\n",
       "                        <th id=\"T_067a88ea_4e6d_11ea_9e8f_549f3515a0bclevel0_row2\" class=\"row_heading level0 row2\" >2</th>\n",
       "                        <td id=\"T_067a88ea_4e6d_11ea_9e8f_549f3515a0bcrow2_col0\" class=\"data row2 col0\" >-0.001</td>\n",
       "                        <td id=\"T_067a88ea_4e6d_11ea_9e8f_549f3515a0bcrow2_col1\" class=\"data row2 col1\" >0.001</td>\n",
       "                        <td id=\"T_067a88ea_4e6d_11ea_9e8f_549f3515a0bcrow2_col2\" class=\"data row2 col2\" >-0.001</td>\n",
       "                        <td id=\"T_067a88ea_4e6d_11ea_9e8f_549f3515a0bcrow2_col3\" class=\"data row2 col3\" >0.001</td>\n",
       "            </tr>\n",
       "            <tr>\n",
       "                        <th id=\"T_067a88ea_4e6d_11ea_9e8f_549f3515a0bclevel0_row3\" class=\"row_heading level0 row3\" >3</th>\n",
       "                        <td id=\"T_067a88ea_4e6d_11ea_9e8f_549f3515a0bcrow3_col0\" class=\"data row3 col0\" >0.001</td>\n",
       "                        <td id=\"T_067a88ea_4e6d_11ea_9e8f_549f3515a0bcrow3_col1\" class=\"data row3 col1\" >-0.001</td>\n",
       "                        <td id=\"T_067a88ea_4e6d_11ea_9e8f_549f3515a0bcrow3_col2\" class=\"data row3 col2\" >0.001</td>\n",
       "                        <td id=\"T_067a88ea_4e6d_11ea_9e8f_549f3515a0bcrow3_col3\" class=\"data row3 col3\" >-0.001</td>\n",
       "            </tr>\n",
       "    </tbody></table>"
      ],
      "text/plain": [
       "<pandas.io.formats.style.Styler at 0x2b99ab3c75c0>"
      ]
     },
     "execution_count": 21,
     "metadata": {},
     "output_type": "execute_result"
    }
   ],
   "source": [
    "((m2-m)/m).style.background_gradient(cmap=cmap, axis=None)"
   ]
  },
  {
   "cell_type": "code",
   "execution_count": 22,
   "metadata": {},
   "outputs": [
    {
     "data": {
      "text/html": [
       "<style  type=\"text/css\" >\n",
       "    #T_06837d9c_4e6d_11ea_9e8f_549f3515a0bcrow0_col0 {\n",
       "            background-color:  #4479bb;\n",
       "            color:  #000000;\n",
       "        }    #T_06837d9c_4e6d_11ea_9e8f_549f3515a0bcrow0_col1 {\n",
       "            background-color:  #d73c5b;\n",
       "            color:  #f1f1f1;\n",
       "        }    #T_06837d9c_4e6d_11ea_9e8f_549f3515a0bcrow0_col2 {\n",
       "            background-color:  #4479bb;\n",
       "            color:  #000000;\n",
       "        }    #T_06837d9c_4e6d_11ea_9e8f_549f3515a0bcrow0_col3 {\n",
       "            background-color:  #d73c5b;\n",
       "            color:  #f1f1f1;\n",
       "        }    #T_06837d9c_4e6d_11ea_9e8f_549f3515a0bcrow1_col0 {\n",
       "            background-color:  #d73c5b;\n",
       "            color:  #f1f1f1;\n",
       "        }    #T_06837d9c_4e6d_11ea_9e8f_549f3515a0bcrow1_col1 {\n",
       "            background-color:  #4479bb;\n",
       "            color:  #000000;\n",
       "        }    #T_06837d9c_4e6d_11ea_9e8f_549f3515a0bcrow1_col2 {\n",
       "            background-color:  #d73c5b;\n",
       "            color:  #f1f1f1;\n",
       "        }    #T_06837d9c_4e6d_11ea_9e8f_549f3515a0bcrow1_col3 {\n",
       "            background-color:  #4479bb;\n",
       "            color:  #000000;\n",
       "        }    #T_06837d9c_4e6d_11ea_9e8f_549f3515a0bcrow2_col0 {\n",
       "            background-color:  #4479bb;\n",
       "            color:  #000000;\n",
       "        }    #T_06837d9c_4e6d_11ea_9e8f_549f3515a0bcrow2_col1 {\n",
       "            background-color:  #d73c5b;\n",
       "            color:  #f1f1f1;\n",
       "        }    #T_06837d9c_4e6d_11ea_9e8f_549f3515a0bcrow2_col2 {\n",
       "            background-color:  #4479bb;\n",
       "            color:  #000000;\n",
       "        }    #T_06837d9c_4e6d_11ea_9e8f_549f3515a0bcrow2_col3 {\n",
       "            background-color:  #d73c5b;\n",
       "            color:  #f1f1f1;\n",
       "        }    #T_06837d9c_4e6d_11ea_9e8f_549f3515a0bcrow3_col0 {\n",
       "            background-color:  #d73c5b;\n",
       "            color:  #f1f1f1;\n",
       "        }    #T_06837d9c_4e6d_11ea_9e8f_549f3515a0bcrow3_col1 {\n",
       "            background-color:  #4479bb;\n",
       "            color:  #000000;\n",
       "        }    #T_06837d9c_4e6d_11ea_9e8f_549f3515a0bcrow3_col2 {\n",
       "            background-color:  #d73c5b;\n",
       "            color:  #f1f1f1;\n",
       "        }    #T_06837d9c_4e6d_11ea_9e8f_549f3515a0bcrow3_col3 {\n",
       "            background-color:  #4479bb;\n",
       "            color:  #000000;\n",
       "        }</style><table id=\"T_06837d9c_4e6d_11ea_9e8f_549f3515a0bc\" ><thead>    <tr>        <th class=\"blank level0\" ></th>        <th class=\"col_heading level0 col0\" >0</th>        <th class=\"col_heading level0 col1\" >1</th>        <th class=\"col_heading level0 col2\" >2</th>        <th class=\"col_heading level0 col3\" >3</th>    </tr></thead><tbody>\n",
       "                <tr>\n",
       "                        <th id=\"T_06837d9c_4e6d_11ea_9e8f_549f3515a0bclevel0_row0\" class=\"row_heading level0 row0\" >0</th>\n",
       "                        <td id=\"T_06837d9c_4e6d_11ea_9e8f_549f3515a0bcrow0_col0\" class=\"data row0 col0\" >0.001001</td>\n",
       "                        <td id=\"T_06837d9c_4e6d_11ea_9e8f_549f3515a0bcrow0_col1\" class=\"data row0 col1\" >-0.000999001</td>\n",
       "                        <td id=\"T_06837d9c_4e6d_11ea_9e8f_549f3515a0bcrow0_col2\" class=\"data row0 col2\" >0.001001</td>\n",
       "                        <td id=\"T_06837d9c_4e6d_11ea_9e8f_549f3515a0bcrow0_col3\" class=\"data row0 col3\" >-0.000999001</td>\n",
       "            </tr>\n",
       "            <tr>\n",
       "                        <th id=\"T_06837d9c_4e6d_11ea_9e8f_549f3515a0bclevel0_row1\" class=\"row_heading level0 row1\" >1</th>\n",
       "                        <td id=\"T_06837d9c_4e6d_11ea_9e8f_549f3515a0bcrow1_col0\" class=\"data row1 col0\" >-0.000999001</td>\n",
       "                        <td id=\"T_06837d9c_4e6d_11ea_9e8f_549f3515a0bcrow1_col1\" class=\"data row1 col1\" >0.001001</td>\n",
       "                        <td id=\"T_06837d9c_4e6d_11ea_9e8f_549f3515a0bcrow1_col2\" class=\"data row1 col2\" >-0.000999001</td>\n",
       "                        <td id=\"T_06837d9c_4e6d_11ea_9e8f_549f3515a0bcrow1_col3\" class=\"data row1 col3\" >0.001001</td>\n",
       "            </tr>\n",
       "            <tr>\n",
       "                        <th id=\"T_06837d9c_4e6d_11ea_9e8f_549f3515a0bclevel0_row2\" class=\"row_heading level0 row2\" >2</th>\n",
       "                        <td id=\"T_06837d9c_4e6d_11ea_9e8f_549f3515a0bcrow2_col0\" class=\"data row2 col0\" >0.001001</td>\n",
       "                        <td id=\"T_06837d9c_4e6d_11ea_9e8f_549f3515a0bcrow2_col1\" class=\"data row2 col1\" >-0.000999001</td>\n",
       "                        <td id=\"T_06837d9c_4e6d_11ea_9e8f_549f3515a0bcrow2_col2\" class=\"data row2 col2\" >0.001001</td>\n",
       "                        <td id=\"T_06837d9c_4e6d_11ea_9e8f_549f3515a0bcrow2_col3\" class=\"data row2 col3\" >-0.000999001</td>\n",
       "            </tr>\n",
       "            <tr>\n",
       "                        <th id=\"T_06837d9c_4e6d_11ea_9e8f_549f3515a0bclevel0_row3\" class=\"row_heading level0 row3\" >3</th>\n",
       "                        <td id=\"T_06837d9c_4e6d_11ea_9e8f_549f3515a0bcrow3_col0\" class=\"data row3 col0\" >-0.000999001</td>\n",
       "                        <td id=\"T_06837d9c_4e6d_11ea_9e8f_549f3515a0bcrow3_col1\" class=\"data row3 col1\" >0.001001</td>\n",
       "                        <td id=\"T_06837d9c_4e6d_11ea_9e8f_549f3515a0bcrow3_col2\" class=\"data row3 col2\" >-0.000999001</td>\n",
       "                        <td id=\"T_06837d9c_4e6d_11ea_9e8f_549f3515a0bcrow3_col3\" class=\"data row3 col3\" >0.001001</td>\n",
       "            </tr>\n",
       "    </tbody></table>"
      ],
      "text/plain": [
       "<pandas.io.formats.style.Styler at 0x2b99ab3c7f28>"
      ]
     },
     "execution_count": 22,
     "metadata": {},
     "output_type": "execute_result"
    }
   ],
   "source": [
    "((m2_inv - m_inv)/m_inv).style.background_gradient(cmap=cmap, axis=None)"
   ]
  },
  {
   "cell_type": "markdown",
   "metadata": {},
   "source": [
    "## Random $4\\times4$ matrix"
   ]
  },
  {
   "cell_type": "markdown",
   "metadata": {},
   "source": [
    "### Setup an invertible matrix and its inverse"
   ]
  },
  {
   "cell_type": "code",
   "execution_count": 104,
   "metadata": {},
   "outputs": [],
   "source": [
    "# np.random.seed(0) # 0\n",
    "m = pd.DataFrame(np.random.rand(4,4) * 10**(4))\n",
    "m_inv = pd.DataFrame(np.linalg.inv(m.values))"
   ]
  },
  {
   "cell_type": "code",
   "execution_count": 105,
   "metadata": {},
   "outputs": [
    {
     "data": {
      "text/html": [
       "<div>\n",
       "<style scoped>\n",
       "    .dataframe tbody tr th:only-of-type {\n",
       "        vertical-align: middle;\n",
       "    }\n",
       "\n",
       "    .dataframe tbody tr th {\n",
       "        vertical-align: top;\n",
       "    }\n",
       "\n",
       "    .dataframe thead th {\n",
       "        text-align: right;\n",
       "    }\n",
       "</style>\n",
       "<table border=\"1\" class=\"dataframe\">\n",
       "  <thead>\n",
       "    <tr style=\"text-align: right;\">\n",
       "      <th></th>\n",
       "      <th>0</th>\n",
       "      <th>1</th>\n",
       "      <th>2</th>\n",
       "      <th>3</th>\n",
       "    </tr>\n",
       "  </thead>\n",
       "  <tbody>\n",
       "    <tr>\n",
       "      <th>0</th>\n",
       "      <td>6886.611828</td>\n",
       "      <td>8804.758893</td>\n",
       "      <td>9182.354664</td>\n",
       "      <td>2168.221376</td>\n",
       "    </tr>\n",
       "    <tr>\n",
       "      <th>1</th>\n",
       "      <td>5651.888666</td>\n",
       "      <td>8651.025613</td>\n",
       "      <td>5089.689607</td>\n",
       "      <td>9167.229540</td>\n",
       "    </tr>\n",
       "    <tr>\n",
       "      <th>2</th>\n",
       "      <td>9211.576102</td>\n",
       "      <td>831.124926</td>\n",
       "      <td>2777.185613</td>\n",
       "      <td>93.567049</td>\n",
       "    </tr>\n",
       "    <tr>\n",
       "      <th>3</th>\n",
       "      <td>8423.420797</td>\n",
       "      <td>6471.741402</td>\n",
       "      <td>8413.861192</td>\n",
       "      <td>2647.301643</td>\n",
       "    </tr>\n",
       "  </tbody>\n",
       "</table>\n",
       "</div>"
      ],
      "text/plain": [
       "             0            1            2            3\n",
       "0  6886.611828  8804.758893  9182.354664  2168.221376\n",
       "1  5651.888666  8651.025613  5089.689607  9167.229540\n",
       "2  9211.576102   831.124926  2777.185613    93.567049\n",
       "3  8423.420797  6471.741402  8413.861192  2647.301643"
      ]
     },
     "execution_count": 105,
     "metadata": {},
     "output_type": "execute_result"
    }
   ],
   "source": [
    "m"
   ]
  },
  {
   "cell_type": "code",
   "execution_count": 106,
   "metadata": {},
   "outputs": [
    {
     "data": {
      "text/html": [
       "<div>\n",
       "<style scoped>\n",
       "    .dataframe tbody tr th:only-of-type {\n",
       "        vertical-align: middle;\n",
       "    }\n",
       "\n",
       "    .dataframe tbody tr th {\n",
       "        vertical-align: top;\n",
       "    }\n",
       "\n",
       "    .dataframe thead th {\n",
       "        text-align: right;\n",
       "    }\n",
       "</style>\n",
       "<table border=\"1\" class=\"dataframe\">\n",
       "  <thead>\n",
       "    <tr style=\"text-align: right;\">\n",
       "      <th></th>\n",
       "      <th>0</th>\n",
       "      <th>1</th>\n",
       "      <th>2</th>\n",
       "      <th>3</th>\n",
       "    </tr>\n",
       "  </thead>\n",
       "  <tbody>\n",
       "    <tr>\n",
       "      <th>0</th>\n",
       "      <td>0.000066</td>\n",
       "      <td>0.000025</td>\n",
       "      <td>0.000177</td>\n",
       "      <td>-0.000145</td>\n",
       "    </tr>\n",
       "    <tr>\n",
       "      <th>1</th>\n",
       "      <td>0.000524</td>\n",
       "      <td>0.000069</td>\n",
       "      <td>0.000182</td>\n",
       "      <td>-0.000673</td>\n",
       "    </tr>\n",
       "    <tr>\n",
       "      <th>2</th>\n",
       "      <td>-0.000364</td>\n",
       "      <td>-0.000105</td>\n",
       "      <td>-0.000277</td>\n",
       "      <td>0.000671</td>\n",
       "    </tr>\n",
       "    <tr>\n",
       "      <th>3</th>\n",
       "      <td>-0.000333</td>\n",
       "      <td>0.000087</td>\n",
       "      <td>-0.000127</td>\n",
       "      <td>0.000352</td>\n",
       "    </tr>\n",
       "  </tbody>\n",
       "</table>\n",
       "</div>"
      ],
      "text/plain": [
       "          0         1         2         3\n",
       "0  0.000066  0.000025  0.000177 -0.000145\n",
       "1  0.000524  0.000069  0.000182 -0.000673\n",
       "2 -0.000364 -0.000105 -0.000277  0.000671\n",
       "3 -0.000333  0.000087 -0.000127  0.000352"
      ]
     },
     "execution_count": 106,
     "metadata": {},
     "output_type": "execute_result"
    }
   ],
   "source": [
    "m_inv"
   ]
  },
  {
   "cell_type": "markdown",
   "metadata": {},
   "source": [
    "Check that $m \\times m^{-1} = 1$"
   ]
  },
  {
   "cell_type": "code",
   "execution_count": 107,
   "metadata": {},
   "outputs": [
    {
     "data": {
      "text/html": [
       "<div>\n",
       "<style scoped>\n",
       "    .dataframe tbody tr th:only-of-type {\n",
       "        vertical-align: middle;\n",
       "    }\n",
       "\n",
       "    .dataframe tbody tr th {\n",
       "        vertical-align: top;\n",
       "    }\n",
       "\n",
       "    .dataframe thead th {\n",
       "        text-align: right;\n",
       "    }\n",
       "</style>\n",
       "<table border=\"1\" class=\"dataframe\">\n",
       "  <thead>\n",
       "    <tr style=\"text-align: right;\">\n",
       "      <th></th>\n",
       "      <th>0</th>\n",
       "      <th>1</th>\n",
       "      <th>2</th>\n",
       "      <th>3</th>\n",
       "    </tr>\n",
       "  </thead>\n",
       "  <tbody>\n",
       "    <tr>\n",
       "      <th>0</th>\n",
       "      <td>1.000000e+00</td>\n",
       "      <td>-1.794805e-16</td>\n",
       "      <td>-4.221811e-16</td>\n",
       "      <td>3.732331e-16</td>\n",
       "    </tr>\n",
       "    <tr>\n",
       "      <th>1</th>\n",
       "      <td>1.488303e-17</td>\n",
       "      <td>1.000000e+00</td>\n",
       "      <td>-2.259511e-16</td>\n",
       "      <td>-6.453122e-16</td>\n",
       "    </tr>\n",
       "    <tr>\n",
       "      <th>2</th>\n",
       "      <td>2.265930e-17</td>\n",
       "      <td>-1.454211e-17</td>\n",
       "      <td>1.000000e+00</td>\n",
       "      <td>-2.096676e-16</td>\n",
       "    </tr>\n",
       "    <tr>\n",
       "      <th>3</th>\n",
       "      <td>3.306514e-16</td>\n",
       "      <td>5.813562e-17</td>\n",
       "      <td>-1.585938e-16</td>\n",
       "      <td>1.000000e+00</td>\n",
       "    </tr>\n",
       "  </tbody>\n",
       "</table>\n",
       "</div>"
      ],
      "text/plain": [
       "              0             1             2             3\n",
       "0  1.000000e+00 -1.794805e-16 -4.221811e-16  3.732331e-16\n",
       "1  1.488303e-17  1.000000e+00 -2.259511e-16 -6.453122e-16\n",
       "2  2.265930e-17 -1.454211e-17  1.000000e+00 -2.096676e-16\n",
       "3  3.306514e-16  5.813562e-17 -1.585938e-16  1.000000e+00"
      ]
     },
     "execution_count": 107,
     "metadata": {},
     "output_type": "execute_result"
    }
   ],
   "source": [
    "m.dot(m_inv)"
   ]
  },
  {
   "cell_type": "markdown",
   "metadata": {},
   "source": [
    "### Add small perturbations to entries"
   ]
  },
  {
   "cell_type": "code",
   "execution_count": 108,
   "metadata": {},
   "outputs": [],
   "source": [
    "deltas = [0.001, 0.005, 0.002, 0.0001, 0.001, 0.001, 0.001, 0.002, 0.0001, 0.005]\n",
    "m2 = m.copy()"
   ]
  },
  {
   "cell_type": "code",
   "execution_count": 109,
   "metadata": {},
   "outputs": [],
   "source": [
    "np.random.seed(0)"
   ]
  },
  {
   "cell_type": "code",
   "execution_count": 110,
   "metadata": {},
   "outputs": [],
   "source": [
    "for i in range(len(m2)):\n",
    "    for j in range(len(m2)):\n",
    "        if (i+j)%2:\n",
    "            m2.iloc[i, j] += np.random.choice(deltas)*m.iloc[i, j]\n",
    "        else:\n",
    "            m2.iloc[i, j] -= np.random.choice(deltas)*m.iloc[i, j]\n",
    "m2_inv = pd.DataFrame(np.linalg.inv(m2.values))"
   ]
  },
  {
   "cell_type": "code",
   "execution_count": 111,
   "metadata": {},
   "outputs": [
    {
     "data": {
      "text/html": [
       "<div>\n",
       "<style scoped>\n",
       "    .dataframe tbody tr th:only-of-type {\n",
       "        vertical-align: middle;\n",
       "    }\n",
       "\n",
       "    .dataframe tbody tr th {\n",
       "        vertical-align: top;\n",
       "    }\n",
       "\n",
       "    .dataframe thead th {\n",
       "        text-align: right;\n",
       "    }\n",
       "</style>\n",
       "<table border=\"1\" class=\"dataframe\">\n",
       "  <thead>\n",
       "    <tr style=\"text-align: right;\">\n",
       "      <th></th>\n",
       "      <th>0</th>\n",
       "      <th>1</th>\n",
       "      <th>2</th>\n",
       "      <th>3</th>\n",
       "    </tr>\n",
       "  </thead>\n",
       "  <tbody>\n",
       "    <tr>\n",
       "      <th>0</th>\n",
       "      <td>6879.725216</td>\n",
       "      <td>8813.563651</td>\n",
       "      <td>9181.436428</td>\n",
       "      <td>2168.438198</td>\n",
       "    </tr>\n",
       "    <tr>\n",
       "      <th>1</th>\n",
       "      <td>5663.192443</td>\n",
       "      <td>8607.770485</td>\n",
       "      <td>5090.198576</td>\n",
       "      <td>9158.062311</td>\n",
       "    </tr>\n",
       "    <tr>\n",
       "      <th>2</th>\n",
       "      <td>9193.152950</td>\n",
       "      <td>831.956051</td>\n",
       "      <td>2771.631242</td>\n",
       "      <td>93.660616</td>\n",
       "    </tr>\n",
       "    <tr>\n",
       "      <th>3</th>\n",
       "      <td>8424.263139</td>\n",
       "      <td>6471.094228</td>\n",
       "      <td>8455.930498</td>\n",
       "      <td>2644.654341</td>\n",
       "    </tr>\n",
       "  </tbody>\n",
       "</table>\n",
       "</div>"
      ],
      "text/plain": [
       "             0            1            2            3\n",
       "0  6879.725216  8813.563651  9181.436428  2168.438198\n",
       "1  5663.192443  8607.770485  5090.198576  9158.062311\n",
       "2  9193.152950   831.956051  2771.631242    93.660616\n",
       "3  8424.263139  6471.094228  8455.930498  2644.654341"
      ]
     },
     "execution_count": 111,
     "metadata": {},
     "output_type": "execute_result"
    }
   ],
   "source": [
    "m2"
   ]
  },
  {
   "cell_type": "code",
   "execution_count": 112,
   "metadata": {},
   "outputs": [
    {
     "data": {
      "text/html": [
       "<div>\n",
       "<style scoped>\n",
       "    .dataframe tbody tr th:only-of-type {\n",
       "        vertical-align: middle;\n",
       "    }\n",
       "\n",
       "    .dataframe tbody tr th {\n",
       "        vertical-align: top;\n",
       "    }\n",
       "\n",
       "    .dataframe thead th {\n",
       "        text-align: right;\n",
       "    }\n",
       "</style>\n",
       "<table border=\"1\" class=\"dataframe\">\n",
       "  <thead>\n",
       "    <tr style=\"text-align: right;\">\n",
       "      <th></th>\n",
       "      <th>0</th>\n",
       "      <th>1</th>\n",
       "      <th>2</th>\n",
       "      <th>3</th>\n",
       "    </tr>\n",
       "  </thead>\n",
       "  <tbody>\n",
       "    <tr>\n",
       "      <th>0</th>\n",
       "      <td>0.000064</td>\n",
       "      <td>0.000024</td>\n",
       "      <td>0.000176</td>\n",
       "      <td>-0.000141</td>\n",
       "    </tr>\n",
       "    <tr>\n",
       "      <th>1</th>\n",
       "      <td>0.000513</td>\n",
       "      <td>0.000066</td>\n",
       "      <td>0.000175</td>\n",
       "      <td>-0.000654</td>\n",
       "    </tr>\n",
       "    <tr>\n",
       "      <th>2</th>\n",
       "      <td>-0.000355</td>\n",
       "      <td>-0.000102</td>\n",
       "      <td>-0.000270</td>\n",
       "      <td>0.000653</td>\n",
       "    </tr>\n",
       "    <tr>\n",
       "      <th>3</th>\n",
       "      <td>-0.000324</td>\n",
       "      <td>0.000089</td>\n",
       "      <td>-0.000123</td>\n",
       "      <td>0.000339</td>\n",
       "    </tr>\n",
       "  </tbody>\n",
       "</table>\n",
       "</div>"
      ],
      "text/plain": [
       "          0         1         2         3\n",
       "0  0.000064  0.000024  0.000176 -0.000141\n",
       "1  0.000513  0.000066  0.000175 -0.000654\n",
       "2 -0.000355 -0.000102 -0.000270  0.000653\n",
       "3 -0.000324  0.000089 -0.000123  0.000339"
      ]
     },
     "execution_count": 112,
     "metadata": {},
     "output_type": "execute_result"
    }
   ],
   "source": [
    "m2_inv"
   ]
  },
  {
   "cell_type": "code",
   "execution_count": 113,
   "metadata": {},
   "outputs": [
    {
     "data": {
      "text/html": [
       "<div>\n",
       "<style scoped>\n",
       "    .dataframe tbody tr th:only-of-type {\n",
       "        vertical-align: middle;\n",
       "    }\n",
       "\n",
       "    .dataframe tbody tr th {\n",
       "        vertical-align: top;\n",
       "    }\n",
       "\n",
       "    .dataframe thead tr th {\n",
       "        text-align: left;\n",
       "    }\n",
       "</style>\n",
       "<table border=\"1\" class=\"dataframe\">\n",
       "  <thead>\n",
       "    <tr>\n",
       "      <th></th>\n",
       "      <th colspan=\"4\" halign=\"left\">$m^{-1}$</th>\n",
       "      <th colspan=\"4\" halign=\"left\">$m^{-1}_2$</th>\n",
       "    </tr>\n",
       "    <tr>\n",
       "      <th></th>\n",
       "      <th>0</th>\n",
       "      <th>1</th>\n",
       "      <th>2</th>\n",
       "      <th>3</th>\n",
       "      <th>0</th>\n",
       "      <th>1</th>\n",
       "      <th>2</th>\n",
       "      <th>3</th>\n",
       "    </tr>\n",
       "  </thead>\n",
       "  <tbody>\n",
       "    <tr>\n",
       "      <th>0</th>\n",
       "      <td>0.000066</td>\n",
       "      <td>0.000025</td>\n",
       "      <td>0.000177</td>\n",
       "      <td>-0.000145</td>\n",
       "      <td>0.000064</td>\n",
       "      <td>0.000024</td>\n",
       "      <td>0.000176</td>\n",
       "      <td>-0.000141</td>\n",
       "    </tr>\n",
       "    <tr>\n",
       "      <th>1</th>\n",
       "      <td>0.000524</td>\n",
       "      <td>0.000069</td>\n",
       "      <td>0.000182</td>\n",
       "      <td>-0.000673</td>\n",
       "      <td>0.000513</td>\n",
       "      <td>0.000066</td>\n",
       "      <td>0.000175</td>\n",
       "      <td>-0.000654</td>\n",
       "    </tr>\n",
       "    <tr>\n",
       "      <th>2</th>\n",
       "      <td>-0.000364</td>\n",
       "      <td>-0.000105</td>\n",
       "      <td>-0.000277</td>\n",
       "      <td>0.000671</td>\n",
       "      <td>-0.000355</td>\n",
       "      <td>-0.000102</td>\n",
       "      <td>-0.000270</td>\n",
       "      <td>0.000653</td>\n",
       "    </tr>\n",
       "    <tr>\n",
       "      <th>3</th>\n",
       "      <td>-0.000333</td>\n",
       "      <td>0.000087</td>\n",
       "      <td>-0.000127</td>\n",
       "      <td>0.000352</td>\n",
       "      <td>-0.000324</td>\n",
       "      <td>0.000089</td>\n",
       "      <td>-0.000123</td>\n",
       "      <td>0.000339</td>\n",
       "    </tr>\n",
       "  </tbody>\n",
       "</table>\n",
       "</div>"
      ],
      "text/plain": [
       "   $m^{-1}$                               $m^{-1}_2$                      \\\n",
       "          0         1         2         3          0         1         2   \n",
       "0  0.000066  0.000025  0.000177 -0.000145   0.000064  0.000024  0.000176   \n",
       "1  0.000524  0.000069  0.000182 -0.000673   0.000513  0.000066  0.000175   \n",
       "2 -0.000364 -0.000105 -0.000277  0.000671  -0.000355 -0.000102 -0.000270   \n",
       "3 -0.000333  0.000087 -0.000127  0.000352  -0.000324  0.000089 -0.000123   \n",
       "\n",
       "             \n",
       "          3  \n",
       "0 -0.000141  \n",
       "1 -0.000654  \n",
       "2  0.000653  \n",
       "3  0.000339  "
      ]
     },
     "execution_count": 113,
     "metadata": {},
     "output_type": "execute_result"
    }
   ],
   "source": [
    "pd.concat([m_inv, m2_inv], axis=1, keys=[\"$m^{-1}$\", \"$m^{-1}_2$\"])"
   ]
  },
  {
   "cell_type": "markdown",
   "metadata": {},
   "source": [
    "### Check relative differences in $m$ and $m^{-1}$"
   ]
  },
  {
   "cell_type": "code",
   "execution_count": 114,
   "metadata": {},
   "outputs": [
    {
     "data": {
      "text/html": [
       "<style  type=\"text/css\" >\n",
       "    #T_3e015424_4e6d_11ea_9e8f_549f3515a0bcrow0_col0 {\n",
       "            background-color:  #f5ced6;\n",
       "            color:  #000000;\n",
       "        }    #T_3e015424_4e6d_11ea_9e8f_549f3515a0bcrow0_col1 {\n",
       "            background-color:  #d1deee;\n",
       "            color:  #000000;\n",
       "        }    #T_3e015424_4e6d_11ea_9e8f_549f3515a0bcrow0_col2 {\n",
       "            background-color:  #f2f2f2;\n",
       "            color:  #000000;\n",
       "        }    #T_3e015424_4e6d_11ea_9e8f_549f3515a0bcrow0_col3 {\n",
       "            background-color:  #f2f2f2;\n",
       "            color:  #000000;\n",
       "        }    #T_3e015424_4e6d_11ea_9e8f_549f3515a0bcrow1_col0 {\n",
       "            background-color:  #adc4e1;\n",
       "            color:  #000000;\n",
       "        }    #T_3e015424_4e6d_11ea_9e8f_549f3515a0bcrow1_col1 {\n",
       "            background-color:  #d73c5b;\n",
       "            color:  #f1f1f1;\n",
       "        }    #T_3e015424_4e6d_11ea_9e8f_549f3515a0bcrow1_col2 {\n",
       "            background-color:  #f2f2f2;\n",
       "            color:  #000000;\n",
       "        }    #T_3e015424_4e6d_11ea_9e8f_549f3515a0bcrow1_col3 {\n",
       "            background-color:  #f5ced6;\n",
       "            color:  #000000;\n",
       "        }    #T_3e015424_4e6d_11ea_9e8f_549f3515a0bcrow2_col0 {\n",
       "            background-color:  #eda8b6;\n",
       "            color:  #000000;\n",
       "        }    #T_3e015424_4e6d_11ea_9e8f_549f3515a0bcrow2_col1 {\n",
       "            background-color:  #d1deee;\n",
       "            color:  #000000;\n",
       "        }    #T_3e015424_4e6d_11ea_9e8f_549f3515a0bcrow2_col2 {\n",
       "            background-color:  #eda8b6;\n",
       "            color:  #000000;\n",
       "        }    #T_3e015424_4e6d_11ea_9e8f_549f3515a0bcrow2_col3 {\n",
       "            background-color:  #d1deee;\n",
       "            color:  #000000;\n",
       "        }    #T_3e015424_4e6d_11ea_9e8f_549f3515a0bcrow3_col0 {\n",
       "            background-color:  #f2f2f2;\n",
       "            color:  #000000;\n",
       "        }    #T_3e015424_4e6d_11ea_9e8f_549f3515a0bcrow3_col1 {\n",
       "            background-color:  #f2f2f2;\n",
       "            color:  #000000;\n",
       "        }    #T_3e015424_4e6d_11ea_9e8f_549f3515a0bcrow3_col2 {\n",
       "            background-color:  #4479bb;\n",
       "            color:  #000000;\n",
       "        }    #T_3e015424_4e6d_11ea_9e8f_549f3515a0bcrow3_col3 {\n",
       "            background-color:  #f5ced6;\n",
       "            color:  #000000;\n",
       "        }</style><table id=\"T_3e015424_4e6d_11ea_9e8f_549f3515a0bc\" ><thead>    <tr>        <th class=\"blank level0\" ></th>        <th class=\"col_heading level0 col0\" >0</th>        <th class=\"col_heading level0 col1\" >1</th>        <th class=\"col_heading level0 col2\" >2</th>        <th class=\"col_heading level0 col3\" >3</th>    </tr></thead><tbody>\n",
       "                <tr>\n",
       "                        <th id=\"T_3e015424_4e6d_11ea_9e8f_549f3515a0bclevel0_row0\" class=\"row_heading level0 row0\" >0</th>\n",
       "                        <td id=\"T_3e015424_4e6d_11ea_9e8f_549f3515a0bcrow0_col0\" class=\"data row0 col0\" >-0.001</td>\n",
       "                        <td id=\"T_3e015424_4e6d_11ea_9e8f_549f3515a0bcrow0_col1\" class=\"data row0 col1\" >0.001</td>\n",
       "                        <td id=\"T_3e015424_4e6d_11ea_9e8f_549f3515a0bcrow0_col2\" class=\"data row0 col2\" >-0.0001</td>\n",
       "                        <td id=\"T_3e015424_4e6d_11ea_9e8f_549f3515a0bcrow0_col3\" class=\"data row0 col3\" >0.0001</td>\n",
       "            </tr>\n",
       "            <tr>\n",
       "                        <th id=\"T_3e015424_4e6d_11ea_9e8f_549f3515a0bclevel0_row1\" class=\"row_heading level0 row1\" >1</th>\n",
       "                        <td id=\"T_3e015424_4e6d_11ea_9e8f_549f3515a0bcrow1_col0\" class=\"data row1 col0\" >0.002</td>\n",
       "                        <td id=\"T_3e015424_4e6d_11ea_9e8f_549f3515a0bcrow1_col1\" class=\"data row1 col1\" >-0.005</td>\n",
       "                        <td id=\"T_3e015424_4e6d_11ea_9e8f_549f3515a0bcrow1_col2\" class=\"data row1 col2\" >0.0001</td>\n",
       "                        <td id=\"T_3e015424_4e6d_11ea_9e8f_549f3515a0bcrow1_col3\" class=\"data row1 col3\" >-0.001</td>\n",
       "            </tr>\n",
       "            <tr>\n",
       "                        <th id=\"T_3e015424_4e6d_11ea_9e8f_549f3515a0bclevel0_row2\" class=\"row_heading level0 row2\" >2</th>\n",
       "                        <td id=\"T_3e015424_4e6d_11ea_9e8f_549f3515a0bcrow2_col0\" class=\"data row2 col0\" >-0.002</td>\n",
       "                        <td id=\"T_3e015424_4e6d_11ea_9e8f_549f3515a0bcrow2_col1\" class=\"data row2 col1\" >0.001</td>\n",
       "                        <td id=\"T_3e015424_4e6d_11ea_9e8f_549f3515a0bcrow2_col2\" class=\"data row2 col2\" >-0.002</td>\n",
       "                        <td id=\"T_3e015424_4e6d_11ea_9e8f_549f3515a0bcrow2_col3\" class=\"data row2 col3\" >0.001</td>\n",
       "            </tr>\n",
       "            <tr>\n",
       "                        <th id=\"T_3e015424_4e6d_11ea_9e8f_549f3515a0bclevel0_row3\" class=\"row_heading level0 row3\" >3</th>\n",
       "                        <td id=\"T_3e015424_4e6d_11ea_9e8f_549f3515a0bcrow3_col0\" class=\"data row3 col0\" >0.0001</td>\n",
       "                        <td id=\"T_3e015424_4e6d_11ea_9e8f_549f3515a0bcrow3_col1\" class=\"data row3 col1\" >-0.0001</td>\n",
       "                        <td id=\"T_3e015424_4e6d_11ea_9e8f_549f3515a0bcrow3_col2\" class=\"data row3 col2\" >0.005</td>\n",
       "                        <td id=\"T_3e015424_4e6d_11ea_9e8f_549f3515a0bcrow3_col3\" class=\"data row3 col3\" >-0.001</td>\n",
       "            </tr>\n",
       "    </tbody></table>"
      ],
      "text/plain": [
       "<pandas.io.formats.style.Styler at 0x2b99ab4b1cc0>"
      ]
     },
     "execution_count": 114,
     "metadata": {},
     "output_type": "execute_result"
    }
   ],
   "source": [
    "((m2-m)/m).style.background_gradient(cmap=cmap, axis=None)"
   ]
  },
  {
   "cell_type": "code",
   "execution_count": 115,
   "metadata": {},
   "outputs": [
    {
     "data": {
      "text/html": [
       "<style  type=\"text/css\" >\n",
       "    #T_3ea95a48_4e6d_11ea_9e8f_549f3515a0bcrow0_col0 {\n",
       "            background-color:  #e58195;\n",
       "            color:  #000000;\n",
       "        }    #T_3ea95a48_4e6d_11ea_9e8f_549f3515a0bcrow0_col1 {\n",
       "            background-color:  #eca1b0;\n",
       "            color:  #000000;\n",
       "        }    #T_3ea95a48_4e6d_11ea_9e8f_549f3515a0bcrow0_col2 {\n",
       "            background-color:  #e2eaf4;\n",
       "            color:  #000000;\n",
       "        }    #T_3ea95a48_4e6d_11ea_9e8f_549f3515a0bcrow0_col3 {\n",
       "            background-color:  #eb9dac;\n",
       "            color:  #000000;\n",
       "        }    #T_3ea95a48_4e6d_11ea_9e8f_549f3515a0bcrow1_col0 {\n",
       "            background-color:  #f2bdc8;\n",
       "            color:  #000000;\n",
       "        }    #T_3ea95a48_4e6d_11ea_9e8f_549f3515a0bcrow1_col1 {\n",
       "            background-color:  #d73c5b;\n",
       "            color:  #f1f1f1;\n",
       "        }    #T_3ea95a48_4e6d_11ea_9e8f_549f3515a0bcrow1_col2 {\n",
       "            background-color:  #de5e77;\n",
       "            color:  #000000;\n",
       "        }    #T_3ea95a48_4e6d_11ea_9e8f_549f3515a0bcrow1_col3 {\n",
       "            background-color:  #e993a4;\n",
       "            color:  #000000;\n",
       "        }    #T_3ea95a48_4e6d_11ea_9e8f_549f3515a0bcrow2_col0 {\n",
       "            background-color:  #eca1b0;\n",
       "            color:  #000000;\n",
       "        }    #T_3ea95a48_4e6d_11ea_9e8f_549f3515a0bcrow2_col1 {\n",
       "            background-color:  #ea97a8;\n",
       "            color:  #000000;\n",
       "        }    #T_3ea95a48_4e6d_11ea_9e8f_549f3515a0bcrow2_col2 {\n",
       "            background-color:  #eeacba;\n",
       "            color:  #000000;\n",
       "        }    #T_3ea95a48_4e6d_11ea_9e8f_549f3515a0bcrow2_col3 {\n",
       "            background-color:  #eb9ead;\n",
       "            color:  #000000;\n",
       "        }    #T_3ea95a48_4e6d_11ea_9e8f_549f3515a0bcrow3_col0 {\n",
       "            background-color:  #eda8b6;\n",
       "            color:  #000000;\n",
       "        }    #T_3ea95a48_4e6d_11ea_9e8f_549f3515a0bcrow3_col1 {\n",
       "            background-color:  #4479bb;\n",
       "            color:  #000000;\n",
       "        }    #T_3ea95a48_4e6d_11ea_9e8f_549f3515a0bcrow3_col2 {\n",
       "            background-color:  #e47a90;\n",
       "            color:  #000000;\n",
       "        }    #T_3ea95a48_4e6d_11ea_9e8f_549f3515a0bcrow3_col3 {\n",
       "            background-color:  #df617a;\n",
       "            color:  #000000;\n",
       "        }</style><table id=\"T_3ea95a48_4e6d_11ea_9e8f_549f3515a0bc\" ><thead>    <tr>        <th class=\"blank level0\" ></th>        <th class=\"col_heading level0 col0\" >0</th>        <th class=\"col_heading level0 col1\" >1</th>        <th class=\"col_heading level0 col2\" >2</th>        <th class=\"col_heading level0 col3\" >3</th>    </tr></thead><tbody>\n",
       "                <tr>\n",
       "                        <th id=\"T_3ea95a48_4e6d_11ea_9e8f_549f3515a0bclevel0_row0\" class=\"row_heading level0 row0\" >0</th>\n",
       "                        <td id=\"T_3ea95a48_4e6d_11ea_9e8f_549f3515a0bcrow0_col0\" class=\"data row0 col0\" >-0.032157</td>\n",
       "                        <td id=\"T_3ea95a48_4e6d_11ea_9e8f_549f3515a0bcrow0_col1\" class=\"data row0 col1\" >-0.026248</td>\n",
       "                        <td id=\"T_3ea95a48_4e6d_11ea_9e8f_549f3515a0bcrow0_col2\" class=\"data row0 col2\" >-0.00700636</td>\n",
       "                        <td id=\"T_3ea95a48_4e6d_11ea_9e8f_549f3515a0bcrow0_col3\" class=\"data row0 col3\" >-0.0271339</td>\n",
       "            </tr>\n",
       "            <tr>\n",
       "                        <th id=\"T_3ea95a48_4e6d_11ea_9e8f_549f3515a0bclevel0_row1\" class=\"row_heading level0 row1\" >1</th>\n",
       "                        <td id=\"T_3ea95a48_4e6d_11ea_9e8f_549f3515a0bcrow1_col0\" class=\"data row1 col0\" >-0.0207206</td>\n",
       "                        <td id=\"T_3ea95a48_4e6d_11ea_9e8f_549f3515a0bcrow1_col1\" class=\"data row1 col1\" >-0.045653</td>\n",
       "                        <td id=\"T_3ea95a48_4e6d_11ea_9e8f_549f3515a0bcrow1_col2\" class=\"data row1 col2\" >-0.0390377</td>\n",
       "                        <td id=\"T_3ea95a48_4e6d_11ea_9e8f_549f3515a0bcrow1_col3\" class=\"data row1 col3\" >-0.0289961</td>\n",
       "            </tr>\n",
       "            <tr>\n",
       "                        <th id=\"T_3ea95a48_4e6d_11ea_9e8f_549f3515a0bclevel0_row2\" class=\"row_heading level0 row2\" >2</th>\n",
       "                        <td id=\"T_3ea95a48_4e6d_11ea_9e8f_549f3515a0bcrow2_col0\" class=\"data row2 col0\" >-0.0262824</td>\n",
       "                        <td id=\"T_3ea95a48_4e6d_11ea_9e8f_549f3515a0bcrow2_col1\" class=\"data row2 col1\" >-0.0279896</td>\n",
       "                        <td id=\"T_3ea95a48_4e6d_11ea_9e8f_549f3515a0bcrow2_col2\" class=\"data row2 col2\" >-0.0240694</td>\n",
       "                        <td id=\"T_3ea95a48_4e6d_11ea_9e8f_549f3515a0bcrow2_col3\" class=\"data row2 col3\" >-0.0266689</td>\n",
       "            </tr>\n",
       "            <tr>\n",
       "                        <th id=\"T_3ea95a48_4e6d_11ea_9e8f_549f3515a0bclevel0_row3\" class=\"row_heading level0 row3\" >3</th>\n",
       "                        <td id=\"T_3ea95a48_4e6d_11ea_9e8f_549f3515a0bcrow3_col0\" class=\"data row3 col0\" >-0.0248591</td>\n",
       "                        <td id=\"T_3ea95a48_4e6d_11ea_9e8f_549f3515a0bcrow3_col1\" class=\"data row3 col1\" >0.0240264</td>\n",
       "                        <td id=\"T_3ea95a48_4e6d_11ea_9e8f_549f3515a0bcrow3_col2\" class=\"data row3 col2\" >-0.0335829</td>\n",
       "                        <td id=\"T_3ea95a48_4e6d_11ea_9e8f_549f3515a0bcrow3_col3\" class=\"data row3 col3\" >-0.0383917</td>\n",
       "            </tr>\n",
       "    </tbody></table>"
      ],
      "text/plain": [
       "<pandas.io.formats.style.Styler at 0x2b99ab4a37b8>"
      ]
     },
     "execution_count": 115,
     "metadata": {},
     "output_type": "execute_result"
    }
   ],
   "source": [
    "((m2_inv-m_inv)/m_inv).style.background_gradient(cmap=cmap, axis=None)"
   ]
  },
  {
   "cell_type": "code",
   "execution_count": 116,
   "metadata": {},
   "outputs": [
    {
     "data": {
      "text/plain": [
       "-0.00011875000000003154"
      ]
     },
     "execution_count": 116,
     "metadata": {},
     "output_type": "execute_result"
    }
   ],
   "source": [
    "((m2-m)/m).values.mean()"
   ]
  },
  {
   "cell_type": "markdown",
   "metadata": {},
   "source": [
    "The average relative difference for $m^{-1}$ and $m_2^{-1}$ is"
   ]
  },
  {
   "cell_type": "code",
   "execution_count": 117,
   "metadata": {},
   "outputs": [
    {
     "data": {
      "text/plain": [
       "-0.025298138716746854"
      ]
     },
     "execution_count": 117,
     "metadata": {},
     "output_type": "execute_result"
    }
   ],
   "source": [
    "((m2_inv - m_inv)/m_inv).values.mean()"
   ]
  },
  {
   "cell_type": "markdown",
   "metadata": {},
   "source": [
    "## Random $5\\times5$ matrix"
   ]
  },
  {
   "cell_type": "markdown",
   "metadata": {},
   "source": [
    "### Setup an invertible matrix and its inverse"
   ]
  },
  {
   "cell_type": "code",
   "execution_count": 118,
   "metadata": {},
   "outputs": [],
   "source": [
    "# np.random.seed(0) # 0\n",
    "m = pd.DataFrame(np.random.rand(5,5) * 10**(4))\n",
    "m_inv = pd.DataFrame(np.linalg.inv(m.values))"
   ]
  },
  {
   "cell_type": "code",
   "execution_count": 119,
   "metadata": {},
   "outputs": [
    {
     "data": {
      "text/html": [
       "<div>\n",
       "<style scoped>\n",
       "    .dataframe tbody tr th:only-of-type {\n",
       "        vertical-align: middle;\n",
       "    }\n",
       "\n",
       "    .dataframe tbody tr th {\n",
       "        vertical-align: top;\n",
       "    }\n",
       "\n",
       "    .dataframe thead th {\n",
       "        text-align: right;\n",
       "    }\n",
       "</style>\n",
       "<table border=\"1\" class=\"dataframe\">\n",
       "  <thead>\n",
       "    <tr style=\"text-align: right;\">\n",
       "      <th></th>\n",
       "      <th>0</th>\n",
       "      <th>1</th>\n",
       "      <th>2</th>\n",
       "      <th>3</th>\n",
       "      <th>4</th>\n",
       "    </tr>\n",
       "  </thead>\n",
       "  <tbody>\n",
       "    <tr>\n",
       "      <th>0</th>\n",
       "      <td>8121.687288</td>\n",
       "      <td>4799.771724</td>\n",
       "      <td>3927.847961</td>\n",
       "      <td>8360.787635</td>\n",
       "      <td>3373.961604</td>\n",
       "    </tr>\n",
       "    <tr>\n",
       "      <th>1</th>\n",
       "      <td>6481.718721</td>\n",
       "      <td>3682.415398</td>\n",
       "      <td>9571.551590</td>\n",
       "      <td>1403.507804</td>\n",
       "      <td>8700.872584</td>\n",
       "    </tr>\n",
       "    <tr>\n",
       "      <th>2</th>\n",
       "      <td>4736.080453</td>\n",
       "      <td>8009.107520</td>\n",
       "      <td>5204.774796</td>\n",
       "      <td>6788.795301</td>\n",
       "      <td>7206.326547</td>\n",
       "    </tr>\n",
       "    <tr>\n",
       "      <th>3</th>\n",
       "      <td>5820.197921</td>\n",
       "      <td>5373.732294</td>\n",
       "      <td>7586.156243</td>\n",
       "      <td>1059.076072</td>\n",
       "      <td>4736.004193</td>\n",
       "    </tr>\n",
       "    <tr>\n",
       "      <th>4</th>\n",
       "      <td>1863.323433</td>\n",
       "      <td>7369.181771</td>\n",
       "      <td>2165.503544</td>\n",
       "      <td>1352.181734</td>\n",
       "      <td>3241.410078</td>\n",
       "    </tr>\n",
       "  </tbody>\n",
       "</table>\n",
       "</div>"
      ],
      "text/plain": [
       "             0            1            2            3            4\n",
       "0  8121.687288  4799.771724  3927.847961  8360.787635  3373.961604\n",
       "1  6481.718721  3682.415398  9571.551590  1403.507804  8700.872584\n",
       "2  4736.080453  8009.107520  5204.774796  6788.795301  7206.326547\n",
       "3  5820.197921  5373.732294  7586.156243  1059.076072  4736.004193\n",
       "4  1863.323433  7369.181771  2165.503544  1352.181734  3241.410078"
      ]
     },
     "execution_count": 119,
     "metadata": {},
     "output_type": "execute_result"
    }
   ],
   "source": [
    "m"
   ]
  },
  {
   "cell_type": "code",
   "execution_count": 120,
   "metadata": {},
   "outputs": [
    {
     "data": {
      "text/html": [
       "<div>\n",
       "<style scoped>\n",
       "    .dataframe tbody tr th:only-of-type {\n",
       "        vertical-align: middle;\n",
       "    }\n",
       "\n",
       "    .dataframe tbody tr th {\n",
       "        vertical-align: top;\n",
       "    }\n",
       "\n",
       "    .dataframe thead th {\n",
       "        text-align: right;\n",
       "    }\n",
       "</style>\n",
       "<table border=\"1\" class=\"dataframe\">\n",
       "  <thead>\n",
       "    <tr style=\"text-align: right;\">\n",
       "      <th></th>\n",
       "      <th>0</th>\n",
       "      <th>1</th>\n",
       "      <th>2</th>\n",
       "      <th>3</th>\n",
       "      <th>4</th>\n",
       "    </tr>\n",
       "  </thead>\n",
       "  <tbody>\n",
       "    <tr>\n",
       "      <th>0</th>\n",
       "      <td>0.000294</td>\n",
       "      <td>0.000287</td>\n",
       "      <td>-0.000449</td>\n",
       "      <td>-0.000315</td>\n",
       "      <td>0.000383</td>\n",
       "    </tr>\n",
       "    <tr>\n",
       "      <th>1</th>\n",
       "      <td>-0.000021</td>\n",
       "      <td>-0.000090</td>\n",
       "      <td>0.000006</td>\n",
       "      <td>0.000084</td>\n",
       "      <td>0.000127</td>\n",
       "    </tr>\n",
       "    <tr>\n",
       "      <th>2</th>\n",
       "      <td>-0.000246</td>\n",
       "      <td>-0.000353</td>\n",
       "      <td>0.000386</td>\n",
       "      <td>0.000585</td>\n",
       "      <td>-0.000509</td>\n",
       "    </tr>\n",
       "    <tr>\n",
       "      <th>3</th>\n",
       "      <td>-0.000067</td>\n",
       "      <td>-0.000207</td>\n",
       "      <td>0.000309</td>\n",
       "      <td>0.000174</td>\n",
       "      <td>-0.000315</td>\n",
       "    </tr>\n",
       "    <tr>\n",
       "      <th>4</th>\n",
       "      <td>0.000071</td>\n",
       "      <td>0.000361</td>\n",
       "      <td>-0.000142</td>\n",
       "      <td>-0.000472</td>\n",
       "      <td>0.000273</td>\n",
       "    </tr>\n",
       "  </tbody>\n",
       "</table>\n",
       "</div>"
      ],
      "text/plain": [
       "          0         1         2         3         4\n",
       "0  0.000294  0.000287 -0.000449 -0.000315  0.000383\n",
       "1 -0.000021 -0.000090  0.000006  0.000084  0.000127\n",
       "2 -0.000246 -0.000353  0.000386  0.000585 -0.000509\n",
       "3 -0.000067 -0.000207  0.000309  0.000174 -0.000315\n",
       "4  0.000071  0.000361 -0.000142 -0.000472  0.000273"
      ]
     },
     "execution_count": 120,
     "metadata": {},
     "output_type": "execute_result"
    }
   ],
   "source": [
    "m_inv"
   ]
  },
  {
   "cell_type": "markdown",
   "metadata": {},
   "source": [
    "Check that $m \\times m^{-1} = 1$"
   ]
  },
  {
   "cell_type": "code",
   "execution_count": 121,
   "metadata": {},
   "outputs": [
    {
     "data": {
      "text/html": [
       "<div>\n",
       "<style scoped>\n",
       "    .dataframe tbody tr th:only-of-type {\n",
       "        vertical-align: middle;\n",
       "    }\n",
       "\n",
       "    .dataframe tbody tr th {\n",
       "        vertical-align: top;\n",
       "    }\n",
       "\n",
       "    .dataframe thead th {\n",
       "        text-align: right;\n",
       "    }\n",
       "</style>\n",
       "<table border=\"1\" class=\"dataframe\">\n",
       "  <thead>\n",
       "    <tr style=\"text-align: right;\">\n",
       "      <th></th>\n",
       "      <th>0</th>\n",
       "      <th>1</th>\n",
       "      <th>2</th>\n",
       "      <th>3</th>\n",
       "      <th>4</th>\n",
       "    </tr>\n",
       "  </thead>\n",
       "  <tbody>\n",
       "    <tr>\n",
       "      <th>0</th>\n",
       "      <td>1.000000e+00</td>\n",
       "      <td>8.809184e-17</td>\n",
       "      <td>1.301203e-16</td>\n",
       "      <td>-6.711951e-17</td>\n",
       "      <td>1.363828e-17</td>\n",
       "    </tr>\n",
       "    <tr>\n",
       "      <th>1</th>\n",
       "      <td>-9.969829e-17</td>\n",
       "      <td>1.000000e+00</td>\n",
       "      <td>-7.615270e-17</td>\n",
       "      <td>-1.478526e-16</td>\n",
       "      <td>3.171857e-16</td>\n",
       "    </tr>\n",
       "    <tr>\n",
       "      <th>2</th>\n",
       "      <td>1.442190e-16</td>\n",
       "      <td>1.832864e-16</td>\n",
       "      <td>1.000000e+00</td>\n",
       "      <td>-7.737204e-16</td>\n",
       "      <td>7.623226e-16</td>\n",
       "    </tr>\n",
       "    <tr>\n",
       "      <th>3</th>\n",
       "      <td>-1.350547e-17</td>\n",
       "      <td>-1.147656e-16</td>\n",
       "      <td>-2.731185e-16</td>\n",
       "      <td>1.000000e+00</td>\n",
       "      <td>3.596938e-16</td>\n",
       "    </tr>\n",
       "    <tr>\n",
       "      <th>4</th>\n",
       "      <td>3.160657e-18</td>\n",
       "      <td>-1.927510e-16</td>\n",
       "      <td>2.282030e-16</td>\n",
       "      <td>2.519868e-16</td>\n",
       "      <td>1.000000e+00</td>\n",
       "    </tr>\n",
       "  </tbody>\n",
       "</table>\n",
       "</div>"
      ],
      "text/plain": [
       "              0             1             2             3             4\n",
       "0  1.000000e+00  8.809184e-17  1.301203e-16 -6.711951e-17  1.363828e-17\n",
       "1 -9.969829e-17  1.000000e+00 -7.615270e-17 -1.478526e-16  3.171857e-16\n",
       "2  1.442190e-16  1.832864e-16  1.000000e+00 -7.737204e-16  7.623226e-16\n",
       "3 -1.350547e-17 -1.147656e-16 -2.731185e-16  1.000000e+00  3.596938e-16\n",
       "4  3.160657e-18 -1.927510e-16  2.282030e-16  2.519868e-16  1.000000e+00"
      ]
     },
     "execution_count": 121,
     "metadata": {},
     "output_type": "execute_result"
    }
   ],
   "source": [
    "m.dot(m_inv)"
   ]
  },
  {
   "cell_type": "markdown",
   "metadata": {},
   "source": [
    "### Add small perturbations to entries"
   ]
  },
  {
   "cell_type": "code",
   "execution_count": 122,
   "metadata": {},
   "outputs": [],
   "source": [
    "deltas = [0.001, 0.005, 0.002, 0.0001, 0.001, 0.001, 0.001, 0.002, 0.0001, 0.005]\n",
    "m2 = m.copy()"
   ]
  },
  {
   "cell_type": "code",
   "execution_count": 123,
   "metadata": {},
   "outputs": [],
   "source": [
    "# np.random.seed(0)"
   ]
  },
  {
   "cell_type": "code",
   "execution_count": 124,
   "metadata": {},
   "outputs": [],
   "source": [
    "for i in range(len(m2)):\n",
    "    for j in range(len(m2)):\n",
    "        if (i+j)%2:\n",
    "            m2.iloc[i, j] += np.random.choice(deltas)*m.iloc[i, j]\n",
    "        else:\n",
    "            m2.iloc[i, j] -= np.random.choice(deltas)*m.iloc[i, j]\n",
    "m2_inv = pd.DataFrame(np.linalg.inv(m2.values))"
   ]
  },
  {
   "cell_type": "code",
   "execution_count": 125,
   "metadata": {},
   "outputs": [
    {
     "data": {
      "text/html": [
       "<div>\n",
       "<style scoped>\n",
       "    .dataframe tbody tr th:only-of-type {\n",
       "        vertical-align: middle;\n",
       "    }\n",
       "\n",
       "    .dataframe tbody tr th {\n",
       "        vertical-align: top;\n",
       "    }\n",
       "\n",
       "    .dataframe thead th {\n",
       "        text-align: right;\n",
       "    }\n",
       "</style>\n",
       "<table border=\"1\" class=\"dataframe\">\n",
       "  <thead>\n",
       "    <tr style=\"text-align: right;\">\n",
       "      <th></th>\n",
       "      <th>0</th>\n",
       "      <th>1</th>\n",
       "      <th>2</th>\n",
       "      <th>3</th>\n",
       "      <th>4</th>\n",
       "    </tr>\n",
       "  </thead>\n",
       "  <tbody>\n",
       "    <tr>\n",
       "      <th>0</th>\n",
       "      <td>8113.565600</td>\n",
       "      <td>4804.571495</td>\n",
       "      <td>3927.455176</td>\n",
       "      <td>8361.623714</td>\n",
       "      <td>3367.213681</td>\n",
       "    </tr>\n",
       "    <tr>\n",
       "      <th>1</th>\n",
       "      <td>6514.127314</td>\n",
       "      <td>3682.047157</td>\n",
       "      <td>9581.123141</td>\n",
       "      <td>1400.700789</td>\n",
       "      <td>8709.573456</td>\n",
       "    </tr>\n",
       "    <tr>\n",
       "      <th>2</th>\n",
       "      <td>4726.608292</td>\n",
       "      <td>8017.116627</td>\n",
       "      <td>5204.254318</td>\n",
       "      <td>6789.474181</td>\n",
       "      <td>7170.294915</td>\n",
       "    </tr>\n",
       "    <tr>\n",
       "      <th>3</th>\n",
       "      <td>5826.018119</td>\n",
       "      <td>5362.984830</td>\n",
       "      <td>7601.328556</td>\n",
       "      <td>1058.970164</td>\n",
       "      <td>4759.684214</td>\n",
       "    </tr>\n",
       "    <tr>\n",
       "      <th>4</th>\n",
       "      <td>1861.460110</td>\n",
       "      <td>7406.027680</td>\n",
       "      <td>2165.286994</td>\n",
       "      <td>1358.942643</td>\n",
       "      <td>3238.168668</td>\n",
       "    </tr>\n",
       "  </tbody>\n",
       "</table>\n",
       "</div>"
      ],
      "text/plain": [
       "             0            1            2            3            4\n",
       "0  8113.565600  4804.571495  3927.455176  8361.623714  3367.213681\n",
       "1  6514.127314  3682.047157  9581.123141  1400.700789  8709.573456\n",
       "2  4726.608292  8017.116627  5204.254318  6789.474181  7170.294915\n",
       "3  5826.018119  5362.984830  7601.328556  1058.970164  4759.684214\n",
       "4  1861.460110  7406.027680  2165.286994  1358.942643  3238.168668"
      ]
     },
     "execution_count": 125,
     "metadata": {},
     "output_type": "execute_result"
    }
   ],
   "source": [
    "m2"
   ]
  },
  {
   "cell_type": "code",
   "execution_count": 126,
   "metadata": {},
   "outputs": [
    {
     "data": {
      "text/html": [
       "<div>\n",
       "<style scoped>\n",
       "    .dataframe tbody tr th:only-of-type {\n",
       "        vertical-align: middle;\n",
       "    }\n",
       "\n",
       "    .dataframe tbody tr th {\n",
       "        vertical-align: top;\n",
       "    }\n",
       "\n",
       "    .dataframe thead th {\n",
       "        text-align: right;\n",
       "    }\n",
       "</style>\n",
       "<table border=\"1\" class=\"dataframe\">\n",
       "  <thead>\n",
       "    <tr style=\"text-align: right;\">\n",
       "      <th></th>\n",
       "      <th>0</th>\n",
       "      <th>1</th>\n",
       "      <th>2</th>\n",
       "      <th>3</th>\n",
       "      <th>4</th>\n",
       "    </tr>\n",
       "  </thead>\n",
       "  <tbody>\n",
       "    <tr>\n",
       "      <th>0</th>\n",
       "      <td>0.000291</td>\n",
       "      <td>0.000282</td>\n",
       "      <td>-0.000444</td>\n",
       "      <td>-0.000309</td>\n",
       "      <td>0.000375</td>\n",
       "    </tr>\n",
       "    <tr>\n",
       "      <th>1</th>\n",
       "      <td>-0.000020</td>\n",
       "      <td>-0.000088</td>\n",
       "      <td>0.000005</td>\n",
       "      <td>0.000082</td>\n",
       "      <td>0.000127</td>\n",
       "    </tr>\n",
       "    <tr>\n",
       "      <th>2</th>\n",
       "      <td>-0.000242</td>\n",
       "      <td>-0.000351</td>\n",
       "      <td>0.000381</td>\n",
       "      <td>0.000581</td>\n",
       "      <td>-0.000501</td>\n",
       "    </tr>\n",
       "    <tr>\n",
       "      <th>3</th>\n",
       "      <td>-0.000065</td>\n",
       "      <td>-0.000203</td>\n",
       "      <td>0.000304</td>\n",
       "      <td>0.000169</td>\n",
       "      <td>-0.000309</td>\n",
       "    </tr>\n",
       "    <tr>\n",
       "      <th>4</th>\n",
       "      <td>0.000068</td>\n",
       "      <td>0.000360</td>\n",
       "      <td>-0.000138</td>\n",
       "      <td>-0.000470</td>\n",
       "      <td>0.000267</td>\n",
       "    </tr>\n",
       "  </tbody>\n",
       "</table>\n",
       "</div>"
      ],
      "text/plain": [
       "          0         1         2         3         4\n",
       "0  0.000291  0.000282 -0.000444 -0.000309  0.000375\n",
       "1 -0.000020 -0.000088  0.000005  0.000082  0.000127\n",
       "2 -0.000242 -0.000351  0.000381  0.000581 -0.000501\n",
       "3 -0.000065 -0.000203  0.000304  0.000169 -0.000309\n",
       "4  0.000068  0.000360 -0.000138 -0.000470  0.000267"
      ]
     },
     "execution_count": 126,
     "metadata": {},
     "output_type": "execute_result"
    }
   ],
   "source": [
    "m2_inv"
   ]
  },
  {
   "cell_type": "code",
   "execution_count": 127,
   "metadata": {},
   "outputs": [
    {
     "data": {
      "text/html": [
       "<div>\n",
       "<style scoped>\n",
       "    .dataframe tbody tr th:only-of-type {\n",
       "        vertical-align: middle;\n",
       "    }\n",
       "\n",
       "    .dataframe tbody tr th {\n",
       "        vertical-align: top;\n",
       "    }\n",
       "\n",
       "    .dataframe thead tr th {\n",
       "        text-align: left;\n",
       "    }\n",
       "</style>\n",
       "<table border=\"1\" class=\"dataframe\">\n",
       "  <thead>\n",
       "    <tr>\n",
       "      <th></th>\n",
       "      <th colspan=\"5\" halign=\"left\">$m^{-1}$</th>\n",
       "      <th colspan=\"5\" halign=\"left\">$m^{-1}_2$</th>\n",
       "    </tr>\n",
       "    <tr>\n",
       "      <th></th>\n",
       "      <th>0</th>\n",
       "      <th>1</th>\n",
       "      <th>2</th>\n",
       "      <th>3</th>\n",
       "      <th>4</th>\n",
       "      <th>0</th>\n",
       "      <th>1</th>\n",
       "      <th>2</th>\n",
       "      <th>3</th>\n",
       "      <th>4</th>\n",
       "    </tr>\n",
       "  </thead>\n",
       "  <tbody>\n",
       "    <tr>\n",
       "      <th>0</th>\n",
       "      <td>0.000294</td>\n",
       "      <td>0.000287</td>\n",
       "      <td>-0.000449</td>\n",
       "      <td>-0.000315</td>\n",
       "      <td>0.000383</td>\n",
       "      <td>0.000291</td>\n",
       "      <td>0.000282</td>\n",
       "      <td>-0.000444</td>\n",
       "      <td>-0.000309</td>\n",
       "      <td>0.000375</td>\n",
       "    </tr>\n",
       "    <tr>\n",
       "      <th>1</th>\n",
       "      <td>-0.000021</td>\n",
       "      <td>-0.000090</td>\n",
       "      <td>0.000006</td>\n",
       "      <td>0.000084</td>\n",
       "      <td>0.000127</td>\n",
       "      <td>-0.000020</td>\n",
       "      <td>-0.000088</td>\n",
       "      <td>0.000005</td>\n",
       "      <td>0.000082</td>\n",
       "      <td>0.000127</td>\n",
       "    </tr>\n",
       "    <tr>\n",
       "      <th>2</th>\n",
       "      <td>-0.000246</td>\n",
       "      <td>-0.000353</td>\n",
       "      <td>0.000386</td>\n",
       "      <td>0.000585</td>\n",
       "      <td>-0.000509</td>\n",
       "      <td>-0.000242</td>\n",
       "      <td>-0.000351</td>\n",
       "      <td>0.000381</td>\n",
       "      <td>0.000581</td>\n",
       "      <td>-0.000501</td>\n",
       "    </tr>\n",
       "    <tr>\n",
       "      <th>3</th>\n",
       "      <td>-0.000067</td>\n",
       "      <td>-0.000207</td>\n",
       "      <td>0.000309</td>\n",
       "      <td>0.000174</td>\n",
       "      <td>-0.000315</td>\n",
       "      <td>-0.000065</td>\n",
       "      <td>-0.000203</td>\n",
       "      <td>0.000304</td>\n",
       "      <td>0.000169</td>\n",
       "      <td>-0.000309</td>\n",
       "    </tr>\n",
       "    <tr>\n",
       "      <th>4</th>\n",
       "      <td>0.000071</td>\n",
       "      <td>0.000361</td>\n",
       "      <td>-0.000142</td>\n",
       "      <td>-0.000472</td>\n",
       "      <td>0.000273</td>\n",
       "      <td>0.000068</td>\n",
       "      <td>0.000360</td>\n",
       "      <td>-0.000138</td>\n",
       "      <td>-0.000470</td>\n",
       "      <td>0.000267</td>\n",
       "    </tr>\n",
       "  </tbody>\n",
       "</table>\n",
       "</div>"
      ],
      "text/plain": [
       "   $m^{-1}$                                         $m^{-1}_2$            \\\n",
       "          0         1         2         3         4          0         1   \n",
       "0  0.000294  0.000287 -0.000449 -0.000315  0.000383   0.000291  0.000282   \n",
       "1 -0.000021 -0.000090  0.000006  0.000084  0.000127  -0.000020 -0.000088   \n",
       "2 -0.000246 -0.000353  0.000386  0.000585 -0.000509  -0.000242 -0.000351   \n",
       "3 -0.000067 -0.000207  0.000309  0.000174 -0.000315  -0.000065 -0.000203   \n",
       "4  0.000071  0.000361 -0.000142 -0.000472  0.000273   0.000068  0.000360   \n",
       "\n",
       "                                 \n",
       "          2         3         4  \n",
       "0 -0.000444 -0.000309  0.000375  \n",
       "1  0.000005  0.000082  0.000127  \n",
       "2  0.000381  0.000581 -0.000501  \n",
       "3  0.000304  0.000169 -0.000309  \n",
       "4 -0.000138 -0.000470  0.000267  "
      ]
     },
     "execution_count": 127,
     "metadata": {},
     "output_type": "execute_result"
    }
   ],
   "source": [
    "pd.concat([m_inv, m2_inv], axis=1, keys=[\"$m^{-1}$\", \"$m^{-1}_2$\"])"
   ]
  },
  {
   "cell_type": "markdown",
   "metadata": {},
   "source": [
    "### Check relative differences in $m$ and $m^{-1}$"
   ]
  },
  {
   "cell_type": "code",
   "execution_count": 128,
   "metadata": {},
   "outputs": [
    {
     "data": {
      "text/html": [
       "<style  type=\"text/css\" >\n",
       "    #T_834e3f92_4e6d_11ea_9e8f_549f3515a0bcrow0_col0 {\n",
       "            background-color:  #f5ced6;\n",
       "            color:  #000000;\n",
       "        }    #T_834e3f92_4e6d_11ea_9e8f_549f3515a0bcrow0_col1 {\n",
       "            background-color:  #d1deee;\n",
       "            color:  #000000;\n",
       "        }    #T_834e3f92_4e6d_11ea_9e8f_549f3515a0bcrow0_col2 {\n",
       "            background-color:  #f2f2f2;\n",
       "            color:  #000000;\n",
       "        }    #T_834e3f92_4e6d_11ea_9e8f_549f3515a0bcrow0_col3 {\n",
       "            background-color:  #f2f2f2;\n",
       "            color:  #000000;\n",
       "        }    #T_834e3f92_4e6d_11ea_9e8f_549f3515a0bcrow0_col4 {\n",
       "            background-color:  #eda8b6;\n",
       "            color:  #000000;\n",
       "        }    #T_834e3f92_4e6d_11ea_9e8f_549f3515a0bcrow1_col0 {\n",
       "            background-color:  #4479bb;\n",
       "            color:  #000000;\n",
       "        }    #T_834e3f92_4e6d_11ea_9e8f_549f3515a0bcrow1_col1 {\n",
       "            background-color:  #f2f2f2;\n",
       "            color:  #000000;\n",
       "        }    #T_834e3f92_4e6d_11ea_9e8f_549f3515a0bcrow1_col2 {\n",
       "            background-color:  #d1deee;\n",
       "            color:  #000000;\n",
       "        }    #T_834e3f92_4e6d_11ea_9e8f_549f3515a0bcrow1_col3 {\n",
       "            background-color:  #eda8b6;\n",
       "            color:  #000000;\n",
       "        }    #T_834e3f92_4e6d_11ea_9e8f_549f3515a0bcrow1_col4 {\n",
       "            background-color:  #d1deee;\n",
       "            color:  #000000;\n",
       "        }    #T_834e3f92_4e6d_11ea_9e8f_549f3515a0bcrow2_col0 {\n",
       "            background-color:  #eda8b6;\n",
       "            color:  #000000;\n",
       "        }    #T_834e3f92_4e6d_11ea_9e8f_549f3515a0bcrow2_col1 {\n",
       "            background-color:  #d1deee;\n",
       "            color:  #000000;\n",
       "        }    #T_834e3f92_4e6d_11ea_9e8f_549f3515a0bcrow2_col2 {\n",
       "            background-color:  #f2f2f2;\n",
       "            color:  #000000;\n",
       "        }    #T_834e3f92_4e6d_11ea_9e8f_549f3515a0bcrow2_col3 {\n",
       "            background-color:  #f2f2f2;\n",
       "            color:  #000000;\n",
       "        }    #T_834e3f92_4e6d_11ea_9e8f_549f3515a0bcrow2_col4 {\n",
       "            background-color:  #d73c5b;\n",
       "            color:  #f1f1f1;\n",
       "        }    #T_834e3f92_4e6d_11ea_9e8f_549f3515a0bcrow3_col0 {\n",
       "            background-color:  #d1deee;\n",
       "            color:  #000000;\n",
       "        }    #T_834e3f92_4e6d_11ea_9e8f_549f3515a0bcrow3_col1 {\n",
       "            background-color:  #eda8b6;\n",
       "            color:  #000000;\n",
       "        }    #T_834e3f92_4e6d_11ea_9e8f_549f3515a0bcrow3_col2 {\n",
       "            background-color:  #adc4e1;\n",
       "            color:  #000000;\n",
       "        }    #T_834e3f92_4e6d_11ea_9e8f_549f3515a0bcrow3_col3 {\n",
       "            background-color:  #f2f2f2;\n",
       "            color:  #000000;\n",
       "        }    #T_834e3f92_4e6d_11ea_9e8f_549f3515a0bcrow3_col4 {\n",
       "            background-color:  #4479bb;\n",
       "            color:  #000000;\n",
       "        }    #T_834e3f92_4e6d_11ea_9e8f_549f3515a0bcrow4_col0 {\n",
       "            background-color:  #f5ced6;\n",
       "            color:  #000000;\n",
       "        }    #T_834e3f92_4e6d_11ea_9e8f_549f3515a0bcrow4_col1 {\n",
       "            background-color:  #4479bb;\n",
       "            color:  #000000;\n",
       "        }    #T_834e3f92_4e6d_11ea_9e8f_549f3515a0bcrow4_col2 {\n",
       "            background-color:  #f2f2f2;\n",
       "            color:  #000000;\n",
       "        }    #T_834e3f92_4e6d_11ea_9e8f_549f3515a0bcrow4_col3 {\n",
       "            background-color:  #4479bb;\n",
       "            color:  #000000;\n",
       "        }    #T_834e3f92_4e6d_11ea_9e8f_549f3515a0bcrow4_col4 {\n",
       "            background-color:  #f5ced6;\n",
       "            color:  #000000;\n",
       "        }</style><table id=\"T_834e3f92_4e6d_11ea_9e8f_549f3515a0bc\" ><thead>    <tr>        <th class=\"blank level0\" ></th>        <th class=\"col_heading level0 col0\" >0</th>        <th class=\"col_heading level0 col1\" >1</th>        <th class=\"col_heading level0 col2\" >2</th>        <th class=\"col_heading level0 col3\" >3</th>        <th class=\"col_heading level0 col4\" >4</th>    </tr></thead><tbody>\n",
       "                <tr>\n",
       "                        <th id=\"T_834e3f92_4e6d_11ea_9e8f_549f3515a0bclevel0_row0\" class=\"row_heading level0 row0\" >0</th>\n",
       "                        <td id=\"T_834e3f92_4e6d_11ea_9e8f_549f3515a0bcrow0_col0\" class=\"data row0 col0\" >-0.001</td>\n",
       "                        <td id=\"T_834e3f92_4e6d_11ea_9e8f_549f3515a0bcrow0_col1\" class=\"data row0 col1\" >0.001</td>\n",
       "                        <td id=\"T_834e3f92_4e6d_11ea_9e8f_549f3515a0bcrow0_col2\" class=\"data row0 col2\" >-0.0001</td>\n",
       "                        <td id=\"T_834e3f92_4e6d_11ea_9e8f_549f3515a0bcrow0_col3\" class=\"data row0 col3\" >0.0001</td>\n",
       "                        <td id=\"T_834e3f92_4e6d_11ea_9e8f_549f3515a0bcrow0_col4\" class=\"data row0 col4\" >-0.002</td>\n",
       "            </tr>\n",
       "            <tr>\n",
       "                        <th id=\"T_834e3f92_4e6d_11ea_9e8f_549f3515a0bclevel0_row1\" class=\"row_heading level0 row1\" >1</th>\n",
       "                        <td id=\"T_834e3f92_4e6d_11ea_9e8f_549f3515a0bcrow1_col0\" class=\"data row1 col0\" >0.005</td>\n",
       "                        <td id=\"T_834e3f92_4e6d_11ea_9e8f_549f3515a0bcrow1_col1\" class=\"data row1 col1\" >-0.0001</td>\n",
       "                        <td id=\"T_834e3f92_4e6d_11ea_9e8f_549f3515a0bcrow1_col2\" class=\"data row1 col2\" >0.001</td>\n",
       "                        <td id=\"T_834e3f92_4e6d_11ea_9e8f_549f3515a0bcrow1_col3\" class=\"data row1 col3\" >-0.002</td>\n",
       "                        <td id=\"T_834e3f92_4e6d_11ea_9e8f_549f3515a0bcrow1_col4\" class=\"data row1 col4\" >0.001</td>\n",
       "            </tr>\n",
       "            <tr>\n",
       "                        <th id=\"T_834e3f92_4e6d_11ea_9e8f_549f3515a0bclevel0_row2\" class=\"row_heading level0 row2\" >2</th>\n",
       "                        <td id=\"T_834e3f92_4e6d_11ea_9e8f_549f3515a0bcrow2_col0\" class=\"data row2 col0\" >-0.002</td>\n",
       "                        <td id=\"T_834e3f92_4e6d_11ea_9e8f_549f3515a0bcrow2_col1\" class=\"data row2 col1\" >0.001</td>\n",
       "                        <td id=\"T_834e3f92_4e6d_11ea_9e8f_549f3515a0bcrow2_col2\" class=\"data row2 col2\" >-0.0001</td>\n",
       "                        <td id=\"T_834e3f92_4e6d_11ea_9e8f_549f3515a0bcrow2_col3\" class=\"data row2 col3\" >0.0001</td>\n",
       "                        <td id=\"T_834e3f92_4e6d_11ea_9e8f_549f3515a0bcrow2_col4\" class=\"data row2 col4\" >-0.005</td>\n",
       "            </tr>\n",
       "            <tr>\n",
       "                        <th id=\"T_834e3f92_4e6d_11ea_9e8f_549f3515a0bclevel0_row3\" class=\"row_heading level0 row3\" >3</th>\n",
       "                        <td id=\"T_834e3f92_4e6d_11ea_9e8f_549f3515a0bcrow3_col0\" class=\"data row3 col0\" >0.001</td>\n",
       "                        <td id=\"T_834e3f92_4e6d_11ea_9e8f_549f3515a0bcrow3_col1\" class=\"data row3 col1\" >-0.002</td>\n",
       "                        <td id=\"T_834e3f92_4e6d_11ea_9e8f_549f3515a0bcrow3_col2\" class=\"data row3 col2\" >0.002</td>\n",
       "                        <td id=\"T_834e3f92_4e6d_11ea_9e8f_549f3515a0bcrow3_col3\" class=\"data row3 col3\" >-0.0001</td>\n",
       "                        <td id=\"T_834e3f92_4e6d_11ea_9e8f_549f3515a0bcrow3_col4\" class=\"data row3 col4\" >0.005</td>\n",
       "            </tr>\n",
       "            <tr>\n",
       "                        <th id=\"T_834e3f92_4e6d_11ea_9e8f_549f3515a0bclevel0_row4\" class=\"row_heading level0 row4\" >4</th>\n",
       "                        <td id=\"T_834e3f92_4e6d_11ea_9e8f_549f3515a0bcrow4_col0\" class=\"data row4 col0\" >-0.001</td>\n",
       "                        <td id=\"T_834e3f92_4e6d_11ea_9e8f_549f3515a0bcrow4_col1\" class=\"data row4 col1\" >0.005</td>\n",
       "                        <td id=\"T_834e3f92_4e6d_11ea_9e8f_549f3515a0bcrow4_col2\" class=\"data row4 col2\" >-0.0001</td>\n",
       "                        <td id=\"T_834e3f92_4e6d_11ea_9e8f_549f3515a0bcrow4_col3\" class=\"data row4 col3\" >0.005</td>\n",
       "                        <td id=\"T_834e3f92_4e6d_11ea_9e8f_549f3515a0bcrow4_col4\" class=\"data row4 col4\" >-0.001</td>\n",
       "            </tr>\n",
       "    </tbody></table>"
      ],
      "text/plain": [
       "<pandas.io.formats.style.Styler at 0x2b99ab46fd68>"
      ]
     },
     "execution_count": 128,
     "metadata": {},
     "output_type": "execute_result"
    }
   ],
   "source": [
    "((m2-m)/m).style.background_gradient(cmap=cmap, axis=None)"
   ]
  },
  {
   "cell_type": "code",
   "execution_count": 129,
   "metadata": {},
   "outputs": [
    {
     "data": {
      "text/html": [
       "<style  type=\"text/css\" >\n",
       "    #T_8391325c_4e6d_11ea_9e8f_549f3515a0bcrow0_col0 {\n",
       "            background-color:  #5b89c3;\n",
       "            color:  #000000;\n",
       "        }    #T_8391325c_4e6d_11ea_9e8f_549f3515a0bcrow0_col1 {\n",
       "            background-color:  #618ec5;\n",
       "            color:  #000000;\n",
       "        }    #T_8391325c_4e6d_11ea_9e8f_549f3515a0bcrow0_col2 {\n",
       "            background-color:  #5b89c3;\n",
       "            color:  #000000;\n",
       "        }    #T_8391325c_4e6d_11ea_9e8f_549f3515a0bcrow0_col3 {\n",
       "            background-color:  #6691c7;\n",
       "            color:  #000000;\n",
       "        }    #T_8391325c_4e6d_11ea_9e8f_549f3515a0bcrow0_col4 {\n",
       "            background-color:  #6892c8;\n",
       "            color:  #000000;\n",
       "        }    #T_8391325c_4e6d_11ea_9e8f_549f3515a0bcrow1_col0 {\n",
       "            background-color:  #8babd4;\n",
       "            color:  #000000;\n",
       "        }    #T_8391325c_4e6d_11ea_9e8f_549f3515a0bcrow1_col1 {\n",
       "            background-color:  #5e8bc4;\n",
       "            color:  #000000;\n",
       "        }    #T_8391325c_4e6d_11ea_9e8f_549f3515a0bcrow1_col2 {\n",
       "            background-color:  #d73c5b;\n",
       "            color:  #f1f1f1;\n",
       "        }    #T_8391325c_4e6d_11ea_9e8f_549f3515a0bcrow1_col3 {\n",
       "            background-color:  #5f8cc5;\n",
       "            color:  #000000;\n",
       "        }    #T_8391325c_4e6d_11ea_9e8f_549f3515a0bcrow1_col4 {\n",
       "            background-color:  #4479bb;\n",
       "            color:  #000000;\n",
       "        }    #T_8391325c_4e6d_11ea_9e8f_549f3515a0bcrow2_col0 {\n",
       "            background-color:  #5e8bc4;\n",
       "            color:  #000000;\n",
       "        }    #T_8391325c_4e6d_11ea_9e8f_549f3515a0bcrow2_col1 {\n",
       "            background-color:  #5384c0;\n",
       "            color:  #000000;\n",
       "        }    #T_8391325c_4e6d_11ea_9e8f_549f3515a0bcrow2_col2 {\n",
       "            background-color:  #5e8bc4;\n",
       "            color:  #000000;\n",
       "        }    #T_8391325c_4e6d_11ea_9e8f_549f3515a0bcrow2_col3 {\n",
       "            background-color:  #5485c1;\n",
       "            color:  #000000;\n",
       "        }    #T_8391325c_4e6d_11ea_9e8f_549f3515a0bcrow2_col4 {\n",
       "            background-color:  #628fc6;\n",
       "            color:  #000000;\n",
       "        }    #T_8391325c_4e6d_11ea_9e8f_549f3515a0bcrow3_col0 {\n",
       "            background-color:  #7fa3d0;\n",
       "            color:  #000000;\n",
       "        }    #T_8391325c_4e6d_11ea_9e8f_549f3515a0bcrow3_col1 {\n",
       "            background-color:  #6590c7;\n",
       "            color:  #000000;\n",
       "        }    #T_8391325c_4e6d_11ea_9e8f_549f3515a0bcrow3_col2 {\n",
       "            background-color:  #5e8bc4;\n",
       "            color:  #000000;\n",
       "        }    #T_8391325c_4e6d_11ea_9e8f_549f3515a0bcrow3_col3 {\n",
       "            background-color:  #749bcc;\n",
       "            color:  #000000;\n",
       "        }    #T_8391325c_4e6d_11ea_9e8f_549f3515a0bcrow3_col4 {\n",
       "            background-color:  #6691c7;\n",
       "            color:  #000000;\n",
       "        }    #T_8391325c_4e6d_11ea_9e8f_549f3515a0bcrow4_col0 {\n",
       "            background-color:  #86a8d3;\n",
       "            color:  #000000;\n",
       "        }    #T_8391325c_4e6d_11ea_9e8f_549f3515a0bcrow4_col1 {\n",
       "            background-color:  #5081bf;\n",
       "            color:  #000000;\n",
       "        }    #T_8391325c_4e6d_11ea_9e8f_549f3515a0bcrow4_col2 {\n",
       "            background-color:  #789ece;\n",
       "            color:  #000000;\n",
       "        }    #T_8391325c_4e6d_11ea_9e8f_549f3515a0bcrow4_col3 {\n",
       "            background-color:  #5182bf;\n",
       "            color:  #000000;\n",
       "        }    #T_8391325c_4e6d_11ea_9e8f_549f3515a0bcrow4_col4 {\n",
       "            background-color:  #6993c8;\n",
       "            color:  #000000;\n",
       "        }</style><table id=\"T_8391325c_4e6d_11ea_9e8f_549f3515a0bc\" ><thead>    <tr>        <th class=\"blank level0\" ></th>        <th class=\"col_heading level0 col0\" >0</th>        <th class=\"col_heading level0 col1\" >1</th>        <th class=\"col_heading level0 col2\" >2</th>        <th class=\"col_heading level0 col3\" >3</th>        <th class=\"col_heading level0 col4\" >4</th>    </tr></thead><tbody>\n",
       "                <tr>\n",
       "                        <th id=\"T_8391325c_4e6d_11ea_9e8f_549f3515a0bclevel0_row0\" class=\"row_heading level0 row0\" >0</th>\n",
       "                        <td id=\"T_8391325c_4e6d_11ea_9e8f_549f3515a0bcrow0_col0\" class=\"data row0 col0\" >-0.0105724</td>\n",
       "                        <td id=\"T_8391325c_4e6d_11ea_9e8f_549f3515a0bcrow0_col1\" class=\"data row0 col1\" >-0.0149945</td>\n",
       "                        <td id=\"T_8391325c_4e6d_11ea_9e8f_549f3515a0bcrow0_col2\" class=\"data row0 col2\" >-0.0113008</td>\n",
       "                        <td id=\"T_8391325c_4e6d_11ea_9e8f_549f3515a0bcrow0_col3\" class=\"data row0 col3\" >-0.0191009</td>\n",
       "                        <td id=\"T_8391325c_4e6d_11ea_9e8f_549f3515a0bcrow0_col4\" class=\"data row0 col4\" >-0.0202464</td>\n",
       "            </tr>\n",
       "            <tr>\n",
       "                        <th id=\"T_8391325c_4e6d_11ea_9e8f_549f3515a0bclevel0_row1\" class=\"row_heading level0 row1\" >1</th>\n",
       "                        <td id=\"T_8391325c_4e6d_11ea_9e8f_549f3515a0bcrow1_col0\" class=\"data row1 col0\" >-0.0443121</td>\n",
       "                        <td id=\"T_8391325c_4e6d_11ea_9e8f_549f3515a0bcrow1_col1\" class=\"data row1 col1\" >-0.0128332</td>\n",
       "                        <td id=\"T_8391325c_4e6d_11ea_9e8f_549f3515a0bcrow1_col2\" class=\"data row1 col2\" >-0.248041</td>\n",
       "                        <td id=\"T_8391325c_4e6d_11ea_9e8f_549f3515a0bcrow1_col3\" class=\"data row1 col3\" >-0.0140008</td>\n",
       "                        <td id=\"T_8391325c_4e6d_11ea_9e8f_549f3515a0bcrow1_col4\" class=\"data row1 col4\" >0.00644308</td>\n",
       "            </tr>\n",
       "            <tr>\n",
       "                        <th id=\"T_8391325c_4e6d_11ea_9e8f_549f3515a0bclevel0_row2\" class=\"row_heading level0 row2\" >2</th>\n",
       "                        <td id=\"T_8391325c_4e6d_11ea_9e8f_549f3515a0bcrow2_col0\" class=\"data row2 col0\" >-0.0132028</td>\n",
       "                        <td id=\"T_8391325c_4e6d_11ea_9e8f_549f3515a0bcrow2_col1\" class=\"data row2 col1\" >-0.00508551</td>\n",
       "                        <td id=\"T_8391325c_4e6d_11ea_9e8f_549f3515a0bcrow2_col2\" class=\"data row2 col2\" >-0.0131934</td>\n",
       "                        <td id=\"T_8391325c_4e6d_11ea_9e8f_549f3515a0bcrow2_col3\" class=\"data row2 col3\" >-0.00598424</td>\n",
       "                        <td id=\"T_8391325c_4e6d_11ea_9e8f_549f3515a0bcrow2_col4\" class=\"data row2 col4\" >-0.0160081</td>\n",
       "            </tr>\n",
       "            <tr>\n",
       "                        <th id=\"T_8391325c_4e6d_11ea_9e8f_549f3515a0bclevel0_row3\" class=\"row_heading level0 row3\" >3</th>\n",
       "                        <td id=\"T_8391325c_4e6d_11ea_9e8f_549f3515a0bcrow3_col0\" class=\"data row3 col0\" >-0.0371494</td>\n",
       "                        <td id=\"T_8391325c_4e6d_11ea_9e8f_549f3515a0bcrow3_col1\" class=\"data row3 col1\" >-0.0177555</td>\n",
       "                        <td id=\"T_8391325c_4e6d_11ea_9e8f_549f3515a0bcrow3_col2\" class=\"data row3 col2\" >-0.0131903</td>\n",
       "                        <td id=\"T_8391325c_4e6d_11ea_9e8f_549f3515a0bcrow3_col3\" class=\"data row3 col3\" >-0.0283651</td>\n",
       "                        <td id=\"T_8391325c_4e6d_11ea_9e8f_549f3515a0bcrow3_col4\" class=\"data row3 col4\" >-0.0192087</td>\n",
       "            </tr>\n",
       "            <tr>\n",
       "                        <th id=\"T_8391325c_4e6d_11ea_9e8f_549f3515a0bclevel0_row4\" class=\"row_heading level0 row4\" >4</th>\n",
       "                        <td id=\"T_8391325c_4e6d_11ea_9e8f_549f3515a0bcrow4_col0\" class=\"data row4 col0\" >-0.0417321</td>\n",
       "                        <td id=\"T_8391325c_4e6d_11ea_9e8f_549f3515a0bcrow4_col1\" class=\"data row4 col1\" >-0.00262186</td>\n",
       "                        <td id=\"T_8391325c_4e6d_11ea_9e8f_549f3515a0bcrow4_col2\" class=\"data row4 col2\" >-0.032233</td>\n",
       "                        <td id=\"T_8391325c_4e6d_11ea_9e8f_549f3515a0bcrow4_col3\" class=\"data row4 col3\" >-0.00359323</td>\n",
       "                        <td id=\"T_8391325c_4e6d_11ea_9e8f_549f3515a0bcrow4_col4\" class=\"data row4 col4\" >-0.0210085</td>\n",
       "            </tr>\n",
       "    </tbody></table>"
      ],
      "text/plain": [
       "<pandas.io.formats.style.Styler at 0x2b99ab43e898>"
      ]
     },
     "execution_count": 129,
     "metadata": {},
     "output_type": "execute_result"
    }
   ],
   "source": [
    "((m2_inv-m_inv)/m_inv).style.background_gradient(cmap=cmap, axis=None)"
   ]
  },
  {
   "cell_type": "code",
   "execution_count": 130,
   "metadata": {},
   "outputs": [
    {
     "data": {
      "text/plain": [
       "0.00042799999999998807"
      ]
     },
     "execution_count": 130,
     "metadata": {},
     "output_type": "execute_result"
    }
   ],
   "source": [
    "((m2-m)/m).values.mean()"
   ]
  },
  {
   "cell_type": "markdown",
   "metadata": {},
   "source": [
    "The average relative difference for $m^{-1}$ and $m_2^{-1}$ is"
   ]
  },
  {
   "cell_type": "code",
   "execution_count": 131,
   "metadata": {},
   "outputs": [
    {
     "data": {
      "text/plain": [
       "-0.02637164264498152"
      ]
     },
     "execution_count": 131,
     "metadata": {},
     "output_type": "execute_result"
    }
   ],
   "source": [
    "((m2_inv - m_inv)/m_inv).values.mean()"
   ]
  },
  {
   "cell_type": "markdown",
   "metadata": {},
   "source": [
    "## Random $6\\times6$ matrix"
   ]
  },
  {
   "cell_type": "markdown",
   "metadata": {},
   "source": [
    "### Setup an invertible matrix and its inverse"
   ]
  },
  {
   "cell_type": "code",
   "execution_count": 132,
   "metadata": {},
   "outputs": [],
   "source": [
    "# np.random.seed(0) # 0\n",
    "m = pd.DataFrame(np.random.rand(6,6) * 10**(4))\n",
    "m_inv = pd.DataFrame(np.linalg.inv(m.values))"
   ]
  },
  {
   "cell_type": "code",
   "execution_count": 133,
   "metadata": {},
   "outputs": [
    {
     "data": {
      "text/html": [
       "<div>\n",
       "<style scoped>\n",
       "    .dataframe tbody tr th:only-of-type {\n",
       "        vertical-align: middle;\n",
       "    }\n",
       "\n",
       "    .dataframe tbody tr th {\n",
       "        vertical-align: top;\n",
       "    }\n",
       "\n",
       "    .dataframe thead th {\n",
       "        text-align: right;\n",
       "    }\n",
       "</style>\n",
       "<table border=\"1\" class=\"dataframe\">\n",
       "  <thead>\n",
       "    <tr style=\"text-align: right;\">\n",
       "      <th></th>\n",
       "      <th>0</th>\n",
       "      <th>1</th>\n",
       "      <th>2</th>\n",
       "      <th>3</th>\n",
       "      <th>4</th>\n",
       "      <th>5</th>\n",
       "    </tr>\n",
       "  </thead>\n",
       "  <tbody>\n",
       "    <tr>\n",
       "      <th>0</th>\n",
       "      <td>202.183974</td>\n",
       "      <td>8326.198455</td>\n",
       "      <td>7781.567509</td>\n",
       "      <td>8700.121482</td>\n",
       "      <td>9786.183422</td>\n",
       "      <td>7991.585642</td>\n",
       "    </tr>\n",
       "    <tr>\n",
       "      <th>1</th>\n",
       "      <td>4614.793623</td>\n",
       "      <td>7805.291763</td>\n",
       "      <td>1182.744259</td>\n",
       "      <td>6399.210213</td>\n",
       "      <td>1433.532874</td>\n",
       "      <td>9446.689170</td>\n",
       "    </tr>\n",
       "    <tr>\n",
       "      <th>2</th>\n",
       "      <td>5218.483218</td>\n",
       "      <td>4146.619400</td>\n",
       "      <td>2645.556121</td>\n",
       "      <td>7742.336894</td>\n",
       "      <td>4561.503322</td>\n",
       "      <td>5684.339489</td>\n",
       "    </tr>\n",
       "    <tr>\n",
       "      <th>3</th>\n",
       "      <td>187.898004</td>\n",
       "      <td>6176.354971</td>\n",
       "      <td>6120.957227</td>\n",
       "      <td>6169.339969</td>\n",
       "      <td>9437.480785</td>\n",
       "      <td>6818.202991</td>\n",
       "    </tr>\n",
       "    <tr>\n",
       "      <th>4</th>\n",
       "      <td>3595.079006</td>\n",
       "      <td>4370.319538</td>\n",
       "      <td>6976.311959</td>\n",
       "      <td>602.254716</td>\n",
       "      <td>6667.667154</td>\n",
       "      <td>6706.378696</td>\n",
       "    </tr>\n",
       "    <tr>\n",
       "      <th>5</th>\n",
       "      <td>2103.825611</td>\n",
       "      <td>1289.262977</td>\n",
       "      <td>3154.283509</td>\n",
       "      <td>3637.107709</td>\n",
       "      <td>5701.967704</td>\n",
       "      <td>4386.015135</td>\n",
       "    </tr>\n",
       "  </tbody>\n",
       "</table>\n",
       "</div>"
      ],
      "text/plain": [
       "             0            1            2            3            4  \\\n",
       "0   202.183974  8326.198455  7781.567509  8700.121482  9786.183422   \n",
       "1  4614.793623  7805.291763  1182.744259  6399.210213  1433.532874   \n",
       "2  5218.483218  4146.619400  2645.556121  7742.336894  4561.503322   \n",
       "3   187.898004  6176.354971  6120.957227  6169.339969  9437.480785   \n",
       "4  3595.079006  4370.319538  6976.311959   602.254716  6667.667154   \n",
       "5  2103.825611  1289.262977  3154.283509  3637.107709  5701.967704   \n",
       "\n",
       "             5  \n",
       "0  7991.585642  \n",
       "1  9446.689170  \n",
       "2  5684.339489  \n",
       "3  6818.202991  \n",
       "4  6706.378696  \n",
       "5  4386.015135  "
      ]
     },
     "execution_count": 133,
     "metadata": {},
     "output_type": "execute_result"
    }
   ],
   "source": [
    "m"
   ]
  },
  {
   "cell_type": "code",
   "execution_count": 134,
   "metadata": {},
   "outputs": [
    {
     "data": {
      "text/html": [
       "<div>\n",
       "<style scoped>\n",
       "    .dataframe tbody tr th:only-of-type {\n",
       "        vertical-align: middle;\n",
       "    }\n",
       "\n",
       "    .dataframe tbody tr th {\n",
       "        vertical-align: top;\n",
       "    }\n",
       "\n",
       "    .dataframe thead th {\n",
       "        text-align: right;\n",
       "    }\n",
       "</style>\n",
       "<table border=\"1\" class=\"dataframe\">\n",
       "  <thead>\n",
       "    <tr style=\"text-align: right;\">\n",
       "      <th></th>\n",
       "      <th>0</th>\n",
       "      <th>1</th>\n",
       "      <th>2</th>\n",
       "      <th>3</th>\n",
       "      <th>4</th>\n",
       "      <th>5</th>\n",
       "    </tr>\n",
       "  </thead>\n",
       "  <tbody>\n",
       "    <tr>\n",
       "      <th>0</th>\n",
       "      <td>-0.000232</td>\n",
       "      <td>-0.000072</td>\n",
       "      <td>0.000280</td>\n",
       "      <td>0.000188</td>\n",
       "      <td>0.000114</td>\n",
       "      <td>-0.000251</td>\n",
       "    </tr>\n",
       "    <tr>\n",
       "      <th>1</th>\n",
       "      <td>-0.000303</td>\n",
       "      <td>-0.000023</td>\n",
       "      <td>0.000213</td>\n",
       "      <td>0.000537</td>\n",
       "      <td>0.000066</td>\n",
       "      <td>-0.000610</td>\n",
       "    </tr>\n",
       "    <tr>\n",
       "      <th>2</th>\n",
       "      <td>0.000555</td>\n",
       "      <td>-0.000064</td>\n",
       "      <td>-0.000101</td>\n",
       "      <td>-0.000723</td>\n",
       "      <td>0.000114</td>\n",
       "      <td>0.000208</td>\n",
       "    </tr>\n",
       "    <tr>\n",
       "      <th>3</th>\n",
       "      <td>0.000269</td>\n",
       "      <td>-0.000016</td>\n",
       "      <td>0.000018</td>\n",
       "      <td>-0.000315</td>\n",
       "      <td>-0.000106</td>\n",
       "      <td>0.000174</td>\n",
       "    </tr>\n",
       "    <tr>\n",
       "      <th>4</th>\n",
       "      <td>-0.000465</td>\n",
       "      <td>-0.000068</td>\n",
       "      <td>0.000151</td>\n",
       "      <td>0.000666</td>\n",
       "      <td>-0.000013</td>\n",
       "      <td>-0.000217</td>\n",
       "    </tr>\n",
       "    <tr>\n",
       "      <th>5</th>\n",
       "      <td>0.000183</td>\n",
       "      <td>0.000189</td>\n",
       "      <td>-0.000336</td>\n",
       "      <td>-0.000332</td>\n",
       "      <td>-0.000051</td>\n",
       "      <td>0.000516</td>\n",
       "    </tr>\n",
       "  </tbody>\n",
       "</table>\n",
       "</div>"
      ],
      "text/plain": [
       "          0         1         2         3         4         5\n",
       "0 -0.000232 -0.000072  0.000280  0.000188  0.000114 -0.000251\n",
       "1 -0.000303 -0.000023  0.000213  0.000537  0.000066 -0.000610\n",
       "2  0.000555 -0.000064 -0.000101 -0.000723  0.000114  0.000208\n",
       "3  0.000269 -0.000016  0.000018 -0.000315 -0.000106  0.000174\n",
       "4 -0.000465 -0.000068  0.000151  0.000666 -0.000013 -0.000217\n",
       "5  0.000183  0.000189 -0.000336 -0.000332 -0.000051  0.000516"
      ]
     },
     "execution_count": 134,
     "metadata": {},
     "output_type": "execute_result"
    }
   ],
   "source": [
    "m_inv"
   ]
  },
  {
   "cell_type": "markdown",
   "metadata": {},
   "source": [
    "Check that $m \\times m^{-1} = 1$"
   ]
  },
  {
   "cell_type": "code",
   "execution_count": 135,
   "metadata": {},
   "outputs": [
    {
     "data": {
      "text/html": [
       "<div>\n",
       "<style scoped>\n",
       "    .dataframe tbody tr th:only-of-type {\n",
       "        vertical-align: middle;\n",
       "    }\n",
       "\n",
       "    .dataframe tbody tr th {\n",
       "        vertical-align: top;\n",
       "    }\n",
       "\n",
       "    .dataframe thead th {\n",
       "        text-align: right;\n",
       "    }\n",
       "</style>\n",
       "<table border=\"1\" class=\"dataframe\">\n",
       "  <thead>\n",
       "    <tr style=\"text-align: right;\">\n",
       "      <th></th>\n",
       "      <th>0</th>\n",
       "      <th>1</th>\n",
       "      <th>2</th>\n",
       "      <th>3</th>\n",
       "      <th>4</th>\n",
       "      <th>5</th>\n",
       "    </tr>\n",
       "  </thead>\n",
       "  <tbody>\n",
       "    <tr>\n",
       "      <th>0</th>\n",
       "      <td>1.000000e+00</td>\n",
       "      <td>8.541438e-17</td>\n",
       "      <td>2.777606e-16</td>\n",
       "      <td>-4.123107e-16</td>\n",
       "      <td>1.777476e-16</td>\n",
       "      <td>4.533514e-16</td>\n",
       "    </tr>\n",
       "    <tr>\n",
       "      <th>1</th>\n",
       "      <td>1.048883e-15</td>\n",
       "      <td>1.000000e+00</td>\n",
       "      <td>-8.300426e-16</td>\n",
       "      <td>-1.577062e-15</td>\n",
       "      <td>3.377555e-16</td>\n",
       "      <td>2.379636e-16</td>\n",
       "    </tr>\n",
       "    <tr>\n",
       "      <th>2</th>\n",
       "      <td>-5.372693e-17</td>\n",
       "      <td>-7.828779e-18</td>\n",
       "      <td>1.000000e+00</td>\n",
       "      <td>-3.913030e-16</td>\n",
       "      <td>-2.320356e-18</td>\n",
       "      <td>4.431289e-17</td>\n",
       "    </tr>\n",
       "    <tr>\n",
       "      <th>3</th>\n",
       "      <td>3.395380e-16</td>\n",
       "      <td>1.883597e-16</td>\n",
       "      <td>-3.507036e-17</td>\n",
       "      <td>1.000000e+00</td>\n",
       "      <td>1.033200e-17</td>\n",
       "      <td>1.226347e-15</td>\n",
       "    </tr>\n",
       "    <tr>\n",
       "      <th>4</th>\n",
       "      <td>4.186784e-16</td>\n",
       "      <td>1.496581e-16</td>\n",
       "      <td>-6.595303e-16</td>\n",
       "      <td>-1.060982e-15</td>\n",
       "      <td>1.000000e+00</td>\n",
       "      <td>5.099937e-16</td>\n",
       "    </tr>\n",
       "    <tr>\n",
       "      <th>5</th>\n",
       "      <td>-4.686207e-16</td>\n",
       "      <td>1.444161e-16</td>\n",
       "      <td>-7.702625e-17</td>\n",
       "      <td>-2.422706e-16</td>\n",
       "      <td>1.198198e-16</td>\n",
       "      <td>1.000000e+00</td>\n",
       "    </tr>\n",
       "  </tbody>\n",
       "</table>\n",
       "</div>"
      ],
      "text/plain": [
       "              0             1             2             3             4  \\\n",
       "0  1.000000e+00  8.541438e-17  2.777606e-16 -4.123107e-16  1.777476e-16   \n",
       "1  1.048883e-15  1.000000e+00 -8.300426e-16 -1.577062e-15  3.377555e-16   \n",
       "2 -5.372693e-17 -7.828779e-18  1.000000e+00 -3.913030e-16 -2.320356e-18   \n",
       "3  3.395380e-16  1.883597e-16 -3.507036e-17  1.000000e+00  1.033200e-17   \n",
       "4  4.186784e-16  1.496581e-16 -6.595303e-16 -1.060982e-15  1.000000e+00   \n",
       "5 -4.686207e-16  1.444161e-16 -7.702625e-17 -2.422706e-16  1.198198e-16   \n",
       "\n",
       "              5  \n",
       "0  4.533514e-16  \n",
       "1  2.379636e-16  \n",
       "2  4.431289e-17  \n",
       "3  1.226347e-15  \n",
       "4  5.099937e-16  \n",
       "5  1.000000e+00  "
      ]
     },
     "execution_count": 135,
     "metadata": {},
     "output_type": "execute_result"
    }
   ],
   "source": [
    "m.dot(m_inv)"
   ]
  },
  {
   "cell_type": "markdown",
   "metadata": {},
   "source": [
    "### Add small perturbations to entries"
   ]
  },
  {
   "cell_type": "code",
   "execution_count": 136,
   "metadata": {},
   "outputs": [],
   "source": [
    "deltas = [0.001, 0.005, 0.002, 0.0001, 0.001, 0.001, 0.001, 0.002, 0.0001, 0.005]\n",
    "m2 = m.copy()"
   ]
  },
  {
   "cell_type": "code",
   "execution_count": 137,
   "metadata": {},
   "outputs": [],
   "source": [
    "# np.random.seed(0)"
   ]
  },
  {
   "cell_type": "code",
   "execution_count": 138,
   "metadata": {},
   "outputs": [],
   "source": [
    "for i in range(len(m2)):\n",
    "    for j in range(len(m2)):\n",
    "        if (i+j)%2:\n",
    "            m2.iloc[i, j] += np.random.choice(deltas)*m.iloc[i, j]\n",
    "        else:\n",
    "            m2.iloc[i, j] -= np.random.choice(deltas)*m.iloc[i, j]\n",
    "m2_inv = pd.DataFrame(np.linalg.inv(m2.values))"
   ]
  },
  {
   "cell_type": "code",
   "execution_count": 139,
   "metadata": {},
   "outputs": [
    {
     "data": {
      "text/html": [
       "<div>\n",
       "<style scoped>\n",
       "    .dataframe tbody tr th:only-of-type {\n",
       "        vertical-align: middle;\n",
       "    }\n",
       "\n",
       "    .dataframe tbody tr th {\n",
       "        vertical-align: top;\n",
       "    }\n",
       "\n",
       "    .dataframe thead th {\n",
       "        text-align: right;\n",
       "    }\n",
       "</style>\n",
       "<table border=\"1\" class=\"dataframe\">\n",
       "  <thead>\n",
       "    <tr style=\"text-align: right;\">\n",
       "      <th></th>\n",
       "      <th>0</th>\n",
       "      <th>1</th>\n",
       "      <th>2</th>\n",
       "      <th>3</th>\n",
       "      <th>4</th>\n",
       "      <th>5</th>\n",
       "    </tr>\n",
       "  </thead>\n",
       "  <tbody>\n",
       "    <tr>\n",
       "      <th>0</th>\n",
       "      <td>201.981790</td>\n",
       "      <td>8334.524654</td>\n",
       "      <td>7773.785942</td>\n",
       "      <td>8708.821604</td>\n",
       "      <td>9785.204804</td>\n",
       "      <td>7999.577228</td>\n",
       "    </tr>\n",
       "    <tr>\n",
       "      <th>1</th>\n",
       "      <td>4619.408416</td>\n",
       "      <td>7804.511234</td>\n",
       "      <td>1183.927003</td>\n",
       "      <td>6398.570292</td>\n",
       "      <td>1436.399940</td>\n",
       "      <td>9437.242481</td>\n",
       "    </tr>\n",
       "    <tr>\n",
       "      <th>2</th>\n",
       "      <td>5213.264734</td>\n",
       "      <td>4150.766019</td>\n",
       "      <td>2632.328340</td>\n",
       "      <td>7750.079231</td>\n",
       "      <td>4538.695806</td>\n",
       "      <td>5684.907923</td>\n",
       "    </tr>\n",
       "    <tr>\n",
       "      <th>3</th>\n",
       "      <td>188.085902</td>\n",
       "      <td>6170.178616</td>\n",
       "      <td>6127.078184</td>\n",
       "      <td>6138.493269</td>\n",
       "      <td>9456.355747</td>\n",
       "      <td>6811.384788</td>\n",
       "    </tr>\n",
       "    <tr>\n",
       "      <th>4</th>\n",
       "      <td>3587.888848</td>\n",
       "      <td>4374.689858</td>\n",
       "      <td>6975.614328</td>\n",
       "      <td>603.459226</td>\n",
       "      <td>6660.999487</td>\n",
       "      <td>6719.791454</td>\n",
       "    </tr>\n",
       "    <tr>\n",
       "      <th>5</th>\n",
       "      <td>2105.929436</td>\n",
       "      <td>1282.816662</td>\n",
       "      <td>3157.437793</td>\n",
       "      <td>3629.833494</td>\n",
       "      <td>5713.371640</td>\n",
       "      <td>4377.243104</td>\n",
       "    </tr>\n",
       "  </tbody>\n",
       "</table>\n",
       "</div>"
      ],
      "text/plain": [
       "             0            1            2            3            4  \\\n",
       "0   201.981790  8334.524654  7773.785942  8708.821604  9785.204804   \n",
       "1  4619.408416  7804.511234  1183.927003  6398.570292  1436.399940   \n",
       "2  5213.264734  4150.766019  2632.328340  7750.079231  4538.695806   \n",
       "3   188.085902  6170.178616  6127.078184  6138.493269  9456.355747   \n",
       "4  3587.888848  4374.689858  6975.614328   603.459226  6660.999487   \n",
       "5  2105.929436  1282.816662  3157.437793  3629.833494  5713.371640   \n",
       "\n",
       "             5  \n",
       "0  7999.577228  \n",
       "1  9437.242481  \n",
       "2  5684.907923  \n",
       "3  6811.384788  \n",
       "4  6719.791454  \n",
       "5  4377.243104  "
      ]
     },
     "execution_count": 139,
     "metadata": {},
     "output_type": "execute_result"
    }
   ],
   "source": [
    "m2"
   ]
  },
  {
   "cell_type": "code",
   "execution_count": 140,
   "metadata": {},
   "outputs": [
    {
     "data": {
      "text/html": [
       "<div>\n",
       "<style scoped>\n",
       "    .dataframe tbody tr th:only-of-type {\n",
       "        vertical-align: middle;\n",
       "    }\n",
       "\n",
       "    .dataframe tbody tr th {\n",
       "        vertical-align: top;\n",
       "    }\n",
       "\n",
       "    .dataframe thead th {\n",
       "        text-align: right;\n",
       "    }\n",
       "</style>\n",
       "<table border=\"1\" class=\"dataframe\">\n",
       "  <thead>\n",
       "    <tr style=\"text-align: right;\">\n",
       "      <th></th>\n",
       "      <th>0</th>\n",
       "      <th>1</th>\n",
       "      <th>2</th>\n",
       "      <th>3</th>\n",
       "      <th>4</th>\n",
       "      <th>5</th>\n",
       "    </tr>\n",
       "  </thead>\n",
       "  <tbody>\n",
       "    <tr>\n",
       "      <th>0</th>\n",
       "      <td>-0.000234</td>\n",
       "      <td>-0.000073</td>\n",
       "      <td>0.000282</td>\n",
       "      <td>0.000190</td>\n",
       "      <td>0.000114</td>\n",
       "      <td>-0.000253</td>\n",
       "    </tr>\n",
       "    <tr>\n",
       "      <th>1</th>\n",
       "      <td>-0.000302</td>\n",
       "      <td>-0.000023</td>\n",
       "      <td>0.000215</td>\n",
       "      <td>0.000536</td>\n",
       "      <td>0.000065</td>\n",
       "      <td>-0.000610</td>\n",
       "    </tr>\n",
       "    <tr>\n",
       "      <th>2</th>\n",
       "      <td>0.000548</td>\n",
       "      <td>-0.000067</td>\n",
       "      <td>-0.000099</td>\n",
       "      <td>-0.000714</td>\n",
       "      <td>0.000117</td>\n",
       "      <td>0.000203</td>\n",
       "    </tr>\n",
       "    <tr>\n",
       "      <th>3</th>\n",
       "      <td>0.000267</td>\n",
       "      <td>-0.000017</td>\n",
       "      <td>0.000018</td>\n",
       "      <td>-0.000313</td>\n",
       "      <td>-0.000105</td>\n",
       "      <td>0.000173</td>\n",
       "    </tr>\n",
       "    <tr>\n",
       "      <th>4</th>\n",
       "      <td>-0.000460</td>\n",
       "      <td>-0.000067</td>\n",
       "      <td>0.000150</td>\n",
       "      <td>0.000660</td>\n",
       "      <td>-0.000016</td>\n",
       "      <td>-0.000214</td>\n",
       "    </tr>\n",
       "    <tr>\n",
       "      <th>5</th>\n",
       "      <td>0.000184</td>\n",
       "      <td>0.000191</td>\n",
       "      <td>-0.000339</td>\n",
       "      <td>-0.000335</td>\n",
       "      <td>-0.000051</td>\n",
       "      <td>0.000518</td>\n",
       "    </tr>\n",
       "  </tbody>\n",
       "</table>\n",
       "</div>"
      ],
      "text/plain": [
       "          0         1         2         3         4         5\n",
       "0 -0.000234 -0.000073  0.000282  0.000190  0.000114 -0.000253\n",
       "1 -0.000302 -0.000023  0.000215  0.000536  0.000065 -0.000610\n",
       "2  0.000548 -0.000067 -0.000099 -0.000714  0.000117  0.000203\n",
       "3  0.000267 -0.000017  0.000018 -0.000313 -0.000105  0.000173\n",
       "4 -0.000460 -0.000067  0.000150  0.000660 -0.000016 -0.000214\n",
       "5  0.000184  0.000191 -0.000339 -0.000335 -0.000051  0.000518"
      ]
     },
     "execution_count": 140,
     "metadata": {},
     "output_type": "execute_result"
    }
   ],
   "source": [
    "m2_inv"
   ]
  },
  {
   "cell_type": "code",
   "execution_count": 141,
   "metadata": {},
   "outputs": [
    {
     "data": {
      "text/html": [
       "<div>\n",
       "<style scoped>\n",
       "    .dataframe tbody tr th:only-of-type {\n",
       "        vertical-align: middle;\n",
       "    }\n",
       "\n",
       "    .dataframe tbody tr th {\n",
       "        vertical-align: top;\n",
       "    }\n",
       "\n",
       "    .dataframe thead tr th {\n",
       "        text-align: left;\n",
       "    }\n",
       "</style>\n",
       "<table border=\"1\" class=\"dataframe\">\n",
       "  <thead>\n",
       "    <tr>\n",
       "      <th></th>\n",
       "      <th colspan=\"6\" halign=\"left\">$m^{-1}$</th>\n",
       "      <th colspan=\"6\" halign=\"left\">$m^{-1}_2$</th>\n",
       "    </tr>\n",
       "    <tr>\n",
       "      <th></th>\n",
       "      <th>0</th>\n",
       "      <th>1</th>\n",
       "      <th>2</th>\n",
       "      <th>3</th>\n",
       "      <th>4</th>\n",
       "      <th>5</th>\n",
       "      <th>0</th>\n",
       "      <th>1</th>\n",
       "      <th>2</th>\n",
       "      <th>3</th>\n",
       "      <th>4</th>\n",
       "      <th>5</th>\n",
       "    </tr>\n",
       "  </thead>\n",
       "  <tbody>\n",
       "    <tr>\n",
       "      <th>0</th>\n",
       "      <td>-0.000232</td>\n",
       "      <td>-0.000072</td>\n",
       "      <td>0.000280</td>\n",
       "      <td>0.000188</td>\n",
       "      <td>0.000114</td>\n",
       "      <td>-0.000251</td>\n",
       "      <td>-0.000234</td>\n",
       "      <td>-0.000073</td>\n",
       "      <td>0.000282</td>\n",
       "      <td>0.000190</td>\n",
       "      <td>0.000114</td>\n",
       "      <td>-0.000253</td>\n",
       "    </tr>\n",
       "    <tr>\n",
       "      <th>1</th>\n",
       "      <td>-0.000303</td>\n",
       "      <td>-0.000023</td>\n",
       "      <td>0.000213</td>\n",
       "      <td>0.000537</td>\n",
       "      <td>0.000066</td>\n",
       "      <td>-0.000610</td>\n",
       "      <td>-0.000302</td>\n",
       "      <td>-0.000023</td>\n",
       "      <td>0.000215</td>\n",
       "      <td>0.000536</td>\n",
       "      <td>0.000065</td>\n",
       "      <td>-0.000610</td>\n",
       "    </tr>\n",
       "    <tr>\n",
       "      <th>2</th>\n",
       "      <td>0.000555</td>\n",
       "      <td>-0.000064</td>\n",
       "      <td>-0.000101</td>\n",
       "      <td>-0.000723</td>\n",
       "      <td>0.000114</td>\n",
       "      <td>0.000208</td>\n",
       "      <td>0.000548</td>\n",
       "      <td>-0.000067</td>\n",
       "      <td>-0.000099</td>\n",
       "      <td>-0.000714</td>\n",
       "      <td>0.000117</td>\n",
       "      <td>0.000203</td>\n",
       "    </tr>\n",
       "    <tr>\n",
       "      <th>3</th>\n",
       "      <td>0.000269</td>\n",
       "      <td>-0.000016</td>\n",
       "      <td>0.000018</td>\n",
       "      <td>-0.000315</td>\n",
       "      <td>-0.000106</td>\n",
       "      <td>0.000174</td>\n",
       "      <td>0.000267</td>\n",
       "      <td>-0.000017</td>\n",
       "      <td>0.000018</td>\n",
       "      <td>-0.000313</td>\n",
       "      <td>-0.000105</td>\n",
       "      <td>0.000173</td>\n",
       "    </tr>\n",
       "    <tr>\n",
       "      <th>4</th>\n",
       "      <td>-0.000465</td>\n",
       "      <td>-0.000068</td>\n",
       "      <td>0.000151</td>\n",
       "      <td>0.000666</td>\n",
       "      <td>-0.000013</td>\n",
       "      <td>-0.000217</td>\n",
       "      <td>-0.000460</td>\n",
       "      <td>-0.000067</td>\n",
       "      <td>0.000150</td>\n",
       "      <td>0.000660</td>\n",
       "      <td>-0.000016</td>\n",
       "      <td>-0.000214</td>\n",
       "    </tr>\n",
       "    <tr>\n",
       "      <th>5</th>\n",
       "      <td>0.000183</td>\n",
       "      <td>0.000189</td>\n",
       "      <td>-0.000336</td>\n",
       "      <td>-0.000332</td>\n",
       "      <td>-0.000051</td>\n",
       "      <td>0.000516</td>\n",
       "      <td>0.000184</td>\n",
       "      <td>0.000191</td>\n",
       "      <td>-0.000339</td>\n",
       "      <td>-0.000335</td>\n",
       "      <td>-0.000051</td>\n",
       "      <td>0.000518</td>\n",
       "    </tr>\n",
       "  </tbody>\n",
       "</table>\n",
       "</div>"
      ],
      "text/plain": [
       "   $m^{-1}$                                                   $m^{-1}_2$  \\\n",
       "          0         1         2         3         4         5          0   \n",
       "0 -0.000232 -0.000072  0.000280  0.000188  0.000114 -0.000251  -0.000234   \n",
       "1 -0.000303 -0.000023  0.000213  0.000537  0.000066 -0.000610  -0.000302   \n",
       "2  0.000555 -0.000064 -0.000101 -0.000723  0.000114  0.000208   0.000548   \n",
       "3  0.000269 -0.000016  0.000018 -0.000315 -0.000106  0.000174   0.000267   \n",
       "4 -0.000465 -0.000068  0.000151  0.000666 -0.000013 -0.000217  -0.000460   \n",
       "5  0.000183  0.000189 -0.000336 -0.000332 -0.000051  0.000516   0.000184   \n",
       "\n",
       "                                                     \n",
       "          1         2         3         4         5  \n",
       "0 -0.000073  0.000282  0.000190  0.000114 -0.000253  \n",
       "1 -0.000023  0.000215  0.000536  0.000065 -0.000610  \n",
       "2 -0.000067 -0.000099 -0.000714  0.000117  0.000203  \n",
       "3 -0.000017  0.000018 -0.000313 -0.000105  0.000173  \n",
       "4 -0.000067  0.000150  0.000660 -0.000016 -0.000214  \n",
       "5  0.000191 -0.000339 -0.000335 -0.000051  0.000518  "
      ]
     },
     "execution_count": 141,
     "metadata": {},
     "output_type": "execute_result"
    }
   ],
   "source": [
    "pd.concat([m_inv, m2_inv], axis=1, keys=[\"$m^{-1}$\", \"$m^{-1}_2$\"])"
   ]
  },
  {
   "cell_type": "markdown",
   "metadata": {},
   "source": [
    "### Check relative differences in $m$ and $m^{-1}$"
   ]
  },
  {
   "cell_type": "code",
   "execution_count": 142,
   "metadata": {},
   "outputs": [
    {
     "data": {
      "text/html": [
       "<style  type=\"text/css\" >\n",
       "    #T_a018c26e_4e6d_11ea_9e8f_549f3515a0bcrow0_col0 {\n",
       "            background-color:  #dae5f2;\n",
       "            color:  #000000;\n",
       "        }    #T_a018c26e_4e6d_11ea_9e8f_549f3515a0bcrow0_col1 {\n",
       "            background-color:  #759ccd;\n",
       "            color:  #000000;\n",
       "        }    #T_a018c26e_4e6d_11ea_9e8f_549f3515a0bcrow0_col2 {\n",
       "            background-color:  #dae5f2;\n",
       "            color:  #000000;\n",
       "        }    #T_a018c26e_4e6d_11ea_9e8f_549f3515a0bcrow0_col3 {\n",
       "            background-color:  #759ccd;\n",
       "            color:  #000000;\n",
       "        }    #T_a018c26e_4e6d_11ea_9e8f_549f3515a0bcrow0_col4 {\n",
       "            background-color:  #adc4e1;\n",
       "            color:  #000000;\n",
       "        }    #T_a018c26e_4e6d_11ea_9e8f_549f3515a0bcrow0_col5 {\n",
       "            background-color:  #759ccd;\n",
       "            color:  #000000;\n",
       "        }    #T_a018c26e_4e6d_11ea_9e8f_549f3515a0bcrow1_col0 {\n",
       "            background-color:  #759ccd;\n",
       "            color:  #000000;\n",
       "        }    #T_a018c26e_4e6d_11ea_9e8f_549f3515a0bcrow1_col1 {\n",
       "            background-color:  #adc4e1;\n",
       "            color:  #000000;\n",
       "        }    #T_a018c26e_4e6d_11ea_9e8f_549f3515a0bcrow1_col2 {\n",
       "            background-color:  #759ccd;\n",
       "            color:  #000000;\n",
       "        }    #T_a018c26e_4e6d_11ea_9e8f_549f3515a0bcrow1_col3 {\n",
       "            background-color:  #adc4e1;\n",
       "            color:  #000000;\n",
       "        }    #T_a018c26e_4e6d_11ea_9e8f_549f3515a0bcrow1_col4 {\n",
       "            background-color:  #4479bb;\n",
       "            color:  #000000;\n",
       "        }    #T_a018c26e_4e6d_11ea_9e8f_549f3515a0bcrow1_col5 {\n",
       "            background-color:  #dae5f2;\n",
       "            color:  #000000;\n",
       "        }    #T_a018c26e_4e6d_11ea_9e8f_549f3515a0bcrow2_col0 {\n",
       "            background-color:  #dae5f2;\n",
       "            color:  #000000;\n",
       "        }    #T_a018c26e_4e6d_11ea_9e8f_549f3515a0bcrow2_col1 {\n",
       "            background-color:  #759ccd;\n",
       "            color:  #000000;\n",
       "        }    #T_a018c26e_4e6d_11ea_9e8f_549f3515a0bcrow2_col2 {\n",
       "            background-color:  #d73c5b;\n",
       "            color:  #f1f1f1;\n",
       "        }    #T_a018c26e_4e6d_11ea_9e8f_549f3515a0bcrow2_col3 {\n",
       "            background-color:  #759ccd;\n",
       "            color:  #000000;\n",
       "        }    #T_a018c26e_4e6d_11ea_9e8f_549f3515a0bcrow2_col4 {\n",
       "            background-color:  #d73c5b;\n",
       "            color:  #f1f1f1;\n",
       "        }    #T_a018c26e_4e6d_11ea_9e8f_549f3515a0bcrow2_col5 {\n",
       "            background-color:  #a3bddd;\n",
       "            color:  #000000;\n",
       "        }    #T_a018c26e_4e6d_11ea_9e8f_549f3515a0bcrow3_col0 {\n",
       "            background-color:  #759ccd;\n",
       "            color:  #000000;\n",
       "        }    #T_a018c26e_4e6d_11ea_9e8f_549f3515a0bcrow3_col1 {\n",
       "            background-color:  #dae5f2;\n",
       "            color:  #000000;\n",
       "        }    #T_a018c26e_4e6d_11ea_9e8f_549f3515a0bcrow3_col2 {\n",
       "            background-color:  #759ccd;\n",
       "            color:  #000000;\n",
       "        }    #T_a018c26e_4e6d_11ea_9e8f_549f3515a0bcrow3_col3 {\n",
       "            background-color:  #d73c5b;\n",
       "            color:  #f1f1f1;\n",
       "        }    #T_a018c26e_4e6d_11ea_9e8f_549f3515a0bcrow3_col4 {\n",
       "            background-color:  #4479bb;\n",
       "            color:  #000000;\n",
       "        }    #T_a018c26e_4e6d_11ea_9e8f_549f3515a0bcrow3_col5 {\n",
       "            background-color:  #dae5f2;\n",
       "            color:  #000000;\n",
       "        }    #T_a018c26e_4e6d_11ea_9e8f_549f3515a0bcrow4_col0 {\n",
       "            background-color:  #f7d7de;\n",
       "            color:  #000000;\n",
       "        }    #T_a018c26e_4e6d_11ea_9e8f_549f3515a0bcrow4_col1 {\n",
       "            background-color:  #759ccd;\n",
       "            color:  #000000;\n",
       "        }    #T_a018c26e_4e6d_11ea_9e8f_549f3515a0bcrow4_col2 {\n",
       "            background-color:  #adc4e1;\n",
       "            color:  #000000;\n",
       "        }    #T_a018c26e_4e6d_11ea_9e8f_549f3515a0bcrow4_col3 {\n",
       "            background-color:  #4479bb;\n",
       "            color:  #000000;\n",
       "        }    #T_a018c26e_4e6d_11ea_9e8f_549f3515a0bcrow4_col4 {\n",
       "            background-color:  #dae5f2;\n",
       "            color:  #000000;\n",
       "        }    #T_a018c26e_4e6d_11ea_9e8f_549f3515a0bcrow4_col5 {\n",
       "            background-color:  #4479bb;\n",
       "            color:  #000000;\n",
       "        }    #T_a018c26e_4e6d_11ea_9e8f_549f3515a0bcrow5_col0 {\n",
       "            background-color:  #759ccd;\n",
       "            color:  #000000;\n",
       "        }    #T_a018c26e_4e6d_11ea_9e8f_549f3515a0bcrow5_col1 {\n",
       "            background-color:  #d73c5b;\n",
       "            color:  #f1f1f1;\n",
       "        }    #T_a018c26e_4e6d_11ea_9e8f_549f3515a0bcrow5_col2 {\n",
       "            background-color:  #759ccd;\n",
       "            color:  #000000;\n",
       "        }    #T_a018c26e_4e6d_11ea_9e8f_549f3515a0bcrow5_col3 {\n",
       "            background-color:  #f7d7de;\n",
       "            color:  #000000;\n",
       "        }    #T_a018c26e_4e6d_11ea_9e8f_549f3515a0bcrow5_col4 {\n",
       "            background-color:  #4479bb;\n",
       "            color:  #000000;\n",
       "        }    #T_a018c26e_4e6d_11ea_9e8f_549f3515a0bcrow5_col5 {\n",
       "            background-color:  #f7d7de;\n",
       "            color:  #000000;\n",
       "        }</style><table id=\"T_a018c26e_4e6d_11ea_9e8f_549f3515a0bc\" ><thead>    <tr>        <th class=\"blank level0\" ></th>        <th class=\"col_heading level0 col0\" >0</th>        <th class=\"col_heading level0 col1\" >1</th>        <th class=\"col_heading level0 col2\" >2</th>        <th class=\"col_heading level0 col3\" >3</th>        <th class=\"col_heading level0 col4\" >4</th>        <th class=\"col_heading level0 col5\" >5</th>    </tr></thead><tbody>\n",
       "                <tr>\n",
       "                        <th id=\"T_a018c26e_4e6d_11ea_9e8f_549f3515a0bclevel0_row0\" class=\"row_heading level0 row0\" >0</th>\n",
       "                        <td id=\"T_a018c26e_4e6d_11ea_9e8f_549f3515a0bcrow0_col0\" class=\"data row0 col0\" >-0.001</td>\n",
       "                        <td id=\"T_a018c26e_4e6d_11ea_9e8f_549f3515a0bcrow0_col1\" class=\"data row0 col1\" >0.001</td>\n",
       "                        <td id=\"T_a018c26e_4e6d_11ea_9e8f_549f3515a0bcrow0_col2\" class=\"data row0 col2\" >-0.001</td>\n",
       "                        <td id=\"T_a018c26e_4e6d_11ea_9e8f_549f3515a0bcrow0_col3\" class=\"data row0 col3\" >0.001</td>\n",
       "                        <td id=\"T_a018c26e_4e6d_11ea_9e8f_549f3515a0bcrow0_col4\" class=\"data row0 col4\" >-0.0001</td>\n",
       "                        <td id=\"T_a018c26e_4e6d_11ea_9e8f_549f3515a0bcrow0_col5\" class=\"data row0 col5\" >0.001</td>\n",
       "            </tr>\n",
       "            <tr>\n",
       "                        <th id=\"T_a018c26e_4e6d_11ea_9e8f_549f3515a0bclevel0_row1\" class=\"row_heading level0 row1\" >1</th>\n",
       "                        <td id=\"T_a018c26e_4e6d_11ea_9e8f_549f3515a0bcrow1_col0\" class=\"data row1 col0\" >0.001</td>\n",
       "                        <td id=\"T_a018c26e_4e6d_11ea_9e8f_549f3515a0bcrow1_col1\" class=\"data row1 col1\" >-0.0001</td>\n",
       "                        <td id=\"T_a018c26e_4e6d_11ea_9e8f_549f3515a0bcrow1_col2\" class=\"data row1 col2\" >0.001</td>\n",
       "                        <td id=\"T_a018c26e_4e6d_11ea_9e8f_549f3515a0bcrow1_col3\" class=\"data row1 col3\" >-0.0001</td>\n",
       "                        <td id=\"T_a018c26e_4e6d_11ea_9e8f_549f3515a0bcrow1_col4\" class=\"data row1 col4\" >0.002</td>\n",
       "                        <td id=\"T_a018c26e_4e6d_11ea_9e8f_549f3515a0bcrow1_col5\" class=\"data row1 col5\" >-0.001</td>\n",
       "            </tr>\n",
       "            <tr>\n",
       "                        <th id=\"T_a018c26e_4e6d_11ea_9e8f_549f3515a0bclevel0_row2\" class=\"row_heading level0 row2\" >2</th>\n",
       "                        <td id=\"T_a018c26e_4e6d_11ea_9e8f_549f3515a0bcrow2_col0\" class=\"data row2 col0\" >-0.001</td>\n",
       "                        <td id=\"T_a018c26e_4e6d_11ea_9e8f_549f3515a0bcrow2_col1\" class=\"data row2 col1\" >0.001</td>\n",
       "                        <td id=\"T_a018c26e_4e6d_11ea_9e8f_549f3515a0bcrow2_col2\" class=\"data row2 col2\" >-0.005</td>\n",
       "                        <td id=\"T_a018c26e_4e6d_11ea_9e8f_549f3515a0bcrow2_col3\" class=\"data row2 col3\" >0.001</td>\n",
       "                        <td id=\"T_a018c26e_4e6d_11ea_9e8f_549f3515a0bcrow2_col4\" class=\"data row2 col4\" >-0.005</td>\n",
       "                        <td id=\"T_a018c26e_4e6d_11ea_9e8f_549f3515a0bcrow2_col5\" class=\"data row2 col5\" >0.0001</td>\n",
       "            </tr>\n",
       "            <tr>\n",
       "                        <th id=\"T_a018c26e_4e6d_11ea_9e8f_549f3515a0bclevel0_row3\" class=\"row_heading level0 row3\" >3</th>\n",
       "                        <td id=\"T_a018c26e_4e6d_11ea_9e8f_549f3515a0bcrow3_col0\" class=\"data row3 col0\" >0.001</td>\n",
       "                        <td id=\"T_a018c26e_4e6d_11ea_9e8f_549f3515a0bcrow3_col1\" class=\"data row3 col1\" >-0.001</td>\n",
       "                        <td id=\"T_a018c26e_4e6d_11ea_9e8f_549f3515a0bcrow3_col2\" class=\"data row3 col2\" >0.001</td>\n",
       "                        <td id=\"T_a018c26e_4e6d_11ea_9e8f_549f3515a0bcrow3_col3\" class=\"data row3 col3\" >-0.005</td>\n",
       "                        <td id=\"T_a018c26e_4e6d_11ea_9e8f_549f3515a0bcrow3_col4\" class=\"data row3 col4\" >0.002</td>\n",
       "                        <td id=\"T_a018c26e_4e6d_11ea_9e8f_549f3515a0bcrow3_col5\" class=\"data row3 col5\" >-0.001</td>\n",
       "            </tr>\n",
       "            <tr>\n",
       "                        <th id=\"T_a018c26e_4e6d_11ea_9e8f_549f3515a0bclevel0_row4\" class=\"row_heading level0 row4\" >4</th>\n",
       "                        <td id=\"T_a018c26e_4e6d_11ea_9e8f_549f3515a0bcrow4_col0\" class=\"data row4 col0\" >-0.002</td>\n",
       "                        <td id=\"T_a018c26e_4e6d_11ea_9e8f_549f3515a0bcrow4_col1\" class=\"data row4 col1\" >0.001</td>\n",
       "                        <td id=\"T_a018c26e_4e6d_11ea_9e8f_549f3515a0bcrow4_col2\" class=\"data row4 col2\" >-0.0001</td>\n",
       "                        <td id=\"T_a018c26e_4e6d_11ea_9e8f_549f3515a0bcrow4_col3\" class=\"data row4 col3\" >0.002</td>\n",
       "                        <td id=\"T_a018c26e_4e6d_11ea_9e8f_549f3515a0bcrow4_col4\" class=\"data row4 col4\" >-0.001</td>\n",
       "                        <td id=\"T_a018c26e_4e6d_11ea_9e8f_549f3515a0bcrow4_col5\" class=\"data row4 col5\" >0.002</td>\n",
       "            </tr>\n",
       "            <tr>\n",
       "                        <th id=\"T_a018c26e_4e6d_11ea_9e8f_549f3515a0bclevel0_row5\" class=\"row_heading level0 row5\" >5</th>\n",
       "                        <td id=\"T_a018c26e_4e6d_11ea_9e8f_549f3515a0bcrow5_col0\" class=\"data row5 col0\" >0.001</td>\n",
       "                        <td id=\"T_a018c26e_4e6d_11ea_9e8f_549f3515a0bcrow5_col1\" class=\"data row5 col1\" >-0.005</td>\n",
       "                        <td id=\"T_a018c26e_4e6d_11ea_9e8f_549f3515a0bcrow5_col2\" class=\"data row5 col2\" >0.001</td>\n",
       "                        <td id=\"T_a018c26e_4e6d_11ea_9e8f_549f3515a0bcrow5_col3\" class=\"data row5 col3\" >-0.002</td>\n",
       "                        <td id=\"T_a018c26e_4e6d_11ea_9e8f_549f3515a0bcrow5_col4\" class=\"data row5 col4\" >0.002</td>\n",
       "                        <td id=\"T_a018c26e_4e6d_11ea_9e8f_549f3515a0bcrow5_col5\" class=\"data row5 col5\" >-0.002</td>\n",
       "            </tr>\n",
       "    </tbody></table>"
      ],
      "text/plain": [
       "<pandas.io.formats.style.Styler at 0x2b99ab4b12b0>"
      ]
     },
     "execution_count": 142,
     "metadata": {},
     "output_type": "execute_result"
    }
   ],
   "source": [
    "((m2-m)/m).style.background_gradient(cmap=cmap, axis=None)"
   ]
  },
  {
   "cell_type": "code",
   "execution_count": 143,
   "metadata": {},
   "outputs": [
    {
     "data": {
      "text/html": [
       "<style  type=\"text/css\" >\n",
       "    #T_a0774406_4e6d_11ea_9e8f_549f3515a0bcrow0_col0 {\n",
       "            background-color:  #e3768c;\n",
       "            color:  #000000;\n",
       "        }    #T_a0774406_4e6d_11ea_9e8f_549f3515a0bcrow0_col1 {\n",
       "            background-color:  #e58195;\n",
       "            color:  #000000;\n",
       "        }    #T_a0774406_4e6d_11ea_9e8f_549f3515a0bcrow0_col2 {\n",
       "            background-color:  #e3748a;\n",
       "            color:  #000000;\n",
       "        }    #T_a0774406_4e6d_11ea_9e8f_549f3515a0bcrow0_col3 {\n",
       "            background-color:  #e58195;\n",
       "            color:  #000000;\n",
       "        }    #T_a0774406_4e6d_11ea_9e8f_549f3515a0bcrow0_col4 {\n",
       "            background-color:  #e16981;\n",
       "            color:  #000000;\n",
       "        }    #T_a0774406_4e6d_11ea_9e8f_549f3515a0bcrow0_col5 {\n",
       "            background-color:  #e27389;\n",
       "            color:  #000000;\n",
       "        }    #T_a0774406_4e6d_11ea_9e8f_549f3515a0bcrow1_col0 {\n",
       "            background-color:  #df617a;\n",
       "            color:  #000000;\n",
       "        }    #T_a0774406_4e6d_11ea_9e8f_549f3515a0bcrow1_col1 {\n",
       "            background-color:  #e994a5;\n",
       "            color:  #000000;\n",
       "        }    #T_a0774406_4e6d_11ea_9e8f_549f3515a0bcrow1_col2 {\n",
       "            background-color:  #e3748a;\n",
       "            color:  #000000;\n",
       "        }    #T_a0774406_4e6d_11ea_9e8f_549f3515a0bcrow1_col3 {\n",
       "            background-color:  #df637c;\n",
       "            color:  #000000;\n",
       "        }    #T_a0774406_4e6d_11ea_9e8f_549f3515a0bcrow1_col4 {\n",
       "            background-color:  #da4b68;\n",
       "            color:  #000000;\n",
       "        }    #T_a0774406_4e6d_11ea_9e8f_549f3515a0bcrow1_col5 {\n",
       "            background-color:  #e0667e;\n",
       "            color:  #000000;\n",
       "        }    #T_a0774406_4e6d_11ea_9e8f_549f3515a0bcrow2_col0 {\n",
       "            background-color:  #dc516d;\n",
       "            color:  #000000;\n",
       "        }    #T_a0774406_4e6d_11ea_9e8f_549f3515a0bcrow2_col1 {\n",
       "            background-color:  #eda8b6;\n",
       "            color:  #000000;\n",
       "        }    #T_a0774406_4e6d_11ea_9e8f_549f3515a0bcrow2_col2 {\n",
       "            background-color:  #d94462;\n",
       "            color:  #f1f1f1;\n",
       "        }    #T_a0774406_4e6d_11ea_9e8f_549f3515a0bcrow2_col3 {\n",
       "            background-color:  #dc526e;\n",
       "            color:  #000000;\n",
       "        }    #T_a0774406_4e6d_11ea_9e8f_549f3515a0bcrow2_col4 {\n",
       "            background-color:  #ea99a9;\n",
       "            color:  #000000;\n",
       "        }    #T_a0774406_4e6d_11ea_9e8f_549f3515a0bcrow2_col5 {\n",
       "            background-color:  #d73c5b;\n",
       "            color:  #f1f1f1;\n",
       "        }    #T_a0774406_4e6d_11ea_9e8f_549f3515a0bcrow3_col0 {\n",
       "            background-color:  #de5b75;\n",
       "            color:  #000000;\n",
       "        }    #T_a0774406_4e6d_11ea_9e8f_549f3515a0bcrow3_col1 {\n",
       "            background-color:  #eb9bab;\n",
       "            color:  #000000;\n",
       "        }    #T_a0774406_4e6d_11ea_9e8f_549f3515a0bcrow3_col2 {\n",
       "            background-color:  #db4f6b;\n",
       "            color:  #000000;\n",
       "        }    #T_a0774406_4e6d_11ea_9e8f_549f3515a0bcrow3_col3 {\n",
       "            background-color:  #de5b75;\n",
       "            color:  #000000;\n",
       "        }    #T_a0774406_4e6d_11ea_9e8f_549f3515a0bcrow3_col4 {\n",
       "            background-color:  #dc526e;\n",
       "            color:  #000000;\n",
       "        }    #T_a0774406_4e6d_11ea_9e8f_549f3515a0bcrow3_col5 {\n",
       "            background-color:  #de5e77;\n",
       "            color:  #000000;\n",
       "        }    #T_a0774406_4e6d_11ea_9e8f_549f3515a0bcrow4_col0 {\n",
       "            background-color:  #dc546f;\n",
       "            color:  #000000;\n",
       "        }    #T_a0774406_4e6d_11ea_9e8f_549f3515a0bcrow4_col1 {\n",
       "            background-color:  #d94764;\n",
       "            color:  #f1f1f1;\n",
       "        }    #T_a0774406_4e6d_11ea_9e8f_549f3515a0bcrow4_col2 {\n",
       "            background-color:  #df627b;\n",
       "            color:  #000000;\n",
       "        }    #T_a0774406_4e6d_11ea_9e8f_549f3515a0bcrow4_col3 {\n",
       "            background-color:  #dd5671;\n",
       "            color:  #000000;\n",
       "        }    #T_a0774406_4e6d_11ea_9e8f_549f3515a0bcrow4_col4 {\n",
       "            background-color:  #4479bb;\n",
       "            color:  #000000;\n",
       "        }    #T_a0774406_4e6d_11ea_9e8f_549f3515a0bcrow4_col5 {\n",
       "            background-color:  #db4d69;\n",
       "            color:  #000000;\n",
       "        }    #T_a0774406_4e6d_11ea_9e8f_549f3515a0bcrow5_col0 {\n",
       "            background-color:  #e3788d;\n",
       "            color:  #000000;\n",
       "        }    #T_a0774406_4e6d_11ea_9e8f_549f3515a0bcrow5_col1 {\n",
       "            background-color:  #e3788d;\n",
       "            color:  #000000;\n",
       "        }    #T_a0774406_4e6d_11ea_9e8f_549f3515a0bcrow5_col2 {\n",
       "            background-color:  #e3768c;\n",
       "            color:  #000000;\n",
       "        }    #T_a0774406_4e6d_11ea_9e8f_549f3515a0bcrow5_col3 {\n",
       "            background-color:  #e3748a;\n",
       "            color:  #000000;\n",
       "        }    #T_a0774406_4e6d_11ea_9e8f_549f3515a0bcrow5_col4 {\n",
       "            background-color:  #e16d85;\n",
       "            color:  #000000;\n",
       "        }    #T_a0774406_4e6d_11ea_9e8f_549f3515a0bcrow5_col5 {\n",
       "            background-color:  #e16d85;\n",
       "            color:  #000000;\n",
       "        }</style><table id=\"T_a0774406_4e6d_11ea_9e8f_549f3515a0bc\" ><thead>    <tr>        <th class=\"blank level0\" ></th>        <th class=\"col_heading level0 col0\" >0</th>        <th class=\"col_heading level0 col1\" >1</th>        <th class=\"col_heading level0 col2\" >2</th>        <th class=\"col_heading level0 col3\" >3</th>        <th class=\"col_heading level0 col4\" >4</th>        <th class=\"col_heading level0 col5\" >5</th>    </tr></thead><tbody>\n",
       "                <tr>\n",
       "                        <th id=\"T_a0774406_4e6d_11ea_9e8f_549f3515a0bclevel0_row0\" class=\"row_heading level0 row0\" >0</th>\n",
       "                        <td id=\"T_a0774406_4e6d_11ea_9e8f_549f3515a0bcrow0_col0\" class=\"data row0 col0\" >0.00846884</td>\n",
       "                        <td id=\"T_a0774406_4e6d_11ea_9e8f_549f3515a0bcrow0_col1\" class=\"data row0 col1\" >0.015264</td>\n",
       "                        <td id=\"T_a0774406_4e6d_11ea_9e8f_549f3515a0bcrow0_col2\" class=\"data row0 col2\" >0.00772333</td>\n",
       "                        <td id=\"T_a0774406_4e6d_11ea_9e8f_549f3515a0bcrow0_col3\" class=\"data row0 col3\" >0.0150886</td>\n",
       "                        <td id=\"T_a0774406_4e6d_11ea_9e8f_549f3515a0bcrow0_col4\" class=\"data row0 col4\" >0.00107722</td>\n",
       "                        <td id=\"T_a0774406_4e6d_11ea_9e8f_549f3515a0bcrow0_col5\" class=\"data row0 col5\" >0.00706008</td>\n",
       "            </tr>\n",
       "            <tr>\n",
       "                        <th id=\"T_a0774406_4e6d_11ea_9e8f_549f3515a0bclevel0_row1\" class=\"row_heading level0 row1\" >1</th>\n",
       "                        <td id=\"T_a0774406_4e6d_11ea_9e8f_549f3515a0bcrow1_col0\" class=\"data row1 col0\" >-0.00389689</td>\n",
       "                        <td id=\"T_a0774406_4e6d_11ea_9e8f_549f3515a0bcrow1_col1\" class=\"data row1 col1\" >0.0265827</td>\n",
       "                        <td id=\"T_a0774406_4e6d_11ea_9e8f_549f3515a0bcrow1_col2\" class=\"data row1 col2\" >0.00805417</td>\n",
       "                        <td id=\"T_a0774406_4e6d_11ea_9e8f_549f3515a0bcrow1_col3\" class=\"data row1 col3\" >-0.00213502</td>\n",
       "                        <td id=\"T_a0774406_4e6d_11ea_9e8f_549f3515a0bcrow1_col4\" class=\"data row1 col4\" >-0.0166104</td>\n",
       "                        <td id=\"T_a0774406_4e6d_11ea_9e8f_549f3515a0bcrow1_col5\" class=\"data row1 col5\" >-0.000449792</td>\n",
       "            </tr>\n",
       "            <tr>\n",
       "                        <th id=\"T_a0774406_4e6d_11ea_9e8f_549f3515a0bclevel0_row2\" class=\"row_heading level0 row2\" >2</th>\n",
       "                        <td id=\"T_a0774406_4e6d_11ea_9e8f_549f3515a0bcrow2_col0\" class=\"data row2 col0\" >-0.0129582</td>\n",
       "                        <td id=\"T_a0774406_4e6d_11ea_9e8f_549f3515a0bcrow2_col1\" class=\"data row2 col1\" >0.0375819</td>\n",
       "                        <td id=\"T_a0774406_4e6d_11ea_9e8f_549f3515a0bcrow2_col2\" class=\"data row2 col2\" >-0.020929</td>\n",
       "                        <td id=\"T_a0774406_4e6d_11ea_9e8f_549f3515a0bcrow2_col3\" class=\"data row2 col3\" >-0.0122723</td>\n",
       "                        <td id=\"T_a0774406_4e6d_11ea_9e8f_549f3515a0bcrow2_col4\" class=\"data row2 col4\" >0.02888</td>\n",
       "                        <td id=\"T_a0774406_4e6d_11ea_9e8f_549f3515a0bcrow2_col5\" class=\"data row2 col5\" >-0.026146</td>\n",
       "            </tr>\n",
       "            <tr>\n",
       "                        <th id=\"T_a0774406_4e6d_11ea_9e8f_549f3515a0bclevel0_row3\" class=\"row_heading level0 row3\" >3</th>\n",
       "                        <td id=\"T_a0774406_4e6d_11ea_9e8f_549f3515a0bcrow3_col0\" class=\"data row3 col0\" >-0.00739373</td>\n",
       "                        <td id=\"T_a0774406_4e6d_11ea_9e8f_549f3515a0bcrow3_col1\" class=\"data row3 col1\" >0.0301077</td>\n",
       "                        <td id=\"T_a0774406_4e6d_11ea_9e8f_549f3515a0bcrow3_col2\" class=\"data row3 col2\" >-0.014258</td>\n",
       "                        <td id=\"T_a0774406_4e6d_11ea_9e8f_549f3515a0bcrow3_col3\" class=\"data row3 col3\" >-0.00733128</td>\n",
       "                        <td id=\"T_a0774406_4e6d_11ea_9e8f_549f3515a0bcrow3_col4\" class=\"data row3 col4\" >-0.0123134</td>\n",
       "                        <td id=\"T_a0774406_4e6d_11ea_9e8f_549f3515a0bcrow3_col5\" class=\"data row3 col5\" >-0.00525884</td>\n",
       "            </tr>\n",
       "            <tr>\n",
       "                        <th id=\"T_a0774406_4e6d_11ea_9e8f_549f3515a0bclevel0_row4\" class=\"row_heading level0 row4\" >4</th>\n",
       "                        <td id=\"T_a0774406_4e6d_11ea_9e8f_549f3515a0bcrow4_col0\" class=\"data row4 col0\" >-0.0114336</td>\n",
       "                        <td id=\"T_a0774406_4e6d_11ea_9e8f_549f3515a0bcrow4_col1\" class=\"data row4 col1\" >-0.0192375</td>\n",
       "                        <td id=\"T_a0774406_4e6d_11ea_9e8f_549f3515a0bcrow4_col2\" class=\"data row4 col2\" >-0.00333478</td>\n",
       "                        <td id=\"T_a0774406_4e6d_11ea_9e8f_549f3515a0bcrow4_col3\" class=\"data row4 col3\" >-0.00965786</td>\n",
       "                        <td id=\"T_a0774406_4e6d_11ea_9e8f_549f3515a0bcrow4_col4\" class=\"data row4 col4\" >0.188433</td>\n",
       "                        <td id=\"T_a0774406_4e6d_11ea_9e8f_549f3515a0bcrow4_col5\" class=\"data row4 col5\" >-0.0153178</td>\n",
       "            </tr>\n",
       "            <tr>\n",
       "                        <th id=\"T_a0774406_4e6d_11ea_9e8f_549f3515a0bclevel0_row5\" class=\"row_heading level0 row5\" >5</th>\n",
       "                        <td id=\"T_a0774406_4e6d_11ea_9e8f_549f3515a0bcrow5_col0\" class=\"data row5 col0\" >0.00980011</td>\n",
       "                        <td id=\"T_a0774406_4e6d_11ea_9e8f_549f3515a0bcrow5_col1\" class=\"data row5 col1\" >0.00912564</td>\n",
       "                        <td id=\"T_a0774406_4e6d_11ea_9e8f_549f3515a0bcrow5_col2\" class=\"data row5 col2\" >0.00887142</td>\n",
       "                        <td id=\"T_a0774406_4e6d_11ea_9e8f_549f3515a0bcrow5_col3\" class=\"data row5 col3\" >0.00799338</td>\n",
       "                        <td id=\"T_a0774406_4e6d_11ea_9e8f_549f3515a0bcrow5_col4\" class=\"data row5 col4\" >0.00368348</td>\n",
       "                        <td id=\"T_a0774406_4e6d_11ea_9e8f_549f3515a0bcrow5_col5\" class=\"data row5 col5\" >0.00402762</td>\n",
       "            </tr>\n",
       "    </tbody></table>"
      ],
      "text/plain": [
       "<pandas.io.formats.style.Styler at 0x2b99ab4ca828>"
      ]
     },
     "execution_count": 143,
     "metadata": {},
     "output_type": "execute_result"
    }
   ],
   "source": [
    "((m2_inv-m_inv)/m_inv).style.background_gradient(cmap=cmap, axis=None)"
   ]
  },
  {
   "cell_type": "code",
   "execution_count": 144,
   "metadata": {},
   "outputs": [
    {
     "data": {
      "text/plain": [
       "-0.00031388888888887463"
      ]
     },
     "execution_count": 144,
     "metadata": {},
     "output_type": "execute_result"
    }
   ],
   "source": [
    "((m2-m)/m).values.mean()"
   ]
  },
  {
   "cell_type": "markdown",
   "metadata": {},
   "source": [
    "The average relative difference for $m^{-1}$ and $m_2^{-1}$ is"
   ]
  },
  {
   "cell_type": "code",
   "execution_count": 145,
   "metadata": {},
   "outputs": [
    {
     "data": {
      "text/plain": [
       "0.006024694929226075"
      ]
     },
     "execution_count": 145,
     "metadata": {},
     "output_type": "execute_result"
    }
   ],
   "source": [
    "((m2_inv - m_inv)/m_inv).values.mean()"
   ]
  },
  {
   "cell_type": "code",
   "execution_count": 146,
   "metadata": {},
   "outputs": [
    {
     "data": {
      "text/plain": [
       "4.0554587828726065"
      ]
     },
     "execution_count": 146,
     "metadata": {},
     "output_type": "execute_result"
    }
   ],
   "source": [
    "np.log(np.linalg.cond(m))"
   ]
  },
  {
   "cell_type": "markdown",
   "metadata": {},
   "source": [
    "## General Matrix: Plots of signed relative differences vs matrix size"
   ]
  },
  {
   "cell_type": "markdown",
   "metadata": {},
   "source": [
    "### Setup\n",
    "Initialize empty arrays of size 100 for matrices for sizes $2\\times2$ upto $10\\times10$"
   ]
  },
  {
   "cell_type": "code",
   "execution_count": 229,
   "metadata": {},
   "outputs": [],
   "source": [
    "orig_rel_diffs = np.zeros((8, 100))\n",
    "inv_rel_diffs  = np.zeros((8, 100))\n",
    "deltas = [0.001, 0.005, 0.002, 0.0001, 0.001, 0.001, 0.001, 0.002, 0.0001, 0.005]"
   ]
  },
  {
   "cell_type": "markdown",
   "metadata": {},
   "source": [
    "* Each row correpsonds to matrix size\n",
    "* Each column for individual matrices' average relative difference values between the unperturbed and perturbed versions of the matrix"
   ]
  },
  {
   "cell_type": "code",
   "execution_count": 230,
   "metadata": {},
   "outputs": [
    {
     "name": "stdout",
     "output_type": "stream",
     "text": [
      "0 2 0 -0.0014750000000000123\n",
      "1 3 0 -0.000111111111111097\n",
      "2 4 0 -0.0006312499999999912\n",
      "3 5 0 0.0001920000000000053\n",
      "4 6 0 -0.00041111111111111806\n",
      "5 7 0 4.6938775510200216e-05\n",
      "6 8 0 -0.0001515624999999937\n",
      "7 9 0 -0.00018024691358024483\n"
     ]
    }
   ],
   "source": [
    "k = 0\n",
    "for n in range(2, 10):\n",
    "    done = 0\n",
    "    while done < 100:\n",
    "        try:\n",
    "            m = np.random.rand(n, n) * 10**(4)\n",
    "            m_inv = np.linalg.inv(m)\n",
    "            m2 = m.copy()\n",
    "            for i in range(len(m2)):\n",
    "                for j in range(len(m2)):\n",
    "                    if (i+j)%2:\n",
    "                        m2[i, j] += np.random.choice(deltas)*m[i, j]\n",
    "                    else:\n",
    "                        m2[i, j] -= np.random.choice(deltas)*m[i, j]\n",
    "            m2_inv = np.linalg.inv(m2)\n",
    "            orig_rel_diff = ((m2-m)/m).mean()\n",
    "            inv_rel_diff = ((m2_inv - m_inv)/m_inv).mean()\n",
    "            orig_rel_diffs[k, done] = orig_rel_diff\n",
    "            inv_rel_diffs[k, done] = inv_rel_diff\n",
    "            if done == 0:\n",
    "                print(k, n, done, orig_rel_diff)\n",
    "            done += 1\n",
    "        except:\n",
    "            print(k)\n",
    "            pass\n",
    "    k += 1"
   ]
  },
  {
   "cell_type": "markdown",
   "metadata": {},
   "source": [
    "Calculate the means and standard deviatoins of these values"
   ]
  },
  {
   "cell_type": "code",
   "execution_count": 235,
   "metadata": {},
   "outputs": [],
   "source": [
    "x = np.arange(2, 10)\n",
    "y1 = orig_rel_diffs.mean(axis=1)\n",
    "y1_err = orig_rel_diffs.std(axis=1)\n",
    "y2 = inv_rel_diffs.mean(axis=1)\n",
    "y2_err = inv_rel_diffs.std(axis=1)"
   ]
  },
  {
   "cell_type": "markdown",
   "metadata": {},
   "source": [
    "### Make the plot"
   ]
  },
  {
   "cell_type": "code",
   "execution_count": 266,
   "metadata": {},
   "outputs": [
    {
     "data": {
      "text/plain": [
       "Text(0.5, 1.0, 'Average Relative Differences at Various Matrix Sizes')"
      ]
     },
     "execution_count": 266,
     "metadata": {},
     "output_type": "execute_result"
    },
    {
     "data": {
      "image/png": "[encoded data removed]",
      "text/plain": [
       "<Figure size 648x432 with 2 Axes>"
      ]
     },
     "metadata": {
      "needs_background": "light"
     },
     "output_type": "display_data"
    }
   ],
   "source": [
    "fig, ax1 = plt.subplots(figsize=(9,6))\n",
    "ln1 = ax1.plot(x, y1, label=\"Original Matrices\")\n",
    "ax1.fill_between(x, y1-y1_err, y1+y1_err, alpha=0.3)\n",
    "ax1.set_ylabel(\"Original Matrices\")\n",
    "# plt.yscale(\"symlog\")\n",
    "\n",
    "\n",
    "ax2 = ax1.twinx()\n",
    "ln2 = ax2.plot(x, y2, color=\"orange\", label=\"Inverse Matrices\")\n",
    "ax2.fill_between(x, y2-y2_err, y2+y2_err,alpha=0.3, color=\"orange\")\n",
    "ax2.set_ylabel(\"Inverse Matrices\")\n",
    "# plt.yscale(\"symlog\")\n",
    "\n",
    "lns = ln1+ln2\n",
    "labs = [l.get_label() for l in lns]\n",
    "ax1.legend(lns, labs)\n",
    "plt.xlabel(\"Matrix Size\")\n",
    "plt.title(\"Average Relative Differences at Various Matrix Sizes\")"
   ]
  },
  {
   "cell_type": "markdown",
   "metadata": {},
   "source": [
    "## General Matrix: Plot of absolute relative differences vs matrix size"
   ]
  },
  {
   "cell_type": "markdown",
   "metadata": {},
   "source": [
    "### Setup\n",
    "Initialize empty arrays of size 100 for matrices for sizes $2\\times2$ upto $10\\times10$"
   ]
  },
  {
   "cell_type": "code",
   "execution_count": 3,
   "metadata": {},
   "outputs": [],
   "source": [
    "orig_rel_diffs = np.zeros((8, 100))\n",
    "inv_rel_diffs  = np.zeros((8, 100))\n",
    "deltas = [0.001, 0.005, 0.002, 0.0001, 0.001, 0.001, 0.001, 0.002, 0.0001, 0.005]"
   ]
  },
  {
   "cell_type": "markdown",
   "metadata": {},
   "source": [
    "* Each row correpsonds to matrix size\n",
    "* Each column for individual matrices' average relative difference values between the unperturbed and perturbed versions of the matrix"
   ]
  },
  {
   "cell_type": "code",
   "execution_count": 6,
   "metadata": {},
   "outputs": [
    {
     "name": "stdout",
     "output_type": "stream",
     "text": [
      "0 2 0 0.0015499999999999872\n",
      "1 3 0 0.002344444444444443\n",
      "2 4 0 0.0023312499999999952\n",
      "3 5 0 0.0020920000000000023\n",
      "4 6 0 0.001888888888888876\n",
      "5 7 0 0.0022040816326530654\n",
      "6 8 0 0.001667187500000003\n",
      "7 9 0 0.0018123456790123441\n"
     ]
    }
   ],
   "source": [
    "k = 0\n",
    "for n in range(2, 10):\n",
    "    done = 0\n",
    "    while done < 100:\n",
    "        try:\n",
    "            m = np.random.rand(n, n) * 10**(4)\n",
    "            m_inv = np.linalg.inv(m)\n",
    "            m2 = m.copy()\n",
    "            for i in range(len(m2)):\n",
    "                for j in range(len(m2)):\n",
    "                    if (i+j)%2:\n",
    "                        m2[i, j] += np.random.choice(deltas)*m[i, j]\n",
    "                    else:\n",
    "                        m2[i, j] -= np.random.choice(deltas)*m[i, j]\n",
    "            m2_inv = np.linalg.inv(m2)\n",
    "            orig_rel_diff = abs((m2-m)/m).mean()\n",
    "            inv_rel_diff = abs((m2_inv - m_inv)/m_inv).mean()\n",
    "            orig_rel_diffs[k, done] = orig_rel_diff\n",
    "            inv_rel_diffs[k, done] = inv_rel_diff\n",
    "            if done == 0:\n",
    "                print(k, n, done, orig_rel_diff)\n",
    "            done += 1\n",
    "        except:\n",
    "            print(k)\n",
    "            pass\n",
    "    k += 1"
   ]
  },
  {
   "cell_type": "markdown",
   "metadata": {},
   "source": [
    "Calculate the means and standard deviatoins of these values"
   ]
  },
  {
   "cell_type": "code",
   "execution_count": 20,
   "metadata": {},
   "outputs": [],
   "source": [
    "x = np.arange(2, 10)\n",
    "\n",
    "y1 = orig_rel_diffs.mean(axis=1)\n",
    "y1_low = orig_rel_diffs.min(axis=1)\n",
    "y1_hi = orig_rel_diffs.max(axis=1)\n",
    "y1_err = orig_rel_diffs.std(axis=1)\n",
    "\n",
    "y2 = inv_rel_diffs.mean(axis=1)\n",
    "y2_low = inv_rel_diffs.min(axis=1)\n",
    "y2_hi = inv_rel_diffs.max(axis=1)\n",
    "y2_err = inv_rel_diffs.std(axis=1)"
   ]
  },
  {
   "cell_type": "markdown",
   "metadata": {},
   "source": [
    "### Make the plot"
   ]
  },
  {
   "cell_type": "markdown",
   "metadata": {},
   "source": [
    "fill between standard deviation around mean"
   ]
  },
  {
   "cell_type": "code",
   "execution_count": 25,
   "metadata": {},
   "outputs": [
    {
     "data": {
      "image/png": "[encoded data removed]",
      "text/plain": [
       "<Figure size 648x432 with 2 Axes>"
      ]
     },
     "metadata": {
      "needs_background": "light"
     },
     "output_type": "display_data"
    }
   ],
   "source": [
    "fig, ax1 = plt.subplots(figsize=(9,6))\n",
    "ln1 = ax1.plot(x, y1, label=\"Original Matrices\")\n",
    "ax1.fill_between(x, y1-y1_err, y1+y1_err, alpha=0.3)\n",
    "ax1.set_ylabel(\"Original Matrices\")\n",
    "# plt.yscale(\"symlog\")\n",
    "\n",
    "\n",
    "ax2 = ax1.twinx()\n",
    "ln2 = ax2.plot(x, y2, color=\"orange\", label=\"Inverse Matrices\")\n",
    "ax2.fill_between(x, y2-y2_err, y2+y2_err,alpha=0.3, color=\"orange\")\n",
    "ax2.set_ylabel(\"Inverse Matrices\")\n",
    "# plt.yscale(\"symlog\")\n",
    "\n",
    "lns = ln1+ln2\n",
    "labs = [l.get_label() for l in lns]\n",
    "ax1.legend(lns, labs)\n",
    "plt.xlabel(\"Matrix Size\")\n",
    "plt.title(\"Average Absolute Relative Differences at Various Matrix Sizes\")\n",
    "plt.tight_layout()\n",
    "plt.show()"
   ]
  },
  {
   "cell_type": "markdown",
   "metadata": {},
   "source": [
    "fill between hi and low values"
   ]
  },
  {
   "cell_type": "code",
   "execution_count": 26,
   "metadata": {},
   "outputs": [
    {
     "data": {
      "image/png": "[encoded data removed]",
      "text/plain": [
       "<Figure size 648x432 with 2 Axes>"
      ]
     },
     "metadata": {
      "needs_background": "light"
     },
     "output_type": "display_data"
    }
   ],
   "source": [
    "fig, ax1 = plt.subplots(figsize=(9,6))\n",
    "ln1 = ax1.plot(x, y1, label=\"Original Matrices\")\n",
    "ax1.fill_between(x, y1_low, y1_hi, alpha=0.3)\n",
    "ax1.set_ylabel(\"Original Matrices\")\n",
    "# plt.yscale(\"symlog\")\n",
    "\n",
    "\n",
    "ax2 = ax1.twinx()\n",
    "ln2 = ax2.plot(x, y2, color=\"orange\", label=\"Inverse Matrices\")\n",
    "ax2.fill_between(x, y2_low, y2_hi,alpha=0.3, color=\"orange\")\n",
    "ax2.set_ylabel(\"Inverse Matrices\")\n",
    "# plt.yscale(\"symlog\")\n",
    "\n",
    "lns = ln1+ln2\n",
    "labs = [l.get_label() for l in lns]\n",
    "ax1.legend(lns, labs)\n",
    "plt.xlabel(\"Matrix Size\")\n",
    "plt.title(\"Average Absolute Relative Differences at Various Matrix Sizes\")\n",
    "plt.tight_layout()\n",
    "plt.show()"
   ]
  },
  {
   "cell_type": "markdown",
   "metadata": {},
   "source": [
    "## Postive Definite Symmetric Matrix: Plot of absolute relative differences vs matrix size"
   ]
  },
  {
   "cell_type": "markdown",
   "metadata": {},
   "source": [
    "### Setup\n",
    "Initialize empty arrays of size 100 for matrices for sizes $2\\times2$ upto $10\\times10$"
   ]
  },
  {
   "cell_type": "code",
   "execution_count": 3,
   "metadata": {},
   "outputs": [],
   "source": [
    "orig_rel_diffs = np.zeros((8, 100))\n",
    "inv_rel_diffs  = np.zeros((8, 100))\n",
    "deltas = [0.001, 0.005, 0.002, 0.0001, 0.001, 0.001, 0.001, 0.002, 0.0001, 0.005]"
   ]
  },
  {
   "cell_type": "markdown",
   "metadata": {},
   "source": [
    "* Each row correpsonds to matrix size\n",
    "* Each column for individual matrices' average relative difference values between the unperturbed and perturbed versions of the matrix"
   ]
  },
  {
   "cell_type": "code",
   "execution_count": 30,
   "metadata": {},
   "outputs": [
    {
     "name": "stdout",
     "output_type": "stream",
     "text": [
      "0 2 0 0.0007999999999999694\n",
      "1 3 0 0.002455555555555561\n",
      "2 4 0 0.001224999999999982\n",
      "3 5 0 0.0017439999999999906\n",
      "4 6 0 0.0017833333333333238\n",
      "5 7 0 0.0019142857142857306\n",
      "6 8 0 0.0014546874999999992\n",
      "7 9 0 0.0020024691358024667\n"
     ]
    }
   ],
   "source": [
    "k = 0\n",
    "for n in range(2, 10):\n",
    "    done = 0\n",
    "    while done < 100:\n",
    "        try:\n",
    "            m = np.random.rand(n, n) * 10**(4) # returns values in [0,1) and scales them by 10^4 #chances of 0 negligible\n",
    "            m = np.tril(m) + np.tril(m, -1).T # take lower triangle plu transpose (minus diagonal)\n",
    "            m_inv = np.linalg.inv(m)\n",
    "            m2 = m.copy()\n",
    "            for i in range(len(m2)):\n",
    "                for j in range(len(m2)):\n",
    "                    if (i+j)%2:\n",
    "                        m2[i, j] += np.random.choice(deltas)*m[i, j]\n",
    "                    else:\n",
    "                        m2[i, j] -= np.random.choice(deltas)*m[i, j]\n",
    "            m2_inv = np.linalg.inv(m2)\n",
    "            orig_rel_diff = abs((m2-m)/m).mean()\n",
    "            inv_rel_diff = abs((m2_inv - m_inv)/m_inv).mean()\n",
    "            orig_rel_diffs[k, done] = orig_rel_diff\n",
    "            inv_rel_diffs[k, done] = inv_rel_diff\n",
    "            if done == 0:\n",
    "                print(k, n, done, orig_rel_diff)\n",
    "            done += 1\n",
    "        except:\n",
    "            print(k)\n",
    "            pass\n",
    "    k += 1"
   ]
  },
  {
   "cell_type": "markdown",
   "metadata": {},
   "source": [
    "Calculate the means and standard deviatoins of these values"
   ]
  },
  {
   "cell_type": "code",
   "execution_count": 31,
   "metadata": {},
   "outputs": [],
   "source": [
    "x = np.arange(2, 10)\n",
    "\n",
    "y1 = orig_rel_diffs.mean(axis=1)\n",
    "y1_low = orig_rel_diffs.min(axis=1)\n",
    "y1_hi = orig_rel_diffs.max(axis=1)\n",
    "y1_err = orig_rel_diffs.std(axis=1)\n",
    "\n",
    "y2 = inv_rel_diffs.mean(axis=1)\n",
    "y2_low = inv_rel_diffs.min(axis=1)\n",
    "y2_hi = inv_rel_diffs.max(axis=1)\n",
    "y2_err = inv_rel_diffs.std(axis=1)"
   ]
  },
  {
   "cell_type": "markdown",
   "metadata": {},
   "source": [
    "### Make the plot"
   ]
  },
  {
   "cell_type": "markdown",
   "metadata": {},
   "source": [
    "fill between standard deviation around mean"
   ]
  },
  {
   "cell_type": "code",
   "execution_count": 32,
   "metadata": {},
   "outputs": [
    {
     "data": {
      "image/png": "[encoded data removed]",
      "text/plain": [
       "<Figure size 648x432 with 2 Axes>"
      ]
     },
     "metadata": {
      "needs_background": "light"
     },
     "output_type": "display_data"
    }
   ],
   "source": [
    "fig, ax1 = plt.subplots(figsize=(9,6))\n",
    "ln1 = ax1.plot(x, y1, label=\"Original Matrices\")\n",
    "ax1.fill_between(x, y1-y1_err, y1+y1_err, alpha=0.3)\n",
    "ax1.set_ylabel(\"Original Matrices\")\n",
    "# plt.yscale(\"symlog\")\n",
    "\n",
    "\n",
    "ax2 = ax1.twinx()\n",
    "ln2 = ax2.plot(x, y2, color=\"orange\", label=\"Inverse Matrices\")\n",
    "ax2.fill_between(x, y2-y2_err, y2+y2_err,alpha=0.3, color=\"orange\")\n",
    "ax2.set_ylabel(\"Inverse Matrices\")\n",
    "# plt.yscale(\"symlog\")\n",
    "\n",
    "lns = ln1+ln2\n",
    "labs = [l.get_label() for l in lns]\n",
    "ax1.legend(lns, labs)\n",
    "plt.xlabel(\"Matrix Size\")\n",
    "plt.title(\"Average Absolute Relative Differences at Various Matrix Sizes\")\n",
    "plt.tight_layout()\n",
    "plt.show()"
   ]
  },
  {
   "cell_type": "markdown",
   "metadata": {},
   "source": [
    "fill between hi and low values"
   ]
  },
  {
   "cell_type": "code",
   "execution_count": 33,
   "metadata": {},
   "outputs": [
    {
     "data": {
      "image/png": "[encoded data removed]",
      "text/plain": [
       "<Figure size 648x432 with 2 Axes>"
      ]
     },
     "metadata": {
      "needs_background": "light"
     },
     "output_type": "display_data"
    }
   ],
   "source": [
    "fig, ax1 = plt.subplots(figsize=(9,6))\n",
    "ln1 = ax1.plot(x, y1, label=\"Original Matrices\")\n",
    "ax1.fill_between(x, y1_low, y1_hi, alpha=0.3)\n",
    "ax1.set_ylabel(\"Original Matrices\")\n",
    "# plt.yscale(\"symlog\")\n",
    "\n",
    "\n",
    "ax2 = ax1.twinx()\n",
    "ln2 = ax2.plot(x, y2, color=\"orange\", label=\"Inverse Matrices\")\n",
    "ax2.fill_between(x, y2_low, y2_hi,alpha=0.3, color=\"orange\")\n",
    "ax2.set_ylabel(\"Inverse Matrices\")\n",
    "# plt.yscale(\"symlog\")\n",
    "\n",
    "lns = ln1+ln2\n",
    "labs = [l.get_label() for l in lns]\n",
    "ax1.legend(lns, labs)\n",
    "plt.xlabel(\"Matrix Size\")\n",
    "plt.title(\"Average Absolute Relative Differences at Various Matrix Sizes\")\n",
    "plt.tight_layout()\n",
    "plt.show()"
   ]
  },
  {
   "cell_type": "code",
   "execution_count": null,
   "metadata": {},
   "outputs": [],
   "source": []
  },
  {
   "cell_type": "markdown",
   "metadata": {},
   "source": [
    "## Check the Fisher Matrix"
   ]
  },
  {
   "cell_type": "markdown",
   "metadata": {},
   "source": [
    "### Load CCL and Cosmosis fisher Matrices"
   ]
  },
  {
   "cell_type": "code",
   "execution_count": 3,
   "metadata": {},
   "outputs": [],
   "source": [
    "paras = [\"$\\Omega_m$\", \"$w_0$\", \"$h_0$\", \"$A_s$\", \"$\\Omega_b$\", \"$n_s$\", \"$w_a$\"]\n",
    "ccl_f = pd.DataFrame(np.loadtxt(\"ccl_cosmosis_binned_comparison/om_m_0.25/A_s_2.1e-9/out_ccl/fisher_out.dat\"), index=paras, columns=paras)\n",
    "cosmosis_f = pd.DataFrame(np.loadtxt(\"ccl_cosmosis_binned_comparison/om_m_0.25/A_s_2.1e-9/out_cosmosis/fisher_out.dat\"), index=paras, columns=paras)"
   ]
  },
  {
   "cell_type": "code",
   "execution_count": 4,
   "metadata": {},
   "outputs": [],
   "source": [
    "ccl_cov = pd.DataFrame(np.linalg.inv(ccl_f), index=paras, columns=paras)\n",
    "cosmosis_cov = pd.DataFrame(np.linalg.inv(cosmosis_f), index=paras, columns=paras)"
   ]
  },
  {
   "cell_type": "markdown",
   "metadata": {},
   "source": [
    "### Relative Differences"
   ]
  },
  {
   "cell_type": "code",
   "execution_count": 6,
   "metadata": {},
   "outputs": [
    {
     "data": {
      "text/html": [
       "<style  type=\"text/css\" >\n",
       "    #T_082b859e_5eef_11ea_8bf7_549f3515a0bcrow0_col0 {\n",
       "            background-color:  #cddbed;\n",
       "            color:  #000000;\n",
       "        }    #T_082b859e_5eef_11ea_8bf7_549f3515a0bcrow0_col1 {\n",
       "            background-color:  #89aad4;\n",
       "            color:  #000000;\n",
       "        }    #T_082b859e_5eef_11ea_8bf7_549f3515a0bcrow0_col2 {\n",
       "            background-color:  #c3d4e9;\n",
       "            color:  #000000;\n",
       "        }    #T_082b859e_5eef_11ea_8bf7_549f3515a0bcrow0_col3 {\n",
       "            background-color:  #e4ecf5;\n",
       "            color:  #000000;\n",
       "        }    #T_082b859e_5eef_11ea_8bf7_549f3515a0bcrow0_col4 {\n",
       "            background-color:  #f9e0e5;\n",
       "            color:  #000000;\n",
       "        }    #T_082b859e_5eef_11ea_8bf7_549f3515a0bcrow0_col5 {\n",
       "            background-color:  #d3dfef;\n",
       "            color:  #000000;\n",
       "        }    #T_082b859e_5eef_11ea_8bf7_549f3515a0bcrow0_col6 {\n",
       "            background-color:  #c7d7eb;\n",
       "            color:  #000000;\n",
       "        }    #T_082b859e_5eef_11ea_8bf7_549f3515a0bcrow1_col0 {\n",
       "            background-color:  #89aad4;\n",
       "            color:  #000000;\n",
       "        }    #T_082b859e_5eef_11ea_8bf7_549f3515a0bcrow1_col1 {\n",
       "            background-color:  #4479bb;\n",
       "            color:  #000000;\n",
       "        }    #T_082b859e_5eef_11ea_8bf7_549f3515a0bcrow1_col2 {\n",
       "            background-color:  #789ece;\n",
       "            color:  #000000;\n",
       "        }    #T_082b859e_5eef_11ea_8bf7_549f3515a0bcrow1_col3 {\n",
       "            background-color:  #96b4d9;\n",
       "            color:  #000000;\n",
       "        }    #T_082b859e_5eef_11ea_8bf7_549f3515a0bcrow1_col4 {\n",
       "            background-color:  #bbcee6;\n",
       "            color:  #000000;\n",
       "        }    #T_082b859e_5eef_11ea_8bf7_549f3515a0bcrow1_col5 {\n",
       "            background-color:  #9eb9db;\n",
       "            color:  #000000;\n",
       "        }    #T_082b859e_5eef_11ea_8bf7_549f3515a0bcrow1_col6 {\n",
       "            background-color:  #799fce;\n",
       "            color:  #000000;\n",
       "        }    #T_082b859e_5eef_11ea_8bf7_549f3515a0bcrow2_col0 {\n",
       "            background-color:  #c3d4e9;\n",
       "            color:  #000000;\n",
       "        }    #T_082b859e_5eef_11ea_8bf7_549f3515a0bcrow2_col1 {\n",
       "            background-color:  #789ece;\n",
       "            color:  #000000;\n",
       "        }    #T_082b859e_5eef_11ea_8bf7_549f3515a0bcrow2_col2 {\n",
       "            background-color:  #b5cae4;\n",
       "            color:  #000000;\n",
       "        }    #T_082b859e_5eef_11ea_8bf7_549f3515a0bcrow2_col3 {\n",
       "            background-color:  #d5e1f0;\n",
       "            color:  #000000;\n",
       "        }    #T_082b859e_5eef_11ea_8bf7_549f3515a0bcrow2_col4 {\n",
       "            background-color:  #fae4e9;\n",
       "            color:  #000000;\n",
       "        }    #T_082b859e_5eef_11ea_8bf7_549f3515a0bcrow2_col5 {\n",
       "            background-color:  #d1deee;\n",
       "            color:  #000000;\n",
       "        }    #T_082b859e_5eef_11ea_8bf7_549f3515a0bcrow2_col6 {\n",
       "            background-color:  #b9cde6;\n",
       "            color:  #000000;\n",
       "        }    #T_082b859e_5eef_11ea_8bf7_549f3515a0bcrow3_col0 {\n",
       "            background-color:  #e4ecf5;\n",
       "            color:  #000000;\n",
       "        }    #T_082b859e_5eef_11ea_8bf7_549f3515a0bcrow3_col1 {\n",
       "            background-color:  #96b4d9;\n",
       "            color:  #000000;\n",
       "        }    #T_082b859e_5eef_11ea_8bf7_549f3515a0bcrow3_col2 {\n",
       "            background-color:  #d5e1f0;\n",
       "            color:  #000000;\n",
       "        }    #T_082b859e_5eef_11ea_8bf7_549f3515a0bcrow3_col3 {\n",
       "            background-color:  #f2f2f2;\n",
       "            color:  #000000;\n",
       "        }    #T_082b859e_5eef_11ea_8bf7_549f3515a0bcrow3_col4 {\n",
       "            background-color:  #f1bbc6;\n",
       "            color:  #000000;\n",
       "        }    #T_082b859e_5eef_11ea_8bf7_549f3515a0bcrow3_col5 {\n",
       "            background-color:  #f2f2f2;\n",
       "            color:  #000000;\n",
       "        }    #T_082b859e_5eef_11ea_8bf7_549f3515a0bcrow3_col6 {\n",
       "            background-color:  #dde7f3;\n",
       "            color:  #000000;\n",
       "        }    #T_082b859e_5eef_11ea_8bf7_549f3515a0bcrow4_col0 {\n",
       "            background-color:  #f9e0e5;\n",
       "            color:  #000000;\n",
       "        }    #T_082b859e_5eef_11ea_8bf7_549f3515a0bcrow4_col1 {\n",
       "            background-color:  #bbcee6;\n",
       "            color:  #000000;\n",
       "        }    #T_082b859e_5eef_11ea_8bf7_549f3515a0bcrow4_col2 {\n",
       "            background-color:  #fae4e9;\n",
       "            color:  #000000;\n",
       "        }    #T_082b859e_5eef_11ea_8bf7_549f3515a0bcrow4_col3 {\n",
       "            background-color:  #f1bbc6;\n",
       "            color:  #000000;\n",
       "        }    #T_082b859e_5eef_11ea_8bf7_549f3515a0bcrow4_col4 {\n",
       "            background-color:  #d73c5b;\n",
       "            color:  #f1f1f1;\n",
       "        }    #T_082b859e_5eef_11ea_8bf7_549f3515a0bcrow4_col5 {\n",
       "            background-color:  #d5e1f0;\n",
       "            color:  #000000;\n",
       "        }    #T_082b859e_5eef_11ea_8bf7_549f3515a0bcrow4_col6 {\n",
       "            background-color:  #f1bbc6;\n",
       "            color:  #000000;\n",
       "        }    #T_082b859e_5eef_11ea_8bf7_549f3515a0bcrow5_col0 {\n",
       "            background-color:  #d3dfef;\n",
       "            color:  #000000;\n",
       "        }    #T_082b859e_5eef_11ea_8bf7_549f3515a0bcrow5_col1 {\n",
       "            background-color:  #9eb9db;\n",
       "            color:  #000000;\n",
       "        }    #T_082b859e_5eef_11ea_8bf7_549f3515a0bcrow5_col2 {\n",
       "            background-color:  #d1deee;\n",
       "            color:  #000000;\n",
       "        }    #T_082b859e_5eef_11ea_8bf7_549f3515a0bcrow5_col3 {\n",
       "            background-color:  #f2f2f2;\n",
       "            color:  #000000;\n",
       "        }    #T_082b859e_5eef_11ea_8bf7_549f3515a0bcrow5_col4 {\n",
       "            background-color:  #d5e1f0;\n",
       "            color:  #000000;\n",
       "        }    #T_082b859e_5eef_11ea_8bf7_549f3515a0bcrow5_col5 {\n",
       "            background-color:  #e6edf6;\n",
       "            color:  #000000;\n",
       "        }    #T_082b859e_5eef_11ea_8bf7_549f3515a0bcrow5_col6 {\n",
       "            background-color:  #b7cbe5;\n",
       "            color:  #000000;\n",
       "        }    #T_082b859e_5eef_11ea_8bf7_549f3515a0bcrow6_col0 {\n",
       "            background-color:  #c7d7eb;\n",
       "            color:  #000000;\n",
       "        }    #T_082b859e_5eef_11ea_8bf7_549f3515a0bcrow6_col1 {\n",
       "            background-color:  #799fce;\n",
       "            color:  #000000;\n",
       "        }    #T_082b859e_5eef_11ea_8bf7_549f3515a0bcrow6_col2 {\n",
       "            background-color:  #b9cde6;\n",
       "            color:  #000000;\n",
       "        }    #T_082b859e_5eef_11ea_8bf7_549f3515a0bcrow6_col3 {\n",
       "            background-color:  #dde7f3;\n",
       "            color:  #000000;\n",
       "        }    #T_082b859e_5eef_11ea_8bf7_549f3515a0bcrow6_col4 {\n",
       "            background-color:  #f1bbc6;\n",
       "            color:  #000000;\n",
       "        }    #T_082b859e_5eef_11ea_8bf7_549f3515a0bcrow6_col5 {\n",
       "            background-color:  #b7cbe5;\n",
       "            color:  #000000;\n",
       "        }    #T_082b859e_5eef_11ea_8bf7_549f3515a0bcrow6_col6 {\n",
       "            background-color:  #cfddee;\n",
       "            color:  #000000;\n",
       "        }</style><table id=\"T_082b859e_5eef_11ea_8bf7_549f3515a0bc\" ><caption>Fisher Relative Differences</caption><thead>    <tr>        <th class=\"blank level0\" ></th>        <th class=\"col_heading level0 col0\" >$\\Omega_m$</th>        <th class=\"col_heading level0 col1\" >$w_0$</th>        <th class=\"col_heading level0 col2\" >$h_0$</th>        <th class=\"col_heading level0 col3\" >$A_s$</th>        <th class=\"col_heading level0 col4\" >$\\Omega_b$</th>        <th class=\"col_heading level0 col5\" >$n_s$</th>        <th class=\"col_heading level0 col6\" >$w_a$</th>    </tr></thead><tbody>\n",
       "                <tr>\n",
       "                        <th id=\"T_082b859e_5eef_11ea_8bf7_549f3515a0bclevel0_row0\" class=\"row_heading level0 row0\" >$\\Omega_m$</th>\n",
       "                        <td id=\"T_082b859e_5eef_11ea_8bf7_549f3515a0bcrow0_col0\" class=\"data row0 col0\" >4.68171e-05</td>\n",
       "                        <td id=\"T_082b859e_5eef_11ea_8bf7_549f3515a0bcrow0_col1\" class=\"data row0 col1\" >0.00191895</td>\n",
       "                        <td id=\"T_082b859e_5eef_11ea_8bf7_549f3515a0bcrow0_col2\" class=\"data row0 col2\" >0.000326295</td>\n",
       "                        <td id=\"T_082b859e_5eef_11ea_8bf7_549f3515a0bcrow0_col3\" class=\"data row0 col3\" >-0.000598432</td>\n",
       "                        <td id=\"T_082b859e_5eef_11ea_8bf7_549f3515a0bcrow0_col4\" class=\"data row0 col4\" >-0.0014859</td>\n",
       "                        <td id=\"T_082b859e_5eef_11ea_8bf7_549f3515a0bcrow0_col5\" class=\"data row0 col5\" >-0.000101374</td>\n",
       "                        <td id=\"T_082b859e_5eef_11ea_8bf7_549f3515a0bcrow0_col6\" class=\"data row0 col6\" >0.000193318</td>\n",
       "            </tr>\n",
       "            <tr>\n",
       "                        <th id=\"T_082b859e_5eef_11ea_8bf7_549f3515a0bclevel0_row1\" class=\"row_heading level0 row1\" >$w_0$</th>\n",
       "                        <td id=\"T_082b859e_5eef_11ea_8bf7_549f3515a0bcrow1_col0\" class=\"data row1 col0\" >0.00191895</td>\n",
       "                        <td id=\"T_082b859e_5eef_11ea_8bf7_549f3515a0bcrow1_col1\" class=\"data row1 col1\" >0.00384416</td>\n",
       "                        <td id=\"T_082b859e_5eef_11ea_8bf7_549f3515a0bcrow1_col2\" class=\"data row1 col2\" >0.00238524</td>\n",
       "                        <td id=\"T_082b859e_5eef_11ea_8bf7_549f3515a0bcrow1_col3\" class=\"data row1 col3\" >0.00152741</td>\n",
       "                        <td id=\"T_082b859e_5eef_11ea_8bf7_549f3515a0bcrow1_col4\" class=\"data row1 col4\" >0.000560797</td>\n",
       "                        <td id=\"T_082b859e_5eef_11ea_8bf7_549f3515a0bcrow1_col5\" class=\"data row1 col5\" >0.00135543</td>\n",
       "                        <td id=\"T_082b859e_5eef_11ea_8bf7_549f3515a0bcrow1_col6\" class=\"data row1 col6\" >0.00233763</td>\n",
       "            </tr>\n",
       "            <tr>\n",
       "                        <th id=\"T_082b859e_5eef_11ea_8bf7_549f3515a0bclevel0_row2\" class=\"row_heading level0 row2\" >$h_0$</th>\n",
       "                        <td id=\"T_082b859e_5eef_11ea_8bf7_549f3515a0bcrow2_col0\" class=\"data row2 col0\" >0.000326295</td>\n",
       "                        <td id=\"T_082b859e_5eef_11ea_8bf7_549f3515a0bcrow2_col1\" class=\"data row2 col1\" >0.00238524</td>\n",
       "                        <td id=\"T_082b859e_5eef_11ea_8bf7_549f3515a0bcrow2_col2\" class=\"data row2 col2\" >0.000719528</td>\n",
       "                        <td id=\"T_082b859e_5eef_11ea_8bf7_549f3515a0bcrow2_col3\" class=\"data row2 col3\" >-0.000177489</td>\n",
       "                        <td id=\"T_082b859e_5eef_11ea_8bf7_549f3515a0bcrow2_col4\" class=\"data row2 col4\" >-0.0014063</td>\n",
       "                        <td id=\"T_082b859e_5eef_11ea_8bf7_549f3515a0bcrow2_col5\" class=\"data row2 col5\" >-4.82369e-05</td>\n",
       "                        <td id=\"T_082b859e_5eef_11ea_8bf7_549f3515a0bcrow2_col6\" class=\"data row2 col6\" >0.000584382</td>\n",
       "            </tr>\n",
       "            <tr>\n",
       "                        <th id=\"T_082b859e_5eef_11ea_8bf7_549f3515a0bclevel0_row3\" class=\"row_heading level0 row3\" >$A_s$</th>\n",
       "                        <td id=\"T_082b859e_5eef_11ea_8bf7_549f3515a0bcrow3_col0\" class=\"data row3 col0\" >-0.000598432</td>\n",
       "                        <td id=\"T_082b859e_5eef_11ea_8bf7_549f3515a0bcrow3_col1\" class=\"data row3 col1\" >0.00152741</td>\n",
       "                        <td id=\"T_082b859e_5eef_11ea_8bf7_549f3515a0bcrow3_col2\" class=\"data row3 col2\" >-0.000177489</td>\n",
       "                        <td id=\"T_082b859e_5eef_11ea_8bf7_549f3515a0bcrow3_col3\" class=\"data row3 col3\" >-0.00105413</td>\n",
       "                        <td id=\"T_082b859e_5eef_11ea_8bf7_549f3515a0bcrow3_col4\" class=\"data row3 col4\" >-0.00247392</td>\n",
       "                        <td id=\"T_082b859e_5eef_11ea_8bf7_549f3515a0bcrow3_col5\" class=\"data row3 col5\" >-0.000957028</td>\n",
       "                        <td id=\"T_082b859e_5eef_11ea_8bf7_549f3515a0bcrow3_col6\" class=\"data row3 col6\" >-0.00041104</td>\n",
       "            </tr>\n",
       "            <tr>\n",
       "                        <th id=\"T_082b859e_5eef_11ea_8bf7_549f3515a0bclevel0_row4\" class=\"row_heading level0 row4\" >$\\Omega_b$</th>\n",
       "                        <td id=\"T_082b859e_5eef_11ea_8bf7_549f3515a0bcrow4_col0\" class=\"data row4 col0\" >-0.0014859</td>\n",
       "                        <td id=\"T_082b859e_5eef_11ea_8bf7_549f3515a0bcrow4_col1\" class=\"data row4 col1\" >0.000560797</td>\n",
       "                        <td id=\"T_082b859e_5eef_11ea_8bf7_549f3515a0bcrow4_col2\" class=\"data row4 col2\" >-0.0014063</td>\n",
       "                        <td id=\"T_082b859e_5eef_11ea_8bf7_549f3515a0bcrow4_col3\" class=\"data row4 col3\" >-0.00247392</td>\n",
       "                        <td id=\"T_082b859e_5eef_11ea_8bf7_549f3515a0bcrow4_col4\" class=\"data row4 col4\" >-0.00589811</td>\n",
       "                        <td id=\"T_082b859e_5eef_11ea_8bf7_549f3515a0bcrow4_col5\" class=\"data row4 col5\" >-0.00018361</td>\n",
       "                        <td id=\"T_082b859e_5eef_11ea_8bf7_549f3515a0bcrow4_col6\" class=\"data row4 col6\" >-0.00250707</td>\n",
       "            </tr>\n",
       "            <tr>\n",
       "                        <th id=\"T_082b859e_5eef_11ea_8bf7_549f3515a0bclevel0_row5\" class=\"row_heading level0 row5\" >$n_s$</th>\n",
       "                        <td id=\"T_082b859e_5eef_11ea_8bf7_549f3515a0bcrow5_col0\" class=\"data row5 col0\" >-0.000101374</td>\n",
       "                        <td id=\"T_082b859e_5eef_11ea_8bf7_549f3515a0bcrow5_col1\" class=\"data row5 col1\" >0.00135543</td>\n",
       "                        <td id=\"T_082b859e_5eef_11ea_8bf7_549f3515a0bcrow5_col2\" class=\"data row5 col2\" >-4.82369e-05</td>\n",
       "                        <td id=\"T_082b859e_5eef_11ea_8bf7_549f3515a0bcrow5_col3\" class=\"data row5 col3\" >-0.000957028</td>\n",
       "                        <td id=\"T_082b859e_5eef_11ea_8bf7_549f3515a0bcrow5_col4\" class=\"data row5 col4\" >-0.00018361</td>\n",
       "                        <td id=\"T_082b859e_5eef_11ea_8bf7_549f3515a0bcrow5_col5\" class=\"data row5 col5\" >-0.000614762</td>\n",
       "                        <td id=\"T_082b859e_5eef_11ea_8bf7_549f3515a0bcrow5_col6\" class=\"data row5 col6\" >0.000683428</td>\n",
       "            </tr>\n",
       "            <tr>\n",
       "                        <th id=\"T_082b859e_5eef_11ea_8bf7_549f3515a0bclevel0_row6\" class=\"row_heading level0 row6\" >$w_a$</th>\n",
       "                        <td id=\"T_082b859e_5eef_11ea_8bf7_549f3515a0bcrow6_col0\" class=\"data row6 col0\" >0.000193318</td>\n",
       "                        <td id=\"T_082b859e_5eef_11ea_8bf7_549f3515a0bcrow6_col1\" class=\"data row6 col1\" >0.00233763</td>\n",
       "                        <td id=\"T_082b859e_5eef_11ea_8bf7_549f3515a0bcrow6_col2\" class=\"data row6 col2\" >0.000584382</td>\n",
       "                        <td id=\"T_082b859e_5eef_11ea_8bf7_549f3515a0bcrow6_col3\" class=\"data row6 col3\" >-0.00041104</td>\n",
       "                        <td id=\"T_082b859e_5eef_11ea_8bf7_549f3515a0bcrow6_col4\" class=\"data row6 col4\" >-0.00250707</td>\n",
       "                        <td id=\"T_082b859e_5eef_11ea_8bf7_549f3515a0bcrow6_col5\" class=\"data row6 col5\" >0.000683428</td>\n",
       "                        <td id=\"T_082b859e_5eef_11ea_8bf7_549f3515a0bcrow6_col6\" class=\"data row6 col6\" >-3.31873e-05</td>\n",
       "            </tr>\n",
       "    </tbody></table>"
      ],
      "text/plain": [
       "<pandas.io.formats.style.Styler at 0x2b2bc0e349e8>"
      ]
     },
     "execution_count": 6,
     "metadata": {},
     "output_type": "execute_result"
    }
   ],
   "source": [
    "((ccl_f - cosmosis_f)/ccl_f).style.background_gradient(cmap=cmap, axis=None).set_caption(\"Fisher Relative Differences\")"
   ]
  },
  {
   "cell_type": "code",
   "execution_count": 8,
   "metadata": {},
   "outputs": [],
   "source": [
    "#((ccl_cov - cosmosis_cov)/ccl_cov).to_csv(\"SRD/ccl_cosmosis_cov_rel_diffs.csv\")"
   ]
  },
  {
   "cell_type": "code",
   "execution_count": 6,
   "metadata": {},
   "outputs": [],
   "source": [
    "np.savetxt(\"SRD/ccl_cosmosis_rel_diffs.dat\", (ccl_f - cosmosis_f)/ccl_f)"
   ]
  },
  {
   "cell_type": "code",
   "execution_count": 80,
   "metadata": {},
   "outputs": [
    {
     "data": {
      "text/html": [
       "<style  type=\"text/css\" >\n",
       "    #T_fae138dc_5aa4_11ea_9c14_549f3515a0bcrow0_col0 {\n",
       "            background-color:  #fae6ea;\n",
       "            color:  #000000;\n",
       "        }    #T_fae138dc_5aa4_11ea_9c14_549f3515a0bcrow0_col1 {\n",
       "            background-color:  #fbeaed;\n",
       "            color:  #000000;\n",
       "        }    #T_fae138dc_5aa4_11ea_9c14_549f3515a0bcrow0_col2 {\n",
       "            background-color:  #fae6ea;\n",
       "            color:  #000000;\n",
       "        }    #T_fae138dc_5aa4_11ea_9c14_549f3515a0bcrow0_col3 {\n",
       "            background-color:  #fae4e9;\n",
       "            color:  #000000;\n",
       "        }    #T_fae138dc_5aa4_11ea_9c14_549f3515a0bcrow0_col4 {\n",
       "            background-color:  #fae6ea;\n",
       "            color:  #000000;\n",
       "        }    #T_fae138dc_5aa4_11ea_9c14_549f3515a0bcrow0_col5 {\n",
       "            background-color:  #f9e3e7;\n",
       "            color:  #000000;\n",
       "        }    #T_fae138dc_5aa4_11ea_9c14_549f3515a0bcrow0_col6 {\n",
       "            background-color:  #fae8ec;\n",
       "            color:  #000000;\n",
       "        }    #T_fae138dc_5aa4_11ea_9c14_549f3515a0bcrow1_col0 {\n",
       "            background-color:  #fbeaed;\n",
       "            color:  #000000;\n",
       "        }    #T_fae138dc_5aa4_11ea_9c14_549f3515a0bcrow1_col1 {\n",
       "            background-color:  #f9e0e5;\n",
       "            color:  #000000;\n",
       "        }    #T_fae138dc_5aa4_11ea_9c14_549f3515a0bcrow1_col2 {\n",
       "            background-color:  #d73c5b;\n",
       "            color:  #f1f1f1;\n",
       "        }    #T_fae138dc_5aa4_11ea_9c14_549f3515a0bcrow1_col3 {\n",
       "            background-color:  #f7dae0;\n",
       "            color:  #000000;\n",
       "        }    #T_fae138dc_5aa4_11ea_9c14_549f3515a0bcrow1_col4 {\n",
       "            background-color:  #f6d1d8;\n",
       "            color:  #000000;\n",
       "        }    #T_fae138dc_5aa4_11ea_9c14_549f3515a0bcrow1_col5 {\n",
       "            background-color:  #4479bb;\n",
       "            color:  #000000;\n",
       "        }    #T_fae138dc_5aa4_11ea_9c14_549f3515a0bcrow1_col6 {\n",
       "            background-color:  #f9e0e5;\n",
       "            color:  #000000;\n",
       "        }    #T_fae138dc_5aa4_11ea_9c14_549f3515a0bcrow2_col0 {\n",
       "            background-color:  #fae6ea;\n",
       "            color:  #000000;\n",
       "        }    #T_fae138dc_5aa4_11ea_9c14_549f3515a0bcrow2_col1 {\n",
       "            background-color:  #d73c5b;\n",
       "            color:  #f1f1f1;\n",
       "        }    #T_fae138dc_5aa4_11ea_9c14_549f3515a0bcrow2_col2 {\n",
       "            background-color:  #fae4e9;\n",
       "            color:  #000000;\n",
       "        }    #T_fae138dc_5aa4_11ea_9c14_549f3515a0bcrow2_col3 {\n",
       "            background-color:  #f9e2e6;\n",
       "            color:  #000000;\n",
       "        }    #T_fae138dc_5aa4_11ea_9c14_549f3515a0bcrow2_col4 {\n",
       "            background-color:  #fae4e9;\n",
       "            color:  #000000;\n",
       "        }    #T_fae138dc_5aa4_11ea_9c14_549f3515a0bcrow2_col5 {\n",
       "            background-color:  #f9e0e5;\n",
       "            color:  #000000;\n",
       "        }    #T_fae138dc_5aa4_11ea_9c14_549f3515a0bcrow2_col6 {\n",
       "            background-color:  #5a88c3;\n",
       "            color:  #000000;\n",
       "        }    #T_fae138dc_5aa4_11ea_9c14_549f3515a0bcrow3_col0 {\n",
       "            background-color:  #fae4e9;\n",
       "            color:  #000000;\n",
       "        }    #T_fae138dc_5aa4_11ea_9c14_549f3515a0bcrow3_col1 {\n",
       "            background-color:  #f7dae0;\n",
       "            color:  #000000;\n",
       "        }    #T_fae138dc_5aa4_11ea_9c14_549f3515a0bcrow3_col2 {\n",
       "            background-color:  #f9e2e6;\n",
       "            color:  #000000;\n",
       "        }    #T_fae138dc_5aa4_11ea_9c14_549f3515a0bcrow3_col3 {\n",
       "            background-color:  #f8dee3;\n",
       "            color:  #000000;\n",
       "        }    #T_fae138dc_5aa4_11ea_9c14_549f3515a0bcrow3_col4 {\n",
       "            background-color:  #f9e2e6;\n",
       "            color:  #000000;\n",
       "        }    #T_fae138dc_5aa4_11ea_9c14_549f3515a0bcrow3_col5 {\n",
       "            background-color:  #f8dfe4;\n",
       "            color:  #000000;\n",
       "        }    #T_fae138dc_5aa4_11ea_9c14_549f3515a0bcrow3_col6 {\n",
       "            background-color:  #f7dae0;\n",
       "            color:  #000000;\n",
       "        }    #T_fae138dc_5aa4_11ea_9c14_549f3515a0bcrow4_col0 {\n",
       "            background-color:  #fae6ea;\n",
       "            color:  #000000;\n",
       "        }    #T_fae138dc_5aa4_11ea_9c14_549f3515a0bcrow4_col1 {\n",
       "            background-color:  #f6d1d8;\n",
       "            color:  #000000;\n",
       "        }    #T_fae138dc_5aa4_11ea_9c14_549f3515a0bcrow4_col2 {\n",
       "            background-color:  #fae4e9;\n",
       "            color:  #000000;\n",
       "        }    #T_fae138dc_5aa4_11ea_9c14_549f3515a0bcrow4_col3 {\n",
       "            background-color:  #f9e2e6;\n",
       "            color:  #000000;\n",
       "        }    #T_fae138dc_5aa4_11ea_9c14_549f3515a0bcrow4_col4 {\n",
       "            background-color:  #fae4e9;\n",
       "            color:  #000000;\n",
       "        }    #T_fae138dc_5aa4_11ea_9c14_549f3515a0bcrow4_col5 {\n",
       "            background-color:  #f9e3e7;\n",
       "            color:  #000000;\n",
       "        }    #T_fae138dc_5aa4_11ea_9c14_549f3515a0bcrow4_col6 {\n",
       "            background-color:  #f6d3da;\n",
       "            color:  #000000;\n",
       "        }    #T_fae138dc_5aa4_11ea_9c14_549f3515a0bcrow5_col0 {\n",
       "            background-color:  #f9e3e7;\n",
       "            color:  #000000;\n",
       "        }    #T_fae138dc_5aa4_11ea_9c14_549f3515a0bcrow5_col1 {\n",
       "            background-color:  #4479bb;\n",
       "            color:  #000000;\n",
       "        }    #T_fae138dc_5aa4_11ea_9c14_549f3515a0bcrow5_col2 {\n",
       "            background-color:  #f9e0e5;\n",
       "            color:  #000000;\n",
       "        }    #T_fae138dc_5aa4_11ea_9c14_549f3515a0bcrow5_col3 {\n",
       "            background-color:  #f8dfe4;\n",
       "            color:  #000000;\n",
       "        }    #T_fae138dc_5aa4_11ea_9c14_549f3515a0bcrow5_col4 {\n",
       "            background-color:  #f9e3e7;\n",
       "            color:  #000000;\n",
       "        }    #T_fae138dc_5aa4_11ea_9c14_549f3515a0bcrow5_col5 {\n",
       "            background-color:  #f7dae0;\n",
       "            color:  #000000;\n",
       "        }    #T_fae138dc_5aa4_11ea_9c14_549f3515a0bcrow5_col6 {\n",
       "            background-color:  #f9e0e5;\n",
       "            color:  #000000;\n",
       "        }    #T_fae138dc_5aa4_11ea_9c14_549f3515a0bcrow6_col0 {\n",
       "            background-color:  #fae8ec;\n",
       "            color:  #000000;\n",
       "        }    #T_fae138dc_5aa4_11ea_9c14_549f3515a0bcrow6_col1 {\n",
       "            background-color:  #f9e0e5;\n",
       "            color:  #000000;\n",
       "        }    #T_fae138dc_5aa4_11ea_9c14_549f3515a0bcrow6_col2 {\n",
       "            background-color:  #5a88c3;\n",
       "            color:  #000000;\n",
       "        }    #T_fae138dc_5aa4_11ea_9c14_549f3515a0bcrow6_col3 {\n",
       "            background-color:  #f7dae0;\n",
       "            color:  #000000;\n",
       "        }    #T_fae138dc_5aa4_11ea_9c14_549f3515a0bcrow6_col4 {\n",
       "            background-color:  #f6d3da;\n",
       "            color:  #000000;\n",
       "        }    #T_fae138dc_5aa4_11ea_9c14_549f3515a0bcrow6_col5 {\n",
       "            background-color:  #f9e0e5;\n",
       "            color:  #000000;\n",
       "        }    #T_fae138dc_5aa4_11ea_9c14_549f3515a0bcrow6_col6 {\n",
       "            background-color:  #f8dfe4;\n",
       "            color:  #000000;\n",
       "        }</style><table id=\"T_fae138dc_5aa4_11ea_9c14_549f3515a0bc\" ><caption>Covariance Relative Differences</caption><thead>    <tr>        <th class=\"blank level0\" ></th>        <th class=\"col_heading level0 col0\" >$\\Omega_m$</th>        <th class=\"col_heading level0 col1\" >$w_0$</th>        <th class=\"col_heading level0 col2\" >$h_0$</th>        <th class=\"col_heading level0 col3\" >$A_s$</th>        <th class=\"col_heading level0 col4\" >$\\Omega_b$</th>        <th class=\"col_heading level0 col5\" >$n_s$</th>        <th class=\"col_heading level0 col6\" >$w_a$</th>    </tr></thead><tbody>\n",
       "                <tr>\n",
       "                        <th id=\"T_fae138dc_5aa4_11ea_9c14_549f3515a0bclevel0_row0\" class=\"row_heading level0 row0\" >$\\Omega_m$</th>\n",
       "                        <td id=\"T_fae138dc_5aa4_11ea_9c14_549f3515a0bcrow0_col0\" class=\"data row0 col0\" >0.790638</td>\n",
       "                        <td id=\"T_fae138dc_5aa4_11ea_9c14_549f3515a0bcrow0_col1\" class=\"data row0 col1\" >1.14491</td>\n",
       "                        <td id=\"T_fae138dc_5aa4_11ea_9c14_549f3515a0bcrow0_col2\" class=\"data row0 col2\" >0.770951</td>\n",
       "                        <td id=\"T_fae138dc_5aa4_11ea_9c14_549f3515a0bcrow0_col3\" class=\"data row0 col3\" >0.736194</td>\n",
       "                        <td id=\"T_fae138dc_5aa4_11ea_9c14_549f3515a0bcrow0_col4\" class=\"data row0 col4\" >0.781859</td>\n",
       "                        <td id=\"T_fae138dc_5aa4_11ea_9c14_549f3515a0bcrow0_col5\" class=\"data row0 col5\" >0.62023</td>\n",
       "                        <td id=\"T_fae138dc_5aa4_11ea_9c14_549f3515a0bcrow0_col6\" class=\"data row0 col6\" >1.00454</td>\n",
       "            </tr>\n",
       "            <tr>\n",
       "                        <th id=\"T_fae138dc_5aa4_11ea_9c14_549f3515a0bclevel0_row1\" class=\"row_heading level0 row1\" >$w_0$</th>\n",
       "                        <td id=\"T_fae138dc_5aa4_11ea_9c14_549f3515a0bcrow1_col0\" class=\"data row1 col0\" >1.14491</td>\n",
       "                        <td id=\"T_fae138dc_5aa4_11ea_9c14_549f3515a0bcrow1_col1\" class=\"data row1 col1\" >0.353569</td>\n",
       "                        <td id=\"T_fae138dc_5aa4_11ea_9c14_549f3515a0bcrow1_col2\" class=\"data row1 col2\" >-11.453</td>\n",
       "                        <td id=\"T_fae138dc_5aa4_11ea_9c14_549f3515a0bcrow1_col3\" class=\"data row1 col3\" >0.0288472</td>\n",
       "                        <td id=\"T_fae138dc_5aa4_11ea_9c14_549f3515a0bcrow1_col4\" class=\"data row1 col4\" >-0.735273</td>\n",
       "                        <td id=\"T_fae138dc_5aa4_11ea_9c14_549f3515a0bcrow1_col5\" class=\"data row1 col5\" >14.8044</td>\n",
       "                        <td id=\"T_fae138dc_5aa4_11ea_9c14_549f3515a0bcrow1_col6\" class=\"data row1 col6\" >0.360006</td>\n",
       "            </tr>\n",
       "            <tr>\n",
       "                        <th id=\"T_fae138dc_5aa4_11ea_9c14_549f3515a0bclevel0_row2\" class=\"row_heading level0 row2\" >$h_0$</th>\n",
       "                        <td id=\"T_fae138dc_5aa4_11ea_9c14_549f3515a0bcrow2_col0\" class=\"data row2 col0\" >0.770951</td>\n",
       "                        <td id=\"T_fae138dc_5aa4_11ea_9c14_549f3515a0bcrow2_col1\" class=\"data row2 col1\" >-11.453</td>\n",
       "                        <td id=\"T_fae138dc_5aa4_11ea_9c14_549f3515a0bcrow2_col2\" class=\"data row2 col2\" >0.672897</td>\n",
       "                        <td id=\"T_fae138dc_5aa4_11ea_9c14_549f3515a0bcrow2_col3\" class=\"data row2 col3\" >0.470695</td>\n",
       "                        <td id=\"T_fae138dc_5aa4_11ea_9c14_549f3515a0bcrow2_col4\" class=\"data row2 col4\" >0.682413</td>\n",
       "                        <td id=\"T_fae138dc_5aa4_11ea_9c14_549f3515a0bcrow2_col5\" class=\"data row2 col5\" >0.420222</td>\n",
       "                        <td id=\"T_fae138dc_5aa4_11ea_9c14_549f3515a0bcrow2_col6\" class=\"data row2 col6\" >13.1408</td>\n",
       "            </tr>\n",
       "            <tr>\n",
       "                        <th id=\"T_fae138dc_5aa4_11ea_9c14_549f3515a0bclevel0_row3\" class=\"row_heading level0 row3\" >$A_s$</th>\n",
       "                        <td id=\"T_fae138dc_5aa4_11ea_9c14_549f3515a0bcrow3_col0\" class=\"data row3 col0\" >0.736194</td>\n",
       "                        <td id=\"T_fae138dc_5aa4_11ea_9c14_549f3515a0bcrow3_col1\" class=\"data row3 col1\" >0.0288472</td>\n",
       "                        <td id=\"T_fae138dc_5aa4_11ea_9c14_549f3515a0bcrow3_col2\" class=\"data row3 col2\" >0.470695</td>\n",
       "                        <td id=\"T_fae138dc_5aa4_11ea_9c14_549f3515a0bcrow3_col3\" class=\"data row3 col3\" >0.199609</td>\n",
       "                        <td id=\"T_fae138dc_5aa4_11ea_9c14_549f3515a0bcrow3_col4\" class=\"data row3 col4\" >0.466223</td>\n",
       "                        <td id=\"T_fae138dc_5aa4_11ea_9c14_549f3515a0bcrow3_col5\" class=\"data row3 col5\" >0.316516</td>\n",
       "                        <td id=\"T_fae138dc_5aa4_11ea_9c14_549f3515a0bcrow3_col6\" class=\"data row3 col6\" >0.0334453</td>\n",
       "            </tr>\n",
       "            <tr>\n",
       "                        <th id=\"T_fae138dc_5aa4_11ea_9c14_549f3515a0bclevel0_row4\" class=\"row_heading level0 row4\" >$\\Omega_b$</th>\n",
       "                        <td id=\"T_fae138dc_5aa4_11ea_9c14_549f3515a0bcrow4_col0\" class=\"data row4 col0\" >0.781859</td>\n",
       "                        <td id=\"T_fae138dc_5aa4_11ea_9c14_549f3515a0bcrow4_col1\" class=\"data row4 col1\" >-0.735273</td>\n",
       "                        <td id=\"T_fae138dc_5aa4_11ea_9c14_549f3515a0bcrow4_col2\" class=\"data row4 col2\" >0.682413</td>\n",
       "                        <td id=\"T_fae138dc_5aa4_11ea_9c14_549f3515a0bcrow4_col3\" class=\"data row4 col3\" >0.466223</td>\n",
       "                        <td id=\"T_fae138dc_5aa4_11ea_9c14_549f3515a0bcrow4_col4\" class=\"data row4 col4\" >0.650899</td>\n",
       "                        <td id=\"T_fae138dc_5aa4_11ea_9c14_549f3515a0bcrow4_col5\" class=\"data row4 col5\" >0.594547</td>\n",
       "                        <td id=\"T_fae138dc_5aa4_11ea_9c14_549f3515a0bcrow4_col6\" class=\"data row4 col6\" >-0.555167</td>\n",
       "            </tr>\n",
       "            <tr>\n",
       "                        <th id=\"T_fae138dc_5aa4_11ea_9c14_549f3515a0bclevel0_row5\" class=\"row_heading level0 row5\" >$n_s$</th>\n",
       "                        <td id=\"T_fae138dc_5aa4_11ea_9c14_549f3515a0bcrow5_col0\" class=\"data row5 col0\" >0.62023</td>\n",
       "                        <td id=\"T_fae138dc_5aa4_11ea_9c14_549f3515a0bcrow5_col1\" class=\"data row5 col1\" >14.8044</td>\n",
       "                        <td id=\"T_fae138dc_5aa4_11ea_9c14_549f3515a0bcrow5_col2\" class=\"data row5 col2\" >0.420222</td>\n",
       "                        <td id=\"T_fae138dc_5aa4_11ea_9c14_549f3515a0bcrow5_col3\" class=\"data row5 col3\" >0.316516</td>\n",
       "                        <td id=\"T_fae138dc_5aa4_11ea_9c14_549f3515a0bcrow5_col4\" class=\"data row5 col4\" >0.594547</td>\n",
       "                        <td id=\"T_fae138dc_5aa4_11ea_9c14_549f3515a0bcrow5_col5\" class=\"data row5 col5\" >0.000314937</td>\n",
       "                        <td id=\"T_fae138dc_5aa4_11ea_9c14_549f3515a0bcrow5_col6\" class=\"data row5 col6\" >0.34509</td>\n",
       "            </tr>\n",
       "            <tr>\n",
       "                        <th id=\"T_fae138dc_5aa4_11ea_9c14_549f3515a0bclevel0_row6\" class=\"row_heading level0 row6\" >$w_a$</th>\n",
       "                        <td id=\"T_fae138dc_5aa4_11ea_9c14_549f3515a0bcrow6_col0\" class=\"data row6 col0\" >1.00454</td>\n",
       "                        <td id=\"T_fae138dc_5aa4_11ea_9c14_549f3515a0bcrow6_col1\" class=\"data row6 col1\" >0.360006</td>\n",
       "                        <td id=\"T_fae138dc_5aa4_11ea_9c14_549f3515a0bcrow6_col2\" class=\"data row6 col2\" >13.1408</td>\n",
       "                        <td id=\"T_fae138dc_5aa4_11ea_9c14_549f3515a0bcrow6_col3\" class=\"data row6 col3\" >0.0334453</td>\n",
       "                        <td id=\"T_fae138dc_5aa4_11ea_9c14_549f3515a0bcrow6_col4\" class=\"data row6 col4\" >-0.555167</td>\n",
       "                        <td id=\"T_fae138dc_5aa4_11ea_9c14_549f3515a0bcrow6_col5\" class=\"data row6 col5\" >0.34509</td>\n",
       "                        <td id=\"T_fae138dc_5aa4_11ea_9c14_549f3515a0bcrow6_col6\" class=\"data row6 col6\" >0.298771</td>\n",
       "            </tr>\n",
       "    </tbody></table>"
      ],
      "text/plain": [
       "<pandas.io.formats.style.Styler at 0x2b814fa867f0>"
      ]
     },
     "execution_count": 80,
     "metadata": {},
     "output_type": "execute_result"
    }
   ],
   "source": [
    "((ccl_cov - cosmosis_cov)/ccl_cov).style.background_gradient(cmap=cmap, axis=None).set_caption(\"Covariance Relative Differences\")"
   ]
  },
  {
   "cell_type": "markdown",
   "metadata": {},
   "source": [
    "### Remove rows and columns one at a time and continue checking relative differences"
   ]
  },
  {
   "cell_type": "markdown",
   "metadata": {},
   "source": [
    "#### Remove $\\Omega_b$"
   ]
  },
  {
   "cell_type": "code",
   "execution_count": 70,
   "metadata": {},
   "outputs": [],
   "source": [
    "paras.remove(\"$\\Omega_b$\")"
   ]
  },
  {
   "cell_type": "code",
   "execution_count": 71,
   "metadata": {},
   "outputs": [],
   "source": [
    "ccl_f = ccl_f.drop(columns=[\"$\\Omega_b$\"]).drop(index=[\"$\\Omega_b$\"])\n",
    "cosmosis_f = cosmosis_f.drop(columns=[\"$\\Omega_b$\"]).drop(index=[\"$\\Omega_b$\"])"
   ]
  },
  {
   "cell_type": "code",
   "execution_count": 72,
   "metadata": {},
   "outputs": [],
   "source": [
    "ccl_cov = pd.DataFrame(np.linalg.inv(ccl_f), index=paras, columns=paras)\n",
    "cosmosis_cov = pd.DataFrame(np.linalg.inv(cosmosis_f), index=paras, columns=paras)"
   ]
  },
  {
   "cell_type": "code",
   "execution_count": 73,
   "metadata": {},
   "outputs": [
    {
     "data": {
      "text/html": [
       "<style  type=\"text/css\" >\n",
       "    #T_09b128fc_4e6d_11ea_9e8f_549f3515a0bcrow0_col0 {\n",
       "            background-color:  #e88d9f;\n",
       "            color:  #000000;\n",
       "        }    #T_09b128fc_4e6d_11ea_9e8f_549f3515a0bcrow0_col1 {\n",
       "            background-color:  #cedced;\n",
       "            color:  #000000;\n",
       "        }    #T_09b128fc_4e6d_11ea_9e8f_549f3515a0bcrow0_col2 {\n",
       "            background-color:  #eca3b1;\n",
       "            color:  #000000;\n",
       "        }    #T_09b128fc_4e6d_11ea_9e8f_549f3515a0bcrow0_col3 {\n",
       "            background-color:  #de5c76;\n",
       "            color:  #000000;\n",
       "        }    #T_09b128fc_4e6d_11ea_9e8f_549f3515a0bcrow0_col4 {\n",
       "            background-color:  #e58195;\n",
       "            color:  #000000;\n",
       "        }    #T_09b128fc_4e6d_11ea_9e8f_549f3515a0bcrow0_col5 {\n",
       "            background-color:  #ea99a9;\n",
       "            color:  #000000;\n",
       "        }    #T_09b128fc_4e6d_11ea_9e8f_549f3515a0bcrow1_col0 {\n",
       "            background-color:  #cedced;\n",
       "            color:  #000000;\n",
       "        }    #T_09b128fc_4e6d_11ea_9e8f_549f3515a0bcrow1_col1 {\n",
       "            background-color:  #4479bb;\n",
       "            color:  #000000;\n",
       "        }    #T_09b128fc_4e6d_11ea_9e8f_549f3515a0bcrow1_col2 {\n",
       "            background-color:  #adc4e1;\n",
       "            color:  #000000;\n",
       "        }    #T_09b128fc_4e6d_11ea_9e8f_549f3515a0bcrow1_col3 {\n",
       "            background-color:  #ebf1f8;\n",
       "            color:  #000000;\n",
       "        }    #T_09b128fc_4e6d_11ea_9e8f_549f3515a0bcrow1_col4 {\n",
       "            background-color:  #f2f2f2;\n",
       "            color:  #000000;\n",
       "        }    #T_09b128fc_4e6d_11ea_9e8f_549f3515a0bcrow1_col5 {\n",
       "            background-color:  #b0c6e2;\n",
       "            color:  #000000;\n",
       "        }    #T_09b128fc_4e6d_11ea_9e8f_549f3515a0bcrow2_col0 {\n",
       "            background-color:  #eca3b1;\n",
       "            color:  #000000;\n",
       "        }    #T_09b128fc_4e6d_11ea_9e8f_549f3515a0bcrow2_col1 {\n",
       "            background-color:  #adc4e1;\n",
       "            color:  #000000;\n",
       "        }    #T_09b128fc_4e6d_11ea_9e8f_549f3515a0bcrow2_col2 {\n",
       "            background-color:  #f2bfca;\n",
       "            color:  #000000;\n",
       "        }    #T_09b128fc_4e6d_11ea_9e8f_549f3515a0bcrow2_col3 {\n",
       "            background-color:  #e47c91;\n",
       "            color:  #000000;\n",
       "        }    #T_09b128fc_4e6d_11ea_9e8f_549f3515a0bcrow2_col4 {\n",
       "            background-color:  #e68699;\n",
       "            color:  #000000;\n",
       "        }    #T_09b128fc_4e6d_11ea_9e8f_549f3515a0bcrow2_col5 {\n",
       "            background-color:  #f0b5c1;\n",
       "            color:  #000000;\n",
       "        }    #T_09b128fc_4e6d_11ea_9e8f_549f3515a0bcrow3_col0 {\n",
       "            background-color:  #de5c76;\n",
       "            color:  #000000;\n",
       "        }    #T_09b128fc_4e6d_11ea_9e8f_549f3515a0bcrow3_col1 {\n",
       "            background-color:  #ebf1f8;\n",
       "            color:  #000000;\n",
       "        }    #T_09b128fc_4e6d_11ea_9e8f_549f3515a0bcrow3_col2 {\n",
       "            background-color:  #e47c91;\n",
       "            color:  #000000;\n",
       "        }    #T_09b128fc_4e6d_11ea_9e8f_549f3515a0bcrow3_col3 {\n",
       "            background-color:  #d73c5b;\n",
       "            color:  #f1f1f1;\n",
       "        }    #T_09b128fc_4e6d_11ea_9e8f_549f3515a0bcrow3_col4 {\n",
       "            background-color:  #d94261;\n",
       "            color:  #f1f1f1;\n",
       "        }    #T_09b128fc_4e6d_11ea_9e8f_549f3515a0bcrow3_col5 {\n",
       "            background-color:  #e16b82;\n",
       "            color:  #000000;\n",
       "        }    #T_09b128fc_4e6d_11ea_9e8f_549f3515a0bcrow4_col0 {\n",
       "            background-color:  #e58195;\n",
       "            color:  #000000;\n",
       "        }    #T_09b128fc_4e6d_11ea_9e8f_549f3515a0bcrow4_col1 {\n",
       "            background-color:  #f2f2f2;\n",
       "            color:  #000000;\n",
       "        }    #T_09b128fc_4e6d_11ea_9e8f_549f3515a0bcrow4_col2 {\n",
       "            background-color:  #e68699;\n",
       "            color:  #000000;\n",
       "        }    #T_09b128fc_4e6d_11ea_9e8f_549f3515a0bcrow4_col3 {\n",
       "            background-color:  #d94261;\n",
       "            color:  #f1f1f1;\n",
       "        }    #T_09b128fc_4e6d_11ea_9e8f_549f3515a0bcrow4_col4 {\n",
       "            background-color:  #de5b75;\n",
       "            color:  #000000;\n",
       "        }    #T_09b128fc_4e6d_11ea_9e8f_549f3515a0bcrow4_col5 {\n",
       "            background-color:  #f1bcc7;\n",
       "            color:  #000000;\n",
       "        }    #T_09b128fc_4e6d_11ea_9e8f_549f3515a0bcrow5_col0 {\n",
       "            background-color:  #ea99a9;\n",
       "            color:  #000000;\n",
       "        }    #T_09b128fc_4e6d_11ea_9e8f_549f3515a0bcrow5_col1 {\n",
       "            background-color:  #b0c6e2;\n",
       "            color:  #000000;\n",
       "        }    #T_09b128fc_4e6d_11ea_9e8f_549f3515a0bcrow5_col2 {\n",
       "            background-color:  #f0b5c1;\n",
       "            color:  #000000;\n",
       "        }    #T_09b128fc_4e6d_11ea_9e8f_549f3515a0bcrow5_col3 {\n",
       "            background-color:  #e16b82;\n",
       "            color:  #000000;\n",
       "        }    #T_09b128fc_4e6d_11ea_9e8f_549f3515a0bcrow5_col4 {\n",
       "            background-color:  #f1bcc7;\n",
       "            color:  #000000;\n",
       "        }    #T_09b128fc_4e6d_11ea_9e8f_549f3515a0bcrow5_col5 {\n",
       "            background-color:  #e7879b;\n",
       "            color:  #000000;\n",
       "        }</style><table id=\"T_09b128fc_4e6d_11ea_9e8f_549f3515a0bc\" ><caption>Fisher Relative Differences</caption><thead>    <tr>        <th class=\"blank level0\" ></th>        <th class=\"col_heading level0 col0\" >$\\Omega_m$</th>        <th class=\"col_heading level0 col1\" >$w_0$</th>        <th class=\"col_heading level0 col2\" >$h_0$</th>        <th class=\"col_heading level0 col3\" >$A_s$</th>        <th class=\"col_heading level0 col4\" >$n_s$</th>        <th class=\"col_heading level0 col5\" >$w_a$</th>    </tr></thead><tbody>\n",
       "                <tr>\n",
       "                        <th id=\"T_09b128fc_4e6d_11ea_9e8f_549f3515a0bclevel0_row0\" class=\"row_heading level0 row0\" >$\\Omega_m$</th>\n",
       "                        <td id=\"T_09b128fc_4e6d_11ea_9e8f_549f3515a0bcrow0_col0\" class=\"data row0 col0\" >4.68171e-05</td>\n",
       "                        <td id=\"T_09b128fc_4e6d_11ea_9e8f_549f3515a0bcrow0_col1\" class=\"data row0 col1\" >0.00191895</td>\n",
       "                        <td id=\"T_09b128fc_4e6d_11ea_9e8f_549f3515a0bcrow0_col2\" class=\"data row0 col2\" >0.000326295</td>\n",
       "                        <td id=\"T_09b128fc_4e6d_11ea_9e8f_549f3515a0bcrow0_col3\" class=\"data row0 col3\" >-0.000598432</td>\n",
       "                        <td id=\"T_09b128fc_4e6d_11ea_9e8f_549f3515a0bcrow0_col4\" class=\"data row0 col4\" >-0.000101374</td>\n",
       "                        <td id=\"T_09b128fc_4e6d_11ea_9e8f_549f3515a0bcrow0_col5\" class=\"data row0 col5\" >0.000193318</td>\n",
       "            </tr>\n",
       "            <tr>\n",
       "                        <th id=\"T_09b128fc_4e6d_11ea_9e8f_549f3515a0bclevel0_row1\" class=\"row_heading level0 row1\" >$w_0$</th>\n",
       "                        <td id=\"T_09b128fc_4e6d_11ea_9e8f_549f3515a0bcrow1_col0\" class=\"data row1 col0\" >0.00191895</td>\n",
       "                        <td id=\"T_09b128fc_4e6d_11ea_9e8f_549f3515a0bcrow1_col1\" class=\"data row1 col1\" >0.00384416</td>\n",
       "                        <td id=\"T_09b128fc_4e6d_11ea_9e8f_549f3515a0bcrow1_col2\" class=\"data row1 col2\" >0.00238524</td>\n",
       "                        <td id=\"T_09b128fc_4e6d_11ea_9e8f_549f3515a0bcrow1_col3\" class=\"data row1 col3\" >0.00152741</td>\n",
       "                        <td id=\"T_09b128fc_4e6d_11ea_9e8f_549f3515a0bcrow1_col4\" class=\"data row1 col4\" >0.00135543</td>\n",
       "                        <td id=\"T_09b128fc_4e6d_11ea_9e8f_549f3515a0bcrow1_col5\" class=\"data row1 col5\" >0.00233763</td>\n",
       "            </tr>\n",
       "            <tr>\n",
       "                        <th id=\"T_09b128fc_4e6d_11ea_9e8f_549f3515a0bclevel0_row2\" class=\"row_heading level0 row2\" >$h_0$</th>\n",
       "                        <td id=\"T_09b128fc_4e6d_11ea_9e8f_549f3515a0bcrow2_col0\" class=\"data row2 col0\" >0.000326295</td>\n",
       "                        <td id=\"T_09b128fc_4e6d_11ea_9e8f_549f3515a0bcrow2_col1\" class=\"data row2 col1\" >0.00238524</td>\n",
       "                        <td id=\"T_09b128fc_4e6d_11ea_9e8f_549f3515a0bcrow2_col2\" class=\"data row2 col2\" >0.000719528</td>\n",
       "                        <td id=\"T_09b128fc_4e6d_11ea_9e8f_549f3515a0bcrow2_col3\" class=\"data row2 col3\" >-0.000177489</td>\n",
       "                        <td id=\"T_09b128fc_4e6d_11ea_9e8f_549f3515a0bcrow2_col4\" class=\"data row2 col4\" >-4.82369e-05</td>\n",
       "                        <td id=\"T_09b128fc_4e6d_11ea_9e8f_549f3515a0bcrow2_col5\" class=\"data row2 col5\" >0.000584382</td>\n",
       "            </tr>\n",
       "            <tr>\n",
       "                        <th id=\"T_09b128fc_4e6d_11ea_9e8f_549f3515a0bclevel0_row3\" class=\"row_heading level0 row3\" >$A_s$</th>\n",
       "                        <td id=\"T_09b128fc_4e6d_11ea_9e8f_549f3515a0bcrow3_col0\" class=\"data row3 col0\" >-0.000598432</td>\n",
       "                        <td id=\"T_09b128fc_4e6d_11ea_9e8f_549f3515a0bcrow3_col1\" class=\"data row3 col1\" >0.00152741</td>\n",
       "                        <td id=\"T_09b128fc_4e6d_11ea_9e8f_549f3515a0bcrow3_col2\" class=\"data row3 col2\" >-0.000177489</td>\n",
       "                        <td id=\"T_09b128fc_4e6d_11ea_9e8f_549f3515a0bcrow3_col3\" class=\"data row3 col3\" >-0.00105413</td>\n",
       "                        <td id=\"T_09b128fc_4e6d_11ea_9e8f_549f3515a0bcrow3_col4\" class=\"data row3 col4\" >-0.000957028</td>\n",
       "                        <td id=\"T_09b128fc_4e6d_11ea_9e8f_549f3515a0bcrow3_col5\" class=\"data row3 col5\" >-0.00041104</td>\n",
       "            </tr>\n",
       "            <tr>\n",
       "                        <th id=\"T_09b128fc_4e6d_11ea_9e8f_549f3515a0bclevel0_row4\" class=\"row_heading level0 row4\" >$n_s$</th>\n",
       "                        <td id=\"T_09b128fc_4e6d_11ea_9e8f_549f3515a0bcrow4_col0\" class=\"data row4 col0\" >-0.000101374</td>\n",
       "                        <td id=\"T_09b128fc_4e6d_11ea_9e8f_549f3515a0bcrow4_col1\" class=\"data row4 col1\" >0.00135543</td>\n",
       "                        <td id=\"T_09b128fc_4e6d_11ea_9e8f_549f3515a0bcrow4_col2\" class=\"data row4 col2\" >-4.82369e-05</td>\n",
       "                        <td id=\"T_09b128fc_4e6d_11ea_9e8f_549f3515a0bcrow4_col3\" class=\"data row4 col3\" >-0.000957028</td>\n",
       "                        <td id=\"T_09b128fc_4e6d_11ea_9e8f_549f3515a0bcrow4_col4\" class=\"data row4 col4\" >-0.000614762</td>\n",
       "                        <td id=\"T_09b128fc_4e6d_11ea_9e8f_549f3515a0bcrow4_col5\" class=\"data row4 col5\" >0.000683428</td>\n",
       "            </tr>\n",
       "            <tr>\n",
       "                        <th id=\"T_09b128fc_4e6d_11ea_9e8f_549f3515a0bclevel0_row5\" class=\"row_heading level0 row5\" >$w_a$</th>\n",
       "                        <td id=\"T_09b128fc_4e6d_11ea_9e8f_549f3515a0bcrow5_col0\" class=\"data row5 col0\" >0.000193318</td>\n",
       "                        <td id=\"T_09b128fc_4e6d_11ea_9e8f_549f3515a0bcrow5_col1\" class=\"data row5 col1\" >0.00233763</td>\n",
       "                        <td id=\"T_09b128fc_4e6d_11ea_9e8f_549f3515a0bcrow5_col2\" class=\"data row5 col2\" >0.000584382</td>\n",
       "                        <td id=\"T_09b128fc_4e6d_11ea_9e8f_549f3515a0bcrow5_col3\" class=\"data row5 col3\" >-0.00041104</td>\n",
       "                        <td id=\"T_09b128fc_4e6d_11ea_9e8f_549f3515a0bcrow5_col4\" class=\"data row5 col4\" >0.000683428</td>\n",
       "                        <td id=\"T_09b128fc_4e6d_11ea_9e8f_549f3515a0bcrow5_col5\" class=\"data row5 col5\" >-3.31873e-05</td>\n",
       "            </tr>\n",
       "    </tbody></table>"
      ],
      "text/plain": [
       "<pandas.io.formats.style.Styler at 0x2b99ab464390>"
      ]
     },
     "execution_count": 73,
     "metadata": {},
     "output_type": "execute_result"
    }
   ],
   "source": [
    "((ccl_f - cosmosis_f)/ccl_f).style.background_gradient(cmap=cmap, axis=None).set_caption(\"Fisher Relative Differences\")"
   ]
  },
  {
   "cell_type": "code",
   "execution_count": 74,
   "metadata": {},
   "outputs": [
    {
     "data": {
      "text/html": [
       "<style  type=\"text/css\" >\n",
       "    #T_09bebd28_4e6d_11ea_9e8f_549f3515a0bcrow0_col0 {\n",
       "            background-color:  #f6d1d8;\n",
       "            color:  #000000;\n",
       "        }    #T_09bebd28_4e6d_11ea_9e8f_549f3515a0bcrow0_col1 {\n",
       "            background-color:  #fae7eb;\n",
       "            color:  #000000;\n",
       "        }    #T_09bebd28_4e6d_11ea_9e8f_549f3515a0bcrow0_col2 {\n",
       "            background-color:  #f3c5ce;\n",
       "            color:  #000000;\n",
       "        }    #T_09bebd28_4e6d_11ea_9e8f_549f3515a0bcrow0_col3 {\n",
       "            background-color:  #f4c8d0;\n",
       "            color:  #000000;\n",
       "        }    #T_09bebd28_4e6d_11ea_9e8f_549f3515a0bcrow0_col4 {\n",
       "            background-color:  #e16d85;\n",
       "            color:  #000000;\n",
       "        }    #T_09bebd28_4e6d_11ea_9e8f_549f3515a0bcrow0_col5 {\n",
       "            background-color:  #f7dae0;\n",
       "            color:  #000000;\n",
       "        }    #T_09bebd28_4e6d_11ea_9e8f_549f3515a0bcrow1_col0 {\n",
       "            background-color:  #fae7eb;\n",
       "            color:  #000000;\n",
       "        }    #T_09bebd28_4e6d_11ea_9e8f_549f3515a0bcrow1_col1 {\n",
       "            background-color:  #fbeaed;\n",
       "            color:  #000000;\n",
       "        }    #T_09bebd28_4e6d_11ea_9e8f_549f3515a0bcrow1_col2 {\n",
       "            background-color:  #f2f2f2;\n",
       "            color:  #000000;\n",
       "        }    #T_09bebd28_4e6d_11ea_9e8f_549f3515a0bcrow1_col3 {\n",
       "            background-color:  #fae6ea;\n",
       "            color:  #000000;\n",
       "        }    #T_09bebd28_4e6d_11ea_9e8f_549f3515a0bcrow1_col4 {\n",
       "            background-color:  #fae4e9;\n",
       "            color:  #000000;\n",
       "        }    #T_09bebd28_4e6d_11ea_9e8f_549f3515a0bcrow1_col5 {\n",
       "            background-color:  #f2f2f2;\n",
       "            color:  #000000;\n",
       "        }    #T_09bebd28_4e6d_11ea_9e8f_549f3515a0bcrow2_col0 {\n",
       "            background-color:  #f3c5ce;\n",
       "            color:  #000000;\n",
       "        }    #T_09bebd28_4e6d_11ea_9e8f_549f3515a0bcrow2_col1 {\n",
       "            background-color:  #f2f2f2;\n",
       "            color:  #000000;\n",
       "        }    #T_09bebd28_4e6d_11ea_9e8f_549f3515a0bcrow2_col2 {\n",
       "            background-color:  #e68699;\n",
       "            color:  #000000;\n",
       "        }    #T_09bebd28_4e6d_11ea_9e8f_549f3515a0bcrow2_col3 {\n",
       "            background-color:  #4479bb;\n",
       "            color:  #000000;\n",
       "        }    #T_09bebd28_4e6d_11ea_9e8f_549f3515a0bcrow2_col4 {\n",
       "            background-color:  #da4966;\n",
       "            color:  #000000;\n",
       "        }    #T_09bebd28_4e6d_11ea_9e8f_549f3515a0bcrow2_col5 {\n",
       "            background-color:  #f2bdc8;\n",
       "            color:  #000000;\n",
       "        }    #T_09bebd28_4e6d_11ea_9e8f_549f3515a0bcrow3_col0 {\n",
       "            background-color:  #f4c8d0;\n",
       "            color:  #000000;\n",
       "        }    #T_09bebd28_4e6d_11ea_9e8f_549f3515a0bcrow3_col1 {\n",
       "            background-color:  #fae6ea;\n",
       "            color:  #000000;\n",
       "        }    #T_09bebd28_4e6d_11ea_9e8f_549f3515a0bcrow3_col2 {\n",
       "            background-color:  #4479bb;\n",
       "            color:  #000000;\n",
       "        }    #T_09bebd28_4e6d_11ea_9e8f_549f3515a0bcrow3_col3 {\n",
       "            background-color:  #e68598;\n",
       "            color:  #000000;\n",
       "        }    #T_09bebd28_4e6d_11ea_9e8f_549f3515a0bcrow3_col4 {\n",
       "            background-color:  #d94462;\n",
       "            color:  #f1f1f1;\n",
       "        }    #T_09bebd28_4e6d_11ea_9e8f_549f3515a0bcrow3_col5 {\n",
       "            background-color:  #f5cfd7;\n",
       "            color:  #000000;\n",
       "        }    #T_09bebd28_4e6d_11ea_9e8f_549f3515a0bcrow4_col0 {\n",
       "            background-color:  #e16d85;\n",
       "            color:  #000000;\n",
       "        }    #T_09bebd28_4e6d_11ea_9e8f_549f3515a0bcrow4_col1 {\n",
       "            background-color:  #fae4e9;\n",
       "            color:  #000000;\n",
       "        }    #T_09bebd28_4e6d_11ea_9e8f_549f3515a0bcrow4_col2 {\n",
       "            background-color:  #da4966;\n",
       "            color:  #000000;\n",
       "        }    #T_09bebd28_4e6d_11ea_9e8f_549f3515a0bcrow4_col3 {\n",
       "            background-color:  #d94462;\n",
       "            color:  #f1f1f1;\n",
       "        }    #T_09bebd28_4e6d_11ea_9e8f_549f3515a0bcrow4_col4 {\n",
       "            background-color:  #d73c5b;\n",
       "            color:  #f1f1f1;\n",
       "        }    #T_09bebd28_4e6d_11ea_9e8f_549f3515a0bcrow4_col5 {\n",
       "            background-color:  #df617a;\n",
       "            color:  #000000;\n",
       "        }    #T_09bebd28_4e6d_11ea_9e8f_549f3515a0bcrow5_col0 {\n",
       "            background-color:  #f7dae0;\n",
       "            color:  #000000;\n",
       "        }    #T_09bebd28_4e6d_11ea_9e8f_549f3515a0bcrow5_col1 {\n",
       "            background-color:  #f2f2f2;\n",
       "            color:  #000000;\n",
       "        }    #T_09bebd28_4e6d_11ea_9e8f_549f3515a0bcrow5_col2 {\n",
       "            background-color:  #f2bdc8;\n",
       "            color:  #000000;\n",
       "        }    #T_09bebd28_4e6d_11ea_9e8f_549f3515a0bcrow5_col3 {\n",
       "            background-color:  #f5cfd7;\n",
       "            color:  #000000;\n",
       "        }    #T_09bebd28_4e6d_11ea_9e8f_549f3515a0bcrow5_col4 {\n",
       "            background-color:  #df617a;\n",
       "            color:  #000000;\n",
       "        }    #T_09bebd28_4e6d_11ea_9e8f_549f3515a0bcrow5_col5 {\n",
       "            background-color:  #f6d5db;\n",
       "            color:  #000000;\n",
       "        }</style><table id=\"T_09bebd28_4e6d_11ea_9e8f_549f3515a0bc\" ><caption>Covariance Relative Differences</caption><thead>    <tr>        <th class=\"blank level0\" ></th>        <th class=\"col_heading level0 col0\" >$\\Omega_m$</th>        <th class=\"col_heading level0 col1\" >$w_0$</th>        <th class=\"col_heading level0 col2\" >$h_0$</th>        <th class=\"col_heading level0 col3\" >$A_s$</th>        <th class=\"col_heading level0 col4\" >$n_s$</th>        <th class=\"col_heading level0 col5\" >$w_a$</th>    </tr></thead><tbody>\n",
       "                <tr>\n",
       "                        <th id=\"T_09bebd28_4e6d_11ea_9e8f_549f3515a0bclevel0_row0\" class=\"row_heading level0 row0\" >$\\Omega_m$</th>\n",
       "                        <td id=\"T_09bebd28_4e6d_11ea_9e8f_549f3515a0bcrow0_col0\" class=\"data row0 col0\" >0.569378</td>\n",
       "                        <td id=\"T_09bebd28_4e6d_11ea_9e8f_549f3515a0bcrow0_col1\" class=\"data row0 col1\" >0.677074</td>\n",
       "                        <td id=\"T_09bebd28_4e6d_11ea_9e8f_549f3515a0bcrow0_col2\" class=\"data row0 col2\" >0.519422</td>\n",
       "                        <td id=\"T_09bebd28_4e6d_11ea_9e8f_549f3515a0bcrow0_col3\" class=\"data row0 col3\" >0.532881</td>\n",
       "                        <td id=\"T_09bebd28_4e6d_11ea_9e8f_549f3515a0bcrow0_col4\" class=\"data row0 col4\" >0.113831</td>\n",
       "                        <td id=\"T_09bebd28_4e6d_11ea_9e8f_549f3515a0bcrow0_col5\" class=\"data row0 col5\" >0.615139</td>\n",
       "            </tr>\n",
       "            <tr>\n",
       "                        <th id=\"T_09bebd28_4e6d_11ea_9e8f_549f3515a0bclevel0_row1\" class=\"row_heading level0 row1\" >$w_0$</th>\n",
       "                        <td id=\"T_09bebd28_4e6d_11ea_9e8f_549f3515a0bcrow1_col0\" class=\"data row1 col0\" >0.677074</td>\n",
       "                        <td id=\"T_09bebd28_4e6d_11ea_9e8f_549f3515a0bcrow1_col1\" class=\"data row1 col1\" >0.690868</td>\n",
       "                        <td id=\"T_09bebd28_4e6d_11ea_9e8f_549f3515a0bcrow1_col2\" class=\"data row1 col2\" >0.699879</td>\n",
       "                        <td id=\"T_09bebd28_4e6d_11ea_9e8f_549f3515a0bcrow1_col3\" class=\"data row1 col3\" >0.669371</td>\n",
       "                        <td id=\"T_09bebd28_4e6d_11ea_9e8f_549f3515a0bcrow1_col4\" class=\"data row1 col4\" >0.665045</td>\n",
       "                        <td id=\"T_09bebd28_4e6d_11ea_9e8f_549f3515a0bcrow1_col5\" class=\"data row1 col5\" >0.70013</td>\n",
       "            </tr>\n",
       "            <tr>\n",
       "                        <th id=\"T_09bebd28_4e6d_11ea_9e8f_549f3515a0bclevel0_row2\" class=\"row_heading level0 row2\" >$h_0$</th>\n",
       "                        <td id=\"T_09bebd28_4e6d_11ea_9e8f_549f3515a0bcrow2_col0\" class=\"data row2 col0\" >0.519422</td>\n",
       "                        <td id=\"T_09bebd28_4e6d_11ea_9e8f_549f3515a0bcrow2_col1\" class=\"data row2 col1\" >0.699879</td>\n",
       "                        <td id=\"T_09bebd28_4e6d_11ea_9e8f_549f3515a0bcrow2_col2\" class=\"data row2 col2\" >0.221177</td>\n",
       "                        <td id=\"T_09bebd28_4e6d_11ea_9e8f_549f3515a0bcrow2_col3\" class=\"data row2 col3\" >1.58203</td>\n",
       "                        <td id=\"T_09bebd28_4e6d_11ea_9e8f_549f3515a0bcrow2_col4\" class=\"data row2 col4\" >-0.0574271</td>\n",
       "                        <td id=\"T_09bebd28_4e6d_11ea_9e8f_549f3515a0bcrow2_col5\" class=\"data row2 col5\" >0.481066</td>\n",
       "            </tr>\n",
       "            <tr>\n",
       "                        <th id=\"T_09bebd28_4e6d_11ea_9e8f_549f3515a0bclevel0_row3\" class=\"row_heading level0 row3\" >$A_s$</th>\n",
       "                        <td id=\"T_09bebd28_4e6d_11ea_9e8f_549f3515a0bcrow3_col0\" class=\"data row3 col0\" >0.532881</td>\n",
       "                        <td id=\"T_09bebd28_4e6d_11ea_9e8f_549f3515a0bcrow3_col1\" class=\"data row3 col1\" >0.669371</td>\n",
       "                        <td id=\"T_09bebd28_4e6d_11ea_9e8f_549f3515a0bcrow3_col2\" class=\"data row3 col2\" >1.58203</td>\n",
       "                        <td id=\"T_09bebd28_4e6d_11ea_9e8f_549f3515a0bcrow3_col3\" class=\"data row3 col3\" >0.220451</td>\n",
       "                        <td id=\"T_09bebd28_4e6d_11ea_9e8f_549f3515a0bcrow3_col4\" class=\"data row3 col4\" >-0.0838734</td>\n",
       "                        <td id=\"T_09bebd28_4e6d_11ea_9e8f_549f3515a0bcrow3_col5\" class=\"data row3 col5\" >0.566952</td>\n",
       "            </tr>\n",
       "            <tr>\n",
       "                        <th id=\"T_09bebd28_4e6d_11ea_9e8f_549f3515a0bclevel0_row4\" class=\"row_heading level0 row4\" >$n_s$</th>\n",
       "                        <td id=\"T_09bebd28_4e6d_11ea_9e8f_549f3515a0bcrow4_col0\" class=\"data row4 col0\" >0.113831</td>\n",
       "                        <td id=\"T_09bebd28_4e6d_11ea_9e8f_549f3515a0bcrow4_col1\" class=\"data row4 col1\" >0.665045</td>\n",
       "                        <td id=\"T_09bebd28_4e6d_11ea_9e8f_549f3515a0bcrow4_col2\" class=\"data row4 col2\" >-0.0574271</td>\n",
       "                        <td id=\"T_09bebd28_4e6d_11ea_9e8f_549f3515a0bcrow4_col3\" class=\"data row4 col3\" >-0.0838734</td>\n",
       "                        <td id=\"T_09bebd28_4e6d_11ea_9e8f_549f3515a0bcrow4_col4\" class=\"data row4 col4\" >-0.126414</td>\n",
       "                        <td id=\"T_09bebd28_4e6d_11ea_9e8f_549f3515a0bcrow4_col5\" class=\"data row4 col5\" >0.047973</td>\n",
       "            </tr>\n",
       "            <tr>\n",
       "                        <th id=\"T_09bebd28_4e6d_11ea_9e8f_549f3515a0bclevel0_row5\" class=\"row_heading level0 row5\" >$w_a$</th>\n",
       "                        <td id=\"T_09bebd28_4e6d_11ea_9e8f_549f3515a0bcrow5_col0\" class=\"data row5 col0\" >0.615139</td>\n",
       "                        <td id=\"T_09bebd28_4e6d_11ea_9e8f_549f3515a0bcrow5_col1\" class=\"data row5 col1\" >0.70013</td>\n",
       "                        <td id=\"T_09bebd28_4e6d_11ea_9e8f_549f3515a0bcrow5_col2\" class=\"data row5 col2\" >0.481066</td>\n",
       "                        <td id=\"T_09bebd28_4e6d_11ea_9e8f_549f3515a0bcrow5_col3\" class=\"data row5 col3\" >0.566952</td>\n",
       "                        <td id=\"T_09bebd28_4e6d_11ea_9e8f_549f3515a0bcrow5_col4\" class=\"data row5 col4\" >0.047973</td>\n",
       "                        <td id=\"T_09bebd28_4e6d_11ea_9e8f_549f3515a0bcrow5_col5\" class=\"data row5 col5\" >0.589814</td>\n",
       "            </tr>\n",
       "    </tbody></table>"
      ],
      "text/plain": [
       "<pandas.io.formats.style.Styler at 0x2b99ab427f28>"
      ]
     },
     "execution_count": 74,
     "metadata": {},
     "output_type": "execute_result"
    }
   ],
   "source": [
    "((ccl_cov - cosmosis_cov)/ccl_cov).style.background_gradient(cmap=cmap, axis=None).set_caption(\"Covariance Relative Differences\")"
   ]
  },
  {
   "cell_type": "markdown",
   "metadata": {},
   "source": [
    "#### Remove $w_0$"
   ]
  },
  {
   "cell_type": "code",
   "execution_count": 75,
   "metadata": {},
   "outputs": [],
   "source": [
    "paras.remove(\"$w_0$\")"
   ]
  },
  {
   "cell_type": "code",
   "execution_count": 76,
   "metadata": {},
   "outputs": [],
   "source": [
    "ccl_f = ccl_f.drop(columns=[\"$w_0$\"]).drop(index=[\"$w_0$\"])\n",
    "cosmosis_f = cosmosis_f.drop(columns=[\"$w_0$\"]).drop(index=[\"$w_0$\"])"
   ]
  },
  {
   "cell_type": "code",
   "execution_count": 77,
   "metadata": {},
   "outputs": [],
   "source": [
    "ccl_cov = pd.DataFrame(np.linalg.inv(ccl_f), index=paras, columns=paras)\n",
    "cosmosis_cov = pd.DataFrame(np.linalg.inv(cosmosis_f), index=paras, columns=paras)"
   ]
  },
  {
   "cell_type": "code",
   "execution_count": 78,
   "metadata": {},
   "outputs": [
    {
     "data": {
      "text/html": [
       "<style  type=\"text/css\" >\n",
       "    #T_09fe6f68_4e6d_11ea_9e8f_549f3515a0bcrow0_col0 {\n",
       "            background-color:  #cad9ec;\n",
       "            color:  #000000;\n",
       "        }    #T_09fe6f68_4e6d_11ea_9e8f_549f3515a0bcrow0_col1 {\n",
       "            background-color:  #91b0d7;\n",
       "            color:  #000000;\n",
       "        }    #T_09fe6f68_4e6d_11ea_9e8f_549f3515a0bcrow0_col2 {\n",
       "            background-color:  #ea99a9;\n",
       "            color:  #000000;\n",
       "        }    #T_09fe6f68_4e6d_11ea_9e8f_549f3515a0bcrow0_col3 {\n",
       "            background-color:  #e7eef6;\n",
       "            color:  #000000;\n",
       "        }    #T_09fe6f68_4e6d_11ea_9e8f_549f3515a0bcrow0_col4 {\n",
       "            background-color:  #acc3e1;\n",
       "            color:  #000000;\n",
       "        }    #T_09fe6f68_4e6d_11ea_9e8f_549f3515a0bcrow1_col0 {\n",
       "            background-color:  #91b0d7;\n",
       "            color:  #000000;\n",
       "        }    #T_09fe6f68_4e6d_11ea_9e8f_549f3515a0bcrow1_col1 {\n",
       "            background-color:  #4479bb;\n",
       "            color:  #000000;\n",
       "        }    #T_09fe6f68_4e6d_11ea_9e8f_549f3515a0bcrow1_col2 {\n",
       "            background-color:  #f2f2f2;\n",
       "            color:  #000000;\n",
       "        }    #T_09fe6f68_4e6d_11ea_9e8f_549f3515a0bcrow1_col3 {\n",
       "            background-color:  #dce6f2;\n",
       "            color:  #000000;\n",
       "        }    #T_09fe6f68_4e6d_11ea_9e8f_549f3515a0bcrow1_col4 {\n",
       "            background-color:  #5e8bc4;\n",
       "            color:  #000000;\n",
       "        }    #T_09fe6f68_4e6d_11ea_9e8f_549f3515a0bcrow2_col0 {\n",
       "            background-color:  #ea99a9;\n",
       "            color:  #000000;\n",
       "        }    #T_09fe6f68_4e6d_11ea_9e8f_549f3515a0bcrow2_col1 {\n",
       "            background-color:  #f2f2f2;\n",
       "            color:  #000000;\n",
       "        }    #T_09fe6f68_4e6d_11ea_9e8f_549f3515a0bcrow2_col2 {\n",
       "            background-color:  #d73c5b;\n",
       "            color:  #f1f1f1;\n",
       "        }    #T_09fe6f68_4e6d_11ea_9e8f_549f3515a0bcrow2_col3 {\n",
       "            background-color:  #db4f6b;\n",
       "            color:  #000000;\n",
       "        }    #T_09fe6f68_4e6d_11ea_9e8f_549f3515a0bcrow2_col4 {\n",
       "            background-color:  #f2bfca;\n",
       "            color:  #000000;\n",
       "        }    #T_09fe6f68_4e6d_11ea_9e8f_549f3515a0bcrow3_col0 {\n",
       "            background-color:  #e7eef6;\n",
       "            color:  #000000;\n",
       "        }    #T_09fe6f68_4e6d_11ea_9e8f_549f3515a0bcrow3_col1 {\n",
       "            background-color:  #dce6f2;\n",
       "            color:  #000000;\n",
       "        }    #T_09fe6f68_4e6d_11ea_9e8f_549f3515a0bcrow3_col2 {\n",
       "            background-color:  #db4f6b;\n",
       "            color:  #000000;\n",
       "        }    #T_09fe6f68_4e6d_11ea_9e8f_549f3515a0bcrow3_col3 {\n",
       "            background-color:  #ea96a7;\n",
       "            color:  #000000;\n",
       "        }    #T_09fe6f68_4e6d_11ea_9e8f_549f3515a0bcrow3_col4 {\n",
       "            background-color:  #4a7ebd;\n",
       "            color:  #000000;\n",
       "        }    #T_09fe6f68_4e6d_11ea_9e8f_549f3515a0bcrow4_col0 {\n",
       "            background-color:  #acc3e1;\n",
       "            color:  #000000;\n",
       "        }    #T_09fe6f68_4e6d_11ea_9e8f_549f3515a0bcrow4_col1 {\n",
       "            background-color:  #5e8bc4;\n",
       "            color:  #000000;\n",
       "        }    #T_09fe6f68_4e6d_11ea_9e8f_549f3515a0bcrow4_col2 {\n",
       "            background-color:  #f2bfca;\n",
       "            color:  #000000;\n",
       "        }    #T_09fe6f68_4e6d_11ea_9e8f_549f3515a0bcrow4_col3 {\n",
       "            background-color:  #4a7ebd;\n",
       "            color:  #000000;\n",
       "        }    #T_09fe6f68_4e6d_11ea_9e8f_549f3515a0bcrow4_col4 {\n",
       "            background-color:  #d9e4f1;\n",
       "            color:  #000000;\n",
       "        }</style><table id=\"T_09fe6f68_4e6d_11ea_9e8f_549f3515a0bc\" ><caption>Fisher Relative Differences</caption><thead>    <tr>        <th class=\"blank level0\" ></th>        <th class=\"col_heading level0 col0\" >$\\Omega_m$</th>        <th class=\"col_heading level0 col1\" >$h_0$</th>        <th class=\"col_heading level0 col2\" >$A_s$</th>        <th class=\"col_heading level0 col3\" >$n_s$</th>        <th class=\"col_heading level0 col4\" >$w_a$</th>    </tr></thead><tbody>\n",
       "                <tr>\n",
       "                        <th id=\"T_09fe6f68_4e6d_11ea_9e8f_549f3515a0bclevel0_row0\" class=\"row_heading level0 row0\" >$\\Omega_m$</th>\n",
       "                        <td id=\"T_09fe6f68_4e6d_11ea_9e8f_549f3515a0bcrow0_col0\" class=\"data row0 col0\" >4.68171e-05</td>\n",
       "                        <td id=\"T_09fe6f68_4e6d_11ea_9e8f_549f3515a0bcrow0_col1\" class=\"data row0 col1\" >0.000326295</td>\n",
       "                        <td id=\"T_09fe6f68_4e6d_11ea_9e8f_549f3515a0bcrow0_col2\" class=\"data row0 col2\" >-0.000598432</td>\n",
       "                        <td id=\"T_09fe6f68_4e6d_11ea_9e8f_549f3515a0bcrow0_col3\" class=\"data row0 col3\" >-0.000101374</td>\n",
       "                        <td id=\"T_09fe6f68_4e6d_11ea_9e8f_549f3515a0bcrow0_col4\" class=\"data row0 col4\" >0.000193318</td>\n",
       "            </tr>\n",
       "            <tr>\n",
       "                        <th id=\"T_09fe6f68_4e6d_11ea_9e8f_549f3515a0bclevel0_row1\" class=\"row_heading level0 row1\" >$h_0$</th>\n",
       "                        <td id=\"T_09fe6f68_4e6d_11ea_9e8f_549f3515a0bcrow1_col0\" class=\"data row1 col0\" >0.000326295</td>\n",
       "                        <td id=\"T_09fe6f68_4e6d_11ea_9e8f_549f3515a0bcrow1_col1\" class=\"data row1 col1\" >0.000719528</td>\n",
       "                        <td id=\"T_09fe6f68_4e6d_11ea_9e8f_549f3515a0bcrow1_col2\" class=\"data row1 col2\" >-0.000177489</td>\n",
       "                        <td id=\"T_09fe6f68_4e6d_11ea_9e8f_549f3515a0bcrow1_col3\" class=\"data row1 col3\" >-4.82369e-05</td>\n",
       "                        <td id=\"T_09fe6f68_4e6d_11ea_9e8f_549f3515a0bcrow1_col4\" class=\"data row1 col4\" >0.000584382</td>\n",
       "            </tr>\n",
       "            <tr>\n",
       "                        <th id=\"T_09fe6f68_4e6d_11ea_9e8f_549f3515a0bclevel0_row2\" class=\"row_heading level0 row2\" >$A_s$</th>\n",
       "                        <td id=\"T_09fe6f68_4e6d_11ea_9e8f_549f3515a0bcrow2_col0\" class=\"data row2 col0\" >-0.000598432</td>\n",
       "                        <td id=\"T_09fe6f68_4e6d_11ea_9e8f_549f3515a0bcrow2_col1\" class=\"data row2 col1\" >-0.000177489</td>\n",
       "                        <td id=\"T_09fe6f68_4e6d_11ea_9e8f_549f3515a0bcrow2_col2\" class=\"data row2 col2\" >-0.00105413</td>\n",
       "                        <td id=\"T_09fe6f68_4e6d_11ea_9e8f_549f3515a0bcrow2_col3\" class=\"data row2 col3\" >-0.000957028</td>\n",
       "                        <td id=\"T_09fe6f68_4e6d_11ea_9e8f_549f3515a0bcrow2_col4\" class=\"data row2 col4\" >-0.00041104</td>\n",
       "            </tr>\n",
       "            <tr>\n",
       "                        <th id=\"T_09fe6f68_4e6d_11ea_9e8f_549f3515a0bclevel0_row3\" class=\"row_heading level0 row3\" >$n_s$</th>\n",
       "                        <td id=\"T_09fe6f68_4e6d_11ea_9e8f_549f3515a0bcrow3_col0\" class=\"data row3 col0\" >-0.000101374</td>\n",
       "                        <td id=\"T_09fe6f68_4e6d_11ea_9e8f_549f3515a0bcrow3_col1\" class=\"data row3 col1\" >-4.82369e-05</td>\n",
       "                        <td id=\"T_09fe6f68_4e6d_11ea_9e8f_549f3515a0bcrow3_col2\" class=\"data row3 col2\" >-0.000957028</td>\n",
       "                        <td id=\"T_09fe6f68_4e6d_11ea_9e8f_549f3515a0bcrow3_col3\" class=\"data row3 col3\" >-0.000614762</td>\n",
       "                        <td id=\"T_09fe6f68_4e6d_11ea_9e8f_549f3515a0bcrow3_col4\" class=\"data row3 col4\" >0.000683428</td>\n",
       "            </tr>\n",
       "            <tr>\n",
       "                        <th id=\"T_09fe6f68_4e6d_11ea_9e8f_549f3515a0bclevel0_row4\" class=\"row_heading level0 row4\" >$w_a$</th>\n",
       "                        <td id=\"T_09fe6f68_4e6d_11ea_9e8f_549f3515a0bcrow4_col0\" class=\"data row4 col0\" >0.000193318</td>\n",
       "                        <td id=\"T_09fe6f68_4e6d_11ea_9e8f_549f3515a0bcrow4_col1\" class=\"data row4 col1\" >0.000584382</td>\n",
       "                        <td id=\"T_09fe6f68_4e6d_11ea_9e8f_549f3515a0bcrow4_col2\" class=\"data row4 col2\" >-0.00041104</td>\n",
       "                        <td id=\"T_09fe6f68_4e6d_11ea_9e8f_549f3515a0bcrow4_col3\" class=\"data row4 col3\" >0.000683428</td>\n",
       "                        <td id=\"T_09fe6f68_4e6d_11ea_9e8f_549f3515a0bcrow4_col4\" class=\"data row4 col4\" >-3.31873e-05</td>\n",
       "            </tr>\n",
       "    </tbody></table>"
      ],
      "text/plain": [
       "<pandas.io.formats.style.Styler at 0x2b99ab464ba8>"
      ]
     },
     "execution_count": 78,
     "metadata": {},
     "output_type": "execute_result"
    }
   ],
   "source": [
    "((ccl_f - cosmosis_f)/ccl_f).style.background_gradient(cmap=cmap, axis=None).set_caption(\"Fisher Relative Differences\")"
   ]
  },
  {
   "cell_type": "code",
   "execution_count": 79,
   "metadata": {},
   "outputs": [
    {
     "data": {
      "text/html": [
       "<style  type=\"text/css\" >\n",
       "    #T_0a10ffc0_4e6d_11ea_9e8f_549f3515a0bcrow0_col0 {\n",
       "            background-color:  #f7d6dd;\n",
       "            color:  #000000;\n",
       "        }    #T_0a10ffc0_4e6d_11ea_9e8f_549f3515a0bcrow0_col1 {\n",
       "            background-color:  #eda7b5;\n",
       "            color:  #000000;\n",
       "        }    #T_0a10ffc0_4e6d_11ea_9e8f_549f3515a0bcrow0_col2 {\n",
       "            background-color:  #f5ccd4;\n",
       "            color:  #000000;\n",
       "        }    #T_0a10ffc0_4e6d_11ea_9e8f_549f3515a0bcrow0_col3 {\n",
       "            background-color:  #d73c5b;\n",
       "            color:  #f1f1f1;\n",
       "        }    #T_0a10ffc0_4e6d_11ea_9e8f_549f3515a0bcrow0_col4 {\n",
       "            background-color:  #ea9aaa;\n",
       "            color:  #000000;\n",
       "        }    #T_0a10ffc0_4e6d_11ea_9e8f_549f3515a0bcrow1_col0 {\n",
       "            background-color:  #eda7b5;\n",
       "            color:  #000000;\n",
       "        }    #T_0a10ffc0_4e6d_11ea_9e8f_549f3515a0bcrow1_col1 {\n",
       "            background-color:  #fbeaed;\n",
       "            color:  #000000;\n",
       "        }    #T_0a10ffc0_4e6d_11ea_9e8f_549f3515a0bcrow1_col2 {\n",
       "            background-color:  #92b1d7;\n",
       "            color:  #000000;\n",
       "        }    #T_0a10ffc0_4e6d_11ea_9e8f_549f3515a0bcrow1_col3 {\n",
       "            background-color:  #f7d9df;\n",
       "            color:  #000000;\n",
       "        }    #T_0a10ffc0_4e6d_11ea_9e8f_549f3515a0bcrow1_col4 {\n",
       "            background-color:  #f5ced6;\n",
       "            color:  #000000;\n",
       "        }    #T_0a10ffc0_4e6d_11ea_9e8f_549f3515a0bcrow2_col0 {\n",
       "            background-color:  #f5ccd4;\n",
       "            color:  #000000;\n",
       "        }    #T_0a10ffc0_4e6d_11ea_9e8f_549f3515a0bcrow2_col1 {\n",
       "            background-color:  #92b1d7;\n",
       "            color:  #000000;\n",
       "        }    #T_0a10ffc0_4e6d_11ea_9e8f_549f3515a0bcrow2_col2 {\n",
       "            background-color:  #dce6f2;\n",
       "            color:  #000000;\n",
       "        }    #T_0a10ffc0_4e6d_11ea_9e8f_549f3515a0bcrow2_col3 {\n",
       "            background-color:  #4479bb;\n",
       "            color:  #000000;\n",
       "        }    #T_0a10ffc0_4e6d_11ea_9e8f_549f3515a0bcrow2_col4 {\n",
       "            background-color:  #eeabb8;\n",
       "            color:  #000000;\n",
       "        }    #T_0a10ffc0_4e6d_11ea_9e8f_549f3515a0bcrow3_col0 {\n",
       "            background-color:  #d73c5b;\n",
       "            color:  #f1f1f1;\n",
       "        }    #T_0a10ffc0_4e6d_11ea_9e8f_549f3515a0bcrow3_col1 {\n",
       "            background-color:  #f7d9df;\n",
       "            color:  #000000;\n",
       "        }    #T_0a10ffc0_4e6d_11ea_9e8f_549f3515a0bcrow3_col2 {\n",
       "            background-color:  #4479bb;\n",
       "            color:  #000000;\n",
       "        }    #T_0a10ffc0_4e6d_11ea_9e8f_549f3515a0bcrow3_col3 {\n",
       "            background-color:  #f7d9df;\n",
       "            color:  #000000;\n",
       "        }    #T_0a10ffc0_4e6d_11ea_9e8f_549f3515a0bcrow3_col4 {\n",
       "            background-color:  #f4c8d0;\n",
       "            color:  #000000;\n",
       "        }    #T_0a10ffc0_4e6d_11ea_9e8f_549f3515a0bcrow4_col0 {\n",
       "            background-color:  #ea9aaa;\n",
       "            color:  #000000;\n",
       "        }    #T_0a10ffc0_4e6d_11ea_9e8f_549f3515a0bcrow4_col1 {\n",
       "            background-color:  #f5ced6;\n",
       "            color:  #000000;\n",
       "        }    #T_0a10ffc0_4e6d_11ea_9e8f_549f3515a0bcrow4_col2 {\n",
       "            background-color:  #eeabb8;\n",
       "            color:  #000000;\n",
       "        }    #T_0a10ffc0_4e6d_11ea_9e8f_549f3515a0bcrow4_col3 {\n",
       "            background-color:  #f4c8d0;\n",
       "            color:  #000000;\n",
       "        }    #T_0a10ffc0_4e6d_11ea_9e8f_549f3515a0bcrow4_col4 {\n",
       "            background-color:  #f7d9df;\n",
       "            color:  #000000;\n",
       "        }</style><table id=\"T_0a10ffc0_4e6d_11ea_9e8f_549f3515a0bc\" ><caption>Covariance Relative Differences</caption><thead>    <tr>        <th class=\"blank level0\" ></th>        <th class=\"col_heading level0 col0\" >$\\Omega_m$</th>        <th class=\"col_heading level0 col1\" >$h_0$</th>        <th class=\"col_heading level0 col2\" >$A_s$</th>        <th class=\"col_heading level0 col3\" >$n_s$</th>        <th class=\"col_heading level0 col4\" >$w_a$</th>    </tr></thead><tbody>\n",
       "                <tr>\n",
       "                        <th id=\"T_0a10ffc0_4e6d_11ea_9e8f_549f3515a0bclevel0_row0\" class=\"row_heading level0 row0\" >$\\Omega_m$</th>\n",
       "                        <td id=\"T_0a10ffc0_4e6d_11ea_9e8f_549f3515a0bcrow0_col0\" class=\"data row0 col0\" >-0.14092</td>\n",
       "                        <td id=\"T_0a10ffc0_4e6d_11ea_9e8f_549f3515a0bcrow0_col1\" class=\"data row0 col1\" >-0.226136</td>\n",
       "                        <td id=\"T_0a10ffc0_4e6d_11ea_9e8f_549f3515a0bcrow0_col2\" class=\"data row0 col2\" >-0.159299</td>\n",
       "                        <td id=\"T_0a10ffc0_4e6d_11ea_9e8f_549f3515a0bcrow0_col3\" class=\"data row0 col3\" >-0.417749</td>\n",
       "                        <td id=\"T_0a10ffc0_4e6d_11ea_9e8f_549f3515a0bcrow0_col4\" class=\"data row0 col4\" >-0.249351</td>\n",
       "            </tr>\n",
       "            <tr>\n",
       "                        <th id=\"T_0a10ffc0_4e6d_11ea_9e8f_549f3515a0bclevel0_row1\" class=\"row_heading level0 row1\" >$h_0$</th>\n",
       "                        <td id=\"T_0a10ffc0_4e6d_11ea_9e8f_549f3515a0bcrow1_col0\" class=\"data row1 col0\" >-0.226136</td>\n",
       "                        <td id=\"T_0a10ffc0_4e6d_11ea_9e8f_549f3515a0bcrow1_col1\" class=\"data row1 col1\" >-0.104308</td>\n",
       "                        <td id=\"T_0a10ffc0_4e6d_11ea_9e8f_549f3515a0bcrow1_col2\" class=\"data row1 col2\" >0.0870065</td>\n",
       "                        <td id=\"T_0a10ffc0_4e6d_11ea_9e8f_549f3515a0bcrow1_col3\" class=\"data row1 col3\" >-0.135041</td>\n",
       "                        <td id=\"T_0a10ffc0_4e6d_11ea_9e8f_549f3515a0bcrow1_col4\" class=\"data row1 col4\" >-0.155368</td>\n",
       "            </tr>\n",
       "            <tr>\n",
       "                        <th id=\"T_0a10ffc0_4e6d_11ea_9e8f_549f3515a0bclevel0_row2\" class=\"row_heading level0 row2\" >$A_s$</th>\n",
       "                        <td id=\"T_0a10ffc0_4e6d_11ea_9e8f_549f3515a0bcrow2_col0\" class=\"data row2 col0\" >-0.159299</td>\n",
       "                        <td id=\"T_0a10ffc0_4e6d_11ea_9e8f_549f3515a0bcrow2_col1\" class=\"data row2 col1\" >0.0870065</td>\n",
       "                        <td id=\"T_0a10ffc0_4e6d_11ea_9e8f_549f3515a0bcrow2_col2\" class=\"data row2 col2\" >-0.0469232</td>\n",
       "                        <td id=\"T_0a10ffc0_4e6d_11ea_9e8f_549f3515a0bcrow2_col3\" class=\"data row2 col3\" >0.234694</td>\n",
       "                        <td id=\"T_0a10ffc0_4e6d_11ea_9e8f_549f3515a0bcrow2_col4\" class=\"data row2 col4\" >-0.218064</td>\n",
       "            </tr>\n",
       "            <tr>\n",
       "                        <th id=\"T_0a10ffc0_4e6d_11ea_9e8f_549f3515a0bclevel0_row3\" class=\"row_heading level0 row3\" >$n_s$</th>\n",
       "                        <td id=\"T_0a10ffc0_4e6d_11ea_9e8f_549f3515a0bcrow3_col0\" class=\"data row3 col0\" >-0.417749</td>\n",
       "                        <td id=\"T_0a10ffc0_4e6d_11ea_9e8f_549f3515a0bcrow3_col1\" class=\"data row3 col1\" >-0.135041</td>\n",
       "                        <td id=\"T_0a10ffc0_4e6d_11ea_9e8f_549f3515a0bcrow3_col2\" class=\"data row3 col2\" >0.234694</td>\n",
       "                        <td id=\"T_0a10ffc0_4e6d_11ea_9e8f_549f3515a0bcrow3_col3\" class=\"data row3 col3\" >-0.136221</td>\n",
       "                        <td id=\"T_0a10ffc0_4e6d_11ea_9e8f_549f3515a0bcrow3_col4\" class=\"data row3 col4\" >-0.166052</td>\n",
       "            </tr>\n",
       "            <tr>\n",
       "                        <th id=\"T_0a10ffc0_4e6d_11ea_9e8f_549f3515a0bclevel0_row4\" class=\"row_heading level0 row4\" >$w_a$</th>\n",
       "                        <td id=\"T_0a10ffc0_4e6d_11ea_9e8f_549f3515a0bcrow4_col0\" class=\"data row4 col0\" >-0.249351</td>\n",
       "                        <td id=\"T_0a10ffc0_4e6d_11ea_9e8f_549f3515a0bcrow4_col1\" class=\"data row4 col1\" >-0.155368</td>\n",
       "                        <td id=\"T_0a10ffc0_4e6d_11ea_9e8f_549f3515a0bcrow4_col2\" class=\"data row4 col2\" >-0.218064</td>\n",
       "                        <td id=\"T_0a10ffc0_4e6d_11ea_9e8f_549f3515a0bcrow4_col3\" class=\"data row4 col3\" >-0.166052</td>\n",
       "                        <td id=\"T_0a10ffc0_4e6d_11ea_9e8f_549f3515a0bcrow4_col4\" class=\"data row4 col4\" >-0.134859</td>\n",
       "            </tr>\n",
       "    </tbody></table>"
      ],
      "text/plain": [
       "<pandas.io.formats.style.Styler at 0x2b99ab414828>"
      ]
     },
     "execution_count": 79,
     "metadata": {},
     "output_type": "execute_result"
    }
   ],
   "source": [
    "((ccl_cov - cosmosis_cov)/ccl_cov).style.background_gradient(cmap=cmap, axis=None).set_caption(\"Covariance Relative Differences\")"
   ]
  },
  {
   "cell_type": "markdown",
   "metadata": {},
   "source": [
    "#### Remove $A_s$"
   ]
  },
  {
   "cell_type": "code",
   "execution_count": 80,
   "metadata": {},
   "outputs": [],
   "source": [
    "paras.remove(\"$A_s$\")"
   ]
  },
  {
   "cell_type": "code",
   "execution_count": 81,
   "metadata": {},
   "outputs": [],
   "source": [
    "ccl_f = ccl_f.drop(columns=[\"$A_s$\"]).drop(index=[\"$A_s$\"])\n",
    "cosmosis_f = cosmosis_f.drop(columns=[\"$A_s$\"]).drop(index=[\"$A_s$\"])"
   ]
  },
  {
   "cell_type": "code",
   "execution_count": 82,
   "metadata": {},
   "outputs": [],
   "source": [
    "ccl_cov = pd.DataFrame(np.linalg.inv(ccl_f), index=paras, columns=paras)\n",
    "cosmosis_cov = pd.DataFrame(np.linalg.inv(cosmosis_f), index=paras, columns=paras)"
   ]
  },
  {
   "cell_type": "code",
   "execution_count": 83,
   "metadata": {},
   "outputs": [
    {
     "data": {
      "text/html": [
       "<style  type=\"text/css\" >\n",
       "    #T_0a4107ce_4e6d_11ea_9e8f_549f3515a0bcrow0_col0 {\n",
       "            background-color:  #f2f2f2;\n",
       "            color:  #000000;\n",
       "        }    #T_0a4107ce_4e6d_11ea_9e8f_549f3515a0bcrow0_col1 {\n",
       "            background-color:  #acc3e1;\n",
       "            color:  #000000;\n",
       "        }    #T_0a4107ce_4e6d_11ea_9e8f_549f3515a0bcrow0_col2 {\n",
       "            background-color:  #f4c8d0;\n",
       "            color:  #000000;\n",
       "        }    #T_0a4107ce_4e6d_11ea_9e8f_549f3515a0bcrow0_col3 {\n",
       "            background-color:  #cedced;\n",
       "            color:  #000000;\n",
       "        }    #T_0a4107ce_4e6d_11ea_9e8f_549f3515a0bcrow1_col0 {\n",
       "            background-color:  #acc3e1;\n",
       "            color:  #000000;\n",
       "        }    #T_0a4107ce_4e6d_11ea_9e8f_549f3515a0bcrow1_col1 {\n",
       "            background-color:  #4479bb;\n",
       "            color:  #000000;\n",
       "        }    #T_0a4107ce_4e6d_11ea_9e8f_549f3515a0bcrow1_col2 {\n",
       "            background-color:  #f7d6dd;\n",
       "            color:  #000000;\n",
       "        }    #T_0a4107ce_4e6d_11ea_9e8f_549f3515a0bcrow1_col3 {\n",
       "            background-color:  #6691c7;\n",
       "            color:  #000000;\n",
       "        }    #T_0a4107ce_4e6d_11ea_9e8f_549f3515a0bcrow2_col0 {\n",
       "            background-color:  #f4c8d0;\n",
       "            color:  #000000;\n",
       "        }    #T_0a4107ce_4e6d_11ea_9e8f_549f3515a0bcrow2_col1 {\n",
       "            background-color:  #f7d6dd;\n",
       "            color:  #000000;\n",
       "        }    #T_0a4107ce_4e6d_11ea_9e8f_549f3515a0bcrow2_col2 {\n",
       "            background-color:  #d73c5b;\n",
       "            color:  #f1f1f1;\n",
       "        }    #T_0a4107ce_4e6d_11ea_9e8f_549f3515a0bcrow2_col3 {\n",
       "            background-color:  #4c7ebd;\n",
       "            color:  #000000;\n",
       "        }    #T_0a4107ce_4e6d_11ea_9e8f_549f3515a0bcrow3_col0 {\n",
       "            background-color:  #cedced;\n",
       "            color:  #000000;\n",
       "        }    #T_0a4107ce_4e6d_11ea_9e8f_549f3515a0bcrow3_col1 {\n",
       "            background-color:  #6691c7;\n",
       "            color:  #000000;\n",
       "        }    #T_0a4107ce_4e6d_11ea_9e8f_549f3515a0bcrow3_col2 {\n",
       "            background-color:  #4c7ebd;\n",
       "            color:  #000000;\n",
       "        }    #T_0a4107ce_4e6d_11ea_9e8f_549f3515a0bcrow3_col3 {\n",
       "            background-color:  #f7dae0;\n",
       "            color:  #000000;\n",
       "        }</style><table id=\"T_0a4107ce_4e6d_11ea_9e8f_549f3515a0bc\" ><caption>Fisher Relative Differences</caption><thead>    <tr>        <th class=\"blank level0\" ></th>        <th class=\"col_heading level0 col0\" >$\\Omega_m$</th>        <th class=\"col_heading level0 col1\" >$h_0$</th>        <th class=\"col_heading level0 col2\" >$n_s$</th>        <th class=\"col_heading level0 col3\" >$w_a$</th>    </tr></thead><tbody>\n",
       "                <tr>\n",
       "                        <th id=\"T_0a4107ce_4e6d_11ea_9e8f_549f3515a0bclevel0_row0\" class=\"row_heading level0 row0\" >$\\Omega_m$</th>\n",
       "                        <td id=\"T_0a4107ce_4e6d_11ea_9e8f_549f3515a0bcrow0_col0\" class=\"data row0 col0\" >4.68171e-05</td>\n",
       "                        <td id=\"T_0a4107ce_4e6d_11ea_9e8f_549f3515a0bcrow0_col1\" class=\"data row0 col1\" >0.000326295</td>\n",
       "                        <td id=\"T_0a4107ce_4e6d_11ea_9e8f_549f3515a0bcrow0_col2\" class=\"data row0 col2\" >-0.000101374</td>\n",
       "                        <td id=\"T_0a4107ce_4e6d_11ea_9e8f_549f3515a0bcrow0_col3\" class=\"data row0 col3\" >0.000193318</td>\n",
       "            </tr>\n",
       "            <tr>\n",
       "                        <th id=\"T_0a4107ce_4e6d_11ea_9e8f_549f3515a0bclevel0_row1\" class=\"row_heading level0 row1\" >$h_0$</th>\n",
       "                        <td id=\"T_0a4107ce_4e6d_11ea_9e8f_549f3515a0bcrow1_col0\" class=\"data row1 col0\" >0.000326295</td>\n",
       "                        <td id=\"T_0a4107ce_4e6d_11ea_9e8f_549f3515a0bcrow1_col1\" class=\"data row1 col1\" >0.000719528</td>\n",
       "                        <td id=\"T_0a4107ce_4e6d_11ea_9e8f_549f3515a0bcrow1_col2\" class=\"data row1 col2\" >-4.82369e-05</td>\n",
       "                        <td id=\"T_0a4107ce_4e6d_11ea_9e8f_549f3515a0bcrow1_col3\" class=\"data row1 col3\" >0.000584382</td>\n",
       "            </tr>\n",
       "            <tr>\n",
       "                        <th id=\"T_0a4107ce_4e6d_11ea_9e8f_549f3515a0bclevel0_row2\" class=\"row_heading level0 row2\" >$n_s$</th>\n",
       "                        <td id=\"T_0a4107ce_4e6d_11ea_9e8f_549f3515a0bcrow2_col0\" class=\"data row2 col0\" >-0.000101374</td>\n",
       "                        <td id=\"T_0a4107ce_4e6d_11ea_9e8f_549f3515a0bcrow2_col1\" class=\"data row2 col1\" >-4.82369e-05</td>\n",
       "                        <td id=\"T_0a4107ce_4e6d_11ea_9e8f_549f3515a0bcrow2_col2\" class=\"data row2 col2\" >-0.000614762</td>\n",
       "                        <td id=\"T_0a4107ce_4e6d_11ea_9e8f_549f3515a0bcrow2_col3\" class=\"data row2 col3\" >0.000683428</td>\n",
       "            </tr>\n",
       "            <tr>\n",
       "                        <th id=\"T_0a4107ce_4e6d_11ea_9e8f_549f3515a0bclevel0_row3\" class=\"row_heading level0 row3\" >$w_a$</th>\n",
       "                        <td id=\"T_0a4107ce_4e6d_11ea_9e8f_549f3515a0bcrow3_col0\" class=\"data row3 col0\" >0.000193318</td>\n",
       "                        <td id=\"T_0a4107ce_4e6d_11ea_9e8f_549f3515a0bcrow3_col1\" class=\"data row3 col1\" >0.000584382</td>\n",
       "                        <td id=\"T_0a4107ce_4e6d_11ea_9e8f_549f3515a0bcrow3_col2\" class=\"data row3 col2\" >0.000683428</td>\n",
       "                        <td id=\"T_0a4107ce_4e6d_11ea_9e8f_549f3515a0bcrow3_col3\" class=\"data row3 col3\" >-3.31873e-05</td>\n",
       "            </tr>\n",
       "    </tbody></table>"
      ],
      "text/plain": [
       "<pandas.io.formats.style.Styler at 0x2b99ab46f4a8>"
      ]
     },
     "execution_count": 83,
     "metadata": {},
     "output_type": "execute_result"
    }
   ],
   "source": [
    "((ccl_f - cosmosis_f)/ccl_f).style.background_gradient(cmap=cmap, axis=None).set_caption(\"Fisher Relative Differences\")"
   ]
  },
  {
   "cell_type": "code",
   "execution_count": 84,
   "metadata": {},
   "outputs": [
    {
     "data": {
      "text/html": [
       "<style  type=\"text/css\" >\n",
       "    #T_0a587666_4e6d_11ea_9e8f_549f3515a0bcrow0_col0 {\n",
       "            background-color:  #4c7ebd;\n",
       "            color:  #000000;\n",
       "        }    #T_0a587666_4e6d_11ea_9e8f_549f3515a0bcrow0_col1 {\n",
       "            background-color:  #bccfe7;\n",
       "            color:  #000000;\n",
       "        }    #T_0a587666_4e6d_11ea_9e8f_549f3515a0bcrow0_col2 {\n",
       "            background-color:  #d73c5b;\n",
       "            color:  #f1f1f1;\n",
       "        }    #T_0a587666_4e6d_11ea_9e8f_549f3515a0bcrow0_col3 {\n",
       "            background-color:  #f5cfd7;\n",
       "            color:  #000000;\n",
       "        }    #T_0a587666_4e6d_11ea_9e8f_549f3515a0bcrow1_col0 {\n",
       "            background-color:  #bccfe7;\n",
       "            color:  #000000;\n",
       "        }    #T_0a587666_4e6d_11ea_9e8f_549f3515a0bcrow1_col1 {\n",
       "            background-color:  #9cb8db;\n",
       "            color:  #000000;\n",
       "        }    #T_0a587666_4e6d_11ea_9e8f_549f3515a0bcrow1_col2 {\n",
       "            background-color:  #c6d6ea;\n",
       "            color:  #000000;\n",
       "        }    #T_0a587666_4e6d_11ea_9e8f_549f3515a0bcrow1_col3 {\n",
       "            background-color:  #7ea2d0;\n",
       "            color:  #000000;\n",
       "        }    #T_0a587666_4e6d_11ea_9e8f_549f3515a0bcrow2_col0 {\n",
       "            background-color:  #d73c5b;\n",
       "            color:  #f1f1f1;\n",
       "        }    #T_0a587666_4e6d_11ea_9e8f_549f3515a0bcrow2_col1 {\n",
       "            background-color:  #c6d6ea;\n",
       "            color:  #000000;\n",
       "        }    #T_0a587666_4e6d_11ea_9e8f_549f3515a0bcrow2_col2 {\n",
       "            background-color:  #9fbadc;\n",
       "            color:  #000000;\n",
       "        }    #T_0a587666_4e6d_11ea_9e8f_549f3515a0bcrow2_col3 {\n",
       "            background-color:  #87a9d3;\n",
       "            color:  #000000;\n",
       "        }    #T_0a587666_4e6d_11ea_9e8f_549f3515a0bcrow3_col0 {\n",
       "            background-color:  #f5cfd7;\n",
       "            color:  #000000;\n",
       "        }    #T_0a587666_4e6d_11ea_9e8f_549f3515a0bcrow3_col1 {\n",
       "            background-color:  #7ea2d0;\n",
       "            color:  #000000;\n",
       "        }    #T_0a587666_4e6d_11ea_9e8f_549f3515a0bcrow3_col2 {\n",
       "            background-color:  #87a9d3;\n",
       "            color:  #000000;\n",
       "        }    #T_0a587666_4e6d_11ea_9e8f_549f3515a0bcrow3_col3 {\n",
       "            background-color:  #4479bb;\n",
       "            color:  #000000;\n",
       "        }</style><table id=\"T_0a587666_4e6d_11ea_9e8f_549f3515a0bc\" ><caption>Covariance Relative Differences</caption><thead>    <tr>        <th class=\"blank level0\" ></th>        <th class=\"col_heading level0 col0\" >$\\Omega_m$</th>        <th class=\"col_heading level0 col1\" >$h_0$</th>        <th class=\"col_heading level0 col2\" >$n_s$</th>        <th class=\"col_heading level0 col3\" >$w_a$</th>    </tr></thead><tbody>\n",
       "                <tr>\n",
       "                        <th id=\"T_0a587666_4e6d_11ea_9e8f_549f3515a0bclevel0_row0\" class=\"row_heading level0 row0\" >$\\Omega_m$</th>\n",
       "                        <td id=\"T_0a587666_4e6d_11ea_9e8f_549f3515a0bcrow0_col0\" class=\"data row0 col0\" >-0.116141</td>\n",
       "                        <td id=\"T_0a587666_4e6d_11ea_9e8f_549f3515a0bcrow0_col1\" class=\"data row0 col1\" >-0.176794</td>\n",
       "                        <td id=\"T_0a587666_4e6d_11ea_9e8f_549f3515a0bcrow0_col2\" class=\"data row0 col2\" >-0.303954</td>\n",
       "                        <td id=\"T_0a587666_4e6d_11ea_9e8f_549f3515a0bcrow0_col3\" class=\"data row0 col3\" >-0.225913</td>\n",
       "            </tr>\n",
       "            <tr>\n",
       "                        <th id=\"T_0a587666_4e6d_11ea_9e8f_549f3515a0bclevel0_row1\" class=\"row_heading level0 row1\" >$h_0$</th>\n",
       "                        <td id=\"T_0a587666_4e6d_11ea_9e8f_549f3515a0bcrow1_col0\" class=\"data row1 col0\" >-0.176794</td>\n",
       "                        <td id=\"T_0a587666_4e6d_11ea_9e8f_549f3515a0bcrow1_col1\" class=\"data row1 col1\" >-0.159933</td>\n",
       "                        <td id=\"T_0a587666_4e6d_11ea_9e8f_549f3515a0bcrow1_col2\" class=\"data row1 col2\" >-0.182165</td>\n",
       "                        <td id=\"T_0a587666_4e6d_11ea_9e8f_549f3515a0bcrow1_col3\" class=\"data row1 col3\" >-0.143111</td>\n",
       "            </tr>\n",
       "            <tr>\n",
       "                        <th id=\"T_0a587666_4e6d_11ea_9e8f_549f3515a0bclevel0_row2\" class=\"row_heading level0 row2\" >$n_s$</th>\n",
       "                        <td id=\"T_0a587666_4e6d_11ea_9e8f_549f3515a0bcrow2_col0\" class=\"data row2 col0\" >-0.303954</td>\n",
       "                        <td id=\"T_0a587666_4e6d_11ea_9e8f_549f3515a0bcrow2_col1\" class=\"data row2 col1\" >-0.182165</td>\n",
       "                        <td id=\"T_0a587666_4e6d_11ea_9e8f_549f3515a0bcrow2_col2\" class=\"data row2 col2\" >-0.161405</td>\n",
       "                        <td id=\"T_0a587666_4e6d_11ea_9e8f_549f3515a0bcrow2_col3\" class=\"data row2 col3\" >-0.148062</td>\n",
       "            </tr>\n",
       "            <tr>\n",
       "                        <th id=\"T_0a587666_4e6d_11ea_9e8f_549f3515a0bclevel0_row3\" class=\"row_heading level0 row3\" >$w_a$</th>\n",
       "                        <td id=\"T_0a587666_4e6d_11ea_9e8f_549f3515a0bcrow3_col0\" class=\"data row3 col0\" >-0.225913</td>\n",
       "                        <td id=\"T_0a587666_4e6d_11ea_9e8f_549f3515a0bcrow3_col1\" class=\"data row3 col1\" >-0.143111</td>\n",
       "                        <td id=\"T_0a587666_4e6d_11ea_9e8f_549f3515a0bcrow3_col2\" class=\"data row3 col2\" >-0.148062</td>\n",
       "                        <td id=\"T_0a587666_4e6d_11ea_9e8f_549f3515a0bcrow3_col3\" class=\"data row3 col3\" >-0.110951</td>\n",
       "            </tr>\n",
       "    </tbody></table>"
      ],
      "text/plain": [
       "<pandas.io.formats.style.Styler at 0x2b99ab46fda0>"
      ]
     },
     "execution_count": 84,
     "metadata": {},
     "output_type": "execute_result"
    }
   ],
   "source": [
    "((ccl_cov - cosmosis_cov)/ccl_cov).style.background_gradient(cmap=cmap, axis=None).set_caption(\"Covariance Relative Differences\")"
   ]
  },
  {
   "cell_type": "markdown",
   "metadata": {},
   "source": [
    "#### Remove $n_s$"
   ]
  },
  {
   "cell_type": "code",
   "execution_count": 85,
   "metadata": {},
   "outputs": [],
   "source": [
    "paras.remove(\"$n_s$\")"
   ]
  },
  {
   "cell_type": "code",
   "execution_count": 86,
   "metadata": {},
   "outputs": [],
   "source": [
    "ccl_f = ccl_f.drop(columns=[\"$n_s$\"]).drop(index=[\"$n_s$\"])\n",
    "cosmosis_f = cosmosis_f.drop(columns=[\"$n_s$\"]).drop(index=[\"$n_s$\"])"
   ]
  },
  {
   "cell_type": "code",
   "execution_count": 87,
   "metadata": {},
   "outputs": [],
   "source": [
    "ccl_cov = pd.DataFrame(np.linalg.inv(ccl_f), index=paras, columns=paras)\n",
    "cosmosis_cov = pd.DataFrame(np.linalg.inv(cosmosis_f), index=paras, columns=paras)"
   ]
  },
  {
   "cell_type": "code",
   "execution_count": 88,
   "metadata": {},
   "outputs": [
    {
     "data": {
      "text/html": [
       "<style  type=\"text/css\" >\n",
       "    #T_0a895970_4e6d_11ea_9e8f_549f3515a0bcrow0_col0 {\n",
       "            background-color:  #df627b;\n",
       "            color:  #000000;\n",
       "        }    #T_0a895970_4e6d_11ea_9e8f_549f3515a0bcrow0_col1 {\n",
       "            background-color:  #fbeaed;\n",
       "            color:  #000000;\n",
       "        }    #T_0a895970_4e6d_11ea_9e8f_549f3515a0bcrow0_col2 {\n",
       "            background-color:  #eeaab7;\n",
       "            color:  #000000;\n",
       "        }    #T_0a895970_4e6d_11ea_9e8f_549f3515a0bcrow1_col0 {\n",
       "            background-color:  #fbeaed;\n",
       "            color:  #000000;\n",
       "        }    #T_0a895970_4e6d_11ea_9e8f_549f3515a0bcrow1_col1 {\n",
       "            background-color:  #4479bb;\n",
       "            color:  #000000;\n",
       "        }    #T_0a895970_4e6d_11ea_9e8f_549f3515a0bcrow1_col2 {\n",
       "            background-color:  #82a5d1;\n",
       "            color:  #000000;\n",
       "        }    #T_0a895970_4e6d_11ea_9e8f_549f3515a0bcrow2_col0 {\n",
       "            background-color:  #eeaab7;\n",
       "            color:  #000000;\n",
       "        }    #T_0a895970_4e6d_11ea_9e8f_549f3515a0bcrow2_col1 {\n",
       "            background-color:  #82a5d1;\n",
       "            color:  #000000;\n",
       "        }    #T_0a895970_4e6d_11ea_9e8f_549f3515a0bcrow2_col2 {\n",
       "            background-color:  #d73c5b;\n",
       "            color:  #f1f1f1;\n",
       "        }</style><table id=\"T_0a895970_4e6d_11ea_9e8f_549f3515a0bc\" ><caption>Fisher Relative Differences</caption><thead>    <tr>        <th class=\"blank level0\" ></th>        <th class=\"col_heading level0 col0\" >$\\Omega_m$</th>        <th class=\"col_heading level0 col1\" >$h_0$</th>        <th class=\"col_heading level0 col2\" >$w_a$</th>    </tr></thead><tbody>\n",
       "                <tr>\n",
       "                        <th id=\"T_0a895970_4e6d_11ea_9e8f_549f3515a0bclevel0_row0\" class=\"row_heading level0 row0\" >$\\Omega_m$</th>\n",
       "                        <td id=\"T_0a895970_4e6d_11ea_9e8f_549f3515a0bcrow0_col0\" class=\"data row0 col0\" >4.68171e-05</td>\n",
       "                        <td id=\"T_0a895970_4e6d_11ea_9e8f_549f3515a0bcrow0_col1\" class=\"data row0 col1\" >0.000326295</td>\n",
       "                        <td id=\"T_0a895970_4e6d_11ea_9e8f_549f3515a0bcrow0_col2\" class=\"data row0 col2\" >0.000193318</td>\n",
       "            </tr>\n",
       "            <tr>\n",
       "                        <th id=\"T_0a895970_4e6d_11ea_9e8f_549f3515a0bclevel0_row1\" class=\"row_heading level0 row1\" >$h_0$</th>\n",
       "                        <td id=\"T_0a895970_4e6d_11ea_9e8f_549f3515a0bcrow1_col0\" class=\"data row1 col0\" >0.000326295</td>\n",
       "                        <td id=\"T_0a895970_4e6d_11ea_9e8f_549f3515a0bcrow1_col1\" class=\"data row1 col1\" >0.000719528</td>\n",
       "                        <td id=\"T_0a895970_4e6d_11ea_9e8f_549f3515a0bcrow1_col2\" class=\"data row1 col2\" >0.000584382</td>\n",
       "            </tr>\n",
       "            <tr>\n",
       "                        <th id=\"T_0a895970_4e6d_11ea_9e8f_549f3515a0bclevel0_row2\" class=\"row_heading level0 row2\" >$w_a$</th>\n",
       "                        <td id=\"T_0a895970_4e6d_11ea_9e8f_549f3515a0bcrow2_col0\" class=\"data row2 col0\" >0.000193318</td>\n",
       "                        <td id=\"T_0a895970_4e6d_11ea_9e8f_549f3515a0bcrow2_col1\" class=\"data row2 col1\" >0.000584382</td>\n",
       "                        <td id=\"T_0a895970_4e6d_11ea_9e8f_549f3515a0bcrow2_col2\" class=\"data row2 col2\" >-3.31873e-05</td>\n",
       "            </tr>\n",
       "    </tbody></table>"
      ],
      "text/plain": [
       "<pandas.io.formats.style.Styler at 0x2b99ab46f550>"
      ]
     },
     "execution_count": 88,
     "metadata": {},
     "output_type": "execute_result"
    }
   ],
   "source": [
    "((ccl_f - cosmosis_f)/ccl_f).style.background_gradient(cmap=cmap, axis=None).set_caption(\"Fisher Relative Differences\")"
   ]
  },
  {
   "cell_type": "code",
   "execution_count": 89,
   "metadata": {},
   "outputs": [
    {
     "data": {
      "text/html": [
       "<style  type=\"text/css\" >\n",
       "    #T_0a9de1f6_4e6d_11ea_9e8f_549f3515a0bcrow0_col0 {\n",
       "            background-color:  #d73c5b;\n",
       "            color:  #f1f1f1;\n",
       "        }    #T_0a9de1f6_4e6d_11ea_9e8f_549f3515a0bcrow0_col1 {\n",
       "            background-color:  #dd5a74;\n",
       "            color:  #000000;\n",
       "        }    #T_0a9de1f6_4e6d_11ea_9e8f_549f3515a0bcrow0_col2 {\n",
       "            background-color:  #dce6f2;\n",
       "            color:  #000000;\n",
       "        }    #T_0a9de1f6_4e6d_11ea_9e8f_549f3515a0bcrow1_col0 {\n",
       "            background-color:  #dd5a74;\n",
       "            color:  #000000;\n",
       "        }    #T_0a9de1f6_4e6d_11ea_9e8f_549f3515a0bcrow1_col1 {\n",
       "            background-color:  #eeacba;\n",
       "            color:  #000000;\n",
       "        }    #T_0a9de1f6_4e6d_11ea_9e8f_549f3515a0bcrow1_col2 {\n",
       "            background-color:  #7da2cf;\n",
       "            color:  #000000;\n",
       "        }    #T_0a9de1f6_4e6d_11ea_9e8f_549f3515a0bcrow2_col0 {\n",
       "            background-color:  #dce6f2;\n",
       "            color:  #000000;\n",
       "        }    #T_0a9de1f6_4e6d_11ea_9e8f_549f3515a0bcrow2_col1 {\n",
       "            background-color:  #7da2cf;\n",
       "            color:  #000000;\n",
       "        }    #T_0a9de1f6_4e6d_11ea_9e8f_549f3515a0bcrow2_col2 {\n",
       "            background-color:  #4479bb;\n",
       "            color:  #000000;\n",
       "        }</style><table id=\"T_0a9de1f6_4e6d_11ea_9e8f_549f3515a0bc\" ><caption>Covariance Relative Differences</caption><thead>    <tr>        <th class=\"blank level0\" ></th>        <th class=\"col_heading level0 col0\" >$\\Omega_m$</th>        <th class=\"col_heading level0 col1\" >$h_0$</th>        <th class=\"col_heading level0 col2\" >$w_a$</th>    </tr></thead><tbody>\n",
       "                <tr>\n",
       "                        <th id=\"T_0a9de1f6_4e6d_11ea_9e8f_549f3515a0bclevel0_row0\" class=\"row_heading level0 row0\" >$\\Omega_m$</th>\n",
       "                        <td id=\"T_0a9de1f6_4e6d_11ea_9e8f_549f3515a0bcrow0_col0\" class=\"data row0 col0\" >-0.0344066</td>\n",
       "                        <td id=\"T_0a9de1f6_4e6d_11ea_9e8f_549f3515a0bcrow0_col1\" class=\"data row0 col1\" >-0.0275133</td>\n",
       "                        <td id=\"T_0a9de1f6_4e6d_11ea_9e8f_549f3515a0bcrow0_col2\" class=\"data row0 col2\" >0.0113744</td>\n",
       "            </tr>\n",
       "            <tr>\n",
       "                        <th id=\"T_0a9de1f6_4e6d_11ea_9e8f_549f3515a0bclevel0_row1\" class=\"row_heading level0 row1\" >$h_0$</th>\n",
       "                        <td id=\"T_0a9de1f6_4e6d_11ea_9e8f_549f3515a0bcrow1_col0\" class=\"data row1 col0\" >-0.0275133</td>\n",
       "                        <td id=\"T_0a9de1f6_4e6d_11ea_9e8f_549f3515a0bcrow1_col1\" class=\"data row1 col1\" >-0.00948097</td>\n",
       "                        <td id=\"T_0a9de1f6_4e6d_11ea_9e8f_549f3515a0bcrow1_col2\" class=\"data row1 col2\" >0.0332461</td>\n",
       "            </tr>\n",
       "            <tr>\n",
       "                        <th id=\"T_0a9de1f6_4e6d_11ea_9e8f_549f3515a0bclevel0_row2\" class=\"row_heading level0 row2\" >$w_a$</th>\n",
       "                        <td id=\"T_0a9de1f6_4e6d_11ea_9e8f_549f3515a0bcrow2_col0\" class=\"data row2 col0\" >0.0113744</td>\n",
       "                        <td id=\"T_0a9de1f6_4e6d_11ea_9e8f_549f3515a0bcrow2_col1\" class=\"data row2 col1\" >0.0332461</td>\n",
       "                        <td id=\"T_0a9de1f6_4e6d_11ea_9e8f_549f3515a0bcrow2_col2\" class=\"data row2 col2\" >0.0462632</td>\n",
       "            </tr>\n",
       "    </tbody></table>"
      ],
      "text/plain": [
       "<pandas.io.formats.style.Styler at 0x2b99ab4884a8>"
      ]
     },
     "execution_count": 89,
     "metadata": {},
     "output_type": "execute_result"
    }
   ],
   "source": [
    "((ccl_cov - cosmosis_cov)/ccl_cov).style.background_gradient(cmap=cmap, axis=None).set_caption(\"Covariance Relative Differences\")"
   ]
  },
  {
   "cell_type": "code",
   "execution_count": 90,
   "metadata": {},
   "outputs": [
    {
     "name": "stdout",
     "output_type": "stream",
     "text": [
      "The relative differences of the std. deviations of the diagonals elements are:\n",
      "-1.706e-02\n",
      "-4.729e-03\n",
      "2.341e-02\n"
     ]
    }
   ],
   "source": [
    "print(\"The relative differences of the std. deviations of the diagonals elements are:\")\n",
    "for i in range(3):\n",
    "    print(\"%.3e\"%((np.sqrt(ccl_cov.iloc[i,i]) - np.sqrt(cosmosis_cov.iloc[i,i]))/np.sqrt(ccl_cov.iloc[i,i])))"
   ]
  },
  {
   "cell_type": "markdown",
   "metadata": {},
   "source": [
    "It seems like $n_s$ is a possible culprit. Let's start adding back rows and columns"
   ]
  },
  {
   "cell_type": "markdown",
   "metadata": {},
   "source": [
    "#### Add back $A_s$"
   ]
  },
  {
   "cell_type": "code",
   "execution_count": 91,
   "metadata": {},
   "outputs": [],
   "source": [
    "paras = [\"$\\Omega_m$\", \"$w_0$\", \"$h_0$\", \"$A_s$\", \"$\\Omega_b$\", \"$n_s$\", \"$w_a$\"]\n",
    "ccl_f = pd.DataFrame(np.loadtxt(\"ccl_cosmosis_binned_comparison/om_m_0.25/A_s_2.1e-9/out_ccl/fisher_out.dat\"), index=paras, columns=paras)\n",
    "cosmosis_f = pd.DataFrame(np.loadtxt(\"ccl_cosmosis_binned_comparison/om_m_0.25/A_s_2.1e-9/out_cosmosis/fisher_out.dat\"), index=paras, columns=paras)"
   ]
  },
  {
   "cell_type": "code",
   "execution_count": 92,
   "metadata": {},
   "outputs": [],
   "source": [
    "ccl_f = ccl_f.drop(columns=[\"$n_s$\", \"$\\Omega_b$\", \"$w_0$\"]).drop(index=[\"$n_s$\", \"$\\Omega_b$\", \"$w_0$\"])\n",
    "cosmosis_f = cosmosis_f.drop(columns=[\"$n_s$\", \"$\\Omega_b$\", \"$w_0$\"]).drop(index=[\"$n_s$\", \"$\\Omega_b$\", \"$w_0$\"])"
   ]
  },
  {
   "cell_type": "code",
   "execution_count": 93,
   "metadata": {},
   "outputs": [],
   "source": [
    "for para in [\"$n_s$\", \"$\\Omega_b$\", \"$w_0$\"]:\n",
    "    paras.remove(para)"
   ]
  },
  {
   "cell_type": "code",
   "execution_count": 94,
   "metadata": {},
   "outputs": [],
   "source": [
    "ccl_cov = pd.DataFrame(np.linalg.inv(ccl_f), index=paras, columns=paras)\n",
    "cosmosis_cov = pd.DataFrame(np.linalg.inv(cosmosis_f), index=paras, columns=paras)"
   ]
  },
  {
   "cell_type": "code",
   "execution_count": 95,
   "metadata": {},
   "outputs": [
    {
     "data": {
      "text/html": [
       "<style  type=\"text/css\" >\n",
       "    #T_0ae1ec66_4e6d_11ea_9e8f_549f3515a0bcrow0_col0 {\n",
       "            background-color:  #cad9ec;\n",
       "            color:  #000000;\n",
       "        }    #T_0ae1ec66_4e6d_11ea_9e8f_549f3515a0bcrow0_col1 {\n",
       "            background-color:  #91b0d7;\n",
       "            color:  #000000;\n",
       "        }    #T_0ae1ec66_4e6d_11ea_9e8f_549f3515a0bcrow0_col2 {\n",
       "            background-color:  #ea99a9;\n",
       "            color:  #000000;\n",
       "        }    #T_0ae1ec66_4e6d_11ea_9e8f_549f3515a0bcrow0_col3 {\n",
       "            background-color:  #acc3e1;\n",
       "            color:  #000000;\n",
       "        }    #T_0ae1ec66_4e6d_11ea_9e8f_549f3515a0bcrow1_col0 {\n",
       "            background-color:  #91b0d7;\n",
       "            color:  #000000;\n",
       "        }    #T_0ae1ec66_4e6d_11ea_9e8f_549f3515a0bcrow1_col1 {\n",
       "            background-color:  #4479bb;\n",
       "            color:  #000000;\n",
       "        }    #T_0ae1ec66_4e6d_11ea_9e8f_549f3515a0bcrow1_col2 {\n",
       "            background-color:  #f2f2f2;\n",
       "            color:  #000000;\n",
       "        }    #T_0ae1ec66_4e6d_11ea_9e8f_549f3515a0bcrow1_col3 {\n",
       "            background-color:  #5e8bc4;\n",
       "            color:  #000000;\n",
       "        }    #T_0ae1ec66_4e6d_11ea_9e8f_549f3515a0bcrow2_col0 {\n",
       "            background-color:  #ea99a9;\n",
       "            color:  #000000;\n",
       "        }    #T_0ae1ec66_4e6d_11ea_9e8f_549f3515a0bcrow2_col1 {\n",
       "            background-color:  #f2f2f2;\n",
       "            color:  #000000;\n",
       "        }    #T_0ae1ec66_4e6d_11ea_9e8f_549f3515a0bcrow2_col2 {\n",
       "            background-color:  #d73c5b;\n",
       "            color:  #f1f1f1;\n",
       "        }    #T_0ae1ec66_4e6d_11ea_9e8f_549f3515a0bcrow2_col3 {\n",
       "            background-color:  #f2bfca;\n",
       "            color:  #000000;\n",
       "        }    #T_0ae1ec66_4e6d_11ea_9e8f_549f3515a0bcrow3_col0 {\n",
       "            background-color:  #acc3e1;\n",
       "            color:  #000000;\n",
       "        }    #T_0ae1ec66_4e6d_11ea_9e8f_549f3515a0bcrow3_col1 {\n",
       "            background-color:  #5e8bc4;\n",
       "            color:  #000000;\n",
       "        }    #T_0ae1ec66_4e6d_11ea_9e8f_549f3515a0bcrow3_col2 {\n",
       "            background-color:  #f2bfca;\n",
       "            color:  #000000;\n",
       "        }    #T_0ae1ec66_4e6d_11ea_9e8f_549f3515a0bcrow3_col3 {\n",
       "            background-color:  #d9e4f1;\n",
       "            color:  #000000;\n",
       "        }</style><table id=\"T_0ae1ec66_4e6d_11ea_9e8f_549f3515a0bc\" ><caption>Fisher Relative Differences</caption><thead>    <tr>        <th class=\"blank level0\" ></th>        <th class=\"col_heading level0 col0\" >$\\Omega_m$</th>        <th class=\"col_heading level0 col1\" >$h_0$</th>        <th class=\"col_heading level0 col2\" >$A_s$</th>        <th class=\"col_heading level0 col3\" >$w_a$</th>    </tr></thead><tbody>\n",
       "                <tr>\n",
       "                        <th id=\"T_0ae1ec66_4e6d_11ea_9e8f_549f3515a0bclevel0_row0\" class=\"row_heading level0 row0\" >$\\Omega_m$</th>\n",
       "                        <td id=\"T_0ae1ec66_4e6d_11ea_9e8f_549f3515a0bcrow0_col0\" class=\"data row0 col0\" >4.68171e-05</td>\n",
       "                        <td id=\"T_0ae1ec66_4e6d_11ea_9e8f_549f3515a0bcrow0_col1\" class=\"data row0 col1\" >0.000326295</td>\n",
       "                        <td id=\"T_0ae1ec66_4e6d_11ea_9e8f_549f3515a0bcrow0_col2\" class=\"data row0 col2\" >-0.000598432</td>\n",
       "                        <td id=\"T_0ae1ec66_4e6d_11ea_9e8f_549f3515a0bcrow0_col3\" class=\"data row0 col3\" >0.000193318</td>\n",
       "            </tr>\n",
       "            <tr>\n",
       "                        <th id=\"T_0ae1ec66_4e6d_11ea_9e8f_549f3515a0bclevel0_row1\" class=\"row_heading level0 row1\" >$h_0$</th>\n",
       "                        <td id=\"T_0ae1ec66_4e6d_11ea_9e8f_549f3515a0bcrow1_col0\" class=\"data row1 col0\" >0.000326295</td>\n",
       "                        <td id=\"T_0ae1ec66_4e6d_11ea_9e8f_549f3515a0bcrow1_col1\" class=\"data row1 col1\" >0.000719528</td>\n",
       "                        <td id=\"T_0ae1ec66_4e6d_11ea_9e8f_549f3515a0bcrow1_col2\" class=\"data row1 col2\" >-0.000177489</td>\n",
       "                        <td id=\"T_0ae1ec66_4e6d_11ea_9e8f_549f3515a0bcrow1_col3\" class=\"data row1 col3\" >0.000584382</td>\n",
       "            </tr>\n",
       "            <tr>\n",
       "                        <th id=\"T_0ae1ec66_4e6d_11ea_9e8f_549f3515a0bclevel0_row2\" class=\"row_heading level0 row2\" >$A_s$</th>\n",
       "                        <td id=\"T_0ae1ec66_4e6d_11ea_9e8f_549f3515a0bcrow2_col0\" class=\"data row2 col0\" >-0.000598432</td>\n",
       "                        <td id=\"T_0ae1ec66_4e6d_11ea_9e8f_549f3515a0bcrow2_col1\" class=\"data row2 col1\" >-0.000177489</td>\n",
       "                        <td id=\"T_0ae1ec66_4e6d_11ea_9e8f_549f3515a0bcrow2_col2\" class=\"data row2 col2\" >-0.00105413</td>\n",
       "                        <td id=\"T_0ae1ec66_4e6d_11ea_9e8f_549f3515a0bcrow2_col3\" class=\"data row2 col3\" >-0.00041104</td>\n",
       "            </tr>\n",
       "            <tr>\n",
       "                        <th id=\"T_0ae1ec66_4e6d_11ea_9e8f_549f3515a0bclevel0_row3\" class=\"row_heading level0 row3\" >$w_a$</th>\n",
       "                        <td id=\"T_0ae1ec66_4e6d_11ea_9e8f_549f3515a0bcrow3_col0\" class=\"data row3 col0\" >0.000193318</td>\n",
       "                        <td id=\"T_0ae1ec66_4e6d_11ea_9e8f_549f3515a0bcrow3_col1\" class=\"data row3 col1\" >0.000584382</td>\n",
       "                        <td id=\"T_0ae1ec66_4e6d_11ea_9e8f_549f3515a0bcrow3_col2\" class=\"data row3 col2\" >-0.00041104</td>\n",
       "                        <td id=\"T_0ae1ec66_4e6d_11ea_9e8f_549f3515a0bcrow3_col3\" class=\"data row3 col3\" >-3.31873e-05</td>\n",
       "            </tr>\n",
       "    </tbody></table>"
      ],
      "text/plain": [
       "<pandas.io.formats.style.Styler at 0x2b99ab48f550>"
      ]
     },
     "execution_count": 95,
     "metadata": {},
     "output_type": "execute_result"
    }
   ],
   "source": [
    "((ccl_f - cosmosis_f)/ccl_f).style.background_gradient(cmap=cmap, axis=None).set_caption(\"Fisher Relative Differences\")"
   ]
  },
  {
   "cell_type": "code",
   "execution_count": 96,
   "metadata": {},
   "outputs": [
    {
     "data": {
      "text/html": [
       "<style  type=\"text/css\" >\n",
       "    #T_0aed3f30_4e6d_11ea_9e8f_549f3515a0bcrow0_col0 {\n",
       "            background-color:  #db4d69;\n",
       "            color:  #000000;\n",
       "        }    #T_0aed3f30_4e6d_11ea_9e8f_549f3515a0bcrow0_col1 {\n",
       "            background-color:  #e0657d;\n",
       "            color:  #000000;\n",
       "        }    #T_0aed3f30_4e6d_11ea_9e8f_549f3515a0bcrow0_col2 {\n",
       "            background-color:  #d73c5b;\n",
       "            color:  #f1f1f1;\n",
       "        }    #T_0aed3f30_4e6d_11ea_9e8f_549f3515a0bcrow0_col3 {\n",
       "            background-color:  #db4d69;\n",
       "            color:  #000000;\n",
       "        }    #T_0aed3f30_4e6d_11ea_9e8f_549f3515a0bcrow1_col0 {\n",
       "            background-color:  #e0657d;\n",
       "            color:  #000000;\n",
       "        }    #T_0aed3f30_4e6d_11ea_9e8f_549f3515a0bcrow1_col1 {\n",
       "            background-color:  #df617a;\n",
       "            color:  #000000;\n",
       "        }    #T_0aed3f30_4e6d_11ea_9e8f_549f3515a0bcrow1_col2 {\n",
       "            background-color:  #dd5872;\n",
       "            color:  #000000;\n",
       "        }    #T_0aed3f30_4e6d_11ea_9e8f_549f3515a0bcrow1_col3 {\n",
       "            background-color:  #4479bb;\n",
       "            color:  #000000;\n",
       "        }    #T_0aed3f30_4e6d_11ea_9e8f_549f3515a0bcrow2_col0 {\n",
       "            background-color:  #d73c5b;\n",
       "            color:  #f1f1f1;\n",
       "        }    #T_0aed3f30_4e6d_11ea_9e8f_549f3515a0bcrow2_col1 {\n",
       "            background-color:  #dd5872;\n",
       "            color:  #000000;\n",
       "        }    #T_0aed3f30_4e6d_11ea_9e8f_549f3515a0bcrow2_col2 {\n",
       "            background-color:  #db4e6a;\n",
       "            color:  #000000;\n",
       "        }    #T_0aed3f30_4e6d_11ea_9e8f_549f3515a0bcrow2_col3 {\n",
       "            background-color:  #dc526e;\n",
       "            color:  #000000;\n",
       "        }    #T_0aed3f30_4e6d_11ea_9e8f_549f3515a0bcrow3_col0 {\n",
       "            background-color:  #db4d69;\n",
       "            color:  #000000;\n",
       "        }    #T_0aed3f30_4e6d_11ea_9e8f_549f3515a0bcrow3_col1 {\n",
       "            background-color:  #4479bb;\n",
       "            color:  #000000;\n",
       "        }    #T_0aed3f30_4e6d_11ea_9e8f_549f3515a0bcrow3_col2 {\n",
       "            background-color:  #dc526e;\n",
       "            color:  #000000;\n",
       "        }    #T_0aed3f30_4e6d_11ea_9e8f_549f3515a0bcrow3_col3 {\n",
       "            background-color:  #df617a;\n",
       "            color:  #000000;\n",
       "        }</style><table id=\"T_0aed3f30_4e6d_11ea_9e8f_549f3515a0bc\" ><caption>Covariance Relative Differences</caption><thead>    <tr>        <th class=\"blank level0\" ></th>        <th class=\"col_heading level0 col0\" >$\\Omega_m$</th>        <th class=\"col_heading level0 col1\" >$h_0$</th>        <th class=\"col_heading level0 col2\" >$A_s$</th>        <th class=\"col_heading level0 col3\" >$w_a$</th>    </tr></thead><tbody>\n",
       "                <tr>\n",
       "                        <th id=\"T_0aed3f30_4e6d_11ea_9e8f_549f3515a0bclevel0_row0\" class=\"row_heading level0 row0\" >$\\Omega_m$</th>\n",
       "                        <td id=\"T_0aed3f30_4e6d_11ea_9e8f_549f3515a0bcrow0_col0\" class=\"data row0 col0\" >-0.0714873</td>\n",
       "                        <td id=\"T_0aed3f30_4e6d_11ea_9e8f_549f3515a0bcrow0_col1\" class=\"data row0 col1\" >0.00215482</td>\n",
       "                        <td id=\"T_0aed3f30_4e6d_11ea_9e8f_549f3515a0bcrow0_col2\" class=\"data row0 col2\" >-0.12993</td>\n",
       "                        <td id=\"T_0aed3f30_4e6d_11ea_9e8f_549f3515a0bcrow0_col3\" class=\"data row0 col3\" >-0.0753328</td>\n",
       "            </tr>\n",
       "            <tr>\n",
       "                        <th id=\"T_0aed3f30_4e6d_11ea_9e8f_549f3515a0bclevel0_row1\" class=\"row_heading level0 row1\" >$h_0$</th>\n",
       "                        <td id=\"T_0aed3f30_4e6d_11ea_9e8f_549f3515a0bcrow1_col0\" class=\"data row1 col0\" >0.00215482</td>\n",
       "                        <td id=\"T_0aed3f30_4e6d_11ea_9e8f_549f3515a0bcrow1_col1\" class=\"data row1 col1\" >-0.00893888</td>\n",
       "                        <td id=\"T_0aed3f30_4e6d_11ea_9e8f_549f3515a0bcrow1_col2\" class=\"data row1 col2\" >-0.0379582</td>\n",
       "                        <td id=\"T_0aed3f30_4e6d_11ea_9e8f_549f3515a0bcrow1_col3\" class=\"data row1 col3\" >1.02247</td>\n",
       "            </tr>\n",
       "            <tr>\n",
       "                        <th id=\"T_0aed3f30_4e6d_11ea_9e8f_549f3515a0bclevel0_row2\" class=\"row_heading level0 row2\" >$A_s$</th>\n",
       "                        <td id=\"T_0aed3f30_4e6d_11ea_9e8f_549f3515a0bcrow2_col0\" class=\"data row2 col0\" >-0.12993</td>\n",
       "                        <td id=\"T_0aed3f30_4e6d_11ea_9e8f_549f3515a0bcrow2_col1\" class=\"data row2 col1\" >-0.0379582</td>\n",
       "                        <td id=\"T_0aed3f30_4e6d_11ea_9e8f_549f3515a0bcrow2_col2\" class=\"data row2 col2\" >-0.0701277</td>\n",
       "                        <td id=\"T_0aed3f30_4e6d_11ea_9e8f_549f3515a0bcrow2_col3\" class=\"data row2 col3\" >-0.0559586</td>\n",
       "            </tr>\n",
       "            <tr>\n",
       "                        <th id=\"T_0aed3f30_4e6d_11ea_9e8f_549f3515a0bclevel0_row3\" class=\"row_heading level0 row3\" >$w_a$</th>\n",
       "                        <td id=\"T_0aed3f30_4e6d_11ea_9e8f_549f3515a0bcrow3_col0\" class=\"data row3 col0\" >-0.0753328</td>\n",
       "                        <td id=\"T_0aed3f30_4e6d_11ea_9e8f_549f3515a0bcrow3_col1\" class=\"data row3 col1\" >1.02247</td>\n",
       "                        <td id=\"T_0aed3f30_4e6d_11ea_9e8f_549f3515a0bcrow3_col2\" class=\"data row3 col2\" >-0.0559586</td>\n",
       "                        <td id=\"T_0aed3f30_4e6d_11ea_9e8f_549f3515a0bcrow3_col3\" class=\"data row3 col3\" >-0.00943266</td>\n",
       "            </tr>\n",
       "    </tbody></table>"
      ],
      "text/plain": [
       "<pandas.io.formats.style.Styler at 0x2b99ab464240>"
      ]
     },
     "execution_count": 96,
     "metadata": {},
     "output_type": "execute_result"
    }
   ],
   "source": [
    "((ccl_cov - cosmosis_cov)/ccl_cov).style.background_gradient(cmap=cmap, axis=None).set_caption(\"Covariance Relative Differences\")"
   ]
  },
  {
   "cell_type": "markdown",
   "metadata": {},
   "source": [
    "#### Remove $h_0$"
   ]
  },
  {
   "cell_type": "code",
   "execution_count": 97,
   "metadata": {},
   "outputs": [],
   "source": [
    "paras.remove(\"$h_0$\")"
   ]
  },
  {
   "cell_type": "code",
   "execution_count": 98,
   "metadata": {},
   "outputs": [],
   "source": [
    "ccl_f = ccl_f.drop(columns=[\"$h_0$\"]).drop(index=[\"$h_0$\"])\n",
    "cosmosis_f = cosmosis_f.drop(columns=[\"$h_0$\"]).drop(index=[\"$h_0$\"])"
   ]
  },
  {
   "cell_type": "code",
   "execution_count": 99,
   "metadata": {},
   "outputs": [],
   "source": [
    "ccl_cov = pd.DataFrame(np.linalg.inv(ccl_f), index=paras, columns=paras)\n",
    "cosmosis_cov = pd.DataFrame(np.linalg.inv(cosmosis_f), index=paras, columns=paras)"
   ]
  },
  {
   "cell_type": "code",
   "execution_count": 100,
   "metadata": {},
   "outputs": [
    {
     "data": {
      "text/html": [
       "<style  type=\"text/css\" >\n",
       "    #T_0b13ed10_4e6d_11ea_9e8f_549f3515a0bcrow0_col0 {\n",
       "            background-color:  #6d96ca;\n",
       "            color:  #000000;\n",
       "        }    #T_0b13ed10_4e6d_11ea_9e8f_549f3515a0bcrow0_col1 {\n",
       "            background-color:  #f2c1cb;\n",
       "            color:  #000000;\n",
       "        }    #T_0b13ed10_4e6d_11ea_9e8f_549f3515a0bcrow0_col2 {\n",
       "            background-color:  #4479bb;\n",
       "            color:  #000000;\n",
       "        }    #T_0b13ed10_4e6d_11ea_9e8f_549f3515a0bcrow1_col0 {\n",
       "            background-color:  #f2c1cb;\n",
       "            color:  #000000;\n",
       "        }    #T_0b13ed10_4e6d_11ea_9e8f_549f3515a0bcrow1_col1 {\n",
       "            background-color:  #d73c5b;\n",
       "            color:  #f1f1f1;\n",
       "        }    #T_0b13ed10_4e6d_11ea_9e8f_549f3515a0bcrow1_col2 {\n",
       "            background-color:  #f2f2f2;\n",
       "            color:  #000000;\n",
       "        }    #T_0b13ed10_4e6d_11ea_9e8f_549f3515a0bcrow2_col0 {\n",
       "            background-color:  #4479bb;\n",
       "            color:  #000000;\n",
       "        }    #T_0b13ed10_4e6d_11ea_9e8f_549f3515a0bcrow2_col1 {\n",
       "            background-color:  #f2f2f2;\n",
       "            color:  #000000;\n",
       "        }    #T_0b13ed10_4e6d_11ea_9e8f_549f3515a0bcrow2_col2 {\n",
       "            background-color:  #83a6d2;\n",
       "            color:  #000000;\n",
       "        }</style><table id=\"T_0b13ed10_4e6d_11ea_9e8f_549f3515a0bc\" ><caption>Fisher Relative Differences</caption><thead>    <tr>        <th class=\"blank level0\" ></th>        <th class=\"col_heading level0 col0\" >$\\Omega_m$</th>        <th class=\"col_heading level0 col1\" >$A_s$</th>        <th class=\"col_heading level0 col2\" >$w_a$</th>    </tr></thead><tbody>\n",
       "                <tr>\n",
       "                        <th id=\"T_0b13ed10_4e6d_11ea_9e8f_549f3515a0bclevel0_row0\" class=\"row_heading level0 row0\" >$\\Omega_m$</th>\n",
       "                        <td id=\"T_0b13ed10_4e6d_11ea_9e8f_549f3515a0bcrow0_col0\" class=\"data row0 col0\" >4.68171e-05</td>\n",
       "                        <td id=\"T_0b13ed10_4e6d_11ea_9e8f_549f3515a0bcrow0_col1\" class=\"data row0 col1\" >-0.000598432</td>\n",
       "                        <td id=\"T_0b13ed10_4e6d_11ea_9e8f_549f3515a0bcrow0_col2\" class=\"data row0 col2\" >0.000193318</td>\n",
       "            </tr>\n",
       "            <tr>\n",
       "                        <th id=\"T_0b13ed10_4e6d_11ea_9e8f_549f3515a0bclevel0_row1\" class=\"row_heading level0 row1\" >$A_s$</th>\n",
       "                        <td id=\"T_0b13ed10_4e6d_11ea_9e8f_549f3515a0bcrow1_col0\" class=\"data row1 col0\" >-0.000598432</td>\n",
       "                        <td id=\"T_0b13ed10_4e6d_11ea_9e8f_549f3515a0bcrow1_col1\" class=\"data row1 col1\" >-0.00105413</td>\n",
       "                        <td id=\"T_0b13ed10_4e6d_11ea_9e8f_549f3515a0bcrow1_col2\" class=\"data row1 col2\" >-0.00041104</td>\n",
       "            </tr>\n",
       "            <tr>\n",
       "                        <th id=\"T_0b13ed10_4e6d_11ea_9e8f_549f3515a0bclevel0_row2\" class=\"row_heading level0 row2\" >$w_a$</th>\n",
       "                        <td id=\"T_0b13ed10_4e6d_11ea_9e8f_549f3515a0bcrow2_col0\" class=\"data row2 col0\" >0.000193318</td>\n",
       "                        <td id=\"T_0b13ed10_4e6d_11ea_9e8f_549f3515a0bcrow2_col1\" class=\"data row2 col1\" >-0.00041104</td>\n",
       "                        <td id=\"T_0b13ed10_4e6d_11ea_9e8f_549f3515a0bcrow2_col2\" class=\"data row2 col2\" >-3.31873e-05</td>\n",
       "            </tr>\n",
       "    </tbody></table>"
      ],
      "text/plain": [
       "<pandas.io.formats.style.Styler at 0x2b99ab48f908>"
      ]
     },
     "execution_count": 100,
     "metadata": {},
     "output_type": "execute_result"
    }
   ],
   "source": [
    "((ccl_f - cosmosis_f)/ccl_f).style.background_gradient(cmap=cmap, axis=None).set_caption(\"Fisher Relative Differences\")"
   ]
  },
  {
   "cell_type": "code",
   "execution_count": 101,
   "metadata": {},
   "outputs": [
    {
     "data": {
      "text/html": [
       "<style  type=\"text/css\" >\n",
       "    #T_0b1cb1b6_4e6d_11ea_9e8f_549f3515a0bcrow0_col0 {\n",
       "            background-color:  #d73c5b;\n",
       "            color:  #f1f1f1;\n",
       "        }    #T_0b1cb1b6_4e6d_11ea_9e8f_549f3515a0bcrow0_col1 {\n",
       "            background-color:  #d94261;\n",
       "            color:  #f1f1f1;\n",
       "        }    #T_0b1cb1b6_4e6d_11ea_9e8f_549f3515a0bcrow0_col2 {\n",
       "            background-color:  #da4966;\n",
       "            color:  #000000;\n",
       "        }    #T_0b1cb1b6_4e6d_11ea_9e8f_549f3515a0bcrow1_col0 {\n",
       "            background-color:  #d94261;\n",
       "            color:  #f1f1f1;\n",
       "        }    #T_0b1cb1b6_4e6d_11ea_9e8f_549f3515a0bcrow1_col1 {\n",
       "            background-color:  #efafbc;\n",
       "            color:  #000000;\n",
       "        }    #T_0b1cb1b6_4e6d_11ea_9e8f_549f3515a0bcrow1_col2 {\n",
       "            background-color:  #c9d8eb;\n",
       "            color:  #000000;\n",
       "        }    #T_0b1cb1b6_4e6d_11ea_9e8f_549f3515a0bcrow2_col0 {\n",
       "            background-color:  #da4966;\n",
       "            color:  #000000;\n",
       "        }    #T_0b1cb1b6_4e6d_11ea_9e8f_549f3515a0bcrow2_col1 {\n",
       "            background-color:  #c9d8eb;\n",
       "            color:  #000000;\n",
       "        }    #T_0b1cb1b6_4e6d_11ea_9e8f_549f3515a0bcrow2_col2 {\n",
       "            background-color:  #4479bb;\n",
       "            color:  #000000;\n",
       "        }</style><table id=\"T_0b1cb1b6_4e6d_11ea_9e8f_549f3515a0bc\" ><caption>Covariance Relative Differences</caption><thead>    <tr>        <th class=\"blank level0\" ></th>        <th class=\"col_heading level0 col0\" >$\\Omega_m$</th>        <th class=\"col_heading level0 col1\" >$A_s$</th>        <th class=\"col_heading level0 col2\" >$w_a$</th>    </tr></thead><tbody>\n",
       "                <tr>\n",
       "                        <th id=\"T_0b1cb1b6_4e6d_11ea_9e8f_549f3515a0bclevel0_row0\" class=\"row_heading level0 row0\" >$\\Omega_m$</th>\n",
       "                        <td id=\"T_0b1cb1b6_4e6d_11ea_9e8f_549f3515a0bcrow0_col0\" class=\"data row0 col0\" >-0.0993095</td>\n",
       "                        <td id=\"T_0b1cb1b6_4e6d_11ea_9e8f_549f3515a0bcrow0_col1\" class=\"data row0 col1\" >-0.0974085</td>\n",
       "                        <td id=\"T_0b1cb1b6_4e6d_11ea_9e8f_549f3515a0bcrow0_col2\" class=\"data row0 col2\" >-0.0957866</td>\n",
       "            </tr>\n",
       "            <tr>\n",
       "                        <th id=\"T_0b1cb1b6_4e6d_11ea_9e8f_549f3515a0bclevel0_row1\" class=\"row_heading level0 row1\" >$A_s$</th>\n",
       "                        <td id=\"T_0b1cb1b6_4e6d_11ea_9e8f_549f3515a0bcrow1_col0\" class=\"data row1 col0\" >-0.0974085</td>\n",
       "                        <td id=\"T_0b1cb1b6_4e6d_11ea_9e8f_549f3515a0bcrow1_col1\" class=\"data row1 col1\" >-0.0707026</td>\n",
       "                        <td id=\"T_0b1cb1b6_4e6d_11ea_9e8f_549f3515a0bcrow1_col2\" class=\"data row1 col2\" >-0.043633</td>\n",
       "            </tr>\n",
       "            <tr>\n",
       "                        <th id=\"T_0b1cb1b6_4e6d_11ea_9e8f_549f3515a0bclevel0_row2\" class=\"row_heading level0 row2\" >$w_a$</th>\n",
       "                        <td id=\"T_0b1cb1b6_4e6d_11ea_9e8f_549f3515a0bcrow2_col0\" class=\"data row2 col0\" >-0.0957866</td>\n",
       "                        <td id=\"T_0b1cb1b6_4e6d_11ea_9e8f_549f3515a0bcrow2_col1\" class=\"data row2 col1\" >-0.043633</td>\n",
       "                        <td id=\"T_0b1cb1b6_4e6d_11ea_9e8f_549f3515a0bcrow2_col2\" class=\"data row2 col2\" >-0.00986026</td>\n",
       "            </tr>\n",
       "    </tbody></table>"
      ],
      "text/plain": [
       "<pandas.io.formats.style.Styler at 0x2b99ab46fef0>"
      ]
     },
     "execution_count": 101,
     "metadata": {},
     "output_type": "execute_result"
    }
   ],
   "source": [
    "((ccl_cov - cosmosis_cov)/ccl_cov).style.background_gradient(cmap=cmap, axis=None).set_caption(\"Covariance Relative Differences\")"
   ]
  },
  {
   "cell_type": "code",
   "execution_count": 102,
   "metadata": {},
   "outputs": [
    {
     "data": {
      "text/html": [
       "<div>\n",
       "<style scoped>\n",
       "    .dataframe tbody tr th:only-of-type {\n",
       "        vertical-align: middle;\n",
       "    }\n",
       "\n",
       "    .dataframe tbody tr th {\n",
       "        vertical-align: top;\n",
       "    }\n",
       "\n",
       "    .dataframe thead tr th {\n",
       "        text-align: left;\n",
       "    }\n",
       "</style>\n",
       "<table border=\"1\" class=\"dataframe\">\n",
       "  <thead>\n",
       "    <tr>\n",
       "      <th></th>\n",
       "      <th colspan=\"3\" halign=\"left\">ccl fisher</th>\n",
       "      <th colspan=\"3\" halign=\"left\">cosmosis fisher</th>\n",
       "    </tr>\n",
       "    <tr>\n",
       "      <th></th>\n",
       "      <th>$\\Omega_m$</th>\n",
       "      <th>$A_s$</th>\n",
       "      <th>$w_a$</th>\n",
       "      <th>$\\Omega_m$</th>\n",
       "      <th>$A_s$</th>\n",
       "      <th>$w_a$</th>\n",
       "    </tr>\n",
       "  </thead>\n",
       "  <tbody>\n",
       "    <tr>\n",
       "      <th>$\\Omega_m$</th>\n",
       "      <td>1.454635e+07</td>\n",
       "      <td>8.054718e+14</td>\n",
       "      <td>-4.748888e+05</td>\n",
       "      <td>1.454567e+07</td>\n",
       "      <td>8.059539e+14</td>\n",
       "      <td>-4.747970e+05</td>\n",
       "    </tr>\n",
       "    <tr>\n",
       "      <th>$A_s$</th>\n",
       "      <td>8.054718e+14</td>\n",
       "      <td>4.482593e+22</td>\n",
       "      <td>-2.651743e+13</td>\n",
       "      <td>8.059539e+14</td>\n",
       "      <td>4.487318e+22</td>\n",
       "      <td>-2.652833e+13</td>\n",
       "    </tr>\n",
       "    <tr>\n",
       "      <th>$w_a$</th>\n",
       "      <td>-4.748888e+05</td>\n",
       "      <td>-2.651743e+13</td>\n",
       "      <td>1.577424e+04</td>\n",
       "      <td>-4.747970e+05</td>\n",
       "      <td>-2.652833e+13</td>\n",
       "      <td>1.577476e+04</td>\n",
       "    </tr>\n",
       "  </tbody>\n",
       "</table>\n",
       "</div>"
      ],
      "text/plain": [
       "              ccl fisher                             cosmosis fisher  \\\n",
       "              $\\Omega_m$         $A_s$         $w_a$      $\\Omega_m$   \n",
       "$\\Omega_m$  1.454635e+07  8.054718e+14 -4.748888e+05    1.454567e+07   \n",
       "$A_s$       8.054718e+14  4.482593e+22 -2.651743e+13    8.059539e+14   \n",
       "$w_a$      -4.748888e+05 -2.651743e+13  1.577424e+04   -4.747970e+05   \n",
       "\n",
       "                                        \n",
       "                   $A_s$         $w_a$  \n",
       "$\\Omega_m$  8.059539e+14 -4.747970e+05  \n",
       "$A_s$       4.487318e+22 -2.652833e+13  \n",
       "$w_a$      -2.652833e+13  1.577476e+04  "
      ]
     },
     "execution_count": 102,
     "metadata": {},
     "output_type": "execute_result"
    }
   ],
   "source": [
    "pd.concat([ccl_f, cosmosis_f], axis=1, keys=[\"ccl fisher\", \"cosmosis fisher\"])"
   ]
  },
  {
   "cell_type": "code",
   "execution_count": 103,
   "metadata": {},
   "outputs": [
    {
     "data": {
      "text/html": [
       "<div>\n",
       "<style scoped>\n",
       "    .dataframe tbody tr th:only-of-type {\n",
       "        vertical-align: middle;\n",
       "    }\n",
       "\n",
       "    .dataframe tbody tr th {\n",
       "        vertical-align: top;\n",
       "    }\n",
       "\n",
       "    .dataframe thead tr th {\n",
       "        text-align: left;\n",
       "    }\n",
       "</style>\n",
       "<table border=\"1\" class=\"dataframe\">\n",
       "  <thead>\n",
       "    <tr>\n",
       "      <th></th>\n",
       "      <th colspan=\"3\" halign=\"left\">ccl cov</th>\n",
       "      <th colspan=\"3\" halign=\"left\">cosmosis cov</th>\n",
       "    </tr>\n",
       "    <tr>\n",
       "      <th></th>\n",
       "      <th>$\\Omega_m$</th>\n",
       "      <th>$A_s$</th>\n",
       "      <th>$w_a$</th>\n",
       "      <th>$\\Omega_m$</th>\n",
       "      <th>$A_s$</th>\n",
       "      <th>$w_a$</th>\n",
       "    </tr>\n",
       "  </thead>\n",
       "  <tbody>\n",
       "    <tr>\n",
       "      <th>$\\Omega_m$</th>\n",
       "      <td>2.290268e-05</td>\n",
       "      <td>-6.593401e-13</td>\n",
       "      <td>-4.188967e-04</td>\n",
       "      <td>2.517714e-05</td>\n",
       "      <td>-7.235654e-13</td>\n",
       "      <td>-4.590214e-04</td>\n",
       "    </tr>\n",
       "    <tr>\n",
       "      <th>$A_s$</th>\n",
       "      <td>-6.593401e-13</td>\n",
       "      <td>2.300475e-20</td>\n",
       "      <td>1.882269e-11</td>\n",
       "      <td>-7.235654e-13</td>\n",
       "      <td>2.463125e-20</td>\n",
       "      <td>1.964398e-11</td>\n",
       "    </tr>\n",
       "    <tr>\n",
       "      <th>$w_a$</th>\n",
       "      <td>-4.188967e-04</td>\n",
       "      <td>1.882269e-11</td>\n",
       "      <td>1.909442e-02</td>\n",
       "      <td>-4.590214e-04</td>\n",
       "      <td>1.964398e-11</td>\n",
       "      <td>1.928270e-02</td>\n",
       "    </tr>\n",
       "  </tbody>\n",
       "</table>\n",
       "</div>"
      ],
      "text/plain": [
       "                 ccl cov                              cosmosis cov  \\\n",
       "              $\\Omega_m$         $A_s$         $w_a$    $\\Omega_m$   \n",
       "$\\Omega_m$  2.290268e-05 -6.593401e-13 -4.188967e-04  2.517714e-05   \n",
       "$A_s$      -6.593401e-13  2.300475e-20  1.882269e-11 -7.235654e-13   \n",
       "$w_a$      -4.188967e-04  1.882269e-11  1.909442e-02 -4.590214e-04   \n",
       "\n",
       "                                        \n",
       "                   $A_s$         $w_a$  \n",
       "$\\Omega_m$ -7.235654e-13 -4.590214e-04  \n",
       "$A_s$       2.463125e-20  1.964398e-11  \n",
       "$w_a$       1.964398e-11  1.928270e-02  "
      ]
     },
     "execution_count": 103,
     "metadata": {},
     "output_type": "execute_result"
    }
   ],
   "source": [
    "pd.concat([ccl_cov, cosmosis_cov], axis=1, keys=[\"ccl cov\", \"cosmosis cov\"])"
   ]
  },
  {
   "cell_type": "markdown",
   "metadata": {},
   "source": [
    "**Note**: The matrix inversion seems to stabilize wrt to perturbations at around $3\\times3$"
   ]
  },
  {
   "cell_type": "markdown",
   "metadata": {},
   "source": [
    "## Check Eigenvalues using different routines"
   ]
  },
  {
   "cell_type": "markdown",
   "metadata": {},
   "source": [
    "### Unscaled Fisher Matrix"
   ]
  },
  {
   "cell_type": "markdown",
   "metadata": {},
   "source": [
    "First, using `np.eig`"
   ]
  },
  {
   "cell_type": "code",
   "execution_count": 81,
   "metadata": {},
   "outputs": [],
   "source": [
    "ccl_w, ccl_v = np.linalg.eig(ccl_f)\n",
    "cosmosis_w, cosmosis_v = np.linalg.eig(cosmosis_f)"
   ]
  },
  {
   "cell_type": "code",
   "execution_count": 82,
   "metadata": {},
   "outputs": [
    {
     "data": {
      "text/html": [
       "<style  type=\"text/css\" >\n",
       "</style><table id=\"T_0103971e_5aa5_11ea_9c14_549f3515a0bc\" ><caption>Eigenvalues from `np.eig`</caption><thead>    <tr>        <th class=\"blank level0\" ></th>        <th class=\"col_heading level0 col0\" >ccl</th>        <th class=\"col_heading level0 col1\" >cosmosis</th>        <th class=\"col_heading level0 col2\" >relative difference</th>        <th class=\"col_heading level0 col3\" >dot product of resp. eigenvecs</th>    </tr></thead><tbody>\n",
       "                <tr>\n",
       "                        <th id=\"T_0103971e_5aa5_11ea_9c14_549f3515a0bclevel0_row0\" class=\"row_heading level0 row0\" >0</th>\n",
       "                        <td id=\"T_0103971e_5aa5_11ea_9c14_549f3515a0bcrow0_col0\" class=\"data row0 col0\" >8.38861e+06</td>\n",
       "                        <td id=\"T_0103971e_5aa5_11ea_9c14_549f3515a0bcrow0_col1\" class=\"data row0 col1\" >0</td>\n",
       "                        <td id=\"T_0103971e_5aa5_11ea_9c14_549f3515a0bcrow0_col2\" class=\"data row0 col2\" >1</td>\n",
       "                        <td id=\"T_0103971e_5aa5_11ea_9c14_549f3515a0bcrow0_col3\" class=\"data row0 col3\" >1</td>\n",
       "            </tr>\n",
       "            <tr>\n",
       "                        <th id=\"T_0103971e_5aa5_11ea_9c14_549f3515a0bclevel0_row1\" class=\"row_heading level0 row1\" >1</th>\n",
       "                        <td id=\"T_0103971e_5aa5_11ea_9c14_549f3515a0bcrow1_col0\" class=\"data row1 col0\" >4.48259e+22</td>\n",
       "                        <td id=\"T_0103971e_5aa5_11ea_9c14_549f3515a0bcrow1_col1\" class=\"data row1 col1\" >4.48732e+22</td>\n",
       "                        <td id=\"T_0103971e_5aa5_11ea_9c14_549f3515a0bcrow1_col2\" class=\"data row1 col2\" >-0.00105413</td>\n",
       "                        <td id=\"T_0103971e_5aa5_11ea_9c14_549f3515a0bcrow1_col3\" class=\"data row1 col3\" >1</td>\n",
       "            </tr>\n",
       "            <tr>\n",
       "                        <th id=\"T_0103971e_5aa5_11ea_9c14_549f3515a0bclevel0_row2\" class=\"row_heading level0 row2\" >2</th>\n",
       "                        <td id=\"T_0103971e_5aa5_11ea_9c14_549f3515a0bcrow2_col0\" class=\"data row2 col0\" >69161.1</td>\n",
       "                        <td id=\"T_0103971e_5aa5_11ea_9c14_549f3515a0bcrow2_col1\" class=\"data row2 col1\" >78046.4</td>\n",
       "                        <td id=\"T_0103971e_5aa5_11ea_9c14_549f3515a0bcrow2_col2\" class=\"data row2 col2\" >-0.128473</td>\n",
       "                        <td id=\"T_0103971e_5aa5_11ea_9c14_549f3515a0bcrow2_col3\" class=\"data row2 col3\" >0.952467</td>\n",
       "            </tr>\n",
       "            <tr>\n",
       "                        <th id=\"T_0103971e_5aa5_11ea_9c14_549f3515a0bclevel0_row3\" class=\"row_heading level0 row3\" >3</th>\n",
       "                        <td id=\"T_0103971e_5aa5_11ea_9c14_549f3515a0bcrow3_col0\" class=\"data row3 col0\" >16605.9</td>\n",
       "                        <td id=\"T_0103971e_5aa5_11ea_9c14_549f3515a0bcrow3_col1\" class=\"data row3 col1\" >17499.6</td>\n",
       "                        <td id=\"T_0103971e_5aa5_11ea_9c14_549f3515a0bcrow3_col2\" class=\"data row3 col2\" >-0.0538163</td>\n",
       "                        <td id=\"T_0103971e_5aa5_11ea_9c14_549f3515a0bcrow3_col3\" class=\"data row3 col3\" >-0.544675</td>\n",
       "            </tr>\n",
       "            <tr>\n",
       "                        <th id=\"T_0103971e_5aa5_11ea_9c14_549f3515a0bclevel0_row4\" class=\"row_heading level0 row4\" >4</th>\n",
       "                        <td id=\"T_0103971e_5aa5_11ea_9c14_549f3515a0bcrow4_col0\" class=\"data row4 col0\" >1075.92</td>\n",
       "                        <td id=\"T_0103971e_5aa5_11ea_9c14_549f3515a0bcrow4_col1\" class=\"data row4 col1\" >1134.31</td>\n",
       "                        <td id=\"T_0103971e_5aa5_11ea_9c14_549f3515a0bcrow4_col2\" class=\"data row4 col2\" >-0.0542764</td>\n",
       "                        <td id=\"T_0103971e_5aa5_11ea_9c14_549f3515a0bcrow4_col3\" class=\"data row4 col3\" >-0.264929</td>\n",
       "            </tr>\n",
       "            <tr>\n",
       "                        <th id=\"T_0103971e_5aa5_11ea_9c14_549f3515a0bclevel0_row5\" class=\"row_heading level0 row5\" >5</th>\n",
       "                        <td id=\"T_0103971e_5aa5_11ea_9c14_549f3515a0bcrow5_col0\" class=\"data row5 col0\" >195.282</td>\n",
       "                        <td id=\"T_0103971e_5aa5_11ea_9c14_549f3515a0bcrow5_col1\" class=\"data row5 col1\" >189.105</td>\n",
       "                        <td id=\"T_0103971e_5aa5_11ea_9c14_549f3515a0bcrow5_col2\" class=\"data row5 col2\" >0.031634</td>\n",
       "                        <td id=\"T_0103971e_5aa5_11ea_9c14_549f3515a0bcrow5_col3\" class=\"data row5 col3\" >0.246024</td>\n",
       "            </tr>\n",
       "            <tr>\n",
       "                        <th id=\"T_0103971e_5aa5_11ea_9c14_549f3515a0bclevel0_row6\" class=\"row_heading level0 row6\" >6</th>\n",
       "                        <td id=\"T_0103971e_5aa5_11ea_9c14_549f3515a0bcrow6_col0\" class=\"data row6 col0\" >2.38293</td>\n",
       "                        <td id=\"T_0103971e_5aa5_11ea_9c14_549f3515a0bcrow6_col1\" class=\"data row6 col1\" >3.16542</td>\n",
       "                        <td id=\"T_0103971e_5aa5_11ea_9c14_549f3515a0bcrow6_col2\" class=\"data row6 col2\" >-0.328374</td>\n",
       "                        <td id=\"T_0103971e_5aa5_11ea_9c14_549f3515a0bcrow6_col3\" class=\"data row6 col3\" >0.821499</td>\n",
       "            </tr>\n",
       "    </tbody></table>"
      ],
      "text/plain": [
       "<pandas.io.formats.style.Styler at 0x2b8165337668>"
      ]
     },
     "execution_count": 82,
     "metadata": {},
     "output_type": "execute_result"
    }
   ],
   "source": [
    "eigenvalues_df = pd.DataFrame(np.vstack((ccl_w, cosmosis_w)).T, columns=[\"ccl\", \"cosmosis\"])\n",
    "eigenvalues_df[\"relative difference\"] = \\\n",
    "    ((eigenvalues_df.ccl - eigenvalues_df.cosmosis)/(eigenvalues_df.ccl)).fillna(0)\n",
    "eigenvalues_df[\"dot product of resp. eigenvecs\"] = [np.dot(ccl_v[:, i], cosmosis_v[:, i]) for i in range(len(ccl_v))]\n",
    "eigenvalues_df.style.set_caption(\"Eigenvalues from `np.eig`\")"
   ]
  },
  {
   "cell_type": "markdown",
   "metadata": {},
   "source": [
    "Now, using `np.eigh`"
   ]
  },
  {
   "cell_type": "code",
   "execution_count": 83,
   "metadata": {},
   "outputs": [],
   "source": [
    "ccl_w, ccl_v = np.linalg.eigh(ccl_f)\n",
    "cosmosis_w, cosmosis_v = np.linalg.eigh(cosmosis_f)"
   ]
  },
  {
   "cell_type": "code",
   "execution_count": 84,
   "metadata": {},
   "outputs": [
    {
     "data": {
      "text/html": [
       "<style  type=\"text/css\" >\n",
       "</style><table id=\"T_0185089e_5aa5_11ea_9c14_549f3515a0bc\" ><caption>Eigenvalues from `np.eigh`</caption><thead>    <tr>        <th class=\"blank level0\" ></th>        <th class=\"col_heading level0 col0\" >ccl</th>        <th class=\"col_heading level0 col1\" >cosmosis</th>        <th class=\"col_heading level0 col2\" >relative difference</th>        <th class=\"col_heading level0 col3\" >dot product of resp. eigenvecs</th>    </tr></thead><tbody>\n",
       "                <tr>\n",
       "                        <th id=\"T_0185089e_5aa5_11ea_9c14_549f3515a0bclevel0_row0\" class=\"row_heading level0 row0\" >0</th>\n",
       "                        <td id=\"T_0185089e_5aa5_11ea_9c14_549f3515a0bcrow0_col0\" class=\"data row0 col0\" >-415.186</td>\n",
       "                        <td id=\"T_0185089e_5aa5_11ea_9c14_549f3515a0bcrow0_col1\" class=\"data row0 col1\" >-432.962</td>\n",
       "                        <td id=\"T_0185089e_5aa5_11ea_9c14_549f3515a0bcrow0_col2\" class=\"data row0 col2\" >-0.042816</td>\n",
       "                        <td id=\"T_0185089e_5aa5_11ea_9c14_549f3515a0bcrow0_col3\" class=\"data row0 col3\" >0.999786</td>\n",
       "            </tr>\n",
       "            <tr>\n",
       "                        <th id=\"T_0185089e_5aa5_11ea_9c14_549f3515a0bclevel0_row1\" class=\"row_heading level0 row1\" >1</th>\n",
       "                        <td id=\"T_0185089e_5aa5_11ea_9c14_549f3515a0bcrow1_col0\" class=\"data row1 col0\" >24.3322</td>\n",
       "                        <td id=\"T_0185089e_5aa5_11ea_9c14_549f3515a0bcrow1_col1\" class=\"data row1 col1\" >21.609</td>\n",
       "                        <td id=\"T_0185089e_5aa5_11ea_9c14_549f3515a0bcrow1_col2\" class=\"data row1 col2\" >0.111919</td>\n",
       "                        <td id=\"T_0185089e_5aa5_11ea_9c14_549f3515a0bcrow1_col3\" class=\"data row1 col3\" >0.999893</td>\n",
       "            </tr>\n",
       "            <tr>\n",
       "                        <th id=\"T_0185089e_5aa5_11ea_9c14_549f3515a0bclevel0_row2\" class=\"row_heading level0 row2\" >2</th>\n",
       "                        <td id=\"T_0185089e_5aa5_11ea_9c14_549f3515a0bcrow2_col0\" class=\"data row2 col0\" >899.249</td>\n",
       "                        <td id=\"T_0185089e_5aa5_11ea_9c14_549f3515a0bcrow2_col1\" class=\"data row2 col1\" >937.064</td>\n",
       "                        <td id=\"T_0185089e_5aa5_11ea_9c14_549f3515a0bcrow2_col2\" class=\"data row2 col2\" >-0.0420522</td>\n",
       "                        <td id=\"T_0185089e_5aa5_11ea_9c14_549f3515a0bcrow2_col3\" class=\"data row2 col3\" >-0.999692</td>\n",
       "            </tr>\n",
       "            <tr>\n",
       "                        <th id=\"T_0185089e_5aa5_11ea_9c14_549f3515a0bclevel0_row3\" class=\"row_heading level0 row3\" >3</th>\n",
       "                        <td id=\"T_0185089e_5aa5_11ea_9c14_549f3515a0bcrow3_col0\" class=\"data row3 col0\" >16504.9</td>\n",
       "                        <td id=\"T_0185089e_5aa5_11ea_9c14_549f3515a0bcrow3_col1\" class=\"data row3 col1\" >17405.4</td>\n",
       "                        <td id=\"T_0185089e_5aa5_11ea_9c14_549f3515a0bcrow3_col2\" class=\"data row3 col2\" >-0.0545626</td>\n",
       "                        <td id=\"T_0185089e_5aa5_11ea_9c14_549f3515a0bcrow3_col3\" class=\"data row3 col3\" >-0.998085</td>\n",
       "            </tr>\n",
       "            <tr>\n",
       "                        <th id=\"T_0185089e_5aa5_11ea_9c14_549f3515a0bclevel0_row4\" class=\"row_heading level0 row4\" >4</th>\n",
       "                        <td id=\"T_0185089e_5aa5_11ea_9c14_549f3515a0bcrow4_col0\" class=\"data row4 col0\" >69121.1</td>\n",
       "                        <td id=\"T_0185089e_5aa5_11ea_9c14_549f3515a0bcrow4_col1\" class=\"data row4 col1\" >77975</td>\n",
       "                        <td id=\"T_0185089e_5aa5_11ea_9c14_549f3515a0bcrow4_col2\" class=\"data row4 col2\" >-0.128093</td>\n",
       "                        <td id=\"T_0185089e_5aa5_11ea_9c14_549f3515a0bcrow4_col3\" class=\"data row4 col3\" >0.998161</td>\n",
       "            </tr>\n",
       "            <tr>\n",
       "                        <th id=\"T_0185089e_5aa5_11ea_9c14_549f3515a0bclevel0_row5\" class=\"row_heading level0 row5\" >5</th>\n",
       "                        <td id=\"T_0185089e_5aa5_11ea_9c14_549f3515a0bcrow5_col0\" class=\"data row5 col0\" >8.38837e+06</td>\n",
       "                        <td id=\"T_0185089e_5aa5_11ea_9c14_549f3515a0bcrow5_col1\" class=\"data row5 col1\" >8.38843e+06</td>\n",
       "                        <td id=\"T_0185089e_5aa5_11ea_9c14_549f3515a0bcrow5_col2\" class=\"data row5 col2\" >-6.16779e-06</td>\n",
       "                        <td id=\"T_0185089e_5aa5_11ea_9c14_549f3515a0bcrow5_col3\" class=\"data row5 col3\" >1</td>\n",
       "            </tr>\n",
       "            <tr>\n",
       "                        <th id=\"T_0185089e_5aa5_11ea_9c14_549f3515a0bclevel0_row6\" class=\"row_heading level0 row6\" >6</th>\n",
       "                        <td id=\"T_0185089e_5aa5_11ea_9c14_549f3515a0bcrow6_col0\" class=\"data row6 col0\" >4.48259e+22</td>\n",
       "                        <td id=\"T_0185089e_5aa5_11ea_9c14_549f3515a0bcrow6_col1\" class=\"data row6 col1\" >4.48732e+22</td>\n",
       "                        <td id=\"T_0185089e_5aa5_11ea_9c14_549f3515a0bcrow6_col2\" class=\"data row6 col2\" >-0.00105413</td>\n",
       "                        <td id=\"T_0185089e_5aa5_11ea_9c14_549f3515a0bcrow6_col3\" class=\"data row6 col3\" >1</td>\n",
       "            </tr>\n",
       "    </tbody></table>"
      ],
      "text/plain": [
       "<pandas.io.formats.style.Styler at 0x2b815bcd2908>"
      ]
     },
     "execution_count": 84,
     "metadata": {},
     "output_type": "execute_result"
    }
   ],
   "source": [
    "eigenvalues_df = pd.DataFrame(np.vstack((ccl_w, cosmosis_w)).T, columns=[\"ccl\", \"cosmosis\"])\n",
    "eigenvalues_df[\"relative difference\"] = \\\n",
    "    ((eigenvalues_df.ccl - eigenvalues_df.cosmosis)/(eigenvalues_df.ccl)).fillna(0)\n",
    "eigenvalues_df[\"dot product of resp. eigenvecs\"] = [np.dot(ccl_v[:, i], cosmosis_v[:, i]) for i in range(len(ccl_v))]\n",
    "eigenvalues_df.style.set_caption(\"Eigenvalues from `np.eigh`\")"
   ]
  },
  {
   "cell_type": "markdown",
   "metadata": {},
   "source": [
    "**Note**: Using `np.eigh` already clears up the 0 eigenvalue we were seeing earlier"
   ]
  },
  {
   "cell_type": "markdown",
   "metadata": {},
   "source": [
    "#### Scaled Fisher Matrix"
   ]
  },
  {
   "cell_type": "code",
   "execution_count": 6,
   "metadata": {},
   "outputs": [],
   "source": [
    "A_s_scaler = np.identity(len(ccl_f))\n",
    "A_s_scaler[3,3] = 1e-9\n",
    "ccl_f_scaled = np.dot(A_s_scaler,np.dot(ccl_f, A_s_scaler))\n",
    "cosmosis_f_scaled = np.dot(A_s_scaler,np.dot(cosmosis_f, A_s_scaler))"
   ]
  },
  {
   "cell_type": "code",
   "execution_count": 8,
   "metadata": {},
   "outputs": [],
   "source": [
    "# np.savetxt(\"ccl_cosmosis_binned_comparison/om_m_0.25/A_s_2.1e-9/out_ccl/scaled_fisher_out.dat\", ccl_f_scaled)\n",
    "# np.savetxt(\"ccl_cosmosis_binned_comparison/om_m_0.25/A_s_2.1e-9/out_cosmosis/scaled_fisher_out.dat\", cosmosis_f_scaled)"
   ]
  },
  {
   "cell_type": "markdown",
   "metadata": {},
   "source": [
    "First, using `np.eig`"
   ]
  },
  {
   "cell_type": "code",
   "execution_count": 86,
   "metadata": {},
   "outputs": [],
   "source": [
    "ccl_w, ccl_v = np.linalg.eig(ccl_f_scaled)\n",
    "cosmosis_w, cosmosis_v = np.linalg.eig(cosmosis_f_scaled)"
   ]
  },
  {
   "cell_type": "code",
   "execution_count": 87,
   "metadata": {},
   "outputs": [
    {
     "data": {
      "text/html": [
       "<style  type=\"text/css\" >\n",
       "</style><table id=\"T_03ae1e94_5aa5_11ea_9c14_549f3515a0bc\" ><caption>Eigenvalues from `np.eig`</caption><thead>    <tr>        <th class=\"blank level0\" ></th>        <th class=\"col_heading level0 col0\" >ccl</th>        <th class=\"col_heading level0 col1\" >cosmosis</th>        <th class=\"col_heading level0 col2\" >relative difference</th>        <th class=\"col_heading level0 col3\" >dot product of resp. eigenvecs</th>    </tr></thead><tbody>\n",
       "                <tr>\n",
       "                        <th id=\"T_03ae1e94_5aa5_11ea_9c14_549f3515a0bclevel0_row0\" class=\"row_heading level0 row0\" >0</th>\n",
       "                        <td id=\"T_03ae1e94_5aa5_11ea_9c14_549f3515a0bcrow0_col0\" class=\"data row0 col0\" >2.15688e+07</td>\n",
       "                        <td id=\"T_03ae1e94_5aa5_11ea_9c14_549f3515a0bcrow0_col1\" class=\"data row0 col1\" >2.15838e+07</td>\n",
       "                        <td id=\"T_03ae1e94_5aa5_11ea_9c14_549f3515a0bcrow0_col2\" class=\"data row0 col2\" >-0.000697113</td>\n",
       "                        <td id=\"T_03ae1e94_5aa5_11ea_9c14_549f3515a0bcrow0_col3\" class=\"data row0 col3\" >1</td>\n",
       "            </tr>\n",
       "            <tr>\n",
       "                        <th id=\"T_03ae1e94_5aa5_11ea_9c14_549f3515a0bclevel0_row1\" class=\"row_heading level0 row1\" >1</th>\n",
       "                        <td id=\"T_03ae1e94_5aa5_11ea_9c14_549f3515a0bcrow1_col0\" class=\"data row1 col0\" >89169</td>\n",
       "                        <td id=\"T_03ae1e94_5aa5_11ea_9c14_549f3515a0bcrow1_col1\" class=\"data row1 col1\" >99618</td>\n",
       "                        <td id=\"T_03ae1e94_5aa5_11ea_9c14_549f3515a0bcrow1_col2\" class=\"data row1 col2\" >-0.117182</td>\n",
       "                        <td id=\"T_03ae1e94_5aa5_11ea_9c14_549f3515a0bcrow1_col3\" class=\"data row1 col3\" >-0.999664</td>\n",
       "            </tr>\n",
       "            <tr>\n",
       "                        <th id=\"T_03ae1e94_5aa5_11ea_9c14_549f3515a0bclevel0_row2\" class=\"row_heading level0 row2\" >2</th>\n",
       "                        <td id=\"T_03ae1e94_5aa5_11ea_9c14_549f3515a0bcrow2_col0\" class=\"data row2 col0\" >13538.2</td>\n",
       "                        <td id=\"T_03ae1e94_5aa5_11ea_9c14_549f3515a0bcrow2_col1\" class=\"data row2 col1\" >13530.4</td>\n",
       "                        <td id=\"T_03ae1e94_5aa5_11ea_9c14_549f3515a0bcrow2_col2\" class=\"data row2 col2\" >0.000576274</td>\n",
       "                        <td id=\"T_03ae1e94_5aa5_11ea_9c14_549f3515a0bcrow2_col3\" class=\"data row2 col3\" >-0.999595</td>\n",
       "            </tr>\n",
       "            <tr>\n",
       "                        <th id=\"T_03ae1e94_5aa5_11ea_9c14_549f3515a0bclevel0_row3\" class=\"row_heading level0 row3\" >3</th>\n",
       "                        <td id=\"T_03ae1e94_5aa5_11ea_9c14_549f3515a0bcrow3_col0\" class=\"data row3 col0\" >267.608</td>\n",
       "                        <td id=\"T_03ae1e94_5aa5_11ea_9c14_549f3515a0bcrow3_col1\" class=\"data row3 col1\" >481.522</td>\n",
       "                        <td id=\"T_03ae1e94_5aa5_11ea_9c14_549f3515a0bcrow3_col2\" class=\"data row3 col2\" >-0.79936</td>\n",
       "                        <td id=\"T_03ae1e94_5aa5_11ea_9c14_549f3515a0bcrow3_col3\" class=\"data row3 col3\" >-0.859045</td>\n",
       "            </tr>\n",
       "            <tr>\n",
       "                        <th id=\"T_03ae1e94_5aa5_11ea_9c14_549f3515a0bclevel0_row4\" class=\"row_heading level0 row4\" >4</th>\n",
       "                        <td id=\"T_03ae1e94_5aa5_11ea_9c14_549f3515a0bcrow4_col0\" class=\"data row4 col0\" >152.059</td>\n",
       "                        <td id=\"T_03ae1e94_5aa5_11ea_9c14_549f3515a0bcrow4_col1\" class=\"data row4 col1\" >174.497</td>\n",
       "                        <td id=\"T_03ae1e94_5aa5_11ea_9c14_549f3515a0bcrow4_col2\" class=\"data row4 col2\" >-0.147557</td>\n",
       "                        <td id=\"T_03ae1e94_5aa5_11ea_9c14_549f3515a0bcrow4_col3\" class=\"data row4 col3\" >0.867352</td>\n",
       "            </tr>\n",
       "            <tr>\n",
       "                        <th id=\"T_03ae1e94_5aa5_11ea_9c14_549f3515a0bclevel0_row5\" class=\"row_heading level0 row5\" >5</th>\n",
       "                        <td id=\"T_03ae1e94_5aa5_11ea_9c14_549f3515a0bcrow5_col0\" class=\"data row5 col0\" >10.3224</td>\n",
       "                        <td id=\"T_03ae1e94_5aa5_11ea_9c14_549f3515a0bcrow5_col1\" class=\"data row5 col1\" >25.9559</td>\n",
       "                        <td id=\"T_03ae1e94_5aa5_11ea_9c14_549f3515a0bcrow5_col2\" class=\"data row5 col2\" >-1.51452</td>\n",
       "                        <td id=\"T_03ae1e94_5aa5_11ea_9c14_549f3515a0bcrow5_col3\" class=\"data row5 col3\" >0.967004</td>\n",
       "            </tr>\n",
       "            <tr>\n",
       "                        <th id=\"T_03ae1e94_5aa5_11ea_9c14_549f3515a0bclevel0_row6\" class=\"row_heading level0 row6\" >6</th>\n",
       "                        <td id=\"T_03ae1e94_5aa5_11ea_9c14_549f3515a0bcrow6_col0\" class=\"data row6 col0\" >2.00915</td>\n",
       "                        <td id=\"T_03ae1e94_5aa5_11ea_9c14_549f3515a0bcrow6_col1\" class=\"data row6 col1\" >2.67035</td>\n",
       "                        <td id=\"T_03ae1e94_5aa5_11ea_9c14_549f3515a0bcrow6_col2\" class=\"data row6 col2\" >-0.329096</td>\n",
       "                        <td id=\"T_03ae1e94_5aa5_11ea_9c14_549f3515a0bcrow6_col3\" class=\"data row6 col3\" >0.993912</td>\n",
       "            </tr>\n",
       "    </tbody></table>"
      ],
      "text/plain": [
       "<pandas.io.formats.style.Styler at 0x2b81653374a8>"
      ]
     },
     "execution_count": 87,
     "metadata": {},
     "output_type": "execute_result"
    }
   ],
   "source": [
    "scaled_eigen_df = pd.DataFrame(np.vstack((ccl_w, cosmosis_w)).T, columns=[\"ccl\", \"cosmosis\"])\n",
    "scaled_eigen_df[\"relative difference\"] = \\\n",
    "    ((scaled_eigen_df.ccl - scaled_eigen_df.cosmosis)/(scaled_eigen_df.ccl)).fillna(0)\n",
    "scaled_eigen_df[\"dot product of resp. eigenvecs\"] = [np.dot(ccl_v[:, i], cosmosis_v[:, i]) for i in range(len(ccl_v))]\n",
    "scaled_eigen_df.style.set_caption(\"Eigenvalues from `np.eig`\")"
   ]
  },
  {
   "cell_type": "markdown",
   "metadata": {},
   "source": [
    "Now, using `np.eigh`"
   ]
  },
  {
   "cell_type": "code",
   "execution_count": 88,
   "metadata": {},
   "outputs": [],
   "source": [
    "ccl_w, ccl_v = np.linalg.eigh(ccl_f_scaled)\n",
    "cosmosis_w, cosmosis_v = np.linalg.eigh(cosmosis_f_scaled)"
   ]
  },
  {
   "cell_type": "code",
   "execution_count": 89,
   "metadata": {},
   "outputs": [
    {
     "data": {
      "text/html": [
       "<style  type=\"text/css\" >\n",
       "</style><table id=\"T_0472355e_5aa5_11ea_9c14_549f3515a0bc\" ><caption>Eigenvalues from `np.eigh`</caption><thead>    <tr>        <th class=\"blank level0\" ></th>        <th class=\"col_heading level0 col0\" >ccl</th>        <th class=\"col_heading level0 col1\" >cosmosis</th>        <th class=\"col_heading level0 col2\" >relative difference</th>        <th class=\"col_heading level0 col3\" >dot product of resp. eigenvecs</th>    </tr></thead><tbody>\n",
       "                <tr>\n",
       "                        <th id=\"T_0472355e_5aa5_11ea_9c14_549f3515a0bclevel0_row0\" class=\"row_heading level0 row0\" >0</th>\n",
       "                        <td id=\"T_0472355e_5aa5_11ea_9c14_549f3515a0bcrow0_col0\" class=\"data row0 col0\" >2.00915</td>\n",
       "                        <td id=\"T_0472355e_5aa5_11ea_9c14_549f3515a0bcrow0_col1\" class=\"data row0 col1\" >2.67035</td>\n",
       "                        <td id=\"T_0472355e_5aa5_11ea_9c14_549f3515a0bcrow0_col2\" class=\"data row0 col2\" >-0.329096</td>\n",
       "                        <td id=\"T_0472355e_5aa5_11ea_9c14_549f3515a0bcrow0_col3\" class=\"data row0 col3\" >0.993912</td>\n",
       "            </tr>\n",
       "            <tr>\n",
       "                        <th id=\"T_0472355e_5aa5_11ea_9c14_549f3515a0bclevel0_row1\" class=\"row_heading level0 row1\" >1</th>\n",
       "                        <td id=\"T_0472355e_5aa5_11ea_9c14_549f3515a0bcrow1_col0\" class=\"data row1 col0\" >10.3224</td>\n",
       "                        <td id=\"T_0472355e_5aa5_11ea_9c14_549f3515a0bcrow1_col1\" class=\"data row1 col1\" >25.9559</td>\n",
       "                        <td id=\"T_0472355e_5aa5_11ea_9c14_549f3515a0bcrow1_col2\" class=\"data row1 col2\" >-1.51452</td>\n",
       "                        <td id=\"T_0472355e_5aa5_11ea_9c14_549f3515a0bcrow1_col3\" class=\"data row1 col3\" >0.967004</td>\n",
       "            </tr>\n",
       "            <tr>\n",
       "                        <th id=\"T_0472355e_5aa5_11ea_9c14_549f3515a0bclevel0_row2\" class=\"row_heading level0 row2\" >2</th>\n",
       "                        <td id=\"T_0472355e_5aa5_11ea_9c14_549f3515a0bcrow2_col0\" class=\"data row2 col0\" >152.059</td>\n",
       "                        <td id=\"T_0472355e_5aa5_11ea_9c14_549f3515a0bcrow2_col1\" class=\"data row2 col1\" >174.497</td>\n",
       "                        <td id=\"T_0472355e_5aa5_11ea_9c14_549f3515a0bcrow2_col2\" class=\"data row2 col2\" >-0.147557</td>\n",
       "                        <td id=\"T_0472355e_5aa5_11ea_9c14_549f3515a0bcrow2_col3\" class=\"data row2 col3\" >0.867352</td>\n",
       "            </tr>\n",
       "            <tr>\n",
       "                        <th id=\"T_0472355e_5aa5_11ea_9c14_549f3515a0bclevel0_row3\" class=\"row_heading level0 row3\" >3</th>\n",
       "                        <td id=\"T_0472355e_5aa5_11ea_9c14_549f3515a0bcrow3_col0\" class=\"data row3 col0\" >267.608</td>\n",
       "                        <td id=\"T_0472355e_5aa5_11ea_9c14_549f3515a0bcrow3_col1\" class=\"data row3 col1\" >481.522</td>\n",
       "                        <td id=\"T_0472355e_5aa5_11ea_9c14_549f3515a0bcrow3_col2\" class=\"data row3 col2\" >-0.79936</td>\n",
       "                        <td id=\"T_0472355e_5aa5_11ea_9c14_549f3515a0bcrow3_col3\" class=\"data row3 col3\" >0.859045</td>\n",
       "            </tr>\n",
       "            <tr>\n",
       "                        <th id=\"T_0472355e_5aa5_11ea_9c14_549f3515a0bclevel0_row4\" class=\"row_heading level0 row4\" >4</th>\n",
       "                        <td id=\"T_0472355e_5aa5_11ea_9c14_549f3515a0bcrow4_col0\" class=\"data row4 col0\" >13538.2</td>\n",
       "                        <td id=\"T_0472355e_5aa5_11ea_9c14_549f3515a0bcrow4_col1\" class=\"data row4 col1\" >13530.4</td>\n",
       "                        <td id=\"T_0472355e_5aa5_11ea_9c14_549f3515a0bcrow4_col2\" class=\"data row4 col2\" >0.000576274</td>\n",
       "                        <td id=\"T_0472355e_5aa5_11ea_9c14_549f3515a0bcrow4_col3\" class=\"data row4 col3\" >0.999595</td>\n",
       "            </tr>\n",
       "            <tr>\n",
       "                        <th id=\"T_0472355e_5aa5_11ea_9c14_549f3515a0bclevel0_row5\" class=\"row_heading level0 row5\" >5</th>\n",
       "                        <td id=\"T_0472355e_5aa5_11ea_9c14_549f3515a0bcrow5_col0\" class=\"data row5 col0\" >89169</td>\n",
       "                        <td id=\"T_0472355e_5aa5_11ea_9c14_549f3515a0bcrow5_col1\" class=\"data row5 col1\" >99618</td>\n",
       "                        <td id=\"T_0472355e_5aa5_11ea_9c14_549f3515a0bcrow5_col2\" class=\"data row5 col2\" >-0.117182</td>\n",
       "                        <td id=\"T_0472355e_5aa5_11ea_9c14_549f3515a0bcrow5_col3\" class=\"data row5 col3\" >0.999664</td>\n",
       "            </tr>\n",
       "            <tr>\n",
       "                        <th id=\"T_0472355e_5aa5_11ea_9c14_549f3515a0bclevel0_row6\" class=\"row_heading level0 row6\" >6</th>\n",
       "                        <td id=\"T_0472355e_5aa5_11ea_9c14_549f3515a0bcrow6_col0\" class=\"data row6 col0\" >2.15688e+07</td>\n",
       "                        <td id=\"T_0472355e_5aa5_11ea_9c14_549f3515a0bcrow6_col1\" class=\"data row6 col1\" >2.15838e+07</td>\n",
       "                        <td id=\"T_0472355e_5aa5_11ea_9c14_549f3515a0bcrow6_col2\" class=\"data row6 col2\" >-0.000697113</td>\n",
       "                        <td id=\"T_0472355e_5aa5_11ea_9c14_549f3515a0bcrow6_col3\" class=\"data row6 col3\" >1</td>\n",
       "            </tr>\n",
       "    </tbody></table>"
      ],
      "text/plain": [
       "<pandas.io.formats.style.Styler at 0x2b816560c048>"
      ]
     },
     "execution_count": 89,
     "metadata": {},
     "output_type": "execute_result"
    }
   ],
   "source": [
    "scaled_eigen_df = pd.DataFrame(np.vstack((ccl_w, cosmosis_w)).T, columns=[\"ccl\", \"cosmosis\"])\n",
    "scaled_eigen_df[\"relative difference\"] = \\\n",
    "    ((scaled_eigen_df.ccl - scaled_eigen_df.cosmosis)/(scaled_eigen_df.ccl)).fillna(0)\n",
    "scaled_eigen_df[\"dot product of resp. eigenvecs\"] = [np.dot(ccl_v[:, i], cosmosis_v[:, i]) for i in range(len(ccl_v))]\n",
    "scaled_eigen_df.style.set_caption(\"Eigenvalues from `np.eigh`\")"
   ]
  },
  {
   "cell_type": "markdown",
   "metadata": {},
   "source": [
    "**Note**: So scaling seems to make a difference and `np.eigh` also seemse to make a difference. Perhaps the the $10^{22}$ eigenvalue is an artifact of the scaling that the regular `np.eig` can't handle"
   ]
  },
  {
   "cell_type": "markdown",
   "metadata": {},
   "source": [
    "## Playing with Inversion Routines"
   ]
  },
  {
   "cell_type": "code",
   "execution_count": 5,
   "metadata": {},
   "outputs": [],
   "source": [
    "import scipy as sp"
   ]
  },
  {
   "cell_type": "code",
   "execution_count": 91,
   "metadata": {},
   "outputs": [
    {
     "name": "stdout",
     "output_type": "stream",
     "text": [
      "The condition number of CCL's fisher matrix is: 2.02736889550933e+22\n",
      "The condition number of Cosmosis' fisher matrix is: 1.4183503423023853e+22\n",
      "The condition number of CCL's scaled fisher matrix is: 10735274.11352627\n",
      "The condition number of Cosmosis' scaled fisher matrix is: 8082755.063738394\n"
     ]
    }
   ],
   "source": [
    "cond1 = np.linalg.cond(ccl_f)\n",
    "cond2 = np.linalg.cond(cosmosis_f)\n",
    "cond1_scaled = np.linalg.cond(ccl_f_scaled)\n",
    "cond2_scaled = np.linalg.cond(cosmosis_f_scaled)\n",
    "\n",
    "print(\"The condition number of CCL's fisher matrix is:\", np.linalg.cond(ccl_f))\n",
    "print(\"The condition number of Cosmosis' fisher matrix is:\", np.linalg.cond(cosmosis_f))\n",
    "print(\"The condition number of CCL's scaled fisher matrix is:\", np.linalg.cond(ccl_f_scaled))\n",
    "print(\"The condition number of Cosmosis' scaled fisher matrix is:\", np.linalg.cond(cosmosis_f_scaled))"
   ]
  },
  {
   "cell_type": "markdown",
   "metadata": {},
   "source": [
    "The condition numbers are much larger than 1 in all cases, so the inverse is sensitive to changes in the input data and roundoff errors in the solution process.\n",
    "So inverting these matrices will be tricky"
   ]
  },
  {
   "cell_type": "markdown",
   "metadata": {},
   "source": [
    "### Method 0  Regular `np.linalg.inv`\n",
    "This does LU decomposition "
   ]
  },
  {
   "cell_type": "code",
   "execution_count": 12,
   "metadata": {},
   "outputs": [],
   "source": [
    "ccl_cov_0 = pd.DataFrame(np.linalg.inv(ccl_f), index=paras, columns=paras)\n",
    "cosmosis_cov_0 = pd.DataFrame(np.linalg.inv(cosmosis_f), index=paras, columns=paras)\n",
    "ccl_scaled_cov_0 = pd.DataFrame(np.linalg.inv(ccl_f_scaled), index=paras, columns=paras)\n",
    "cosmosis_scaled_cov_0 = pd.DataFrame(np.linalg.inv(cosmosis_f_scaled), index=paras, columns=paras)"
   ]
  },
  {
   "cell_type": "code",
   "execution_count": 13,
   "metadata": {},
   "outputs": [],
   "source": [
    "((ccl_scaled_cov_0 - cosmosis_scaled_cov_0)/ccl_scaled_cov_0).to_csv(\"SRD/ccl_cosmosis_cov_scaled_rel_diffs.csv\")"
   ]
  },
  {
   "cell_type": "code",
   "execution_count": 93,
   "metadata": {},
   "outputs": [
    {
     "data": {
      "text/html": [
       "<style  type=\"text/css\" >\n",
       "    #T_06aa0a4a_5aa5_11ea_9c14_549f3515a0bcrow0_col0 {\n",
       "            background-color:  #fae6ea;\n",
       "            color:  #000000;\n",
       "        }    #T_06aa0a4a_5aa5_11ea_9c14_549f3515a0bcrow0_col1 {\n",
       "            background-color:  #fbeaed;\n",
       "            color:  #000000;\n",
       "        }    #T_06aa0a4a_5aa5_11ea_9c14_549f3515a0bcrow0_col2 {\n",
       "            background-color:  #fae6ea;\n",
       "            color:  #000000;\n",
       "        }    #T_06aa0a4a_5aa5_11ea_9c14_549f3515a0bcrow0_col3 {\n",
       "            background-color:  #fae4e9;\n",
       "            color:  #000000;\n",
       "        }    #T_06aa0a4a_5aa5_11ea_9c14_549f3515a0bcrow0_col4 {\n",
       "            background-color:  #fae6ea;\n",
       "            color:  #000000;\n",
       "        }    #T_06aa0a4a_5aa5_11ea_9c14_549f3515a0bcrow0_col5 {\n",
       "            background-color:  #f9e3e7;\n",
       "            color:  #000000;\n",
       "        }    #T_06aa0a4a_5aa5_11ea_9c14_549f3515a0bcrow0_col6 {\n",
       "            background-color:  #fae8ec;\n",
       "            color:  #000000;\n",
       "        }    #T_06aa0a4a_5aa5_11ea_9c14_549f3515a0bcrow1_col0 {\n",
       "            background-color:  #fbeaed;\n",
       "            color:  #000000;\n",
       "        }    #T_06aa0a4a_5aa5_11ea_9c14_549f3515a0bcrow1_col1 {\n",
       "            background-color:  #f9e0e5;\n",
       "            color:  #000000;\n",
       "        }    #T_06aa0a4a_5aa5_11ea_9c14_549f3515a0bcrow1_col2 {\n",
       "            background-color:  #d73c5b;\n",
       "            color:  #f1f1f1;\n",
       "        }    #T_06aa0a4a_5aa5_11ea_9c14_549f3515a0bcrow1_col3 {\n",
       "            background-color:  #f7dae0;\n",
       "            color:  #000000;\n",
       "        }    #T_06aa0a4a_5aa5_11ea_9c14_549f3515a0bcrow1_col4 {\n",
       "            background-color:  #f6d1d8;\n",
       "            color:  #000000;\n",
       "        }    #T_06aa0a4a_5aa5_11ea_9c14_549f3515a0bcrow1_col5 {\n",
       "            background-color:  #4479bb;\n",
       "            color:  #000000;\n",
       "        }    #T_06aa0a4a_5aa5_11ea_9c14_549f3515a0bcrow1_col6 {\n",
       "            background-color:  #f9e0e5;\n",
       "            color:  #000000;\n",
       "        }    #T_06aa0a4a_5aa5_11ea_9c14_549f3515a0bcrow2_col0 {\n",
       "            background-color:  #fae6ea;\n",
       "            color:  #000000;\n",
       "        }    #T_06aa0a4a_5aa5_11ea_9c14_549f3515a0bcrow2_col1 {\n",
       "            background-color:  #d73c5b;\n",
       "            color:  #f1f1f1;\n",
       "        }    #T_06aa0a4a_5aa5_11ea_9c14_549f3515a0bcrow2_col2 {\n",
       "            background-color:  #fae4e9;\n",
       "            color:  #000000;\n",
       "        }    #T_06aa0a4a_5aa5_11ea_9c14_549f3515a0bcrow2_col3 {\n",
       "            background-color:  #f9e2e6;\n",
       "            color:  #000000;\n",
       "        }    #T_06aa0a4a_5aa5_11ea_9c14_549f3515a0bcrow2_col4 {\n",
       "            background-color:  #fae4e9;\n",
       "            color:  #000000;\n",
       "        }    #T_06aa0a4a_5aa5_11ea_9c14_549f3515a0bcrow2_col5 {\n",
       "            background-color:  #f9e0e5;\n",
       "            color:  #000000;\n",
       "        }    #T_06aa0a4a_5aa5_11ea_9c14_549f3515a0bcrow2_col6 {\n",
       "            background-color:  #5a88c3;\n",
       "            color:  #000000;\n",
       "        }    #T_06aa0a4a_5aa5_11ea_9c14_549f3515a0bcrow3_col0 {\n",
       "            background-color:  #fae4e9;\n",
       "            color:  #000000;\n",
       "        }    #T_06aa0a4a_5aa5_11ea_9c14_549f3515a0bcrow3_col1 {\n",
       "            background-color:  #f7dae0;\n",
       "            color:  #000000;\n",
       "        }    #T_06aa0a4a_5aa5_11ea_9c14_549f3515a0bcrow3_col2 {\n",
       "            background-color:  #f9e2e6;\n",
       "            color:  #000000;\n",
       "        }    #T_06aa0a4a_5aa5_11ea_9c14_549f3515a0bcrow3_col3 {\n",
       "            background-color:  #f8dee3;\n",
       "            color:  #000000;\n",
       "        }    #T_06aa0a4a_5aa5_11ea_9c14_549f3515a0bcrow3_col4 {\n",
       "            background-color:  #f9e2e6;\n",
       "            color:  #000000;\n",
       "        }    #T_06aa0a4a_5aa5_11ea_9c14_549f3515a0bcrow3_col5 {\n",
       "            background-color:  #f8dfe4;\n",
       "            color:  #000000;\n",
       "        }    #T_06aa0a4a_5aa5_11ea_9c14_549f3515a0bcrow3_col6 {\n",
       "            background-color:  #f7dae0;\n",
       "            color:  #000000;\n",
       "        }    #T_06aa0a4a_5aa5_11ea_9c14_549f3515a0bcrow4_col0 {\n",
       "            background-color:  #fae6ea;\n",
       "            color:  #000000;\n",
       "        }    #T_06aa0a4a_5aa5_11ea_9c14_549f3515a0bcrow4_col1 {\n",
       "            background-color:  #f6d1d8;\n",
       "            color:  #000000;\n",
       "        }    #T_06aa0a4a_5aa5_11ea_9c14_549f3515a0bcrow4_col2 {\n",
       "            background-color:  #fae4e9;\n",
       "            color:  #000000;\n",
       "        }    #T_06aa0a4a_5aa5_11ea_9c14_549f3515a0bcrow4_col3 {\n",
       "            background-color:  #f9e2e6;\n",
       "            color:  #000000;\n",
       "        }    #T_06aa0a4a_5aa5_11ea_9c14_549f3515a0bcrow4_col4 {\n",
       "            background-color:  #fae4e9;\n",
       "            color:  #000000;\n",
       "        }    #T_06aa0a4a_5aa5_11ea_9c14_549f3515a0bcrow4_col5 {\n",
       "            background-color:  #f9e3e7;\n",
       "            color:  #000000;\n",
       "        }    #T_06aa0a4a_5aa5_11ea_9c14_549f3515a0bcrow4_col6 {\n",
       "            background-color:  #f6d3da;\n",
       "            color:  #000000;\n",
       "        }    #T_06aa0a4a_5aa5_11ea_9c14_549f3515a0bcrow5_col0 {\n",
       "            background-color:  #f9e3e7;\n",
       "            color:  #000000;\n",
       "        }    #T_06aa0a4a_5aa5_11ea_9c14_549f3515a0bcrow5_col1 {\n",
       "            background-color:  #4479bb;\n",
       "            color:  #000000;\n",
       "        }    #T_06aa0a4a_5aa5_11ea_9c14_549f3515a0bcrow5_col2 {\n",
       "            background-color:  #f9e0e5;\n",
       "            color:  #000000;\n",
       "        }    #T_06aa0a4a_5aa5_11ea_9c14_549f3515a0bcrow5_col3 {\n",
       "            background-color:  #f8dfe4;\n",
       "            color:  #000000;\n",
       "        }    #T_06aa0a4a_5aa5_11ea_9c14_549f3515a0bcrow5_col4 {\n",
       "            background-color:  #f9e3e7;\n",
       "            color:  #000000;\n",
       "        }    #T_06aa0a4a_5aa5_11ea_9c14_549f3515a0bcrow5_col5 {\n",
       "            background-color:  #f7dae0;\n",
       "            color:  #000000;\n",
       "        }    #T_06aa0a4a_5aa5_11ea_9c14_549f3515a0bcrow5_col6 {\n",
       "            background-color:  #f9e0e5;\n",
       "            color:  #000000;\n",
       "        }    #T_06aa0a4a_5aa5_11ea_9c14_549f3515a0bcrow6_col0 {\n",
       "            background-color:  #fae8ec;\n",
       "            color:  #000000;\n",
       "        }    #T_06aa0a4a_5aa5_11ea_9c14_549f3515a0bcrow6_col1 {\n",
       "            background-color:  #f9e0e5;\n",
       "            color:  #000000;\n",
       "        }    #T_06aa0a4a_5aa5_11ea_9c14_549f3515a0bcrow6_col2 {\n",
       "            background-color:  #5a88c3;\n",
       "            color:  #000000;\n",
       "        }    #T_06aa0a4a_5aa5_11ea_9c14_549f3515a0bcrow6_col3 {\n",
       "            background-color:  #f7dae0;\n",
       "            color:  #000000;\n",
       "        }    #T_06aa0a4a_5aa5_11ea_9c14_549f3515a0bcrow6_col4 {\n",
       "            background-color:  #f6d3da;\n",
       "            color:  #000000;\n",
       "        }    #T_06aa0a4a_5aa5_11ea_9c14_549f3515a0bcrow6_col5 {\n",
       "            background-color:  #f9e0e5;\n",
       "            color:  #000000;\n",
       "        }    #T_06aa0a4a_5aa5_11ea_9c14_549f3515a0bcrow6_col6 {\n",
       "            background-color:  #f8dfe4;\n",
       "            color:  #000000;\n",
       "        }</style><table id=\"T_06aa0a4a_5aa5_11ea_9c14_549f3515a0bc\" ><caption>Unscaled Covariance Relative Differences</caption><thead>    <tr>        <th class=\"blank level0\" ></th>        <th class=\"col_heading level0 col0\" >$\\Omega_m$</th>        <th class=\"col_heading level0 col1\" >$w_0$</th>        <th class=\"col_heading level0 col2\" >$h_0$</th>        <th class=\"col_heading level0 col3\" >$A_s$</th>        <th class=\"col_heading level0 col4\" >$\\Omega_b$</th>        <th class=\"col_heading level0 col5\" >$n_s$</th>        <th class=\"col_heading level0 col6\" >$w_a$</th>    </tr></thead><tbody>\n",
       "                <tr>\n",
       "                        <th id=\"T_06aa0a4a_5aa5_11ea_9c14_549f3515a0bclevel0_row0\" class=\"row_heading level0 row0\" >$\\Omega_m$</th>\n",
       "                        <td id=\"T_06aa0a4a_5aa5_11ea_9c14_549f3515a0bcrow0_col0\" class=\"data row0 col0\" >0.790638</td>\n",
       "                        <td id=\"T_06aa0a4a_5aa5_11ea_9c14_549f3515a0bcrow0_col1\" class=\"data row0 col1\" >1.14491</td>\n",
       "                        <td id=\"T_06aa0a4a_5aa5_11ea_9c14_549f3515a0bcrow0_col2\" class=\"data row0 col2\" >0.770951</td>\n",
       "                        <td id=\"T_06aa0a4a_5aa5_11ea_9c14_549f3515a0bcrow0_col3\" class=\"data row0 col3\" >0.736194</td>\n",
       "                        <td id=\"T_06aa0a4a_5aa5_11ea_9c14_549f3515a0bcrow0_col4\" class=\"data row0 col4\" >0.781859</td>\n",
       "                        <td id=\"T_06aa0a4a_5aa5_11ea_9c14_549f3515a0bcrow0_col5\" class=\"data row0 col5\" >0.62023</td>\n",
       "                        <td id=\"T_06aa0a4a_5aa5_11ea_9c14_549f3515a0bcrow0_col6\" class=\"data row0 col6\" >1.00454</td>\n",
       "            </tr>\n",
       "            <tr>\n",
       "                        <th id=\"T_06aa0a4a_5aa5_11ea_9c14_549f3515a0bclevel0_row1\" class=\"row_heading level0 row1\" >$w_0$</th>\n",
       "                        <td id=\"T_06aa0a4a_5aa5_11ea_9c14_549f3515a0bcrow1_col0\" class=\"data row1 col0\" >1.14491</td>\n",
       "                        <td id=\"T_06aa0a4a_5aa5_11ea_9c14_549f3515a0bcrow1_col1\" class=\"data row1 col1\" >0.353569</td>\n",
       "                        <td id=\"T_06aa0a4a_5aa5_11ea_9c14_549f3515a0bcrow1_col2\" class=\"data row1 col2\" >-11.453</td>\n",
       "                        <td id=\"T_06aa0a4a_5aa5_11ea_9c14_549f3515a0bcrow1_col3\" class=\"data row1 col3\" >0.0288472</td>\n",
       "                        <td id=\"T_06aa0a4a_5aa5_11ea_9c14_549f3515a0bcrow1_col4\" class=\"data row1 col4\" >-0.735273</td>\n",
       "                        <td id=\"T_06aa0a4a_5aa5_11ea_9c14_549f3515a0bcrow1_col5\" class=\"data row1 col5\" >14.8044</td>\n",
       "                        <td id=\"T_06aa0a4a_5aa5_11ea_9c14_549f3515a0bcrow1_col6\" class=\"data row1 col6\" >0.360006</td>\n",
       "            </tr>\n",
       "            <tr>\n",
       "                        <th id=\"T_06aa0a4a_5aa5_11ea_9c14_549f3515a0bclevel0_row2\" class=\"row_heading level0 row2\" >$h_0$</th>\n",
       "                        <td id=\"T_06aa0a4a_5aa5_11ea_9c14_549f3515a0bcrow2_col0\" class=\"data row2 col0\" >0.770951</td>\n",
       "                        <td id=\"T_06aa0a4a_5aa5_11ea_9c14_549f3515a0bcrow2_col1\" class=\"data row2 col1\" >-11.453</td>\n",
       "                        <td id=\"T_06aa0a4a_5aa5_11ea_9c14_549f3515a0bcrow2_col2\" class=\"data row2 col2\" >0.672897</td>\n",
       "                        <td id=\"T_06aa0a4a_5aa5_11ea_9c14_549f3515a0bcrow2_col3\" class=\"data row2 col3\" >0.470695</td>\n",
       "                        <td id=\"T_06aa0a4a_5aa5_11ea_9c14_549f3515a0bcrow2_col4\" class=\"data row2 col4\" >0.682413</td>\n",
       "                        <td id=\"T_06aa0a4a_5aa5_11ea_9c14_549f3515a0bcrow2_col5\" class=\"data row2 col5\" >0.420222</td>\n",
       "                        <td id=\"T_06aa0a4a_5aa5_11ea_9c14_549f3515a0bcrow2_col6\" class=\"data row2 col6\" >13.1408</td>\n",
       "            </tr>\n",
       "            <tr>\n",
       "                        <th id=\"T_06aa0a4a_5aa5_11ea_9c14_549f3515a0bclevel0_row3\" class=\"row_heading level0 row3\" >$A_s$</th>\n",
       "                        <td id=\"T_06aa0a4a_5aa5_11ea_9c14_549f3515a0bcrow3_col0\" class=\"data row3 col0\" >0.736194</td>\n",
       "                        <td id=\"T_06aa0a4a_5aa5_11ea_9c14_549f3515a0bcrow3_col1\" class=\"data row3 col1\" >0.0288472</td>\n",
       "                        <td id=\"T_06aa0a4a_5aa5_11ea_9c14_549f3515a0bcrow3_col2\" class=\"data row3 col2\" >0.470695</td>\n",
       "                        <td id=\"T_06aa0a4a_5aa5_11ea_9c14_549f3515a0bcrow3_col3\" class=\"data row3 col3\" >0.199609</td>\n",
       "                        <td id=\"T_06aa0a4a_5aa5_11ea_9c14_549f3515a0bcrow3_col4\" class=\"data row3 col4\" >0.466223</td>\n",
       "                        <td id=\"T_06aa0a4a_5aa5_11ea_9c14_549f3515a0bcrow3_col5\" class=\"data row3 col5\" >0.316516</td>\n",
       "                        <td id=\"T_06aa0a4a_5aa5_11ea_9c14_549f3515a0bcrow3_col6\" class=\"data row3 col6\" >0.0334453</td>\n",
       "            </tr>\n",
       "            <tr>\n",
       "                        <th id=\"T_06aa0a4a_5aa5_11ea_9c14_549f3515a0bclevel0_row4\" class=\"row_heading level0 row4\" >$\\Omega_b$</th>\n",
       "                        <td id=\"T_06aa0a4a_5aa5_11ea_9c14_549f3515a0bcrow4_col0\" class=\"data row4 col0\" >0.781859</td>\n",
       "                        <td id=\"T_06aa0a4a_5aa5_11ea_9c14_549f3515a0bcrow4_col1\" class=\"data row4 col1\" >-0.735273</td>\n",
       "                        <td id=\"T_06aa0a4a_5aa5_11ea_9c14_549f3515a0bcrow4_col2\" class=\"data row4 col2\" >0.682413</td>\n",
       "                        <td id=\"T_06aa0a4a_5aa5_11ea_9c14_549f3515a0bcrow4_col3\" class=\"data row4 col3\" >0.466223</td>\n",
       "                        <td id=\"T_06aa0a4a_5aa5_11ea_9c14_549f3515a0bcrow4_col4\" class=\"data row4 col4\" >0.650899</td>\n",
       "                        <td id=\"T_06aa0a4a_5aa5_11ea_9c14_549f3515a0bcrow4_col5\" class=\"data row4 col5\" >0.594547</td>\n",
       "                        <td id=\"T_06aa0a4a_5aa5_11ea_9c14_549f3515a0bcrow4_col6\" class=\"data row4 col6\" >-0.555167</td>\n",
       "            </tr>\n",
       "            <tr>\n",
       "                        <th id=\"T_06aa0a4a_5aa5_11ea_9c14_549f3515a0bclevel0_row5\" class=\"row_heading level0 row5\" >$n_s$</th>\n",
       "                        <td id=\"T_06aa0a4a_5aa5_11ea_9c14_549f3515a0bcrow5_col0\" class=\"data row5 col0\" >0.62023</td>\n",
       "                        <td id=\"T_06aa0a4a_5aa5_11ea_9c14_549f3515a0bcrow5_col1\" class=\"data row5 col1\" >14.8044</td>\n",
       "                        <td id=\"T_06aa0a4a_5aa5_11ea_9c14_549f3515a0bcrow5_col2\" class=\"data row5 col2\" >0.420222</td>\n",
       "                        <td id=\"T_06aa0a4a_5aa5_11ea_9c14_549f3515a0bcrow5_col3\" class=\"data row5 col3\" >0.316516</td>\n",
       "                        <td id=\"T_06aa0a4a_5aa5_11ea_9c14_549f3515a0bcrow5_col4\" class=\"data row5 col4\" >0.594547</td>\n",
       "                        <td id=\"T_06aa0a4a_5aa5_11ea_9c14_549f3515a0bcrow5_col5\" class=\"data row5 col5\" >0.000314937</td>\n",
       "                        <td id=\"T_06aa0a4a_5aa5_11ea_9c14_549f3515a0bcrow5_col6\" class=\"data row5 col6\" >0.34509</td>\n",
       "            </tr>\n",
       "            <tr>\n",
       "                        <th id=\"T_06aa0a4a_5aa5_11ea_9c14_549f3515a0bclevel0_row6\" class=\"row_heading level0 row6\" >$w_a$</th>\n",
       "                        <td id=\"T_06aa0a4a_5aa5_11ea_9c14_549f3515a0bcrow6_col0\" class=\"data row6 col0\" >1.00454</td>\n",
       "                        <td id=\"T_06aa0a4a_5aa5_11ea_9c14_549f3515a0bcrow6_col1\" class=\"data row6 col1\" >0.360006</td>\n",
       "                        <td id=\"T_06aa0a4a_5aa5_11ea_9c14_549f3515a0bcrow6_col2\" class=\"data row6 col2\" >13.1408</td>\n",
       "                        <td id=\"T_06aa0a4a_5aa5_11ea_9c14_549f3515a0bcrow6_col3\" class=\"data row6 col3\" >0.0334453</td>\n",
       "                        <td id=\"T_06aa0a4a_5aa5_11ea_9c14_549f3515a0bcrow6_col4\" class=\"data row6 col4\" >-0.555167</td>\n",
       "                        <td id=\"T_06aa0a4a_5aa5_11ea_9c14_549f3515a0bcrow6_col5\" class=\"data row6 col5\" >0.34509</td>\n",
       "                        <td id=\"T_06aa0a4a_5aa5_11ea_9c14_549f3515a0bcrow6_col6\" class=\"data row6 col6\" >0.298771</td>\n",
       "            </tr>\n",
       "    </tbody></table>"
      ],
      "text/plain": [
       "<pandas.io.formats.style.Styler at 0x2b8165337dd8>"
      ]
     },
     "execution_count": 93,
     "metadata": {},
     "output_type": "execute_result"
    }
   ],
   "source": [
    "((ccl_cov_0-cosmosis_cov_0)/ccl_cov_0)\\\n",
    ".style.background_gradient(cmap=cmap, axis=None).set_caption(\"Unscaled Covariance Relative Differences\")"
   ]
  },
  {
   "cell_type": "code",
   "execution_count": 94,
   "metadata": {},
   "outputs": [
    {
     "data": {
      "text/html": [
       "<style  type=\"text/css\" >\n",
       "    #T_071e7f2e_5aa5_11ea_9c14_549f3515a0bcrow0_col0 {\n",
       "            background-color:  #fae6ea;\n",
       "            color:  #000000;\n",
       "        }    #T_071e7f2e_5aa5_11ea_9c14_549f3515a0bcrow0_col1 {\n",
       "            background-color:  #fbeaed;\n",
       "            color:  #000000;\n",
       "        }    #T_071e7f2e_5aa5_11ea_9c14_549f3515a0bcrow0_col2 {\n",
       "            background-color:  #fae6ea;\n",
       "            color:  #000000;\n",
       "        }    #T_071e7f2e_5aa5_11ea_9c14_549f3515a0bcrow0_col3 {\n",
       "            background-color:  #fae4e9;\n",
       "            color:  #000000;\n",
       "        }    #T_071e7f2e_5aa5_11ea_9c14_549f3515a0bcrow0_col4 {\n",
       "            background-color:  #fae6ea;\n",
       "            color:  #000000;\n",
       "        }    #T_071e7f2e_5aa5_11ea_9c14_549f3515a0bcrow0_col5 {\n",
       "            background-color:  #f9e3e7;\n",
       "            color:  #000000;\n",
       "        }    #T_071e7f2e_5aa5_11ea_9c14_549f3515a0bcrow0_col6 {\n",
       "            background-color:  #fae8ec;\n",
       "            color:  #000000;\n",
       "        }    #T_071e7f2e_5aa5_11ea_9c14_549f3515a0bcrow1_col0 {\n",
       "            background-color:  #fbeaed;\n",
       "            color:  #000000;\n",
       "        }    #T_071e7f2e_5aa5_11ea_9c14_549f3515a0bcrow1_col1 {\n",
       "            background-color:  #f9e0e5;\n",
       "            color:  #000000;\n",
       "        }    #T_071e7f2e_5aa5_11ea_9c14_549f3515a0bcrow1_col2 {\n",
       "            background-color:  #d73c5b;\n",
       "            color:  #f1f1f1;\n",
       "        }    #T_071e7f2e_5aa5_11ea_9c14_549f3515a0bcrow1_col3 {\n",
       "            background-color:  #f7dae0;\n",
       "            color:  #000000;\n",
       "        }    #T_071e7f2e_5aa5_11ea_9c14_549f3515a0bcrow1_col4 {\n",
       "            background-color:  #f6d1d8;\n",
       "            color:  #000000;\n",
       "        }    #T_071e7f2e_5aa5_11ea_9c14_549f3515a0bcrow1_col5 {\n",
       "            background-color:  #4479bb;\n",
       "            color:  #000000;\n",
       "        }    #T_071e7f2e_5aa5_11ea_9c14_549f3515a0bcrow1_col6 {\n",
       "            background-color:  #f9e0e5;\n",
       "            color:  #000000;\n",
       "        }    #T_071e7f2e_5aa5_11ea_9c14_549f3515a0bcrow2_col0 {\n",
       "            background-color:  #fae6ea;\n",
       "            color:  #000000;\n",
       "        }    #T_071e7f2e_5aa5_11ea_9c14_549f3515a0bcrow2_col1 {\n",
       "            background-color:  #d73c5b;\n",
       "            color:  #f1f1f1;\n",
       "        }    #T_071e7f2e_5aa5_11ea_9c14_549f3515a0bcrow2_col2 {\n",
       "            background-color:  #fae4e9;\n",
       "            color:  #000000;\n",
       "        }    #T_071e7f2e_5aa5_11ea_9c14_549f3515a0bcrow2_col3 {\n",
       "            background-color:  #f9e2e6;\n",
       "            color:  #000000;\n",
       "        }    #T_071e7f2e_5aa5_11ea_9c14_549f3515a0bcrow2_col4 {\n",
       "            background-color:  #fae4e9;\n",
       "            color:  #000000;\n",
       "        }    #T_071e7f2e_5aa5_11ea_9c14_549f3515a0bcrow2_col5 {\n",
       "            background-color:  #f9e0e5;\n",
       "            color:  #000000;\n",
       "        }    #T_071e7f2e_5aa5_11ea_9c14_549f3515a0bcrow2_col6 {\n",
       "            background-color:  #5a88c3;\n",
       "            color:  #000000;\n",
       "        }    #T_071e7f2e_5aa5_11ea_9c14_549f3515a0bcrow3_col0 {\n",
       "            background-color:  #fae4e9;\n",
       "            color:  #000000;\n",
       "        }    #T_071e7f2e_5aa5_11ea_9c14_549f3515a0bcrow3_col1 {\n",
       "            background-color:  #f7dae0;\n",
       "            color:  #000000;\n",
       "        }    #T_071e7f2e_5aa5_11ea_9c14_549f3515a0bcrow3_col2 {\n",
       "            background-color:  #f9e2e6;\n",
       "            color:  #000000;\n",
       "        }    #T_071e7f2e_5aa5_11ea_9c14_549f3515a0bcrow3_col3 {\n",
       "            background-color:  #f8dee3;\n",
       "            color:  #000000;\n",
       "        }    #T_071e7f2e_5aa5_11ea_9c14_549f3515a0bcrow3_col4 {\n",
       "            background-color:  #f9e2e6;\n",
       "            color:  #000000;\n",
       "        }    #T_071e7f2e_5aa5_11ea_9c14_549f3515a0bcrow3_col5 {\n",
       "            background-color:  #f8dfe4;\n",
       "            color:  #000000;\n",
       "        }    #T_071e7f2e_5aa5_11ea_9c14_549f3515a0bcrow3_col6 {\n",
       "            background-color:  #f7dae0;\n",
       "            color:  #000000;\n",
       "        }    #T_071e7f2e_5aa5_11ea_9c14_549f3515a0bcrow4_col0 {\n",
       "            background-color:  #fae6ea;\n",
       "            color:  #000000;\n",
       "        }    #T_071e7f2e_5aa5_11ea_9c14_549f3515a0bcrow4_col1 {\n",
       "            background-color:  #f6d1d8;\n",
       "            color:  #000000;\n",
       "        }    #T_071e7f2e_5aa5_11ea_9c14_549f3515a0bcrow4_col2 {\n",
       "            background-color:  #fae4e9;\n",
       "            color:  #000000;\n",
       "        }    #T_071e7f2e_5aa5_11ea_9c14_549f3515a0bcrow4_col3 {\n",
       "            background-color:  #f9e2e6;\n",
       "            color:  #000000;\n",
       "        }    #T_071e7f2e_5aa5_11ea_9c14_549f3515a0bcrow4_col4 {\n",
       "            background-color:  #fae4e9;\n",
       "            color:  #000000;\n",
       "        }    #T_071e7f2e_5aa5_11ea_9c14_549f3515a0bcrow4_col5 {\n",
       "            background-color:  #f9e3e7;\n",
       "            color:  #000000;\n",
       "        }    #T_071e7f2e_5aa5_11ea_9c14_549f3515a0bcrow4_col6 {\n",
       "            background-color:  #f6d3da;\n",
       "            color:  #000000;\n",
       "        }    #T_071e7f2e_5aa5_11ea_9c14_549f3515a0bcrow5_col0 {\n",
       "            background-color:  #f9e3e7;\n",
       "            color:  #000000;\n",
       "        }    #T_071e7f2e_5aa5_11ea_9c14_549f3515a0bcrow5_col1 {\n",
       "            background-color:  #4479bb;\n",
       "            color:  #000000;\n",
       "        }    #T_071e7f2e_5aa5_11ea_9c14_549f3515a0bcrow5_col2 {\n",
       "            background-color:  #f9e0e5;\n",
       "            color:  #000000;\n",
       "        }    #T_071e7f2e_5aa5_11ea_9c14_549f3515a0bcrow5_col3 {\n",
       "            background-color:  #f8dfe4;\n",
       "            color:  #000000;\n",
       "        }    #T_071e7f2e_5aa5_11ea_9c14_549f3515a0bcrow5_col4 {\n",
       "            background-color:  #f9e3e7;\n",
       "            color:  #000000;\n",
       "        }    #T_071e7f2e_5aa5_11ea_9c14_549f3515a0bcrow5_col5 {\n",
       "            background-color:  #f7dae0;\n",
       "            color:  #000000;\n",
       "        }    #T_071e7f2e_5aa5_11ea_9c14_549f3515a0bcrow5_col6 {\n",
       "            background-color:  #f9e0e5;\n",
       "            color:  #000000;\n",
       "        }    #T_071e7f2e_5aa5_11ea_9c14_549f3515a0bcrow6_col0 {\n",
       "            background-color:  #fae8ec;\n",
       "            color:  #000000;\n",
       "        }    #T_071e7f2e_5aa5_11ea_9c14_549f3515a0bcrow6_col1 {\n",
       "            background-color:  #f9e0e5;\n",
       "            color:  #000000;\n",
       "        }    #T_071e7f2e_5aa5_11ea_9c14_549f3515a0bcrow6_col2 {\n",
       "            background-color:  #5a88c3;\n",
       "            color:  #000000;\n",
       "        }    #T_071e7f2e_5aa5_11ea_9c14_549f3515a0bcrow6_col3 {\n",
       "            background-color:  #f7dae0;\n",
       "            color:  #000000;\n",
       "        }    #T_071e7f2e_5aa5_11ea_9c14_549f3515a0bcrow6_col4 {\n",
       "            background-color:  #f6d3da;\n",
       "            color:  #000000;\n",
       "        }    #T_071e7f2e_5aa5_11ea_9c14_549f3515a0bcrow6_col5 {\n",
       "            background-color:  #f9e0e5;\n",
       "            color:  #000000;\n",
       "        }    #T_071e7f2e_5aa5_11ea_9c14_549f3515a0bcrow6_col6 {\n",
       "            background-color:  #f8dfe4;\n",
       "            color:  #000000;\n",
       "        }</style><table id=\"T_071e7f2e_5aa5_11ea_9c14_549f3515a0bc\" ><caption>Scaled Covariance Relative Differences</caption><thead>    <tr>        <th class=\"blank level0\" ></th>        <th class=\"col_heading level0 col0\" >$\\Omega_m$</th>        <th class=\"col_heading level0 col1\" >$w_0$</th>        <th class=\"col_heading level0 col2\" >$h_0$</th>        <th class=\"col_heading level0 col3\" >$A_s$</th>        <th class=\"col_heading level0 col4\" >$\\Omega_b$</th>        <th class=\"col_heading level0 col5\" >$n_s$</th>        <th class=\"col_heading level0 col6\" >$w_a$</th>    </tr></thead><tbody>\n",
       "                <tr>\n",
       "                        <th id=\"T_071e7f2e_5aa5_11ea_9c14_549f3515a0bclevel0_row0\" class=\"row_heading level0 row0\" >$\\Omega_m$</th>\n",
       "                        <td id=\"T_071e7f2e_5aa5_11ea_9c14_549f3515a0bcrow0_col0\" class=\"data row0 col0\" >0.790638</td>\n",
       "                        <td id=\"T_071e7f2e_5aa5_11ea_9c14_549f3515a0bcrow0_col1\" class=\"data row0 col1\" >1.14491</td>\n",
       "                        <td id=\"T_071e7f2e_5aa5_11ea_9c14_549f3515a0bcrow0_col2\" class=\"data row0 col2\" >0.770951</td>\n",
       "                        <td id=\"T_071e7f2e_5aa5_11ea_9c14_549f3515a0bcrow0_col3\" class=\"data row0 col3\" >0.736194</td>\n",
       "                        <td id=\"T_071e7f2e_5aa5_11ea_9c14_549f3515a0bcrow0_col4\" class=\"data row0 col4\" >0.781859</td>\n",
       "                        <td id=\"T_071e7f2e_5aa5_11ea_9c14_549f3515a0bcrow0_col5\" class=\"data row0 col5\" >0.62023</td>\n",
       "                        <td id=\"T_071e7f2e_5aa5_11ea_9c14_549f3515a0bcrow0_col6\" class=\"data row0 col6\" >1.00454</td>\n",
       "            </tr>\n",
       "            <tr>\n",
       "                        <th id=\"T_071e7f2e_5aa5_11ea_9c14_549f3515a0bclevel0_row1\" class=\"row_heading level0 row1\" >$w_0$</th>\n",
       "                        <td id=\"T_071e7f2e_5aa5_11ea_9c14_549f3515a0bcrow1_col0\" class=\"data row1 col0\" >1.14491</td>\n",
       "                        <td id=\"T_071e7f2e_5aa5_11ea_9c14_549f3515a0bcrow1_col1\" class=\"data row1 col1\" >0.353569</td>\n",
       "                        <td id=\"T_071e7f2e_5aa5_11ea_9c14_549f3515a0bcrow1_col2\" class=\"data row1 col2\" >-11.453</td>\n",
       "                        <td id=\"T_071e7f2e_5aa5_11ea_9c14_549f3515a0bcrow1_col3\" class=\"data row1 col3\" >0.0288472</td>\n",
       "                        <td id=\"T_071e7f2e_5aa5_11ea_9c14_549f3515a0bcrow1_col4\" class=\"data row1 col4\" >-0.735273</td>\n",
       "                        <td id=\"T_071e7f2e_5aa5_11ea_9c14_549f3515a0bcrow1_col5\" class=\"data row1 col5\" >14.8044</td>\n",
       "                        <td id=\"T_071e7f2e_5aa5_11ea_9c14_549f3515a0bcrow1_col6\" class=\"data row1 col6\" >0.360006</td>\n",
       "            </tr>\n",
       "            <tr>\n",
       "                        <th id=\"T_071e7f2e_5aa5_11ea_9c14_549f3515a0bclevel0_row2\" class=\"row_heading level0 row2\" >$h_0$</th>\n",
       "                        <td id=\"T_071e7f2e_5aa5_11ea_9c14_549f3515a0bcrow2_col0\" class=\"data row2 col0\" >0.770951</td>\n",
       "                        <td id=\"T_071e7f2e_5aa5_11ea_9c14_549f3515a0bcrow2_col1\" class=\"data row2 col1\" >-11.453</td>\n",
       "                        <td id=\"T_071e7f2e_5aa5_11ea_9c14_549f3515a0bcrow2_col2\" class=\"data row2 col2\" >0.672897</td>\n",
       "                        <td id=\"T_071e7f2e_5aa5_11ea_9c14_549f3515a0bcrow2_col3\" class=\"data row2 col3\" >0.470695</td>\n",
       "                        <td id=\"T_071e7f2e_5aa5_11ea_9c14_549f3515a0bcrow2_col4\" class=\"data row2 col4\" >0.682413</td>\n",
       "                        <td id=\"T_071e7f2e_5aa5_11ea_9c14_549f3515a0bcrow2_col5\" class=\"data row2 col5\" >0.420222</td>\n",
       "                        <td id=\"T_071e7f2e_5aa5_11ea_9c14_549f3515a0bcrow2_col6\" class=\"data row2 col6\" >13.1408</td>\n",
       "            </tr>\n",
       "            <tr>\n",
       "                        <th id=\"T_071e7f2e_5aa5_11ea_9c14_549f3515a0bclevel0_row3\" class=\"row_heading level0 row3\" >$A_s$</th>\n",
       "                        <td id=\"T_071e7f2e_5aa5_11ea_9c14_549f3515a0bcrow3_col0\" class=\"data row3 col0\" >0.736194</td>\n",
       "                        <td id=\"T_071e7f2e_5aa5_11ea_9c14_549f3515a0bcrow3_col1\" class=\"data row3 col1\" >0.0288472</td>\n",
       "                        <td id=\"T_071e7f2e_5aa5_11ea_9c14_549f3515a0bcrow3_col2\" class=\"data row3 col2\" >0.470695</td>\n",
       "                        <td id=\"T_071e7f2e_5aa5_11ea_9c14_549f3515a0bcrow3_col3\" class=\"data row3 col3\" >0.199609</td>\n",
       "                        <td id=\"T_071e7f2e_5aa5_11ea_9c14_549f3515a0bcrow3_col4\" class=\"data row3 col4\" >0.466223</td>\n",
       "                        <td id=\"T_071e7f2e_5aa5_11ea_9c14_549f3515a0bcrow3_col5\" class=\"data row3 col5\" >0.316516</td>\n",
       "                        <td id=\"T_071e7f2e_5aa5_11ea_9c14_549f3515a0bcrow3_col6\" class=\"data row3 col6\" >0.0334453</td>\n",
       "            </tr>\n",
       "            <tr>\n",
       "                        <th id=\"T_071e7f2e_5aa5_11ea_9c14_549f3515a0bclevel0_row4\" class=\"row_heading level0 row4\" >$\\Omega_b$</th>\n",
       "                        <td id=\"T_071e7f2e_5aa5_11ea_9c14_549f3515a0bcrow4_col0\" class=\"data row4 col0\" >0.781859</td>\n",
       "                        <td id=\"T_071e7f2e_5aa5_11ea_9c14_549f3515a0bcrow4_col1\" class=\"data row4 col1\" >-0.735273</td>\n",
       "                        <td id=\"T_071e7f2e_5aa5_11ea_9c14_549f3515a0bcrow4_col2\" class=\"data row4 col2\" >0.682413</td>\n",
       "                        <td id=\"T_071e7f2e_5aa5_11ea_9c14_549f3515a0bcrow4_col3\" class=\"data row4 col3\" >0.466223</td>\n",
       "                        <td id=\"T_071e7f2e_5aa5_11ea_9c14_549f3515a0bcrow4_col4\" class=\"data row4 col4\" >0.650899</td>\n",
       "                        <td id=\"T_071e7f2e_5aa5_11ea_9c14_549f3515a0bcrow4_col5\" class=\"data row4 col5\" >0.594547</td>\n",
       "                        <td id=\"T_071e7f2e_5aa5_11ea_9c14_549f3515a0bcrow4_col6\" class=\"data row4 col6\" >-0.555167</td>\n",
       "            </tr>\n",
       "            <tr>\n",
       "                        <th id=\"T_071e7f2e_5aa5_11ea_9c14_549f3515a0bclevel0_row5\" class=\"row_heading level0 row5\" >$n_s$</th>\n",
       "                        <td id=\"T_071e7f2e_5aa5_11ea_9c14_549f3515a0bcrow5_col0\" class=\"data row5 col0\" >0.62023</td>\n",
       "                        <td id=\"T_071e7f2e_5aa5_11ea_9c14_549f3515a0bcrow5_col1\" class=\"data row5 col1\" >14.8044</td>\n",
       "                        <td id=\"T_071e7f2e_5aa5_11ea_9c14_549f3515a0bcrow5_col2\" class=\"data row5 col2\" >0.420222</td>\n",
       "                        <td id=\"T_071e7f2e_5aa5_11ea_9c14_549f3515a0bcrow5_col3\" class=\"data row5 col3\" >0.316516</td>\n",
       "                        <td id=\"T_071e7f2e_5aa5_11ea_9c14_549f3515a0bcrow5_col4\" class=\"data row5 col4\" >0.594547</td>\n",
       "                        <td id=\"T_071e7f2e_5aa5_11ea_9c14_549f3515a0bcrow5_col5\" class=\"data row5 col5\" >0.000314937</td>\n",
       "                        <td id=\"T_071e7f2e_5aa5_11ea_9c14_549f3515a0bcrow5_col6\" class=\"data row5 col6\" >0.34509</td>\n",
       "            </tr>\n",
       "            <tr>\n",
       "                        <th id=\"T_071e7f2e_5aa5_11ea_9c14_549f3515a0bclevel0_row6\" class=\"row_heading level0 row6\" >$w_a$</th>\n",
       "                        <td id=\"T_071e7f2e_5aa5_11ea_9c14_549f3515a0bcrow6_col0\" class=\"data row6 col0\" >1.00454</td>\n",
       "                        <td id=\"T_071e7f2e_5aa5_11ea_9c14_549f3515a0bcrow6_col1\" class=\"data row6 col1\" >0.360006</td>\n",
       "                        <td id=\"T_071e7f2e_5aa5_11ea_9c14_549f3515a0bcrow6_col2\" class=\"data row6 col2\" >13.1408</td>\n",
       "                        <td id=\"T_071e7f2e_5aa5_11ea_9c14_549f3515a0bcrow6_col3\" class=\"data row6 col3\" >0.0334453</td>\n",
       "                        <td id=\"T_071e7f2e_5aa5_11ea_9c14_549f3515a0bcrow6_col4\" class=\"data row6 col4\" >-0.555167</td>\n",
       "                        <td id=\"T_071e7f2e_5aa5_11ea_9c14_549f3515a0bcrow6_col5\" class=\"data row6 col5\" >0.34509</td>\n",
       "                        <td id=\"T_071e7f2e_5aa5_11ea_9c14_549f3515a0bcrow6_col6\" class=\"data row6 col6\" >0.298771</td>\n",
       "            </tr>\n",
       "    </tbody></table>"
      ],
      "text/plain": [
       "<pandas.io.formats.style.Styler at 0x2b8165cb67b8>"
      ]
     },
     "execution_count": 94,
     "metadata": {},
     "output_type": "execute_result"
    }
   ],
   "source": [
    "((ccl_scaled_cov_0-cosmosis_scaled_cov_0)/ccl_scaled_cov_0)\\\n",
    ".style.background_gradient(cmap=cmap, axis=None).set_caption(\"Scaled Covariance Relative Differences\")"
   ]
  },
  {
   "cell_type": "markdown",
   "metadata": {},
   "source": [
    "### Method 1 `sp.linalg.cho_solve`\n",
    "Since the fisher matrix is symmetric, we can use cholesky decomposition to compute the inverse instead of LU decomposition as `numpy.linalg.inv` does "
   ]
  },
  {
   "cell_type": "code",
   "execution_count": 95,
   "metadata": {},
   "outputs": [],
   "source": [
    "def cholesky_inv(A):\n",
    "    return sp.linalg.cho_solve(sp.linalg.cho_factor(A), np.eye(len(A)))"
   ]
  },
  {
   "cell_type": "code",
   "execution_count": 96,
   "metadata": {},
   "outputs": [],
   "source": [
    "ccl_cov_1 = pd.DataFrame(cholesky_inv(ccl_f), index=paras, columns=paras)\n",
    "cosmosis_cov_1 = pd.DataFrame(cholesky_inv(cosmosis_f), index=paras, columns=paras)\n",
    "ccl_scaled_cov_1 = pd.DataFrame(cholesky_inv(ccl_f_scaled), index=paras, columns=paras)\n",
    "cosmosis_scaled_cov_1 = pd.DataFrame(cholesky_inv(cosmosis_f_scaled), index=paras, columns=paras)"
   ]
  },
  {
   "cell_type": "code",
   "execution_count": 97,
   "metadata": {},
   "outputs": [
    {
     "data": {
      "text/html": [
       "<style  type=\"text/css\" >\n",
       "    #T_0813c7c2_5aa5_11ea_9c14_549f3515a0bcrow0_col0 {\n",
       "            background-color:  #fae6ea;\n",
       "            color:  #000000;\n",
       "        }    #T_0813c7c2_5aa5_11ea_9c14_549f3515a0bcrow0_col1 {\n",
       "            background-color:  #fbeaed;\n",
       "            color:  #000000;\n",
       "        }    #T_0813c7c2_5aa5_11ea_9c14_549f3515a0bcrow0_col2 {\n",
       "            background-color:  #fae6ea;\n",
       "            color:  #000000;\n",
       "        }    #T_0813c7c2_5aa5_11ea_9c14_549f3515a0bcrow0_col3 {\n",
       "            background-color:  #fae4e9;\n",
       "            color:  #000000;\n",
       "        }    #T_0813c7c2_5aa5_11ea_9c14_549f3515a0bcrow0_col4 {\n",
       "            background-color:  #fae6ea;\n",
       "            color:  #000000;\n",
       "        }    #T_0813c7c2_5aa5_11ea_9c14_549f3515a0bcrow0_col5 {\n",
       "            background-color:  #f9e3e7;\n",
       "            color:  #000000;\n",
       "        }    #T_0813c7c2_5aa5_11ea_9c14_549f3515a0bcrow0_col6 {\n",
       "            background-color:  #fae8ec;\n",
       "            color:  #000000;\n",
       "        }    #T_0813c7c2_5aa5_11ea_9c14_549f3515a0bcrow1_col0 {\n",
       "            background-color:  #fbeaed;\n",
       "            color:  #000000;\n",
       "        }    #T_0813c7c2_5aa5_11ea_9c14_549f3515a0bcrow1_col1 {\n",
       "            background-color:  #f9e0e5;\n",
       "            color:  #000000;\n",
       "        }    #T_0813c7c2_5aa5_11ea_9c14_549f3515a0bcrow1_col2 {\n",
       "            background-color:  #d73c5b;\n",
       "            color:  #f1f1f1;\n",
       "        }    #T_0813c7c2_5aa5_11ea_9c14_549f3515a0bcrow1_col3 {\n",
       "            background-color:  #f7dae0;\n",
       "            color:  #000000;\n",
       "        }    #T_0813c7c2_5aa5_11ea_9c14_549f3515a0bcrow1_col4 {\n",
       "            background-color:  #f6d1d8;\n",
       "            color:  #000000;\n",
       "        }    #T_0813c7c2_5aa5_11ea_9c14_549f3515a0bcrow1_col5 {\n",
       "            background-color:  #4479bb;\n",
       "            color:  #000000;\n",
       "        }    #T_0813c7c2_5aa5_11ea_9c14_549f3515a0bcrow1_col6 {\n",
       "            background-color:  #f9e0e5;\n",
       "            color:  #000000;\n",
       "        }    #T_0813c7c2_5aa5_11ea_9c14_549f3515a0bcrow2_col0 {\n",
       "            background-color:  #fae6ea;\n",
       "            color:  #000000;\n",
       "        }    #T_0813c7c2_5aa5_11ea_9c14_549f3515a0bcrow2_col1 {\n",
       "            background-color:  #d73c5b;\n",
       "            color:  #f1f1f1;\n",
       "        }    #T_0813c7c2_5aa5_11ea_9c14_549f3515a0bcrow2_col2 {\n",
       "            background-color:  #fae4e9;\n",
       "            color:  #000000;\n",
       "        }    #T_0813c7c2_5aa5_11ea_9c14_549f3515a0bcrow2_col3 {\n",
       "            background-color:  #f9e2e6;\n",
       "            color:  #000000;\n",
       "        }    #T_0813c7c2_5aa5_11ea_9c14_549f3515a0bcrow2_col4 {\n",
       "            background-color:  #fae4e9;\n",
       "            color:  #000000;\n",
       "        }    #T_0813c7c2_5aa5_11ea_9c14_549f3515a0bcrow2_col5 {\n",
       "            background-color:  #f9e0e5;\n",
       "            color:  #000000;\n",
       "        }    #T_0813c7c2_5aa5_11ea_9c14_549f3515a0bcrow2_col6 {\n",
       "            background-color:  #5a88c3;\n",
       "            color:  #000000;\n",
       "        }    #T_0813c7c2_5aa5_11ea_9c14_549f3515a0bcrow3_col0 {\n",
       "            background-color:  #fae4e9;\n",
       "            color:  #000000;\n",
       "        }    #T_0813c7c2_5aa5_11ea_9c14_549f3515a0bcrow3_col1 {\n",
       "            background-color:  #f7dae0;\n",
       "            color:  #000000;\n",
       "        }    #T_0813c7c2_5aa5_11ea_9c14_549f3515a0bcrow3_col2 {\n",
       "            background-color:  #f9e2e6;\n",
       "            color:  #000000;\n",
       "        }    #T_0813c7c2_5aa5_11ea_9c14_549f3515a0bcrow3_col3 {\n",
       "            background-color:  #f8dee3;\n",
       "            color:  #000000;\n",
       "        }    #T_0813c7c2_5aa5_11ea_9c14_549f3515a0bcrow3_col4 {\n",
       "            background-color:  #f9e2e6;\n",
       "            color:  #000000;\n",
       "        }    #T_0813c7c2_5aa5_11ea_9c14_549f3515a0bcrow3_col5 {\n",
       "            background-color:  #f8dfe4;\n",
       "            color:  #000000;\n",
       "        }    #T_0813c7c2_5aa5_11ea_9c14_549f3515a0bcrow3_col6 {\n",
       "            background-color:  #f7dae0;\n",
       "            color:  #000000;\n",
       "        }    #T_0813c7c2_5aa5_11ea_9c14_549f3515a0bcrow4_col0 {\n",
       "            background-color:  #fae6ea;\n",
       "            color:  #000000;\n",
       "        }    #T_0813c7c2_5aa5_11ea_9c14_549f3515a0bcrow4_col1 {\n",
       "            background-color:  #f6d1d8;\n",
       "            color:  #000000;\n",
       "        }    #T_0813c7c2_5aa5_11ea_9c14_549f3515a0bcrow4_col2 {\n",
       "            background-color:  #fae4e9;\n",
       "            color:  #000000;\n",
       "        }    #T_0813c7c2_5aa5_11ea_9c14_549f3515a0bcrow4_col3 {\n",
       "            background-color:  #f9e2e6;\n",
       "            color:  #000000;\n",
       "        }    #T_0813c7c2_5aa5_11ea_9c14_549f3515a0bcrow4_col4 {\n",
       "            background-color:  #fae4e9;\n",
       "            color:  #000000;\n",
       "        }    #T_0813c7c2_5aa5_11ea_9c14_549f3515a0bcrow4_col5 {\n",
       "            background-color:  #f9e3e7;\n",
       "            color:  #000000;\n",
       "        }    #T_0813c7c2_5aa5_11ea_9c14_549f3515a0bcrow4_col6 {\n",
       "            background-color:  #f6d3da;\n",
       "            color:  #000000;\n",
       "        }    #T_0813c7c2_5aa5_11ea_9c14_549f3515a0bcrow5_col0 {\n",
       "            background-color:  #f9e3e7;\n",
       "            color:  #000000;\n",
       "        }    #T_0813c7c2_5aa5_11ea_9c14_549f3515a0bcrow5_col1 {\n",
       "            background-color:  #4479bb;\n",
       "            color:  #000000;\n",
       "        }    #T_0813c7c2_5aa5_11ea_9c14_549f3515a0bcrow5_col2 {\n",
       "            background-color:  #f9e0e5;\n",
       "            color:  #000000;\n",
       "        }    #T_0813c7c2_5aa5_11ea_9c14_549f3515a0bcrow5_col3 {\n",
       "            background-color:  #f8dfe4;\n",
       "            color:  #000000;\n",
       "        }    #T_0813c7c2_5aa5_11ea_9c14_549f3515a0bcrow5_col4 {\n",
       "            background-color:  #f9e3e7;\n",
       "            color:  #000000;\n",
       "        }    #T_0813c7c2_5aa5_11ea_9c14_549f3515a0bcrow5_col5 {\n",
       "            background-color:  #f7dae0;\n",
       "            color:  #000000;\n",
       "        }    #T_0813c7c2_5aa5_11ea_9c14_549f3515a0bcrow5_col6 {\n",
       "            background-color:  #f9e0e5;\n",
       "            color:  #000000;\n",
       "        }    #T_0813c7c2_5aa5_11ea_9c14_549f3515a0bcrow6_col0 {\n",
       "            background-color:  #fae8ec;\n",
       "            color:  #000000;\n",
       "        }    #T_0813c7c2_5aa5_11ea_9c14_549f3515a0bcrow6_col1 {\n",
       "            background-color:  #f9e0e5;\n",
       "            color:  #000000;\n",
       "        }    #T_0813c7c2_5aa5_11ea_9c14_549f3515a0bcrow6_col2 {\n",
       "            background-color:  #5a88c3;\n",
       "            color:  #000000;\n",
       "        }    #T_0813c7c2_5aa5_11ea_9c14_549f3515a0bcrow6_col3 {\n",
       "            background-color:  #f7dae0;\n",
       "            color:  #000000;\n",
       "        }    #T_0813c7c2_5aa5_11ea_9c14_549f3515a0bcrow6_col4 {\n",
       "            background-color:  #f6d3da;\n",
       "            color:  #000000;\n",
       "        }    #T_0813c7c2_5aa5_11ea_9c14_549f3515a0bcrow6_col5 {\n",
       "            background-color:  #f9e0e5;\n",
       "            color:  #000000;\n",
       "        }    #T_0813c7c2_5aa5_11ea_9c14_549f3515a0bcrow6_col6 {\n",
       "            background-color:  #f8dfe4;\n",
       "            color:  #000000;\n",
       "        }</style><table id=\"T_0813c7c2_5aa5_11ea_9c14_549f3515a0bc\" ><caption>Unscaled Covariance Relative Differences</caption><thead>    <tr>        <th class=\"blank level0\" ></th>        <th class=\"col_heading level0 col0\" >$\\Omega_m$</th>        <th class=\"col_heading level0 col1\" >$w_0$</th>        <th class=\"col_heading level0 col2\" >$h_0$</th>        <th class=\"col_heading level0 col3\" >$A_s$</th>        <th class=\"col_heading level0 col4\" >$\\Omega_b$</th>        <th class=\"col_heading level0 col5\" >$n_s$</th>        <th class=\"col_heading level0 col6\" >$w_a$</th>    </tr></thead><tbody>\n",
       "                <tr>\n",
       "                        <th id=\"T_0813c7c2_5aa5_11ea_9c14_549f3515a0bclevel0_row0\" class=\"row_heading level0 row0\" >$\\Omega_m$</th>\n",
       "                        <td id=\"T_0813c7c2_5aa5_11ea_9c14_549f3515a0bcrow0_col0\" class=\"data row0 col0\" >0.790638</td>\n",
       "                        <td id=\"T_0813c7c2_5aa5_11ea_9c14_549f3515a0bcrow0_col1\" class=\"data row0 col1\" >1.14491</td>\n",
       "                        <td id=\"T_0813c7c2_5aa5_11ea_9c14_549f3515a0bcrow0_col2\" class=\"data row0 col2\" >0.770951</td>\n",
       "                        <td id=\"T_0813c7c2_5aa5_11ea_9c14_549f3515a0bcrow0_col3\" class=\"data row0 col3\" >0.736194</td>\n",
       "                        <td id=\"T_0813c7c2_5aa5_11ea_9c14_549f3515a0bcrow0_col4\" class=\"data row0 col4\" >0.781859</td>\n",
       "                        <td id=\"T_0813c7c2_5aa5_11ea_9c14_549f3515a0bcrow0_col5\" class=\"data row0 col5\" >0.62023</td>\n",
       "                        <td id=\"T_0813c7c2_5aa5_11ea_9c14_549f3515a0bcrow0_col6\" class=\"data row0 col6\" >1.00454</td>\n",
       "            </tr>\n",
       "            <tr>\n",
       "                        <th id=\"T_0813c7c2_5aa5_11ea_9c14_549f3515a0bclevel0_row1\" class=\"row_heading level0 row1\" >$w_0$</th>\n",
       "                        <td id=\"T_0813c7c2_5aa5_11ea_9c14_549f3515a0bcrow1_col0\" class=\"data row1 col0\" >1.14491</td>\n",
       "                        <td id=\"T_0813c7c2_5aa5_11ea_9c14_549f3515a0bcrow1_col1\" class=\"data row1 col1\" >0.353569</td>\n",
       "                        <td id=\"T_0813c7c2_5aa5_11ea_9c14_549f3515a0bcrow1_col2\" class=\"data row1 col2\" >-11.453</td>\n",
       "                        <td id=\"T_0813c7c2_5aa5_11ea_9c14_549f3515a0bcrow1_col3\" class=\"data row1 col3\" >0.0288472</td>\n",
       "                        <td id=\"T_0813c7c2_5aa5_11ea_9c14_549f3515a0bcrow1_col4\" class=\"data row1 col4\" >-0.735273</td>\n",
       "                        <td id=\"T_0813c7c2_5aa5_11ea_9c14_549f3515a0bcrow1_col5\" class=\"data row1 col5\" >14.8044</td>\n",
       "                        <td id=\"T_0813c7c2_5aa5_11ea_9c14_549f3515a0bcrow1_col6\" class=\"data row1 col6\" >0.360006</td>\n",
       "            </tr>\n",
       "            <tr>\n",
       "                        <th id=\"T_0813c7c2_5aa5_11ea_9c14_549f3515a0bclevel0_row2\" class=\"row_heading level0 row2\" >$h_0$</th>\n",
       "                        <td id=\"T_0813c7c2_5aa5_11ea_9c14_549f3515a0bcrow2_col0\" class=\"data row2 col0\" >0.770951</td>\n",
       "                        <td id=\"T_0813c7c2_5aa5_11ea_9c14_549f3515a0bcrow2_col1\" class=\"data row2 col1\" >-11.453</td>\n",
       "                        <td id=\"T_0813c7c2_5aa5_11ea_9c14_549f3515a0bcrow2_col2\" class=\"data row2 col2\" >0.672897</td>\n",
       "                        <td id=\"T_0813c7c2_5aa5_11ea_9c14_549f3515a0bcrow2_col3\" class=\"data row2 col3\" >0.470695</td>\n",
       "                        <td id=\"T_0813c7c2_5aa5_11ea_9c14_549f3515a0bcrow2_col4\" class=\"data row2 col4\" >0.682413</td>\n",
       "                        <td id=\"T_0813c7c2_5aa5_11ea_9c14_549f3515a0bcrow2_col5\" class=\"data row2 col5\" >0.420222</td>\n",
       "                        <td id=\"T_0813c7c2_5aa5_11ea_9c14_549f3515a0bcrow2_col6\" class=\"data row2 col6\" >13.1408</td>\n",
       "            </tr>\n",
       "            <tr>\n",
       "                        <th id=\"T_0813c7c2_5aa5_11ea_9c14_549f3515a0bclevel0_row3\" class=\"row_heading level0 row3\" >$A_s$</th>\n",
       "                        <td id=\"T_0813c7c2_5aa5_11ea_9c14_549f3515a0bcrow3_col0\" class=\"data row3 col0\" >0.736194</td>\n",
       "                        <td id=\"T_0813c7c2_5aa5_11ea_9c14_549f3515a0bcrow3_col1\" class=\"data row3 col1\" >0.0288472</td>\n",
       "                        <td id=\"T_0813c7c2_5aa5_11ea_9c14_549f3515a0bcrow3_col2\" class=\"data row3 col2\" >0.470695</td>\n",
       "                        <td id=\"T_0813c7c2_5aa5_11ea_9c14_549f3515a0bcrow3_col3\" class=\"data row3 col3\" >0.199609</td>\n",
       "                        <td id=\"T_0813c7c2_5aa5_11ea_9c14_549f3515a0bcrow3_col4\" class=\"data row3 col4\" >0.466223</td>\n",
       "                        <td id=\"T_0813c7c2_5aa5_11ea_9c14_549f3515a0bcrow3_col5\" class=\"data row3 col5\" >0.316516</td>\n",
       "                        <td id=\"T_0813c7c2_5aa5_11ea_9c14_549f3515a0bcrow3_col6\" class=\"data row3 col6\" >0.0334453</td>\n",
       "            </tr>\n",
       "            <tr>\n",
       "                        <th id=\"T_0813c7c2_5aa5_11ea_9c14_549f3515a0bclevel0_row4\" class=\"row_heading level0 row4\" >$\\Omega_b$</th>\n",
       "                        <td id=\"T_0813c7c2_5aa5_11ea_9c14_549f3515a0bcrow4_col0\" class=\"data row4 col0\" >0.781859</td>\n",
       "                        <td id=\"T_0813c7c2_5aa5_11ea_9c14_549f3515a0bcrow4_col1\" class=\"data row4 col1\" >-0.735273</td>\n",
       "                        <td id=\"T_0813c7c2_5aa5_11ea_9c14_549f3515a0bcrow4_col2\" class=\"data row4 col2\" >0.682413</td>\n",
       "                        <td id=\"T_0813c7c2_5aa5_11ea_9c14_549f3515a0bcrow4_col3\" class=\"data row4 col3\" >0.466223</td>\n",
       "                        <td id=\"T_0813c7c2_5aa5_11ea_9c14_549f3515a0bcrow4_col4\" class=\"data row4 col4\" >0.650899</td>\n",
       "                        <td id=\"T_0813c7c2_5aa5_11ea_9c14_549f3515a0bcrow4_col5\" class=\"data row4 col5\" >0.594547</td>\n",
       "                        <td id=\"T_0813c7c2_5aa5_11ea_9c14_549f3515a0bcrow4_col6\" class=\"data row4 col6\" >-0.555167</td>\n",
       "            </tr>\n",
       "            <tr>\n",
       "                        <th id=\"T_0813c7c2_5aa5_11ea_9c14_549f3515a0bclevel0_row5\" class=\"row_heading level0 row5\" >$n_s$</th>\n",
       "                        <td id=\"T_0813c7c2_5aa5_11ea_9c14_549f3515a0bcrow5_col0\" class=\"data row5 col0\" >0.62023</td>\n",
       "                        <td id=\"T_0813c7c2_5aa5_11ea_9c14_549f3515a0bcrow5_col1\" class=\"data row5 col1\" >14.8044</td>\n",
       "                        <td id=\"T_0813c7c2_5aa5_11ea_9c14_549f3515a0bcrow5_col2\" class=\"data row5 col2\" >0.420222</td>\n",
       "                        <td id=\"T_0813c7c2_5aa5_11ea_9c14_549f3515a0bcrow5_col3\" class=\"data row5 col3\" >0.316516</td>\n",
       "                        <td id=\"T_0813c7c2_5aa5_11ea_9c14_549f3515a0bcrow5_col4\" class=\"data row5 col4\" >0.594547</td>\n",
       "                        <td id=\"T_0813c7c2_5aa5_11ea_9c14_549f3515a0bcrow5_col5\" class=\"data row5 col5\" >0.000314937</td>\n",
       "                        <td id=\"T_0813c7c2_5aa5_11ea_9c14_549f3515a0bcrow5_col6\" class=\"data row5 col6\" >0.34509</td>\n",
       "            </tr>\n",
       "            <tr>\n",
       "                        <th id=\"T_0813c7c2_5aa5_11ea_9c14_549f3515a0bclevel0_row6\" class=\"row_heading level0 row6\" >$w_a$</th>\n",
       "                        <td id=\"T_0813c7c2_5aa5_11ea_9c14_549f3515a0bcrow6_col0\" class=\"data row6 col0\" >1.00454</td>\n",
       "                        <td id=\"T_0813c7c2_5aa5_11ea_9c14_549f3515a0bcrow6_col1\" class=\"data row6 col1\" >0.360006</td>\n",
       "                        <td id=\"T_0813c7c2_5aa5_11ea_9c14_549f3515a0bcrow6_col2\" class=\"data row6 col2\" >13.1408</td>\n",
       "                        <td id=\"T_0813c7c2_5aa5_11ea_9c14_549f3515a0bcrow6_col3\" class=\"data row6 col3\" >0.0334453</td>\n",
       "                        <td id=\"T_0813c7c2_5aa5_11ea_9c14_549f3515a0bcrow6_col4\" class=\"data row6 col4\" >-0.555167</td>\n",
       "                        <td id=\"T_0813c7c2_5aa5_11ea_9c14_549f3515a0bcrow6_col5\" class=\"data row6 col5\" >0.34509</td>\n",
       "                        <td id=\"T_0813c7c2_5aa5_11ea_9c14_549f3515a0bcrow6_col6\" class=\"data row6 col6\" >0.298771</td>\n",
       "            </tr>\n",
       "    </tbody></table>"
      ],
      "text/plain": [
       "<pandas.io.formats.style.Styler at 0x2b8165cb6128>"
      ]
     },
     "execution_count": 97,
     "metadata": {},
     "output_type": "execute_result"
    }
   ],
   "source": [
    "((ccl_cov_1-cosmosis_cov_1)/ccl_cov_1).style.background_gradient(cmap=cmap, axis=None).set_caption(\"Unscaled Covariance Relative Differences\")"
   ]
  },
  {
   "cell_type": "code",
   "execution_count": 98,
   "metadata": {},
   "outputs": [
    {
     "data": {
      "text/html": [
       "<style  type=\"text/css\" >\n",
       "    #T_085662da_5aa5_11ea_9c14_549f3515a0bcrow0_col0 {\n",
       "            background-color:  #fae6ea;\n",
       "            color:  #000000;\n",
       "        }    #T_085662da_5aa5_11ea_9c14_549f3515a0bcrow0_col1 {\n",
       "            background-color:  #fbeaed;\n",
       "            color:  #000000;\n",
       "        }    #T_085662da_5aa5_11ea_9c14_549f3515a0bcrow0_col2 {\n",
       "            background-color:  #fae6ea;\n",
       "            color:  #000000;\n",
       "        }    #T_085662da_5aa5_11ea_9c14_549f3515a0bcrow0_col3 {\n",
       "            background-color:  #fae4e9;\n",
       "            color:  #000000;\n",
       "        }    #T_085662da_5aa5_11ea_9c14_549f3515a0bcrow0_col4 {\n",
       "            background-color:  #fae6ea;\n",
       "            color:  #000000;\n",
       "        }    #T_085662da_5aa5_11ea_9c14_549f3515a0bcrow0_col5 {\n",
       "            background-color:  #f9e3e7;\n",
       "            color:  #000000;\n",
       "        }    #T_085662da_5aa5_11ea_9c14_549f3515a0bcrow0_col6 {\n",
       "            background-color:  #fae8ec;\n",
       "            color:  #000000;\n",
       "        }    #T_085662da_5aa5_11ea_9c14_549f3515a0bcrow1_col0 {\n",
       "            background-color:  #fbeaed;\n",
       "            color:  #000000;\n",
       "        }    #T_085662da_5aa5_11ea_9c14_549f3515a0bcrow1_col1 {\n",
       "            background-color:  #f9e0e5;\n",
       "            color:  #000000;\n",
       "        }    #T_085662da_5aa5_11ea_9c14_549f3515a0bcrow1_col2 {\n",
       "            background-color:  #d73c5b;\n",
       "            color:  #f1f1f1;\n",
       "        }    #T_085662da_5aa5_11ea_9c14_549f3515a0bcrow1_col3 {\n",
       "            background-color:  #f7dae0;\n",
       "            color:  #000000;\n",
       "        }    #T_085662da_5aa5_11ea_9c14_549f3515a0bcrow1_col4 {\n",
       "            background-color:  #f6d1d8;\n",
       "            color:  #000000;\n",
       "        }    #T_085662da_5aa5_11ea_9c14_549f3515a0bcrow1_col5 {\n",
       "            background-color:  #4479bb;\n",
       "            color:  #000000;\n",
       "        }    #T_085662da_5aa5_11ea_9c14_549f3515a0bcrow1_col6 {\n",
       "            background-color:  #f9e0e5;\n",
       "            color:  #000000;\n",
       "        }    #T_085662da_5aa5_11ea_9c14_549f3515a0bcrow2_col0 {\n",
       "            background-color:  #fae6ea;\n",
       "            color:  #000000;\n",
       "        }    #T_085662da_5aa5_11ea_9c14_549f3515a0bcrow2_col1 {\n",
       "            background-color:  #d73c5b;\n",
       "            color:  #f1f1f1;\n",
       "        }    #T_085662da_5aa5_11ea_9c14_549f3515a0bcrow2_col2 {\n",
       "            background-color:  #fae4e9;\n",
       "            color:  #000000;\n",
       "        }    #T_085662da_5aa5_11ea_9c14_549f3515a0bcrow2_col3 {\n",
       "            background-color:  #f9e2e6;\n",
       "            color:  #000000;\n",
       "        }    #T_085662da_5aa5_11ea_9c14_549f3515a0bcrow2_col4 {\n",
       "            background-color:  #fae4e9;\n",
       "            color:  #000000;\n",
       "        }    #T_085662da_5aa5_11ea_9c14_549f3515a0bcrow2_col5 {\n",
       "            background-color:  #f9e0e5;\n",
       "            color:  #000000;\n",
       "        }    #T_085662da_5aa5_11ea_9c14_549f3515a0bcrow2_col6 {\n",
       "            background-color:  #5a88c3;\n",
       "            color:  #000000;\n",
       "        }    #T_085662da_5aa5_11ea_9c14_549f3515a0bcrow3_col0 {\n",
       "            background-color:  #fae4e9;\n",
       "            color:  #000000;\n",
       "        }    #T_085662da_5aa5_11ea_9c14_549f3515a0bcrow3_col1 {\n",
       "            background-color:  #f7dae0;\n",
       "            color:  #000000;\n",
       "        }    #T_085662da_5aa5_11ea_9c14_549f3515a0bcrow3_col2 {\n",
       "            background-color:  #f9e2e6;\n",
       "            color:  #000000;\n",
       "        }    #T_085662da_5aa5_11ea_9c14_549f3515a0bcrow3_col3 {\n",
       "            background-color:  #f8dee3;\n",
       "            color:  #000000;\n",
       "        }    #T_085662da_5aa5_11ea_9c14_549f3515a0bcrow3_col4 {\n",
       "            background-color:  #f9e2e6;\n",
       "            color:  #000000;\n",
       "        }    #T_085662da_5aa5_11ea_9c14_549f3515a0bcrow3_col5 {\n",
       "            background-color:  #f8dfe4;\n",
       "            color:  #000000;\n",
       "        }    #T_085662da_5aa5_11ea_9c14_549f3515a0bcrow3_col6 {\n",
       "            background-color:  #f7dae0;\n",
       "            color:  #000000;\n",
       "        }    #T_085662da_5aa5_11ea_9c14_549f3515a0bcrow4_col0 {\n",
       "            background-color:  #fae6ea;\n",
       "            color:  #000000;\n",
       "        }    #T_085662da_5aa5_11ea_9c14_549f3515a0bcrow4_col1 {\n",
       "            background-color:  #f6d1d8;\n",
       "            color:  #000000;\n",
       "        }    #T_085662da_5aa5_11ea_9c14_549f3515a0bcrow4_col2 {\n",
       "            background-color:  #fae4e9;\n",
       "            color:  #000000;\n",
       "        }    #T_085662da_5aa5_11ea_9c14_549f3515a0bcrow4_col3 {\n",
       "            background-color:  #f9e2e6;\n",
       "            color:  #000000;\n",
       "        }    #T_085662da_5aa5_11ea_9c14_549f3515a0bcrow4_col4 {\n",
       "            background-color:  #fae4e9;\n",
       "            color:  #000000;\n",
       "        }    #T_085662da_5aa5_11ea_9c14_549f3515a0bcrow4_col5 {\n",
       "            background-color:  #f9e3e7;\n",
       "            color:  #000000;\n",
       "        }    #T_085662da_5aa5_11ea_9c14_549f3515a0bcrow4_col6 {\n",
       "            background-color:  #f6d3da;\n",
       "            color:  #000000;\n",
       "        }    #T_085662da_5aa5_11ea_9c14_549f3515a0bcrow5_col0 {\n",
       "            background-color:  #f9e3e7;\n",
       "            color:  #000000;\n",
       "        }    #T_085662da_5aa5_11ea_9c14_549f3515a0bcrow5_col1 {\n",
       "            background-color:  #4479bb;\n",
       "            color:  #000000;\n",
       "        }    #T_085662da_5aa5_11ea_9c14_549f3515a0bcrow5_col2 {\n",
       "            background-color:  #f9e0e5;\n",
       "            color:  #000000;\n",
       "        }    #T_085662da_5aa5_11ea_9c14_549f3515a0bcrow5_col3 {\n",
       "            background-color:  #f8dfe4;\n",
       "            color:  #000000;\n",
       "        }    #T_085662da_5aa5_11ea_9c14_549f3515a0bcrow5_col4 {\n",
       "            background-color:  #f9e3e7;\n",
       "            color:  #000000;\n",
       "        }    #T_085662da_5aa5_11ea_9c14_549f3515a0bcrow5_col5 {\n",
       "            background-color:  #f7dae0;\n",
       "            color:  #000000;\n",
       "        }    #T_085662da_5aa5_11ea_9c14_549f3515a0bcrow5_col6 {\n",
       "            background-color:  #f9e0e5;\n",
       "            color:  #000000;\n",
       "        }    #T_085662da_5aa5_11ea_9c14_549f3515a0bcrow6_col0 {\n",
       "            background-color:  #fae8ec;\n",
       "            color:  #000000;\n",
       "        }    #T_085662da_5aa5_11ea_9c14_549f3515a0bcrow6_col1 {\n",
       "            background-color:  #f9e0e5;\n",
       "            color:  #000000;\n",
       "        }    #T_085662da_5aa5_11ea_9c14_549f3515a0bcrow6_col2 {\n",
       "            background-color:  #5a88c3;\n",
       "            color:  #000000;\n",
       "        }    #T_085662da_5aa5_11ea_9c14_549f3515a0bcrow6_col3 {\n",
       "            background-color:  #f7dae0;\n",
       "            color:  #000000;\n",
       "        }    #T_085662da_5aa5_11ea_9c14_549f3515a0bcrow6_col4 {\n",
       "            background-color:  #f6d3da;\n",
       "            color:  #000000;\n",
       "        }    #T_085662da_5aa5_11ea_9c14_549f3515a0bcrow6_col5 {\n",
       "            background-color:  #f9e0e5;\n",
       "            color:  #000000;\n",
       "        }    #T_085662da_5aa5_11ea_9c14_549f3515a0bcrow6_col6 {\n",
       "            background-color:  #f8dfe4;\n",
       "            color:  #000000;\n",
       "        }</style><table id=\"T_085662da_5aa5_11ea_9c14_549f3515a0bc\" ><caption>Scaled Covariance Relative Differences</caption><thead>    <tr>        <th class=\"blank level0\" ></th>        <th class=\"col_heading level0 col0\" >$\\Omega_m$</th>        <th class=\"col_heading level0 col1\" >$w_0$</th>        <th class=\"col_heading level0 col2\" >$h_0$</th>        <th class=\"col_heading level0 col3\" >$A_s$</th>        <th class=\"col_heading level0 col4\" >$\\Omega_b$</th>        <th class=\"col_heading level0 col5\" >$n_s$</th>        <th class=\"col_heading level0 col6\" >$w_a$</th>    </tr></thead><tbody>\n",
       "                <tr>\n",
       "                        <th id=\"T_085662da_5aa5_11ea_9c14_549f3515a0bclevel0_row0\" class=\"row_heading level0 row0\" >$\\Omega_m$</th>\n",
       "                        <td id=\"T_085662da_5aa5_11ea_9c14_549f3515a0bcrow0_col0\" class=\"data row0 col0\" >0.790638</td>\n",
       "                        <td id=\"T_085662da_5aa5_11ea_9c14_549f3515a0bcrow0_col1\" class=\"data row0 col1\" >1.14491</td>\n",
       "                        <td id=\"T_085662da_5aa5_11ea_9c14_549f3515a0bcrow0_col2\" class=\"data row0 col2\" >0.770951</td>\n",
       "                        <td id=\"T_085662da_5aa5_11ea_9c14_549f3515a0bcrow0_col3\" class=\"data row0 col3\" >0.736194</td>\n",
       "                        <td id=\"T_085662da_5aa5_11ea_9c14_549f3515a0bcrow0_col4\" class=\"data row0 col4\" >0.781859</td>\n",
       "                        <td id=\"T_085662da_5aa5_11ea_9c14_549f3515a0bcrow0_col5\" class=\"data row0 col5\" >0.62023</td>\n",
       "                        <td id=\"T_085662da_5aa5_11ea_9c14_549f3515a0bcrow0_col6\" class=\"data row0 col6\" >1.00454</td>\n",
       "            </tr>\n",
       "            <tr>\n",
       "                        <th id=\"T_085662da_5aa5_11ea_9c14_549f3515a0bclevel0_row1\" class=\"row_heading level0 row1\" >$w_0$</th>\n",
       "                        <td id=\"T_085662da_5aa5_11ea_9c14_549f3515a0bcrow1_col0\" class=\"data row1 col0\" >1.14491</td>\n",
       "                        <td id=\"T_085662da_5aa5_11ea_9c14_549f3515a0bcrow1_col1\" class=\"data row1 col1\" >0.353569</td>\n",
       "                        <td id=\"T_085662da_5aa5_11ea_9c14_549f3515a0bcrow1_col2\" class=\"data row1 col2\" >-11.453</td>\n",
       "                        <td id=\"T_085662da_5aa5_11ea_9c14_549f3515a0bcrow1_col3\" class=\"data row1 col3\" >0.0288472</td>\n",
       "                        <td id=\"T_085662da_5aa5_11ea_9c14_549f3515a0bcrow1_col4\" class=\"data row1 col4\" >-0.735273</td>\n",
       "                        <td id=\"T_085662da_5aa5_11ea_9c14_549f3515a0bcrow1_col5\" class=\"data row1 col5\" >14.8044</td>\n",
       "                        <td id=\"T_085662da_5aa5_11ea_9c14_549f3515a0bcrow1_col6\" class=\"data row1 col6\" >0.360006</td>\n",
       "            </tr>\n",
       "            <tr>\n",
       "                        <th id=\"T_085662da_5aa5_11ea_9c14_549f3515a0bclevel0_row2\" class=\"row_heading level0 row2\" >$h_0$</th>\n",
       "                        <td id=\"T_085662da_5aa5_11ea_9c14_549f3515a0bcrow2_col0\" class=\"data row2 col0\" >0.770951</td>\n",
       "                        <td id=\"T_085662da_5aa5_11ea_9c14_549f3515a0bcrow2_col1\" class=\"data row2 col1\" >-11.453</td>\n",
       "                        <td id=\"T_085662da_5aa5_11ea_9c14_549f3515a0bcrow2_col2\" class=\"data row2 col2\" >0.672897</td>\n",
       "                        <td id=\"T_085662da_5aa5_11ea_9c14_549f3515a0bcrow2_col3\" class=\"data row2 col3\" >0.470695</td>\n",
       "                        <td id=\"T_085662da_5aa5_11ea_9c14_549f3515a0bcrow2_col4\" class=\"data row2 col4\" >0.682413</td>\n",
       "                        <td id=\"T_085662da_5aa5_11ea_9c14_549f3515a0bcrow2_col5\" class=\"data row2 col5\" >0.420222</td>\n",
       "                        <td id=\"T_085662da_5aa5_11ea_9c14_549f3515a0bcrow2_col6\" class=\"data row2 col6\" >13.1408</td>\n",
       "            </tr>\n",
       "            <tr>\n",
       "                        <th id=\"T_085662da_5aa5_11ea_9c14_549f3515a0bclevel0_row3\" class=\"row_heading level0 row3\" >$A_s$</th>\n",
       "                        <td id=\"T_085662da_5aa5_11ea_9c14_549f3515a0bcrow3_col0\" class=\"data row3 col0\" >0.736194</td>\n",
       "                        <td id=\"T_085662da_5aa5_11ea_9c14_549f3515a0bcrow3_col1\" class=\"data row3 col1\" >0.0288472</td>\n",
       "                        <td id=\"T_085662da_5aa5_11ea_9c14_549f3515a0bcrow3_col2\" class=\"data row3 col2\" >0.470695</td>\n",
       "                        <td id=\"T_085662da_5aa5_11ea_9c14_549f3515a0bcrow3_col3\" class=\"data row3 col3\" >0.199609</td>\n",
       "                        <td id=\"T_085662da_5aa5_11ea_9c14_549f3515a0bcrow3_col4\" class=\"data row3 col4\" >0.466223</td>\n",
       "                        <td id=\"T_085662da_5aa5_11ea_9c14_549f3515a0bcrow3_col5\" class=\"data row3 col5\" >0.316516</td>\n",
       "                        <td id=\"T_085662da_5aa5_11ea_9c14_549f3515a0bcrow3_col6\" class=\"data row3 col6\" >0.0334453</td>\n",
       "            </tr>\n",
       "            <tr>\n",
       "                        <th id=\"T_085662da_5aa5_11ea_9c14_549f3515a0bclevel0_row4\" class=\"row_heading level0 row4\" >$\\Omega_b$</th>\n",
       "                        <td id=\"T_085662da_5aa5_11ea_9c14_549f3515a0bcrow4_col0\" class=\"data row4 col0\" >0.781859</td>\n",
       "                        <td id=\"T_085662da_5aa5_11ea_9c14_549f3515a0bcrow4_col1\" class=\"data row4 col1\" >-0.735273</td>\n",
       "                        <td id=\"T_085662da_5aa5_11ea_9c14_549f3515a0bcrow4_col2\" class=\"data row4 col2\" >0.682413</td>\n",
       "                        <td id=\"T_085662da_5aa5_11ea_9c14_549f3515a0bcrow4_col3\" class=\"data row4 col3\" >0.466223</td>\n",
       "                        <td id=\"T_085662da_5aa5_11ea_9c14_549f3515a0bcrow4_col4\" class=\"data row4 col4\" >0.650899</td>\n",
       "                        <td id=\"T_085662da_5aa5_11ea_9c14_549f3515a0bcrow4_col5\" class=\"data row4 col5\" >0.594547</td>\n",
       "                        <td id=\"T_085662da_5aa5_11ea_9c14_549f3515a0bcrow4_col6\" class=\"data row4 col6\" >-0.555167</td>\n",
       "            </tr>\n",
       "            <tr>\n",
       "                        <th id=\"T_085662da_5aa5_11ea_9c14_549f3515a0bclevel0_row5\" class=\"row_heading level0 row5\" >$n_s$</th>\n",
       "                        <td id=\"T_085662da_5aa5_11ea_9c14_549f3515a0bcrow5_col0\" class=\"data row5 col0\" >0.62023</td>\n",
       "                        <td id=\"T_085662da_5aa5_11ea_9c14_549f3515a0bcrow5_col1\" class=\"data row5 col1\" >14.8044</td>\n",
       "                        <td id=\"T_085662da_5aa5_11ea_9c14_549f3515a0bcrow5_col2\" class=\"data row5 col2\" >0.420222</td>\n",
       "                        <td id=\"T_085662da_5aa5_11ea_9c14_549f3515a0bcrow5_col3\" class=\"data row5 col3\" >0.316516</td>\n",
       "                        <td id=\"T_085662da_5aa5_11ea_9c14_549f3515a0bcrow5_col4\" class=\"data row5 col4\" >0.594547</td>\n",
       "                        <td id=\"T_085662da_5aa5_11ea_9c14_549f3515a0bcrow5_col5\" class=\"data row5 col5\" >0.000314937</td>\n",
       "                        <td id=\"T_085662da_5aa5_11ea_9c14_549f3515a0bcrow5_col6\" class=\"data row5 col6\" >0.34509</td>\n",
       "            </tr>\n",
       "            <tr>\n",
       "                        <th id=\"T_085662da_5aa5_11ea_9c14_549f3515a0bclevel0_row6\" class=\"row_heading level0 row6\" >$w_a$</th>\n",
       "                        <td id=\"T_085662da_5aa5_11ea_9c14_549f3515a0bcrow6_col0\" class=\"data row6 col0\" >1.00454</td>\n",
       "                        <td id=\"T_085662da_5aa5_11ea_9c14_549f3515a0bcrow6_col1\" class=\"data row6 col1\" >0.360006</td>\n",
       "                        <td id=\"T_085662da_5aa5_11ea_9c14_549f3515a0bcrow6_col2\" class=\"data row6 col2\" >13.1408</td>\n",
       "                        <td id=\"T_085662da_5aa5_11ea_9c14_549f3515a0bcrow6_col3\" class=\"data row6 col3\" >0.0334453</td>\n",
       "                        <td id=\"T_085662da_5aa5_11ea_9c14_549f3515a0bcrow6_col4\" class=\"data row6 col4\" >-0.555167</td>\n",
       "                        <td id=\"T_085662da_5aa5_11ea_9c14_549f3515a0bcrow6_col5\" class=\"data row6 col5\" >0.34509</td>\n",
       "                        <td id=\"T_085662da_5aa5_11ea_9c14_549f3515a0bcrow6_col6\" class=\"data row6 col6\" >0.298771</td>\n",
       "            </tr>\n",
       "    </tbody></table>"
      ],
      "text/plain": [
       "<pandas.io.formats.style.Styler at 0x2b8165fa4128>"
      ]
     },
     "execution_count": 98,
     "metadata": {},
     "output_type": "execute_result"
    }
   ],
   "source": [
    "((ccl_scaled_cov_1-cosmosis_scaled_cov_1)/ccl_scaled_cov_1).style.background_gradient(cmap=cmap, axis=None).set_caption(\"Scaled Covariance Relative Differences\")"
   ]
  },
  {
   "cell_type": "code",
   "execution_count": 99,
   "metadata": {},
   "outputs": [
    {
     "data": {
      "text/html": [
       "<style  type=\"text/css\" >\n",
       "    #T_08a14f20_5aa5_11ea_9c14_549f3515a0bcrow0_col0 {\n",
       "            background-color:  #d73c5b;\n",
       "            color:  #f1f1f1;\n",
       "        }    #T_08a14f20_5aa5_11ea_9c14_549f3515a0bcrow0_col1 {\n",
       "            background-color:  #d73c5b;\n",
       "            color:  #f1f1f1;\n",
       "        }    #T_08a14f20_5aa5_11ea_9c14_549f3515a0bcrow0_col2 {\n",
       "            background-color:  #d73c5b;\n",
       "            color:  #f1f1f1;\n",
       "        }    #T_08a14f20_5aa5_11ea_9c14_549f3515a0bcrow0_col3 {\n",
       "            background-color:  #d73c5b;\n",
       "            color:  #f1f1f1;\n",
       "        }    #T_08a14f20_5aa5_11ea_9c14_549f3515a0bcrow0_col4 {\n",
       "            background-color:  #d73c5b;\n",
       "            color:  #f1f1f1;\n",
       "        }    #T_08a14f20_5aa5_11ea_9c14_549f3515a0bcrow0_col5 {\n",
       "            background-color:  #d73c5b;\n",
       "            color:  #f1f1f1;\n",
       "        }    #T_08a14f20_5aa5_11ea_9c14_549f3515a0bcrow0_col6 {\n",
       "            background-color:  #d73c5b;\n",
       "            color:  #f1f1f1;\n",
       "        }    #T_08a14f20_5aa5_11ea_9c14_549f3515a0bcrow1_col0 {\n",
       "            background-color:  #d73c5b;\n",
       "            color:  #f1f1f1;\n",
       "        }    #T_08a14f20_5aa5_11ea_9c14_549f3515a0bcrow1_col1 {\n",
       "            background-color:  #d73c5b;\n",
       "            color:  #f1f1f1;\n",
       "        }    #T_08a14f20_5aa5_11ea_9c14_549f3515a0bcrow1_col2 {\n",
       "            background-color:  #d73c5b;\n",
       "            color:  #f1f1f1;\n",
       "        }    #T_08a14f20_5aa5_11ea_9c14_549f3515a0bcrow1_col3 {\n",
       "            background-color:  #d73c5b;\n",
       "            color:  #f1f1f1;\n",
       "        }    #T_08a14f20_5aa5_11ea_9c14_549f3515a0bcrow1_col4 {\n",
       "            background-color:  #d73c5b;\n",
       "            color:  #f1f1f1;\n",
       "        }    #T_08a14f20_5aa5_11ea_9c14_549f3515a0bcrow1_col5 {\n",
       "            background-color:  #d73c5b;\n",
       "            color:  #f1f1f1;\n",
       "        }    #T_08a14f20_5aa5_11ea_9c14_549f3515a0bcrow1_col6 {\n",
       "            background-color:  #d73c5b;\n",
       "            color:  #f1f1f1;\n",
       "        }    #T_08a14f20_5aa5_11ea_9c14_549f3515a0bcrow2_col0 {\n",
       "            background-color:  #d73c5b;\n",
       "            color:  #f1f1f1;\n",
       "        }    #T_08a14f20_5aa5_11ea_9c14_549f3515a0bcrow2_col1 {\n",
       "            background-color:  #d73c5b;\n",
       "            color:  #f1f1f1;\n",
       "        }    #T_08a14f20_5aa5_11ea_9c14_549f3515a0bcrow2_col2 {\n",
       "            background-color:  #d73c5b;\n",
       "            color:  #f1f1f1;\n",
       "        }    #T_08a14f20_5aa5_11ea_9c14_549f3515a0bcrow2_col3 {\n",
       "            background-color:  #d73c5b;\n",
       "            color:  #f1f1f1;\n",
       "        }    #T_08a14f20_5aa5_11ea_9c14_549f3515a0bcrow2_col4 {\n",
       "            background-color:  #d73c5b;\n",
       "            color:  #f1f1f1;\n",
       "        }    #T_08a14f20_5aa5_11ea_9c14_549f3515a0bcrow2_col5 {\n",
       "            background-color:  #d73c5b;\n",
       "            color:  #f1f1f1;\n",
       "        }    #T_08a14f20_5aa5_11ea_9c14_549f3515a0bcrow2_col6 {\n",
       "            background-color:  #d73c5b;\n",
       "            color:  #f1f1f1;\n",
       "        }    #T_08a14f20_5aa5_11ea_9c14_549f3515a0bcrow3_col0 {\n",
       "            background-color:  #d73c5b;\n",
       "            color:  #f1f1f1;\n",
       "        }    #T_08a14f20_5aa5_11ea_9c14_549f3515a0bcrow3_col1 {\n",
       "            background-color:  #d73c5b;\n",
       "            color:  #f1f1f1;\n",
       "        }    #T_08a14f20_5aa5_11ea_9c14_549f3515a0bcrow3_col2 {\n",
       "            background-color:  #d73c5b;\n",
       "            color:  #f1f1f1;\n",
       "        }    #T_08a14f20_5aa5_11ea_9c14_549f3515a0bcrow3_col3 {\n",
       "            background-color:  #d73c5b;\n",
       "            color:  #f1f1f1;\n",
       "        }    #T_08a14f20_5aa5_11ea_9c14_549f3515a0bcrow3_col4 {\n",
       "            background-color:  #d73c5b;\n",
       "            color:  #f1f1f1;\n",
       "        }    #T_08a14f20_5aa5_11ea_9c14_549f3515a0bcrow3_col5 {\n",
       "            background-color:  #d73c5b;\n",
       "            color:  #f1f1f1;\n",
       "        }    #T_08a14f20_5aa5_11ea_9c14_549f3515a0bcrow3_col6 {\n",
       "            background-color:  #d73c5b;\n",
       "            color:  #f1f1f1;\n",
       "        }    #T_08a14f20_5aa5_11ea_9c14_549f3515a0bcrow4_col0 {\n",
       "            background-color:  #d73c5b;\n",
       "            color:  #f1f1f1;\n",
       "        }    #T_08a14f20_5aa5_11ea_9c14_549f3515a0bcrow4_col1 {\n",
       "            background-color:  #d73c5b;\n",
       "            color:  #f1f1f1;\n",
       "        }    #T_08a14f20_5aa5_11ea_9c14_549f3515a0bcrow4_col2 {\n",
       "            background-color:  #d73c5b;\n",
       "            color:  #f1f1f1;\n",
       "        }    #T_08a14f20_5aa5_11ea_9c14_549f3515a0bcrow4_col3 {\n",
       "            background-color:  #d73c5b;\n",
       "            color:  #f1f1f1;\n",
       "        }    #T_08a14f20_5aa5_11ea_9c14_549f3515a0bcrow4_col4 {\n",
       "            background-color:  #d73c5b;\n",
       "            color:  #f1f1f1;\n",
       "        }    #T_08a14f20_5aa5_11ea_9c14_549f3515a0bcrow4_col5 {\n",
       "            background-color:  #d73c5b;\n",
       "            color:  #f1f1f1;\n",
       "        }    #T_08a14f20_5aa5_11ea_9c14_549f3515a0bcrow4_col6 {\n",
       "            background-color:  #d73c5b;\n",
       "            color:  #f1f1f1;\n",
       "        }    #T_08a14f20_5aa5_11ea_9c14_549f3515a0bcrow5_col0 {\n",
       "            background-color:  #d73c5b;\n",
       "            color:  #f1f1f1;\n",
       "        }    #T_08a14f20_5aa5_11ea_9c14_549f3515a0bcrow5_col1 {\n",
       "            background-color:  #d73c5b;\n",
       "            color:  #f1f1f1;\n",
       "        }    #T_08a14f20_5aa5_11ea_9c14_549f3515a0bcrow5_col2 {\n",
       "            background-color:  #d73c5b;\n",
       "            color:  #f1f1f1;\n",
       "        }    #T_08a14f20_5aa5_11ea_9c14_549f3515a0bcrow5_col3 {\n",
       "            background-color:  #d73c5b;\n",
       "            color:  #f1f1f1;\n",
       "        }    #T_08a14f20_5aa5_11ea_9c14_549f3515a0bcrow5_col4 {\n",
       "            background-color:  #d73c5b;\n",
       "            color:  #f1f1f1;\n",
       "        }    #T_08a14f20_5aa5_11ea_9c14_549f3515a0bcrow5_col5 {\n",
       "            background-color:  #d73c5b;\n",
       "            color:  #f1f1f1;\n",
       "        }    #T_08a14f20_5aa5_11ea_9c14_549f3515a0bcrow5_col6 {\n",
       "            background-color:  #d73c5b;\n",
       "            color:  #f1f1f1;\n",
       "        }    #T_08a14f20_5aa5_11ea_9c14_549f3515a0bcrow6_col0 {\n",
       "            background-color:  #d73c5b;\n",
       "            color:  #f1f1f1;\n",
       "        }    #T_08a14f20_5aa5_11ea_9c14_549f3515a0bcrow6_col1 {\n",
       "            background-color:  #d73c5b;\n",
       "            color:  #f1f1f1;\n",
       "        }    #T_08a14f20_5aa5_11ea_9c14_549f3515a0bcrow6_col2 {\n",
       "            background-color:  #d73c5b;\n",
       "            color:  #f1f1f1;\n",
       "        }    #T_08a14f20_5aa5_11ea_9c14_549f3515a0bcrow6_col3 {\n",
       "            background-color:  #d73c5b;\n",
       "            color:  #f1f1f1;\n",
       "        }    #T_08a14f20_5aa5_11ea_9c14_549f3515a0bcrow6_col4 {\n",
       "            background-color:  #d73c5b;\n",
       "            color:  #f1f1f1;\n",
       "        }    #T_08a14f20_5aa5_11ea_9c14_549f3515a0bcrow6_col5 {\n",
       "            background-color:  #d73c5b;\n",
       "            color:  #f1f1f1;\n",
       "        }    #T_08a14f20_5aa5_11ea_9c14_549f3515a0bcrow6_col6 {\n",
       "            background-color:  #d73c5b;\n",
       "            color:  #f1f1f1;\n",
       "        }</style><table id=\"T_08a14f20_5aa5_11ea_9c14_549f3515a0bc\" ><caption>Scaled Covariance Relative Differences between LU and Cholesky</caption><thead>    <tr>        <th class=\"blank level0\" ></th>        <th class=\"col_heading level0 col0\" >$\\Omega_m$</th>        <th class=\"col_heading level0 col1\" >$w_0$</th>        <th class=\"col_heading level0 col2\" >$h_0$</th>        <th class=\"col_heading level0 col3\" >$A_s$</th>        <th class=\"col_heading level0 col4\" >$\\Omega_b$</th>        <th class=\"col_heading level0 col5\" >$n_s$</th>        <th class=\"col_heading level0 col6\" >$w_a$</th>    </tr></thead><tbody>\n",
       "                <tr>\n",
       "                        <th id=\"T_08a14f20_5aa5_11ea_9c14_549f3515a0bclevel0_row0\" class=\"row_heading level0 row0\" >$\\Omega_m$</th>\n",
       "                        <td id=\"T_08a14f20_5aa5_11ea_9c14_549f3515a0bcrow0_col0\" class=\"data row0 col0\" >0</td>\n",
       "                        <td id=\"T_08a14f20_5aa5_11ea_9c14_549f3515a0bcrow0_col1\" class=\"data row0 col1\" >0</td>\n",
       "                        <td id=\"T_08a14f20_5aa5_11ea_9c14_549f3515a0bcrow0_col2\" class=\"data row0 col2\" >-0</td>\n",
       "                        <td id=\"T_08a14f20_5aa5_11ea_9c14_549f3515a0bcrow0_col3\" class=\"data row0 col3\" >0</td>\n",
       "                        <td id=\"T_08a14f20_5aa5_11ea_9c14_549f3515a0bcrow0_col4\" class=\"data row0 col4\" >-0</td>\n",
       "                        <td id=\"T_08a14f20_5aa5_11ea_9c14_549f3515a0bcrow0_col5\" class=\"data row0 col5\" >0</td>\n",
       "                        <td id=\"T_08a14f20_5aa5_11ea_9c14_549f3515a0bcrow0_col6\" class=\"data row0 col6\" >-0</td>\n",
       "            </tr>\n",
       "            <tr>\n",
       "                        <th id=\"T_08a14f20_5aa5_11ea_9c14_549f3515a0bclevel0_row1\" class=\"row_heading level0 row1\" >$w_0$</th>\n",
       "                        <td id=\"T_08a14f20_5aa5_11ea_9c14_549f3515a0bcrow1_col0\" class=\"data row1 col0\" >0</td>\n",
       "                        <td id=\"T_08a14f20_5aa5_11ea_9c14_549f3515a0bcrow1_col1\" class=\"data row1 col1\" >0</td>\n",
       "                        <td id=\"T_08a14f20_5aa5_11ea_9c14_549f3515a0bcrow1_col2\" class=\"data row1 col2\" >0</td>\n",
       "                        <td id=\"T_08a14f20_5aa5_11ea_9c14_549f3515a0bcrow1_col3\" class=\"data row1 col3\" >-0</td>\n",
       "                        <td id=\"T_08a14f20_5aa5_11ea_9c14_549f3515a0bcrow1_col4\" class=\"data row1 col4\" >0</td>\n",
       "                        <td id=\"T_08a14f20_5aa5_11ea_9c14_549f3515a0bcrow1_col5\" class=\"data row1 col5\" >0</td>\n",
       "                        <td id=\"T_08a14f20_5aa5_11ea_9c14_549f3515a0bcrow1_col6\" class=\"data row1 col6\" >-0</td>\n",
       "            </tr>\n",
       "            <tr>\n",
       "                        <th id=\"T_08a14f20_5aa5_11ea_9c14_549f3515a0bclevel0_row2\" class=\"row_heading level0 row2\" >$h_0$</th>\n",
       "                        <td id=\"T_08a14f20_5aa5_11ea_9c14_549f3515a0bcrow2_col0\" class=\"data row2 col0\" >-0</td>\n",
       "                        <td id=\"T_08a14f20_5aa5_11ea_9c14_549f3515a0bcrow2_col1\" class=\"data row2 col1\" >0</td>\n",
       "                        <td id=\"T_08a14f20_5aa5_11ea_9c14_549f3515a0bcrow2_col2\" class=\"data row2 col2\" >0</td>\n",
       "                        <td id=\"T_08a14f20_5aa5_11ea_9c14_549f3515a0bcrow2_col3\" class=\"data row2 col3\" >-0</td>\n",
       "                        <td id=\"T_08a14f20_5aa5_11ea_9c14_549f3515a0bcrow2_col4\" class=\"data row2 col4\" >0</td>\n",
       "                        <td id=\"T_08a14f20_5aa5_11ea_9c14_549f3515a0bcrow2_col5\" class=\"data row2 col5\" >-0</td>\n",
       "                        <td id=\"T_08a14f20_5aa5_11ea_9c14_549f3515a0bcrow2_col6\" class=\"data row2 col6\" >0</td>\n",
       "            </tr>\n",
       "            <tr>\n",
       "                        <th id=\"T_08a14f20_5aa5_11ea_9c14_549f3515a0bclevel0_row3\" class=\"row_heading level0 row3\" >$A_s$</th>\n",
       "                        <td id=\"T_08a14f20_5aa5_11ea_9c14_549f3515a0bcrow3_col0\" class=\"data row3 col0\" >0</td>\n",
       "                        <td id=\"T_08a14f20_5aa5_11ea_9c14_549f3515a0bcrow3_col1\" class=\"data row3 col1\" >-0</td>\n",
       "                        <td id=\"T_08a14f20_5aa5_11ea_9c14_549f3515a0bcrow3_col2\" class=\"data row3 col2\" >-0</td>\n",
       "                        <td id=\"T_08a14f20_5aa5_11ea_9c14_549f3515a0bcrow3_col3\" class=\"data row3 col3\" >0</td>\n",
       "                        <td id=\"T_08a14f20_5aa5_11ea_9c14_549f3515a0bcrow3_col4\" class=\"data row3 col4\" >-0</td>\n",
       "                        <td id=\"T_08a14f20_5aa5_11ea_9c14_549f3515a0bcrow3_col5\" class=\"data row3 col5\" >0</td>\n",
       "                        <td id=\"T_08a14f20_5aa5_11ea_9c14_549f3515a0bcrow3_col6\" class=\"data row3 col6\" >0</td>\n",
       "            </tr>\n",
       "            <tr>\n",
       "                        <th id=\"T_08a14f20_5aa5_11ea_9c14_549f3515a0bclevel0_row4\" class=\"row_heading level0 row4\" >$\\Omega_b$</th>\n",
       "                        <td id=\"T_08a14f20_5aa5_11ea_9c14_549f3515a0bcrow4_col0\" class=\"data row4 col0\" >-0</td>\n",
       "                        <td id=\"T_08a14f20_5aa5_11ea_9c14_549f3515a0bcrow4_col1\" class=\"data row4 col1\" >0</td>\n",
       "                        <td id=\"T_08a14f20_5aa5_11ea_9c14_549f3515a0bcrow4_col2\" class=\"data row4 col2\" >0</td>\n",
       "                        <td id=\"T_08a14f20_5aa5_11ea_9c14_549f3515a0bcrow4_col3\" class=\"data row4 col3\" >-0</td>\n",
       "                        <td id=\"T_08a14f20_5aa5_11ea_9c14_549f3515a0bcrow4_col4\" class=\"data row4 col4\" >0</td>\n",
       "                        <td id=\"T_08a14f20_5aa5_11ea_9c14_549f3515a0bcrow4_col5\" class=\"data row4 col5\" >-0</td>\n",
       "                        <td id=\"T_08a14f20_5aa5_11ea_9c14_549f3515a0bcrow4_col6\" class=\"data row4 col6\" >-0</td>\n",
       "            </tr>\n",
       "            <tr>\n",
       "                        <th id=\"T_08a14f20_5aa5_11ea_9c14_549f3515a0bclevel0_row5\" class=\"row_heading level0 row5\" >$n_s$</th>\n",
       "                        <td id=\"T_08a14f20_5aa5_11ea_9c14_549f3515a0bcrow5_col0\" class=\"data row5 col0\" >0</td>\n",
       "                        <td id=\"T_08a14f20_5aa5_11ea_9c14_549f3515a0bcrow5_col1\" class=\"data row5 col1\" >0</td>\n",
       "                        <td id=\"T_08a14f20_5aa5_11ea_9c14_549f3515a0bcrow5_col2\" class=\"data row5 col2\" >-0</td>\n",
       "                        <td id=\"T_08a14f20_5aa5_11ea_9c14_549f3515a0bcrow5_col3\" class=\"data row5 col3\" >0</td>\n",
       "                        <td id=\"T_08a14f20_5aa5_11ea_9c14_549f3515a0bcrow5_col4\" class=\"data row5 col4\" >-0</td>\n",
       "                        <td id=\"T_08a14f20_5aa5_11ea_9c14_549f3515a0bcrow5_col5\" class=\"data row5 col5\" >0</td>\n",
       "                        <td id=\"T_08a14f20_5aa5_11ea_9c14_549f3515a0bcrow5_col6\" class=\"data row5 col6\" >-0</td>\n",
       "            </tr>\n",
       "            <tr>\n",
       "                        <th id=\"T_08a14f20_5aa5_11ea_9c14_549f3515a0bclevel0_row6\" class=\"row_heading level0 row6\" >$w_a$</th>\n",
       "                        <td id=\"T_08a14f20_5aa5_11ea_9c14_549f3515a0bcrow6_col0\" class=\"data row6 col0\" >-0</td>\n",
       "                        <td id=\"T_08a14f20_5aa5_11ea_9c14_549f3515a0bcrow6_col1\" class=\"data row6 col1\" >-0</td>\n",
       "                        <td id=\"T_08a14f20_5aa5_11ea_9c14_549f3515a0bcrow6_col2\" class=\"data row6 col2\" >0</td>\n",
       "                        <td id=\"T_08a14f20_5aa5_11ea_9c14_549f3515a0bcrow6_col3\" class=\"data row6 col3\" >0</td>\n",
       "                        <td id=\"T_08a14f20_5aa5_11ea_9c14_549f3515a0bcrow6_col4\" class=\"data row6 col4\" >-0</td>\n",
       "                        <td id=\"T_08a14f20_5aa5_11ea_9c14_549f3515a0bcrow6_col5\" class=\"data row6 col5\" >-0</td>\n",
       "                        <td id=\"T_08a14f20_5aa5_11ea_9c14_549f3515a0bcrow6_col6\" class=\"data row6 col6\" >0</td>\n",
       "            </tr>\n",
       "    </tbody></table>"
      ],
      "text/plain": [
       "<pandas.io.formats.style.Styler at 0x2b8165337898>"
      ]
     },
     "execution_count": 99,
     "metadata": {},
     "output_type": "execute_result"
    }
   ],
   "source": [
    "((ccl_scaled_cov_1-ccl_scaled_cov_1)/ccl_scaled_cov_0)\\\n",
    ".style.background_gradient(cmap=cmap, axis=None).set_caption(\"Scaled Covariance Relative Differences between LU and Cholesky\")"
   ]
  },
  {
   "cell_type": "code",
   "execution_count": 100,
   "metadata": {},
   "outputs": [
    {
     "data": {
      "text/plain": [
       "array([4.48259278e+22, 9.54005569e+04, 5.89883452e+04, 5.22048115e+03,\n",
       "       3.02564088e+01, 2.32699211e+01, 4.70826797e+02])"
      ]
     },
     "execution_count": 100,
     "metadata": {},
     "output_type": "execute_result"
    }
   ],
   "source": [
    "np.linalg.svd(ccl_f, compute_uv=False, hermitian=True)"
   ]
  },
  {
   "cell_type": "markdown",
   "metadata": {},
   "source": [
    "## Bounds on norm of inverse"
   ]
  },
  {
   "cell_type": "markdown",
   "metadata": {},
   "source": [
    "see https://nvlpubs.nist.gov/nistpubs/jres/78B/jresv78Bn2p65_A1b.pdf\n",
    "\n",
    "Let $A$ be a nonsingular matrix, $X$ is an approx inverse to $A$ such that $N(R) < 1 $ where $R = I - AX$ and $N$ is any matrix norm, then \n",
    "$$\n",
    "\\frac{N(XR)}{1+N(R)} \\leq N(A^{-1} - X) \\leq \\frac{N(XR)}{1-N(R)}\n",
    "$$\n",
    "Below, we use the Frobenius/Euclidean norm:\n",
    "$$\n",
    "N(A) = \\sqrt{\\sum_{i=1}^n\\sum_{j=i}^n |a_{ij}|^2}\n",
    "$$"
   ]
  },
  {
   "cell_type": "code",
   "execution_count": 7,
   "metadata": {},
   "outputs": [],
   "source": [
    "def get_bounds(A, inv_func, norm=None):\n",
    "    X = inv_func(A)\n",
    "    R = np.eye(len(A)) - np.dot(A, X)\n",
    "    lower = norm(np.dot(X, R))/(1 + norm(R))\n",
    "    upper = norm(np.dot(X, R))/(1 - norm(R))\n",
    "    return lower, upper"
   ]
  },
  {
   "cell_type": "markdown",
   "metadata": {},
   "source": [
    "#### regular `np.linalg.inv`"
   ]
  },
  {
   "cell_type": "code",
   "execution_count": 102,
   "metadata": {},
   "outputs": [
    {
     "name": "stdout",
     "output_type": "stream",
     "text": [
      "For the regular numpy inverse,\n",
      "the lower bound is 4.421816e-13,\n",
      "the upper bound is 4.431954e-13,\n",
      "and the spread is 1.013768e-15\n"
     ]
    }
   ],
   "source": [
    "lu_l1, lu_u1 = get_bounds(ccl_f, np.linalg.inv, sp.linalg.norm) # this uses the 2-norm\n",
    "print(\"For the regular numpy inverse,\\nthe lower bound is %e,\\nthe upper bound is %e,\\nand the spread is %e\"%(lu_l1,lu_u1, lu_u1-lu_l1))"
   ]
  },
  {
   "cell_type": "code",
   "execution_count": 103,
   "metadata": {},
   "outputs": [
    {
     "name": "stdout",
     "output_type": "stream",
     "text": [
      "For the regular numpy inverse,\n",
      "the lower bound is 2.278384e-13,\n",
      "the upper bound is 2.279347e-13,\n",
      "and the spread is 9.629905e-17\n"
     ]
    }
   ],
   "source": [
    "lu_l2, lu_u2 = get_bounds(cosmosis_f, np.linalg.inv, sp.linalg.norm) # this uses the 2-norm\n",
    "print(\"For the regular numpy inverse,\\nthe lower bound is %e,\\nthe upper bound is %e,\\nand the spread is %e\"%(lu_l2,lu_u2, lu_u2-lu_l2))"
   ]
  },
  {
   "cell_type": "code",
   "execution_count": 8,
   "metadata": {},
   "outputs": [
    {
     "name": "stdout",
     "output_type": "stream",
     "text": [
      "For the regular numpy inverse,\n",
      "the lower bound is 1.884429e-12,\n",
      "the upper bound is 1.884429e-12,\n",
      "and the spread is 1.704961e-22\n"
     ]
    }
   ],
   "source": [
    "lu_l1_scaled, lu_u1_scaled = get_bounds(ccl_f_scaled, np.linalg.inv, sp.linalg.norm) # this uses the 2-norm\n",
    "print(\"For the regular numpy inverse,\\nthe lower bound is %e,\\nthe upper bound is %e,\\nand the spread is %e\"%(lu_l1_scaled,lu_u1_scaled, lu_u1_scaled-lu_l1_scaled))"
   ]
  },
  {
   "cell_type": "code",
   "execution_count": 10,
   "metadata": {},
   "outputs": [
    {
     "name": "stdout",
     "output_type": "stream",
     "text": [
      "1.884429132379796e-12\n",
      "1.884429132550292e-12\n"
     ]
    }
   ],
   "source": [
    "print(lu_l1_scaled)\n",
    "print(lu_u1_scaled)"
   ]
  },
  {
   "cell_type": "code",
   "execution_count": 11,
   "metadata": {},
   "outputs": [
    {
     "name": "stdout",
     "output_type": "stream",
     "text": [
      "For the regular numpy inverse,\n",
      "the lower bound is 3.087353e-13,\n",
      "the upper bound is 3.087353e-13,\n",
      "and the spread is 2.279412e-23\n"
     ]
    }
   ],
   "source": [
    "lu_l2_scaled, lu_u2_scaled = get_bounds(cosmosis_f_scaled, np.linalg.inv, sp.linalg.norm) # this uses the 2-norm\n",
    "print(\"For the regular numpy inverse,\\nthe lower bound is %e,\\nthe upper bound is %e,\\nand the spread is %e\"%(lu_l2_scaled,lu_u2_scaled, lu_u2_scaled-lu_l2_scaled))"
   ]
  },
  {
   "cell_type": "code",
   "execution_count": 13,
   "metadata": {},
   "outputs": [
    {
     "name": "stdout",
     "output_type": "stream",
     "text": [
      "3.087352994061563e-13\n",
      "3.087352994289504e-13\n"
     ]
    }
   ],
   "source": [
    "print(lu_l2_scaled)\n",
    "print(lu_u2_scaled)"
   ]
  },
  {
   "cell_type": "markdown",
   "metadata": {},
   "source": [
    "#### `cholesky` inverse"
   ]
  },
  {
   "cell_type": "code",
   "execution_count": 106,
   "metadata": {},
   "outputs": [
    {
     "name": "stdout",
     "output_type": "stream",
     "text": [
      "For the regular numpy inverse,\n",
      "the lower bound is 2.341865e-12,\n",
      "the upper bound is 2.357554e-12,\n",
      "and the spread is 1.568897e-14\n"
     ]
    }
   ],
   "source": [
    "cho_l1, cho_u1 = get_bounds(ccl_f, cholesky_inv, sp.linalg.norm) # this uses the 2-norm\n",
    "print(\"For the regular numpy inverse,\\nthe lower bound is %e,\\nthe upper bound is %e,\\nand the spread is %e\"%(cho_l1,cho_u1, cho_u1-cho_l1))"
   ]
  },
  {
   "cell_type": "code",
   "execution_count": 107,
   "metadata": {},
   "outputs": [
    {
     "name": "stdout",
     "output_type": "stream",
     "text": [
      "For the regular numpy inverse,\n",
      "the lower bound is 1.659928e-13,\n",
      "the upper bound is 1.661935e-13,\n",
      "and the spread is 2.006505e-16\n"
     ]
    }
   ],
   "source": [
    "cho_l2, cho_u2 = get_bounds(cosmosis_f, cholesky_inv, sp.linalg.norm) # this uses the 2-norm\n",
    "print(\"For the regular numpy inverse,\\nthe lower bound is %e,\\nthe upper bound is %e,\\nand the spread is %e\"%(cho_l2,cho_u2, cho_u2-cho_l2))"
   ]
  },
  {
   "cell_type": "code",
   "execution_count": 108,
   "metadata": {},
   "outputs": [
    {
     "name": "stdout",
     "output_type": "stream",
     "text": [
      "For the regular numpy inverse,\n",
      "the lower bound is 3.441255e-12,\n",
      "the upper bound is 3.441255e-12,\n",
      "and the spread is 5.369949e-22\n"
     ]
    }
   ],
   "source": [
    "cho_l1_scaled, cho_u1_scaled = get_bounds(ccl_f_scaled, cholesky_inv, sp.linalg.norm) # this uses the 2-norm\n",
    "print(\"For the regular numpy inverse,\\nthe lower bound is %e,\\nthe upper bound is %e,\\nand the spread is %e\"%(cho_l1_scaled,cho_u1_scaled, cho_u1_scaled-cho_l1_scaled))"
   ]
  },
  {
   "cell_type": "code",
   "execution_count": 109,
   "metadata": {},
   "outputs": [
    {
     "name": "stdout",
     "output_type": "stream",
     "text": [
      "For the regular numpy inverse,\n",
      "the lower bound is 3.409873e-13,\n",
      "the upper bound is 3.409873e-13,\n",
      "and the spread is 1.728744e-23\n"
     ]
    }
   ],
   "source": [
    "cho_l2_scaled, cho_u2_scaled = get_bounds(cosmosis_f_scaled, cholesky_inv, sp.linalg.norm) # this uses the 2-norm\n",
    "print(\"For the regular numpy inverse,\\nthe lower bound is %e,\\nthe upper bound is %e,\\nand the spread is %e\"%(cho_l2_scaled,cho_u2_scaled, cho_u2_scaled-cho_l2_scaled))"
   ]
  },
  {
   "cell_type": "markdown",
   "metadata": {},
   "source": [
    "# Figure of Merit Comparisons"
   ]
  },
  {
   "cell_type": "code",
   "execution_count": 110,
   "metadata": {
    "jupyter": {
     "source_hidden": true
    }
   },
   "outputs": [],
   "source": [
    "paras = [\"$\\Omega_m$\", \"$w_0$\", \"$h_0$\", \"$A_s$\", \"$\\Omega_b$\", \"$n_s$\", \"$w_a$\"]\n",
    "\n",
    "# some functions to calculate the figure of merit for any pair of parameters\n",
    "def marg_cov(cov, para1, para2):\n",
    "    ind1 = paras.index(para1)\n",
    "    ind2 = paras.index(para2)\n",
    "    inds = np.asarray((ind1, ind2))\n",
    "    # first get all indeces to remove\n",
    "    all_cov_inds = range(len(cov[0]))\n",
    "    del_inds = np.delete(all_cov_inds, inds)\n",
    "    # then delete rows and cols\n",
    "    marged_cov = np.delete(np.delete(cov, del_inds, 0), del_inds, 1)\n",
    "    return marged_cov\n",
    "\n",
    "def calc_fom(cov):\n",
    "    # takes marg cov matrix\n",
    "    # inverts it to get reduced fisher matrix\n",
    "    # returns sqrt of det of fisher matrix\n",
    "    fisher = np.linalg.inv(cov)\n",
    "    FOM = np.sqrt(np.linalg.det(fisher))\n",
    "    return FOM\n",
    "\n",
    "def fom(fisher, para1, para2, inv=np.linalg.inv):\n",
    "    cov = inv(fisher)\n",
    "    marged_cov = marg_cov(cov, para1, para2)\n",
    "    return calc_fom(marged_cov)"
   ]
  },
  {
   "cell_type": "code",
   "execution_count": 111,
   "metadata": {
    "jupyter": {
     "source_hidden": true
    }
   },
   "outputs": [],
   "source": [
    "# plotting helper function\n",
    "def plot_cov_ellipse(cov, pos, nstd=1, ax=None, **kwargs):\n",
    "    \"\"\"\n",
    "    Plots an `nstd` sigma error ellipse based on the specified covariance\n",
    "    matrix (`cov`). Additional keyword arguments are passed on to the\n",
    "    ellipse patch artist.\n",
    "    Parameters\n",
    "    ----------\n",
    "    cov :  The 2x2 covariance matrix to base the ellipse on\n",
    "    pos :  The location of the center of the ellipse. Expects a 2-element\n",
    "           sequence of [x0, y0].\n",
    "    nstd : The radius of the ellipse in numbers of standard deviations.\n",
    "           Defaults to 2 standard deviations.\n",
    "    ax :   The axis that the ellipse will be plotted on. Defaults to the\n",
    "           current axis.\n",
    "    Additional keyword arguments are pass on to the ellipse patch.\n",
    "\n",
    "    Returns:\n",
    "    -------\n",
    "    A matplotlib ellipse artist\n",
    "    \"\"\"\n",
    "\n",
    "    def eigsorted(cov):\n",
    "        vals, vecs = np.linalg.eigh(cov)\n",
    "        order = vals.argsort()[::-1]\n",
    "        return vals[order], vecs[:,order]\n",
    "\n",
    "    if ax is None:\n",
    "        ax = plt.gca()\n",
    "\n",
    "    vals, vecs = eigsorted(cov)\n",
    "    #print vals, vecs\n",
    "\n",
    "    theta = np.degrees(np.arctan2(*vecs[:,0][::-1]))\n",
    "\n",
    "    # Calculate chi squared correction for ellipse\n",
    "    # Uses chi2 pdf with 2 degrees of freedom\n",
    "    # note ppf is the quantile function\n",
    "    def chi2correction(nstd):\n",
    "\n",
    "        def get_conf_level(ntsd):\n",
    "            # if X ~ N(u, s) gaussian,\n",
    "            # then this function returns\n",
    "            # Pr(u - ntsd*s < X < u + ntsd*s)\n",
    "            # \n",
    "            # nstd 1 -> .6827\n",
    "            # ntsd 2 -> .9545\n",
    "            # ntsd 3 -> .9973\n",
    "            return 1 - (1 - norm().cdf(ntsd))*2\n",
    "        \n",
    "        conf_level = get_conf_level(nstd)\n",
    "        return np.sqrt(chi2(2).ppf(conf_level))\n",
    "\n",
    "    # Width and height are \"full\" widths, not radius\n",
    "    width, height = 2 * chi2correction(nstd) * np.sqrt(vals)\n",
    "    ellip = Ellipse(xy=pos, width=width, height=height, angle=theta, **kwargs)\n",
    "    ellip.set_facecolor('none')\n",
    "    plt.gca().add_patch(ellip)\n",
    "    return ellip"
   ]
  },
  {
   "cell_type": "markdown",
   "metadata": {},
   "source": [
    "### FoM for $w_0$ and $w_a$"
   ]
  },
  {
   "cell_type": "code",
   "execution_count": 112,
   "metadata": {},
   "outputs": [],
   "source": [
    "w_fom1 = fom(ccl_f, \"$w_0$\", \"$w_a$\")\n",
    "w_fom2 = fom(cosmosis_f, \"$w_0$\", \"$w_a$\")"
   ]
  },
  {
   "cell_type": "code",
   "execution_count": 113,
   "metadata": {},
   "outputs": [
    {
     "name": "stdout",
     "output_type": "stream",
     "text": [
      "Original Fisher FoM: 25.2396\n",
      "Modified Fisher FoM: 29.5047\n",
      "Relative Difference: 0.1690\n"
     ]
    }
   ],
   "source": [
    "print(\"Original Fisher FoM: %.4f\"%w_fom1)\n",
    "print(\"Modified Fisher FoM: %.4f\"%w_fom2)\n",
    "print(\"Relative Difference: %.4f\"%((w_fom2-w_fom1)/w_fom1))"
   ]
  },
  {
   "cell_type": "markdown",
   "metadata": {},
   "source": [
    "Plot the ellipses"
   ]
  },
  {
   "cell_type": "code",
   "execution_count": 114,
   "metadata": {
    "jupyter": {
     "source_hidden": true
    }
   },
   "outputs": [],
   "source": [
    "from scipy.stats import norm, chi2\n",
    "from matplotlib.patches import Ellipse"
   ]
  },
  {
   "cell_type": "code",
   "execution_count": 115,
   "metadata": {
    "jupyter": {
     "source_hidden": true
    }
   },
   "outputs": [
    {
     "data": {
      "image/png": "[encoded data removed]",
      "text/plain": [
       "<Figure size 648x432 with 1 Axes>"
      ]
     },
     "metadata": {
      "needs_background": "light"
     },
     "output_type": "display_data"
    }
   ],
   "source": [
    "plt.subplots(figsize=(9,6))\n",
    "\n",
    "mc1 = marg_cov(np.linalg.inv(ccl_f), \"$w_0$\", \"$w_a$\")\n",
    "mc2 = marg_cov(np.linalg.inv(cosmosis_f), \"$w_0$\", \"$w_a$\")\n",
    "\n",
    "el2 = plot_cov_ellipse(mc2, (0,0), nstd=2)\n",
    "el2.set_facecolor(\"C1\")\n",
    "el2.set_alpha(0.2)\n",
    "el2 = plot_cov_ellipse(mc2, (0,0), nstd=2, label=\"modified\", linestyle=\"--\")\n",
    "el2.set_edgecolor(\"C1\")\n",
    "\n",
    "el1 = plot_cov_ellipse(mc1, (0,0), nstd=2)\n",
    "el1.set_facecolor(\"C0\")\n",
    "el1.set_alpha(0.2)\n",
    "el1 = plot_cov_ellipse(mc1, (0,0), nstd=2, label=\"original\")\n",
    "el1.set_edgecolor(\"C0\")\n",
    "\n",
    "plt.autoscale()\n",
    "plt.legend()\n",
    "plt.xlabel(r'$w_0 - w_0^{fid}$', fontsize=16)\n",
    "plt.ylabel(r'$w_a - w_a^{fid}$', fontsize=16)\n",
    "plt.show()"
   ]
  },
  {
   "cell_type": "markdown",
   "metadata": {},
   "source": [
    "### FoM for $w_0$ and $w_a$ from scaled Fishers"
   ]
  },
  {
   "cell_type": "code",
   "execution_count": 116,
   "metadata": {},
   "outputs": [],
   "source": [
    "w_fom1_scaled = fom(ccl_f_scaled, \"$w_0$\", \"$w_a$\")\n",
    "w_fom2_scaled = fom(cosmosis_f_scaled, \"$w_0$\", \"$w_a$\")"
   ]
  },
  {
   "cell_type": "code",
   "execution_count": 117,
   "metadata": {},
   "outputs": [
    {
     "name": "stdout",
     "output_type": "stream",
     "text": [
      "Original Fisher FoM: 25.2396\n",
      "Modified Fisher FoM: 29.5047\n",
      "Relative Difference: 0.1690\n"
     ]
    }
   ],
   "source": [
    "print(\"Original Fisher FoM: %.4f\"%w_fom1_scaled)\n",
    "print(\"Modified Fisher FoM: %.4f\"%w_fom2_scaled)\n",
    "print(\"Relative Difference: %.4f\"%((w_fom2_scaled-w_fom1_scaled)/w_fom1_scaled))"
   ]
  },
  {
   "cell_type": "markdown",
   "metadata": {},
   "source": [
    "Plot the ellipses"
   ]
  },
  {
   "cell_type": "code",
   "execution_count": 118,
   "metadata": {
    "jupyter": {
     "source_hidden": true
    }
   },
   "outputs": [],
   "source": [
    "from scipy.stats import norm, chi2\n",
    "from matplotlib.patches import Ellipse"
   ]
  },
  {
   "cell_type": "code",
   "execution_count": 119,
   "metadata": {
    "jupyter": {
     "source_hidden": true
    }
   },
   "outputs": [
    {
     "data": {
      "image/png": "[encoded data removed]",
      "text/plain": [
       "<Figure size 648x432 with 1 Axes>"
      ]
     },
     "metadata": {
      "needs_background": "light"
     },
     "output_type": "display_data"
    }
   ],
   "source": [
    "plt.subplots(figsize=(9,6))\n",
    "\n",
    "mc1 = marg_cov(np.linalg.inv(ccl_f_scaled), \"$w_0$\", \"$w_a$\")\n",
    "mc2 = marg_cov(np.linalg.inv(cosmosis_f_scaled), \"$w_0$\", \"$w_a$\")\n",
    "\n",
    "el2 = plot_cov_ellipse(mc2, (0,0), nstd=2)\n",
    "el2.set_facecolor(\"C1\")\n",
    "el2.set_alpha(0.2)\n",
    "el2 = plot_cov_ellipse(mc2, (0,0), nstd=2, label=\"modified\", linestyle=\"--\")\n",
    "el2.set_edgecolor(\"C1\")\n",
    "\n",
    "el1 = plot_cov_ellipse(mc1, (0,0), nstd=2)\n",
    "el1.set_facecolor(\"C0\")\n",
    "el1.set_alpha(0.2)\n",
    "el1 = plot_cov_ellipse(mc1, (0,0), nstd=2, label=\"original\")\n",
    "el1.set_edgecolor(\"C0\")\n",
    "\n",
    "plt.autoscale()\n",
    "plt.legend()\n",
    "plt.xlabel(r'$w_0 - w_0^{fid}$', fontsize=16)\n",
    "plt.ylabel(r'$w_a - w_a^{fid}$', fontsize=16)\n",
    "plt.show()"
   ]
  },
  {
   "cell_type": "markdown",
   "metadata": {},
   "source": [
    "### FoM for $\\Omega_m$ and $A_s$"
   ]
  },
  {
   "cell_type": "code",
   "execution_count": 120,
   "metadata": {},
   "outputs": [],
   "source": [
    "om_fom1 = fom(ccl_f, \"$\\Omega_m$\", \"$A_s$\")\n",
    "om_fom2 = fom(cosmosis_f, \"$\\Omega_m$\", \"$A_s$\")"
   ]
  },
  {
   "cell_type": "code",
   "execution_count": 121,
   "metadata": {},
   "outputs": [
    {
     "name": "stdout",
     "output_type": "stream",
     "text": [
      "Original Fisher FoM: 96069220331.7529\n",
      "Modified Fisher FoM: 220523297946.9893\n",
      "Relative Difference: 1.2955\n"
     ]
    }
   ],
   "source": [
    "print(\"Original Fisher FoM: %.4f\"%om_fom1)\n",
    "print(\"Modified Fisher FoM: %.4f\"%om_fom2)\n",
    "print(\"Relative Difference: %.4f\"%((om_fom2-om_fom1)/om_fom1))"
   ]
  },
  {
   "cell_type": "markdown",
   "metadata": {},
   "source": [
    "Plot the ellipses"
   ]
  },
  {
   "cell_type": "code",
   "execution_count": 122,
   "metadata": {
    "jupyter": {
     "source_hidden": true
    }
   },
   "outputs": [],
   "source": [
    "from scipy.stats import norm, chi2\n",
    "from matplotlib.patches import Ellipse"
   ]
  },
  {
   "cell_type": "code",
   "execution_count": 123,
   "metadata": {
    "jupyter": {
     "source_hidden": true
    }
   },
   "outputs": [
    {
     "data": {
      "image/png": "[encoded data removed]",
      "text/plain": [
       "<Figure size 648x432 with 1 Axes>"
      ]
     },
     "metadata": {
      "needs_background": "light"
     },
     "output_type": "display_data"
    }
   ],
   "source": [
    "plt.subplots(figsize=(9,6))\n",
    "\n",
    "mc1 = marg_cov(np.linalg.inv(ccl_f), \"$\\Omega_m$\", \"$A_s$\")\n",
    "mc2 = marg_cov(np.linalg.inv(cosmosis_f), \"$\\Omega_m$\", \"$A_s$\")\n",
    "\n",
    "el2 = plot_cov_ellipse(mc2, (0,0), nstd=2)\n",
    "el2.set_facecolor(\"C1\")\n",
    "el2.set_alpha(0.2)\n",
    "el2 = plot_cov_ellipse(mc2, (0,0), nstd=2, label=\"modified\", linestyle=\"--\")\n",
    "el2.set_edgecolor(\"C1\")\n",
    "\n",
    "el1 = plot_cov_ellipse(mc1, (0,0), nstd=2)\n",
    "el1.set_facecolor(\"C0\")\n",
    "el1.set_alpha(0.2)\n",
    "el1 = plot_cov_ellipse(mc1, (0,0), nstd=2, label=\"original\")\n",
    "el1.set_edgecolor(\"C0\")\n",
    "\n",
    "plt.autoscale()\n",
    "plt.legend()\n",
    "plt.xlabel(r'$\\Omega_m - \\Omega_m^{fid}$', fontsize=16)\n",
    "plt.ylabel(r'$A_s - A_s^{fid}$', fontsize=16)\n",
    "plt.show()"
   ]
  },
  {
   "cell_type": "markdown",
   "metadata": {},
   "source": [
    "### FoM for $\\Omega_m$ and $10^9 A_s$ for scaled Fishers"
   ]
  },
  {
   "cell_type": "code",
   "execution_count": 124,
   "metadata": {},
   "outputs": [],
   "source": [
    "om_fom1_scaled = fom(ccl_f_scaled, \"$\\Omega_m$\", \"$A_s$\")\n",
    "om_fom2_scaled = fom(cosmosis_f_scaled, \"$\\Omega_m$\", \"$A_s$\")"
   ]
  },
  {
   "cell_type": "code",
   "execution_count": 125,
   "metadata": {},
   "outputs": [
    {
     "name": "stdout",
     "output_type": "stream",
     "text": [
      "Original Fisher FoM: 96.0692\n",
      "Modified Fisher FoM: 220.5233\n",
      "Relative Difference: 1.2955\n"
     ]
    }
   ],
   "source": [
    "print(\"Original Fisher FoM: %.4f\"%om_fom1_scaled)\n",
    "print(\"Modified Fisher FoM: %.4f\"%om_fom2_scaled)\n",
    "print(\"Relative Difference: %.4f\"%((om_fom2_scaled-om_fom1_scaled)/om_fom1_scaled))"
   ]
  },
  {
   "cell_type": "markdown",
   "metadata": {},
   "source": [
    "Plot the ellipses"
   ]
  },
  {
   "cell_type": "code",
   "execution_count": 126,
   "metadata": {
    "jupyter": {
     "source_hidden": true
    }
   },
   "outputs": [],
   "source": [
    "from scipy.stats import norm, chi2\n",
    "from matplotlib.patches import Ellipse"
   ]
  },
  {
   "cell_type": "code",
   "execution_count": 127,
   "metadata": {
    "jupyter": {
     "source_hidden": true
    }
   },
   "outputs": [
    {
     "data": {
      "image/png": "[encoded data removed]",
      "text/plain": [
       "<Figure size 648x432 with 1 Axes>"
      ]
     },
     "metadata": {
      "needs_background": "light"
     },
     "output_type": "display_data"
    }
   ],
   "source": [
    "plt.subplots(figsize=(9,6))\n",
    "\n",
    "mc1 = marg_cov(np.linalg.inv(ccl_f_scaled), \"$\\Omega_m$\", \"$A_s$\")\n",
    "mc2 = marg_cov(np.linalg.inv(cosmosis_f_scaled), \"$\\Omega_m$\", \"$A_s$\")\n",
    "\n",
    "el2 = plot_cov_ellipse(mc2, (0,0), nstd=2)\n",
    "el2.set_facecolor(\"C1\")\n",
    "el2.set_alpha(0.2)\n",
    "el2 = plot_cov_ellipse(mc2, (0,0), nstd=2, label=\"modified\", linestyle=\"--\")\n",
    "el2.set_edgecolor(\"C1\")\n",
    "\n",
    "el1 = plot_cov_ellipse(mc1, (0,0), nstd=2)\n",
    "el1.set_facecolor(\"C0\")\n",
    "el1.set_alpha(0.2)\n",
    "el1 = plot_cov_ellipse(mc1, (0,0), nstd=2, label=\"original\")\n",
    "el1.set_edgecolor(\"C0\")\n",
    "\n",
    "plt.autoscale()\n",
    "plt.legend()\n",
    "plt.xlabel(r'$\\Omega_m - \\Omega_m^{fid}$', fontsize=16)\n",
    "plt.ylabel(r'$10^9A_s - 10^9A_s^{fid}$', fontsize=16)\n",
    "plt.show()"
   ]
  },
  {
   "cell_type": "markdown",
   "metadata": {},
   "source": [
    "# Save info of matrices out "
   ]
  },
  {
   "cell_type": "markdown",
   "metadata": {},
   "source": [
    "Make an array containing:\n",
    "1. condition number\n",
    "2. w0_wa FoM\n",
    "3. om_m A_s FoM\n",
    "3. om_m sigma_8 FoM\n",
    "4. Spread on Norm of LU Inverse - Actual Inverse\n",
    "4. Spread on Norm of Cholesky Inverse - Actual Inverse"
   ]
  },
  {
   "cell_type": "code",
   "execution_count": 128,
   "metadata": {},
   "outputs": [],
   "source": [
    "info1 = np.array([cond1, w_fom1, om_fom1, np.nan, np.NaN, lu_u1-lu_l1, cho_u1-cho_l1])\n",
    "info2 = np.array([cond2, w_fom2, om_fom2, np.nan, np.NaN, lu_u2-lu_l2, cho_u2-cho_l2])"
   ]
  },
  {
   "cell_type": "code",
   "execution_count": 129,
   "metadata": {},
   "outputs": [],
   "source": [
    "info1_scaled = np.array([cond1_scaled, w_fom1_scaled, np.nan, om_fom1_scaled, np.NaN, lu_u1_scaled-lu_l1_scaled, cho_u1_scaled-cho_l1_scaled])\n",
    "info2_scaled = np.array([cond2_scaled, w_fom2_scaled, np.nan, om_fom2_scaled, np.NaN, lu_u2_scaled-lu_l2_scaled, cho_u2_scaled-cho_l2_scaled])"
   ]
  },
  {
   "cell_type": "code",
   "execution_count": 130,
   "metadata": {},
   "outputs": [],
   "source": [
    "np.savetxt(\"SRD/ccl_info.txt\", info1)\n",
    "np.savetxt(\"SRD/cosmosis_info.txt\", info2)"
   ]
  },
  {
   "cell_type": "code",
   "execution_count": 131,
   "metadata": {},
   "outputs": [],
   "source": [
    "np.savetxt(\"SRD/ccl_scaled_info.txt\", info1_scaled)\n",
    "np.savetxt(\"SRD/cosmosis_scaled_info.txt\", info2_scaled)"
   ]
  },
  {
   "cell_type": "code",
   "execution_count": null,
   "metadata": {},
   "outputs": [],
   "source": []
  },
  {
   "cell_type": "code",
   "execution_count": 7,
   "metadata": {},
   "outputs": [
    {
     "data": {
      "text/html": [
       "<div>\n",
       "<style scoped>\n",
       "    .dataframe tbody tr th:only-of-type {\n",
       "        vertical-align: middle;\n",
       "    }\n",
       "\n",
       "    .dataframe tbody tr th {\n",
       "        vertical-align: top;\n",
       "    }\n",
       "\n",
       "    .dataframe thead th {\n",
       "        text-align: right;\n",
       "    }\n",
       "</style>\n",
       "<table border=\"1\" class=\"dataframe\">\n",
       "  <thead>\n",
       "    <tr style=\"text-align: right;\">\n",
       "      <th></th>\n",
       "      <th>$\\Omega_m$</th>\n",
       "      <th>$w_0$</th>\n",
       "      <th>$h_0$</th>\n",
       "      <th>$A_s$</th>\n",
       "      <th>$\\Omega_b$</th>\n",
       "      <th>$n_s$</th>\n",
       "      <th>$w_a$</th>\n",
       "    </tr>\n",
       "  </thead>\n",
       "  <tbody>\n",
       "    <tr>\n",
       "      <th>$\\Omega_m$</th>\n",
       "      <td>1.454635e+07</td>\n",
       "      <td>-1.470808e+06</td>\n",
       "      <td>5.355630e+06</td>\n",
       "      <td>8.054718e+14</td>\n",
       "      <td>-8.248393e+06</td>\n",
       "      <td>1.373576e+06</td>\n",
       "      <td>-4.748888e+05</td>\n",
       "    </tr>\n",
       "    <tr>\n",
       "      <th>$w_0$</th>\n",
       "      <td>-1.470808e+06</td>\n",
       "      <td>1.502973e+05</td>\n",
       "      <td>-5.428171e+05</td>\n",
       "      <td>-8.186928e+13</td>\n",
       "      <td>8.393905e+05</td>\n",
       "      <td>-1.353733e+05</td>\n",
       "      <td>4.862162e+04</td>\n",
       "    </tr>\n",
       "    <tr>\n",
       "      <th>$h_0$</th>\n",
       "      <td>5.355630e+06</td>\n",
       "      <td>-5.428171e+05</td>\n",
       "      <td>1.978364e+06</td>\n",
       "      <td>2.974796e+14</td>\n",
       "      <td>-3.064284e+06</td>\n",
       "      <td>5.061444e+05</td>\n",
       "      <td>-1.757612e+05</td>\n",
       "    </tr>\n",
       "    <tr>\n",
       "      <th>$A_s$</th>\n",
       "      <td>8.054718e+14</td>\n",
       "      <td>-8.186928e+13</td>\n",
       "      <td>2.974796e+14</td>\n",
       "      <td>4.482593e+22</td>\n",
       "      <td>-4.603611e+14</td>\n",
       "      <td>7.527183e+13</td>\n",
       "      <td>-2.651743e+13</td>\n",
       "    </tr>\n",
       "    <tr>\n",
       "      <th>$\\Omega_b$</th>\n",
       "      <td>-8.248393e+06</td>\n",
       "      <td>8.393905e+05</td>\n",
       "      <td>-3.064284e+06</td>\n",
       "      <td>-4.603611e+14</td>\n",
       "      <td>4.794231e+06</td>\n",
       "      <td>-7.809371e+05</td>\n",
       "      <td>2.730627e+05</td>\n",
       "    </tr>\n",
       "    <tr>\n",
       "      <th>$n_s$</th>\n",
       "      <td>1.373576e+06</td>\n",
       "      <td>-1.353733e+05</td>\n",
       "      <td>5.061444e+05</td>\n",
       "      <td>7.527183e+13</td>\n",
       "      <td>-7.809371e+05</td>\n",
       "      <td>1.420500e+05</td>\n",
       "      <td>-4.367035e+04</td>\n",
       "    </tr>\n",
       "    <tr>\n",
       "      <th>$w_a$</th>\n",
       "      <td>-4.748888e+05</td>\n",
       "      <td>4.862162e+04</td>\n",
       "      <td>-1.757612e+05</td>\n",
       "      <td>-2.651743e+13</td>\n",
       "      <td>2.730627e+05</td>\n",
       "      <td>-4.367035e+04</td>\n",
       "      <td>1.577424e+04</td>\n",
       "    </tr>\n",
       "  </tbody>\n",
       "</table>\n",
       "</div>"
      ],
      "text/plain": [
       "              $\\Omega_m$         $w_0$         $h_0$         $A_s$  \\\n",
       "$\\Omega_m$  1.454635e+07 -1.470808e+06  5.355630e+06  8.054718e+14   \n",
       "$w_0$      -1.470808e+06  1.502973e+05 -5.428171e+05 -8.186928e+13   \n",
       "$h_0$       5.355630e+06 -5.428171e+05  1.978364e+06  2.974796e+14   \n",
       "$A_s$       8.054718e+14 -8.186928e+13  2.974796e+14  4.482593e+22   \n",
       "$\\Omega_b$ -8.248393e+06  8.393905e+05 -3.064284e+06 -4.603611e+14   \n",
       "$n_s$       1.373576e+06 -1.353733e+05  5.061444e+05  7.527183e+13   \n",
       "$w_a$      -4.748888e+05  4.862162e+04 -1.757612e+05 -2.651743e+13   \n",
       "\n",
       "              $\\Omega_b$         $n_s$         $w_a$  \n",
       "$\\Omega_m$ -8.248393e+06  1.373576e+06 -4.748888e+05  \n",
       "$w_0$       8.393905e+05 -1.353733e+05  4.862162e+04  \n",
       "$h_0$      -3.064284e+06  5.061444e+05 -1.757612e+05  \n",
       "$A_s$      -4.603611e+14  7.527183e+13 -2.651743e+13  \n",
       "$\\Omega_b$  4.794231e+06 -7.809371e+05  2.730627e+05  \n",
       "$n_s$      -7.809371e+05  1.420500e+05 -4.367035e+04  \n",
       "$w_a$       2.730627e+05 -4.367035e+04  1.577424e+04  "
      ]
     },
     "execution_count": 7,
     "metadata": {},
     "output_type": "execute_result"
    }
   ],
   "source": [
    "ccl_f"
   ]
  },
  {
   "cell_type": "code",
   "execution_count": 31,
   "metadata": {},
   "outputs": [
    {
     "data": {
      "text/plain": [
       "960.6922033175294"
      ]
     },
     "execution_count": 31,
     "metadata": {},
     "output_type": "execute_result"
    }
   ],
   "source": [
    "p1, p2 = 0, 3\n",
    "np.sqrt(np.linalg.det(np.linalg.inv(np.linalg.inv(ccl_f)[[p1,p2]][:, [p1,p2]])))"
   ]
  },
  {
   "cell_type": "code",
   "execution_count": 34,
   "metadata": {},
   "outputs": [
    {
     "data": {
      "text/plain": [
       "$\\Omega_m$    8.054718e+05\n",
       "$w_0$        -8.186928e+04\n",
       "$h_0$         2.974796e+05\n",
       "$A_s$         4.482593e+13\n",
       "$\\Omega_b$   -4.603611e+05\n",
       "$n_s$         7.527183e+04\n",
       "$w_a$        -2.651743e+04\n",
       "Name: $A_s$, dtype: float64"
      ]
     },
     "execution_count": 34,
     "metadata": {},
     "output_type": "execute_result"
    }
   ],
   "source": [
    "ccl_f[\"$A_s$\"]*10**(-9)"
   ]
  },
  {
   "cell_type": "code",
   "execution_count": 41,
   "metadata": {},
   "outputs": [
    {
     "data": {
      "text/plain": [
       "array([[1.45463533e+07, 8.05471841e+14],\n",
       "       [8.05471841e+14, 4.48259278e+22]])"
      ]
     },
     "execution_count": 41,
     "metadata": {},
     "output_type": "execute_result"
    }
   ],
   "source": [
    "ccl_f.values[[p1,p2]][:, [p1,p2]]"
   ]
  },
  {
   "cell_type": "code",
   "execution_count": 40,
   "metadata": {},
   "outputs": [
    {
     "data": {
      "text/plain": [
       "array([[14546353.33550268,  8054718.40705063],\n",
       "       [ 8054718.40705063,  4482592.77727011]])"
      ]
     },
     "execution_count": 40,
     "metadata": {},
     "output_type": "execute_result"
    }
   ],
   "source": [
    "ccl_f_scaled[[p1,p2]][:, [p1,p2]]"
   ]
  },
  {
   "cell_type": "code",
   "execution_count": 52,
   "metadata": {},
   "outputs": [],
   "source": [
    "def fom_test(f, p1, p2):\n",
    "    return np.sqrt(np.linalg.det(np.linalg.inv(np.linalg.inv(f)[[p1,p2]][:, [p1,p2]])))"
   ]
  },
  {
   "cell_type": "code",
   "execution_count": 48,
   "metadata": {},
   "outputs": [],
   "source": [
    "f_test = ccl_f.values"
   ]
  },
  {
   "cell_type": "code",
   "execution_count": 49,
   "metadata": {},
   "outputs": [
    {
     "data": {
      "text/plain": [
       "array([[1.45463533e+07, 8.05471841e+14],\n",
       "       [8.05471841e+14, 4.48259278e+22]])"
      ]
     },
     "execution_count": 49,
     "metadata": {},
     "output_type": "execute_result"
    }
   ],
   "source": [
    "f_test"
   ]
  },
  {
   "cell_type": "code",
   "execution_count": 54,
   "metadata": {},
   "outputs": [
    {
     "data": {
      "text/plain": [
       "96069220331.75294"
      ]
     },
     "execution_count": 54,
     "metadata": {},
     "output_type": "execute_result"
    }
   ],
   "source": [
    "fom_test(ccl_f.values, 0, 3)"
   ]
  },
  {
   "cell_type": "code",
   "execution_count": 59,
   "metadata": {},
   "outputs": [
    {
     "data": {
      "text/html": [
       "<div>\n",
       "<style scoped>\n",
       "    .dataframe tbody tr th:only-of-type {\n",
       "        vertical-align: middle;\n",
       "    }\n",
       "\n",
       "    .dataframe tbody tr th {\n",
       "        vertical-align: top;\n",
       "    }\n",
       "\n",
       "    .dataframe thead th {\n",
       "        text-align: right;\n",
       "    }\n",
       "</style>\n",
       "<table border=\"1\" class=\"dataframe\">\n",
       "  <thead>\n",
       "    <tr style=\"text-align: right;\">\n",
       "      <th></th>\n",
       "      <th>$\\Omega_m$</th>\n",
       "      <th>$w_0$</th>\n",
       "      <th>$h_0$</th>\n",
       "      <th>$A_s$</th>\n",
       "      <th>$\\Omega_b$</th>\n",
       "      <th>$n_s$</th>\n",
       "      <th>$w_a$</th>\n",
       "    </tr>\n",
       "  </thead>\n",
       "  <tbody>\n",
       "    <tr>\n",
       "      <th>$\\Omega_m$</th>\n",
       "      <td>1.172924e-03</td>\n",
       "      <td>1.599450e-03</td>\n",
       "      <td>-5.801088e-03</td>\n",
       "      <td>4.956262e-12</td>\n",
       "      <td>-1.065900e-03</td>\n",
       "      <td>4.630654e-04</td>\n",
       "      <td>-6.191010e-03</td>\n",
       "    </tr>\n",
       "    <tr>\n",
       "      <th>$w_0$</th>\n",
       "      <td>1.599450e-03</td>\n",
       "      <td>2.700649e-02</td>\n",
       "      <td>6.064060e-04</td>\n",
       "      <td>-3.048681e-11</td>\n",
       "      <td>1.187979e-03</td>\n",
       "      <td>4.908398e-05</td>\n",
       "      <td>-1.000135e-01</td>\n",
       "    </tr>\n",
       "    <tr>\n",
       "      <th>$h_0$</th>\n",
       "      <td>-5.801088e-03</td>\n",
       "      <td>6.064060e-04</td>\n",
       "      <td>3.289864e-02</td>\n",
       "      <td>-4.250457e-11</td>\n",
       "      <td>6.251747e-03</td>\n",
       "      <td>-3.133178e-03</td>\n",
       "      <td>1.704848e-03</td>\n",
       "    </tr>\n",
       "    <tr>\n",
       "      <th>$A_s$</th>\n",
       "      <td>4.956262e-12</td>\n",
       "      <td>-3.048681e-11</td>\n",
       "      <td>-4.250457e-11</td>\n",
       "      <td>1.133195e-19</td>\n",
       "      <td>-9.118651e-12</td>\n",
       "      <td>3.673216e-12</td>\n",
       "      <td>1.280981e-10</td>\n",
       "    </tr>\n",
       "    <tr>\n",
       "      <th>$\\Omega_b$</th>\n",
       "      <td>-1.065900e-03</td>\n",
       "      <td>1.187979e-03</td>\n",
       "      <td>6.251747e-03</td>\n",
       "      <td>-9.118651e-12</td>\n",
       "      <td>1.288452e-03</td>\n",
       "      <td>-4.479295e-04</td>\n",
       "      <td>-4.965274e-03</td>\n",
       "    </tr>\n",
       "    <tr>\n",
       "      <th>$n_s$</th>\n",
       "      <td>4.630654e-04</td>\n",
       "      <td>4.908398e-05</td>\n",
       "      <td>-3.133178e-03</td>\n",
       "      <td>3.673216e-12</td>\n",
       "      <td>-4.479295e-04</td>\n",
       "      <td>8.054846e-04</td>\n",
       "      <td>-4.962542e-03</td>\n",
       "    </tr>\n",
       "    <tr>\n",
       "      <th>$w_a$</th>\n",
       "      <td>-6.191010e-03</td>\n",
       "      <td>-1.000135e-01</td>\n",
       "      <td>1.704848e-03</td>\n",
       "      <td>1.280981e-10</td>\n",
       "      <td>-4.965274e-03</td>\n",
       "      <td>-4.962542e-03</td>\n",
       "      <td>4.285068e-01</td>\n",
       "    </tr>\n",
       "  </tbody>\n",
       "</table>\n",
       "</div>"
      ],
      "text/plain": [
       "              $\\Omega_m$         $w_0$         $h_0$         $A_s$  \\\n",
       "$\\Omega_m$  1.172924e-03  1.599450e-03 -5.801088e-03  4.956262e-12   \n",
       "$w_0$       1.599450e-03  2.700649e-02  6.064060e-04 -3.048681e-11   \n",
       "$h_0$      -5.801088e-03  6.064060e-04  3.289864e-02 -4.250457e-11   \n",
       "$A_s$       4.956262e-12 -3.048681e-11 -4.250457e-11  1.133195e-19   \n",
       "$\\Omega_b$ -1.065900e-03  1.187979e-03  6.251747e-03 -9.118651e-12   \n",
       "$n_s$       4.630654e-04  4.908398e-05 -3.133178e-03  3.673216e-12   \n",
       "$w_a$      -6.191010e-03 -1.000135e-01  1.704848e-03  1.280981e-10   \n",
       "\n",
       "              $\\Omega_b$         $n_s$         $w_a$  \n",
       "$\\Omega_m$ -1.065900e-03  4.630654e-04 -6.191010e-03  \n",
       "$w_0$       1.187979e-03  4.908398e-05 -1.000135e-01  \n",
       "$h_0$       6.251747e-03 -3.133178e-03  1.704848e-03  \n",
       "$A_s$      -9.118651e-12  3.673216e-12  1.280981e-10  \n",
       "$\\Omega_b$  1.288452e-03 -4.479295e-04 -4.965274e-03  \n",
       "$n_s$      -4.479295e-04  8.054846e-04 -4.962542e-03  \n",
       "$w_a$      -4.965274e-03 -4.962542e-03  4.285068e-01  "
      ]
     },
     "execution_count": 59,
     "metadata": {},
     "output_type": "execute_result"
    }
   ],
   "source": [
    "pd.DataFrame(ccl_cov)"
   ]
  },
  {
   "cell_type": "code",
   "execution_count": 60,
   "metadata": {},
   "outputs": [
    {
     "data": {
      "text/html": [
       "<div>\n",
       "<style scoped>\n",
       "    .dataframe tbody tr th:only-of-type {\n",
       "        vertical-align: middle;\n",
       "    }\n",
       "\n",
       "    .dataframe tbody tr th {\n",
       "        vertical-align: top;\n",
       "    }\n",
       "\n",
       "    .dataframe thead th {\n",
       "        text-align: right;\n",
       "    }\n",
       "</style>\n",
       "<table border=\"1\" class=\"dataframe\">\n",
       "  <thead>\n",
       "    <tr style=\"text-align: right;\">\n",
       "      <th></th>\n",
       "      <th>0</th>\n",
       "      <th>1</th>\n",
       "      <th>2</th>\n",
       "      <th>3</th>\n",
       "      <th>4</th>\n",
       "      <th>5</th>\n",
       "      <th>6</th>\n",
       "    </tr>\n",
       "  </thead>\n",
       "  <tbody>\n",
       "    <tr>\n",
       "      <th>0</th>\n",
       "      <td>0.001173</td>\n",
       "      <td>0.001599</td>\n",
       "      <td>-0.005801</td>\n",
       "      <td>0.000496</td>\n",
       "      <td>-0.001066</td>\n",
       "      <td>0.000463</td>\n",
       "      <td>-0.006191</td>\n",
       "    </tr>\n",
       "    <tr>\n",
       "      <th>1</th>\n",
       "      <td>0.001599</td>\n",
       "      <td>0.027006</td>\n",
       "      <td>0.000606</td>\n",
       "      <td>-0.003049</td>\n",
       "      <td>0.001188</td>\n",
       "      <td>0.000049</td>\n",
       "      <td>-0.100013</td>\n",
       "    </tr>\n",
       "    <tr>\n",
       "      <th>2</th>\n",
       "      <td>-0.005801</td>\n",
       "      <td>0.000606</td>\n",
       "      <td>0.032899</td>\n",
       "      <td>-0.004250</td>\n",
       "      <td>0.006252</td>\n",
       "      <td>-0.003133</td>\n",
       "      <td>0.001705</td>\n",
       "    </tr>\n",
       "    <tr>\n",
       "      <th>3</th>\n",
       "      <td>0.000496</td>\n",
       "      <td>-0.003049</td>\n",
       "      <td>-0.004250</td>\n",
       "      <td>0.001133</td>\n",
       "      <td>-0.000912</td>\n",
       "      <td>0.000367</td>\n",
       "      <td>0.012810</td>\n",
       "    </tr>\n",
       "    <tr>\n",
       "      <th>4</th>\n",
       "      <td>-0.001066</td>\n",
       "      <td>0.001188</td>\n",
       "      <td>0.006252</td>\n",
       "      <td>-0.000912</td>\n",
       "      <td>0.001288</td>\n",
       "      <td>-0.000448</td>\n",
       "      <td>-0.004965</td>\n",
       "    </tr>\n",
       "    <tr>\n",
       "      <th>5</th>\n",
       "      <td>0.000463</td>\n",
       "      <td>0.000049</td>\n",
       "      <td>-0.003133</td>\n",
       "      <td>0.000367</td>\n",
       "      <td>-0.000448</td>\n",
       "      <td>0.000805</td>\n",
       "      <td>-0.004963</td>\n",
       "    </tr>\n",
       "    <tr>\n",
       "      <th>6</th>\n",
       "      <td>-0.006191</td>\n",
       "      <td>-0.100013</td>\n",
       "      <td>0.001705</td>\n",
       "      <td>0.012810</td>\n",
       "      <td>-0.004965</td>\n",
       "      <td>-0.004963</td>\n",
       "      <td>0.428507</td>\n",
       "    </tr>\n",
       "  </tbody>\n",
       "</table>\n",
       "</div>"
      ],
      "text/plain": [
       "          0         1         2         3         4         5         6\n",
       "0  0.001173  0.001599 -0.005801  0.000496 -0.001066  0.000463 -0.006191\n",
       "1  0.001599  0.027006  0.000606 -0.003049  0.001188  0.000049 -0.100013\n",
       "2 -0.005801  0.000606  0.032899 -0.004250  0.006252 -0.003133  0.001705\n",
       "3  0.000496 -0.003049 -0.004250  0.001133 -0.000912  0.000367  0.012810\n",
       "4 -0.001066  0.001188  0.006252 -0.000912  0.001288 -0.000448 -0.004965\n",
       "5  0.000463  0.000049 -0.003133  0.000367 -0.000448  0.000805 -0.004963\n",
       "6 -0.006191 -0.100013  0.001705  0.012810 -0.004965 -0.004963  0.428507"
      ]
     },
     "execution_count": 60,
     "metadata": {},
     "output_type": "execute_result"
    }
   ],
   "source": [
    "pd.DataFrame(np.linalg.inv(ccl_f_scaled))"
   ]
  },
  {
   "cell_type": "code",
   "execution_count": 61,
   "metadata": {},
   "outputs": [
    {
     "data": {
      "text/plain": [
       "9.992463709677418e-09"
      ]
     },
     "execution_count": 61,
     "metadata": {},
     "output_type": "execute_result"
    }
   ],
   "source": [
    "4.956262e-12/0.000496"
   ]
  },
  {
   "cell_type": "code",
   "execution_count": 62,
   "metadata": {},
   "outputs": [
    {
     "data": {
      "text/html": [
       "<div>\n",
       "<style scoped>\n",
       "    .dataframe tbody tr th:only-of-type {\n",
       "        vertical-align: middle;\n",
       "    }\n",
       "\n",
       "    .dataframe tbody tr th {\n",
       "        vertical-align: top;\n",
       "    }\n",
       "\n",
       "    .dataframe thead th {\n",
       "        text-align: right;\n",
       "    }\n",
       "</style>\n",
       "<table border=\"1\" class=\"dataframe\">\n",
       "  <thead>\n",
       "    <tr style=\"text-align: right;\">\n",
       "      <th></th>\n",
       "      <th>$\\Omega_m$</th>\n",
       "      <th>$w_0$</th>\n",
       "      <th>$h_0$</th>\n",
       "      <th>$A_s$</th>\n",
       "      <th>$\\Omega_b$</th>\n",
       "      <th>$n_s$</th>\n",
       "      <th>$w_a$</th>\n",
       "    </tr>\n",
       "  </thead>\n",
       "  <tbody>\n",
       "    <tr>\n",
       "      <th>$\\Omega_m$</th>\n",
       "      <td>1.454635e+07</td>\n",
       "      <td>-1.470808e+06</td>\n",
       "      <td>5.355630e+06</td>\n",
       "      <td>8.054718e+14</td>\n",
       "      <td>-8.248393e+06</td>\n",
       "      <td>1.373576e+06</td>\n",
       "      <td>-4.748888e+05</td>\n",
       "    </tr>\n",
       "    <tr>\n",
       "      <th>$w_0$</th>\n",
       "      <td>-1.470808e+06</td>\n",
       "      <td>1.502973e+05</td>\n",
       "      <td>-5.428171e+05</td>\n",
       "      <td>-8.186928e+13</td>\n",
       "      <td>8.393905e+05</td>\n",
       "      <td>-1.353733e+05</td>\n",
       "      <td>4.862162e+04</td>\n",
       "    </tr>\n",
       "    <tr>\n",
       "      <th>$h_0$</th>\n",
       "      <td>5.355630e+06</td>\n",
       "      <td>-5.428171e+05</td>\n",
       "      <td>1.978364e+06</td>\n",
       "      <td>2.974796e+14</td>\n",
       "      <td>-3.064284e+06</td>\n",
       "      <td>5.061444e+05</td>\n",
       "      <td>-1.757612e+05</td>\n",
       "    </tr>\n",
       "    <tr>\n",
       "      <th>$A_s$</th>\n",
       "      <td>8.054718e+14</td>\n",
       "      <td>-8.186928e+13</td>\n",
       "      <td>2.974796e+14</td>\n",
       "      <td>4.482593e+22</td>\n",
       "      <td>-4.603611e+14</td>\n",
       "      <td>7.527183e+13</td>\n",
       "      <td>-2.651743e+13</td>\n",
       "    </tr>\n",
       "    <tr>\n",
       "      <th>$\\Omega_b$</th>\n",
       "      <td>-8.248393e+06</td>\n",
       "      <td>8.393905e+05</td>\n",
       "      <td>-3.064284e+06</td>\n",
       "      <td>-4.603611e+14</td>\n",
       "      <td>4.794231e+06</td>\n",
       "      <td>-7.809371e+05</td>\n",
       "      <td>2.730627e+05</td>\n",
       "    </tr>\n",
       "    <tr>\n",
       "      <th>$n_s$</th>\n",
       "      <td>1.373576e+06</td>\n",
       "      <td>-1.353733e+05</td>\n",
       "      <td>5.061444e+05</td>\n",
       "      <td>7.527183e+13</td>\n",
       "      <td>-7.809371e+05</td>\n",
       "      <td>1.420500e+05</td>\n",
       "      <td>-4.367035e+04</td>\n",
       "    </tr>\n",
       "    <tr>\n",
       "      <th>$w_a$</th>\n",
       "      <td>-4.748888e+05</td>\n",
       "      <td>4.862162e+04</td>\n",
       "      <td>-1.757612e+05</td>\n",
       "      <td>-2.651743e+13</td>\n",
       "      <td>2.730627e+05</td>\n",
       "      <td>-4.367035e+04</td>\n",
       "      <td>1.577424e+04</td>\n",
       "    </tr>\n",
       "  </tbody>\n",
       "</table>\n",
       "</div>"
      ],
      "text/plain": [
       "              $\\Omega_m$         $w_0$         $h_0$         $A_s$  \\\n",
       "$\\Omega_m$  1.454635e+07 -1.470808e+06  5.355630e+06  8.054718e+14   \n",
       "$w_0$      -1.470808e+06  1.502973e+05 -5.428171e+05 -8.186928e+13   \n",
       "$h_0$       5.355630e+06 -5.428171e+05  1.978364e+06  2.974796e+14   \n",
       "$A_s$       8.054718e+14 -8.186928e+13  2.974796e+14  4.482593e+22   \n",
       "$\\Omega_b$ -8.248393e+06  8.393905e+05 -3.064284e+06 -4.603611e+14   \n",
       "$n_s$       1.373576e+06 -1.353733e+05  5.061444e+05  7.527183e+13   \n",
       "$w_a$      -4.748888e+05  4.862162e+04 -1.757612e+05 -2.651743e+13   \n",
       "\n",
       "              $\\Omega_b$         $n_s$         $w_a$  \n",
       "$\\Omega_m$ -8.248393e+06  1.373576e+06 -4.748888e+05  \n",
       "$w_0$       8.393905e+05 -1.353733e+05  4.862162e+04  \n",
       "$h_0$      -3.064284e+06  5.061444e+05 -1.757612e+05  \n",
       "$A_s$      -4.603611e+14  7.527183e+13 -2.651743e+13  \n",
       "$\\Omega_b$  4.794231e+06 -7.809371e+05  2.730627e+05  \n",
       "$n_s$      -7.809371e+05  1.420500e+05 -4.367035e+04  \n",
       "$w_a$       2.730627e+05 -4.367035e+04  1.577424e+04  "
      ]
     },
     "execution_count": 62,
     "metadata": {},
     "output_type": "execute_result"
    }
   ],
   "source": [
    "ccl_f"
   ]
  },
  {
   "cell_type": "code",
   "execution_count": 73,
   "metadata": {},
   "outputs": [
    {
     "data": {
      "text/html": [
       "<div>\n",
       "<style scoped>\n",
       "    .dataframe tbody tr th:only-of-type {\n",
       "        vertical-align: middle;\n",
       "    }\n",
       "\n",
       "    .dataframe tbody tr th {\n",
       "        vertical-align: top;\n",
       "    }\n",
       "\n",
       "    .dataframe thead th {\n",
       "        text-align: right;\n",
       "    }\n",
       "</style>\n",
       "<table border=\"1\" class=\"dataframe\">\n",
       "  <thead>\n",
       "    <tr style=\"text-align: right;\">\n",
       "      <th></th>\n",
       "      <th>0</th>\n",
       "      <th>1</th>\n",
       "      <th>2</th>\n",
       "      <th>3</th>\n",
       "      <th>4</th>\n",
       "      <th>5</th>\n",
       "      <th>6</th>\n",
       "    </tr>\n",
       "  </thead>\n",
       "  <tbody>\n",
       "    <tr>\n",
       "      <th>0</th>\n",
       "      <td>1.454635e+07</td>\n",
       "      <td>-1.470808e+06</td>\n",
       "      <td>5.355630e+06</td>\n",
       "      <td>8.054718e+06</td>\n",
       "      <td>-8.248393e+06</td>\n",
       "      <td>1.373576e+06</td>\n",
       "      <td>-474888.781816</td>\n",
       "    </tr>\n",
       "    <tr>\n",
       "      <th>1</th>\n",
       "      <td>-1.470808e+06</td>\n",
       "      <td>1.502973e+05</td>\n",
       "      <td>-5.428171e+05</td>\n",
       "      <td>-8.186928e+05</td>\n",
       "      <td>8.393905e+05</td>\n",
       "      <td>-1.353733e+05</td>\n",
       "      <td>48621.621014</td>\n",
       "    </tr>\n",
       "    <tr>\n",
       "      <th>2</th>\n",
       "      <td>5.355630e+06</td>\n",
       "      <td>-5.428171e+05</td>\n",
       "      <td>1.978364e+06</td>\n",
       "      <td>2.974796e+06</td>\n",
       "      <td>-3.064284e+06</td>\n",
       "      <td>5.061444e+05</td>\n",
       "      <td>-175761.248589</td>\n",
       "    </tr>\n",
       "    <tr>\n",
       "      <th>3</th>\n",
       "      <td>8.054718e+06</td>\n",
       "      <td>-8.186928e+05</td>\n",
       "      <td>2.974796e+06</td>\n",
       "      <td>4.482593e+06</td>\n",
       "      <td>-4.603611e+06</td>\n",
       "      <td>7.527183e+05</td>\n",
       "      <td>-265174.308811</td>\n",
       "    </tr>\n",
       "    <tr>\n",
       "      <th>4</th>\n",
       "      <td>-8.248393e+06</td>\n",
       "      <td>8.393905e+05</td>\n",
       "      <td>-3.064284e+06</td>\n",
       "      <td>-4.603611e+06</td>\n",
       "      <td>4.794231e+06</td>\n",
       "      <td>-7.809371e+05</td>\n",
       "      <td>273062.699614</td>\n",
       "    </tr>\n",
       "    <tr>\n",
       "      <th>5</th>\n",
       "      <td>1.373576e+06</td>\n",
       "      <td>-1.353733e+05</td>\n",
       "      <td>5.061444e+05</td>\n",
       "      <td>7.527183e+05</td>\n",
       "      <td>-7.809371e+05</td>\n",
       "      <td>1.420500e+05</td>\n",
       "      <td>-43670.350762</td>\n",
       "    </tr>\n",
       "    <tr>\n",
       "      <th>6</th>\n",
       "      <td>-4.748888e+05</td>\n",
       "      <td>4.862162e+04</td>\n",
       "      <td>-1.757612e+05</td>\n",
       "      <td>-2.651743e+05</td>\n",
       "      <td>2.730627e+05</td>\n",
       "      <td>-4.367035e+04</td>\n",
       "      <td>15774.241244</td>\n",
       "    </tr>\n",
       "  </tbody>\n",
       "</table>\n",
       "</div>"
      ],
      "text/plain": [
       "              0             1             2             3             4  \\\n",
       "0  1.454635e+07 -1.470808e+06  5.355630e+06  8.054718e+06 -8.248393e+06   \n",
       "1 -1.470808e+06  1.502973e+05 -5.428171e+05 -8.186928e+05  8.393905e+05   \n",
       "2  5.355630e+06 -5.428171e+05  1.978364e+06  2.974796e+06 -3.064284e+06   \n",
       "3  8.054718e+06 -8.186928e+05  2.974796e+06  4.482593e+06 -4.603611e+06   \n",
       "4 -8.248393e+06  8.393905e+05 -3.064284e+06 -4.603611e+06  4.794231e+06   \n",
       "5  1.373576e+06 -1.353733e+05  5.061444e+05  7.527183e+05 -7.809371e+05   \n",
       "6 -4.748888e+05  4.862162e+04 -1.757612e+05 -2.651743e+05  2.730627e+05   \n",
       "\n",
       "              5              6  \n",
       "0  1.373576e+06 -474888.781816  \n",
       "1 -1.353733e+05   48621.621014  \n",
       "2  5.061444e+05 -175761.248589  \n",
       "3  7.527183e+05 -265174.308811  \n",
       "4 -7.809371e+05  273062.699614  \n",
       "5  1.420500e+05  -43670.350762  \n",
       "6 -4.367035e+04   15774.241244  "
      ]
     },
     "execution_count": 73,
     "metadata": {},
     "output_type": "execute_result"
    }
   ],
   "source": [
    "pd.DataFrame(ccl_f_scaled)"
   ]
  },
  {
   "cell_type": "code",
   "execution_count": 74,
   "metadata": {},
   "outputs": [
    {
     "data": {
      "text/plain": [
       "True"
      ]
     },
     "execution_count": 74,
     "metadata": {},
     "output_type": "execute_result"
    }
   ],
   "source": [
    "8.054718e+14/8.054718e+06 == 1e8"
   ]
  },
  {
   "cell_type": "code",
   "execution_count": 1,
   "metadata": {},
   "outputs": [
    {
     "ename": "NameError",
     "evalue": "name 'f_ccl' is not defined",
     "output_type": "error",
     "traceback": [
      "\u001b[0;31m---------------------------------------------------------------------------\u001b[0m",
      "\u001b[0;31mNameError\u001b[0m                                 Traceback (most recent call last)",
      "\u001b[0;32m<ipython-input-1-3824d6f336a9>\u001b[0m in \u001b[0;36m<module>\u001b[0;34m\u001b[0m\n\u001b[0;32m----> 1\u001b[0;31m \u001b[0mf_ccl\u001b[0m\u001b[0;34m\u001b[0m\u001b[0;34m\u001b[0m\u001b[0m\n\u001b[0m",
      "\u001b[0;31mNameError\u001b[0m: name 'f_ccl' is not defined"
     ]
    }
   ],
   "source": [
    "f_ccl"
   ]
  },
  {
   "cell_type": "code",
   "execution_count": null,
   "metadata": {},
   "outputs": [],
   "source": []
  }
 ],
 "metadata": {
  "kernelspec": {
   "display_name": "Python [conda env:ccl_env] *",
   "language": "python",
   "name": "conda-env-ccl_env-py"
  },
  "language_info": {
   "codemirror_mode": {
    "name": "ipython",
    "version": 3
   },
   "file_extension": ".py",
   "mimetype": "text/x-python",
   "name": "python",
   "nbconvert_exporter": "python",
   "pygments_lexer": "ipython3",
   "version": "3.7.3"
  }
 },
 "nbformat": 4,
 "nbformat_minor": 4
}
